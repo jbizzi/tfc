{
 "cells": [
  {
   "cell_type": "code",
   "execution_count": 1,
   "id": "initial_id",
   "metadata": {
    "collapsed": true,
    "ExecuteTime": {
     "end_time": "2024-06-10T13:42:36.485820700Z",
     "start_time": "2024-06-10T13:42:30.030957500Z"
    }
   },
   "outputs": [
    {
     "name": "stdout",
     "output_type": "stream",
     "text": [
      "The autoreload extension is already loaded. To reload it, use:\n",
      "  %reload_ext autoreload\n"
     ]
    },
    {
     "name": "stderr",
     "output_type": "stream",
     "text": [
      "2024-06-10 10:42:33.301677: E external/local_xla/xla/stream_executor/cuda/cuda_dnn.cc:9261] Unable to register cuDNN factory: Attempting to register factory for plugin cuDNN when one has already been registered\n",
      "2024-06-10 10:42:33.301921: E external/local_xla/xla/stream_executor/cuda/cuda_fft.cc:607] Unable to register cuFFT factory: Attempting to register factory for plugin cuFFT when one has already been registered\n",
      "2024-06-10 10:42:33.328957: E external/local_xla/xla/stream_executor/cuda/cuda_blas.cc:1515] Unable to register cuBLAS factory: Attempting to register factory for plugin cuBLAS when one has already been registered\n",
      "2024-06-10 10:42:33.428765: I tensorflow/core/platform/cpu_feature_guard.cc:182] This TensorFlow binary is optimized to use available CPU instructions in performance-critical operations.\n",
      "To enable the following instructions: AVX2 FMA, in other operations, rebuild TensorFlow with the appropriate compiler flags.\n",
      "2024-06-10 10:42:34.994521: W tensorflow/compiler/tf2tensorrt/utils/py_utils.cc:38] TF-TRT Warning: Could not find TensorRT\n"
     ]
    }
   ],
   "source": [
    "%load_ext autoreload\n",
    "%autoreload 2\n",
    "%run Datasets.ipynb\n",
    "import numpy as np\n",
    "from keras import Input, Model\n",
    "from keras.src.layers import Dense, BatchNormalization, GaussianNoise\n",
    "from src import HammingCode\n"
   ]
  },
  {
   "cell_type": "code",
   "outputs": [],
   "source": [
    "code_rate = 4/7\n",
    "neurons = 7\n",
    "\n",
    "entrada = Input(shape=(SIZE,))\n",
    "encoder1 = Dense(SIZE, activation='relu')(entrada)\n",
    "encoder2 = Dense(neurons, activation='linear')(encoder1)\n",
    "encoder3 = BatchNormalization()(encoder2)\n",
    "\n",
    "\n",
    "Eb_treinamento = 5.01187 * code_rate\n",
    "\n",
    "noise = GaussianNoise(np.sqrt(1/(2* Eb_treinamento)))(encoder3)\n",
    "\n",
    "decoder1 = Dense(SIZE, activation='relu')(noise)\n",
    "decoder2 = Dense(SIZE, activation='softmax')(decoder1)\n",
    "\n",
    "autoencoder = Model(entrada, decoder2)\n",
    "autoencoder.compile(optimizer='adam', loss='categorical_crossentropy', metrics=['accuracy'])"
   ],
   "metadata": {
    "collapsed": false,
    "ExecuteTime": {
     "end_time": "2024-06-10T13:42:36.714528Z",
     "start_time": "2024-06-10T13:42:36.496840300Z"
    }
   },
   "id": "76edd30ba3047aad",
   "execution_count": 2
  },
  {
   "cell_type": "code",
   "outputs": [
    {
     "name": "stdout",
     "output_type": "stream",
     "text": [
      "Epoch 1/20\n",
      "34/34 [==============================] - 2s 14ms/step - loss: 1.2509 - accuracy: 0.1559 - val_loss: 1.2259 - val_accuracy: 0.2800\n",
      "Epoch 2/20\n",
      "34/34 [==============================] - 0s 7ms/step - loss: 1.0138 - accuracy: 0.3297 - val_loss: 1.1259 - val_accuracy: 0.2800\n",
      "Epoch 3/20\n",
      "34/34 [==============================] - 0s 6ms/step - loss: 0.8616 - accuracy: 0.5222 - val_loss: 1.0275 - val_accuracy: 0.5340\n",
      "Epoch 4/20\n",
      "34/34 [==============================] - 0s 5ms/step - loss: 0.6909 - accuracy: 0.7164 - val_loss: 0.9070 - val_accuracy: 0.5340\n",
      "Epoch 5/20\n",
      "34/34 [==============================] - 0s 5ms/step - loss: 0.5146 - accuracy: 0.9681 - val_loss: 0.7700 - val_accuracy: 0.7570\n",
      "Epoch 6/20\n",
      "34/34 [==============================] - 0s 5ms/step - loss: 0.3657 - accuracy: 0.9938 - val_loss: 0.6145 - val_accuracy: 1.0000\n",
      "Epoch 7/20\n",
      "34/34 [==============================] - 0s 5ms/step - loss: 0.2584 - accuracy: 0.9974 - val_loss: 0.4612 - val_accuracy: 1.0000\n",
      "Epoch 8/20\n",
      "34/34 [==============================] - 0s 5ms/step - loss: 0.1839 - accuracy: 0.9990 - val_loss: 0.3281 - val_accuracy: 1.0000\n",
      "Epoch 9/20\n",
      "34/34 [==============================] - 0s 5ms/step - loss: 0.1353 - accuracy: 0.9995 - val_loss: 0.2268 - val_accuracy: 1.0000\n",
      "Epoch 10/20\n",
      "34/34 [==============================] - 0s 5ms/step - loss: 0.1007 - accuracy: 0.9999 - val_loss: 0.1535 - val_accuracy: 1.0000\n",
      "Epoch 11/20\n",
      "34/34 [==============================] - 0s 5ms/step - loss: 0.0774 - accuracy: 0.9999 - val_loss: 0.1058 - val_accuracy: 1.0000\n",
      "Epoch 12/20\n",
      "34/34 [==============================] - 0s 5ms/step - loss: 0.0608 - accuracy: 1.0000 - val_loss: 0.0738 - val_accuracy: 1.0000\n",
      "Epoch 13/20\n",
      "34/34 [==============================] - 0s 5ms/step - loss: 0.0484 - accuracy: 1.0000 - val_loss: 0.0530 - val_accuracy: 1.0000\n",
      "Epoch 14/20\n",
      "34/34 [==============================] - 0s 5ms/step - loss: 0.0401 - accuracy: 1.0000 - val_loss: 0.0389 - val_accuracy: 1.0000\n",
      "Epoch 15/20\n",
      "34/34 [==============================] - 0s 5ms/step - loss: 0.0334 - accuracy: 1.0000 - val_loss: 0.0294 - val_accuracy: 1.0000\n",
      "Epoch 16/20\n",
      "34/34 [==============================] - 0s 5ms/step - loss: 0.0282 - accuracy: 1.0000 - val_loss: 0.0229 - val_accuracy: 1.0000\n",
      "Epoch 17/20\n",
      "34/34 [==============================] - 0s 5ms/step - loss: 0.0240 - accuracy: 1.0000 - val_loss: 0.0184 - val_accuracy: 1.0000\n",
      "Epoch 18/20\n",
      "34/34 [==============================] - 0s 5ms/step - loss: 0.0207 - accuracy: 1.0000 - val_loss: 0.0151 - val_accuracy: 1.0000\n",
      "Epoch 19/20\n",
      "34/34 [==============================] - 0s 5ms/step - loss: 0.0181 - accuracy: 1.0000 - val_loss: 0.0126 - val_accuracy: 1.0000\n",
      "Epoch 20/20\n",
      "34/34 [==============================] - 0s 5ms/step - loss: 0.0157 - accuracy: 1.0000 - val_loss: 0.0108 - val_accuracy: 1.0000\n"
     ]
    }
   ],
   "source": [
    "autoencoder.fit(\n",
    "    training_data,\n",
    "    training_data,\n",
    "    epochs=20,\n",
    "    batch_size=300,\n",
    "    validation_data=(validation_data, validation_data),\n",
    ")\n",
    "\n",
    "# Com o modelo treinado, separa em encoder e decoder\n",
    "encoder = Model(entrada, encoder3)\n",
    "\n",
    "entrada_encoder = Input(shape=(7,))\n",
    "decoder_layer1 = autoencoder.layers[-2](entrada_encoder)\n",
    "decoder_layer2 = autoencoder.layers[-1](decoder_layer1)\n",
    "decoder = Model(entrada_encoder, decoder_layer2)"
   ],
   "metadata": {
    "collapsed": false,
    "ExecuteTime": {
     "end_time": "2024-06-10T13:42:41.998344Z",
     "start_time": "2024-06-10T13:42:36.714528Z"
    }
   },
   "id": "2a1cc28dc7b6bd84",
   "execution_count": 3
  },
  {
   "cell_type": "code",
   "outputs": [
    {
     "name": "stdout",
     "output_type": "stream",
     "text": [
      "3125/3125 [==============================] - 6s 2ms/step\n",
      "3125/3125 [==============================] - 6s 2ms/step\n",
      "SNR  -4 BER  0.11544\n",
      "SNR  -4 BER  0.260665\n",
      "3125/3125 [==============================] - 7s 2ms/step\n",
      "3125/3125 [==============================] - 6s 2ms/step\n",
      "SNR  -3 BER  0.07768\n",
      "SNR  -3 BER  0.22993\n",
      "3125/3125 [==============================] - 7s 2ms/step\n",
      "3125/3125 [==============================] - 6s 2ms/step\n",
      "SNR  -2 BER  0.04958\n",
      "SNR  -2 BER  0.1936875\n",
      "3125/3125 [==============================] - 7s 2ms/step\n",
      "3125/3125 [==============================] - 6s 2ms/step\n",
      "SNR  -1 BER  0.02974\n",
      "SNR  -1 BER  0.156565\n",
      "3125/3125 [==============================] - 7s 2ms/step\n",
      "3125/3125 [==============================] - 6s 2ms/step\n",
      "SNR  0 BER  0.01554\n",
      "SNR  0 BER  0.119\n",
      "3125/3125 [==============================] - 7s 2ms/step\n",
      "3125/3125 [==============================] - 6s 2ms/step\n",
      "SNR  1 BER  0.00694\n",
      "SNR  1 BER  0.0845575\n",
      "3125/3125 [==============================] - 7s 2ms/step\n",
      "3125/3125 [==============================] - 6s 2ms/step\n",
      "SNR  2 BER  0.00269\n",
      "SNR  2 BER  0.055095\n",
      "3125/3125 [==============================] - 7s 2ms/step\n",
      "3125/3125 [==============================] - 6s 2ms/step\n",
      "SNR  3 BER  0.00092\n",
      "SNR  3 BER  0.031835\n",
      "3125/3125 [==============================] - 7s 2ms/step\n",
      "3125/3125 [==============================] - 6s 2ms/step\n",
      "SNR  4 BER  0.00024\n",
      "SNR  4 BER  0.0155475\n",
      "3125/3125 [==============================] - 7s 2ms/step\n",
      "3125/3125 [==============================] - 6s 2ms/step\n",
      "SNR  5 BER  5e-05\n",
      "SNR  5 BER  0.006805\n",
      "3125/3125 [==============================] - 7s 2ms/step\n",
      "3125/3125 [==============================] - 6s 2ms/step\n",
      "SNR  6 BER  1e-05\n",
      "SNR  6 BER  0.0024475\n",
      "3125/3125 [==============================] - 7s 2ms/step\n",
      "3125/3125 [==============================] - 6s 2ms/step\n",
      "SNR  7 BER  0.0\n",
      "SNR  7 BER  0.0005525\n",
      "3125/3125 [==============================] - 7s 2ms/step\n",
      "3125/3125 [==============================] - 6s 2ms/step\n",
      "SNR  8 BER  0.0\n",
      "SNR  8 BER  9.5e-05\n",
      "3125/3125 [==============================] - 7s 2ms/step\n",
      "3125/3125 [==============================] - 6s 2ms/step\n",
      "SNR  9 BER  0.0\n",
      "SNR  9 BER  1.75e-05\n",
      "3125/3125 [==============================] - 7s 2ms/step\n",
      "3125/3125 [==============================] - 6s 2ms/step\n",
      "SNR  10 BER  0.0\n",
      "SNR  10 BER  0.0\n"
     ]
    }
   ],
   "source": [
    "from math import erfc\n",
    "\n",
    "Eb_dB_values = np.arange(-4, 11, 1)\n",
    "ber_autoencoder = []\n",
    "ber_Hamming = []\n",
    "ber_teorica = []\n",
    "for i in range(0, len(Eb_dB_values)):\n",
    "    \n",
    "    Eb = 10**(Eb_dB_values[i]/10)\n",
    "    quantidade_amostras = test_length / SIZE\n",
    "    noise = np.sqrt((1/(2*code_rate*Eb))) * np.random.randn(test_length, 7)    \n",
    "    #ruido_encoded =  np.sqrt(1/(2*code_rate*Eb)) *  np.random.normal(0, np.sqrt(1/2), size=int(test_length*7))\n",
    "    #noise = np.array_split(ruido_encoded, int(len(ruido_encoded)/7))\n",
    "    # codifica para 7 bits\n",
    "    codificado = encoder.predict(testing_data)\n",
    "    \n",
    "    #print(codificado)\n",
    "    # add ruido\n",
    "    codificado_com_ruido = codificado + noise\n",
    "    \n",
    "    #corrige com o decoder\n",
    "    corrigido = decoder.predict(codificado_com_ruido)\n",
    "    \n",
    "    digital = np.argmax(corrigido, axis = 1)\n",
    "    \n",
    "    erros = digital != testing_label\n",
    "    erros = erros.astype(int).sum()\n",
    "    calculated_ber = erros/test_length\n",
    "    ber_autoencoder.append(calculated_ber)\n",
    "    print('SNR ', Eb_dB_values[i], 'BER ', calculated_ber)\n",
    "    \n",
    "    # Hamming code\n",
    "    # Merge sample to encode\n",
    "    merged_sample = np.concatenate(testing_data)\n",
    "    split_encoded_data, split_original_data, merged_encoded_data = HammingCode.encode_sample(merged_sample)\n",
    "\n",
    "    # Add noise\n",
    "    merged_encoded_data = [1.0 if bit == 1 else -1.0 for bit in merged_encoded_data]\n",
    "    merged_noise = np.concatenate(noise)\n",
    "    merged_encoded_data = merged_encoded_data + np.array(merged_noise)\n",
    "    digital_encoded_noisy = np.array([1 if x > 0 else 0.0 for x in merged_encoded_data])\n",
    "    \n",
    "    split_digital_encoded_noisy = np.array_split(digital_encoded_noisy, int(len(digital_encoded_noisy)/7))\n",
    "    \n",
    "    decoded_sample = HammingCode.decode_sample(split_digital_encoded_noisy)\n",
    "\n",
    "        \n",
    "    calculated_ber_Hamming = np.sum(np.array(decoded_sample).astype(int) != merged_sample.astype(int)) / len(merged_sample)\n",
    "    ber_Hamming.append(calculated_ber_Hamming)\n",
    "    \n",
    "    print('SNR ', Eb_dB_values[i], 'BER ', calculated_ber_Hamming)\n",
    "    \n",
    "    BER_teorica_codificado = 0.5 * erfc(np.sqrt(Eb))\n",
    "    ber_teorica.append(BER_teorica_codificado)\n"
   ],
   "metadata": {
    "collapsed": false,
    "ExecuteTime": {
     "end_time": "2024-06-10T13:47:50.663675800Z",
     "start_time": "2024-06-10T13:42:42.007350800Z"
    }
   },
   "id": "f4df4b5fbca6afee",
   "execution_count": 4
  },
  {
   "cell_type": "code",
   "outputs": [
    {
     "data": {
      "text/plain": "<Figure size 640x480 with 1 Axes>",
      "image/png": "[encoded data removed]"
     },
     "metadata": {},
     "output_type": "display_data"
    }
   ],
   "source": [
    "from matplotlib import pyplot as plt\n",
    "\n",
    "plt.semilogy(Eb_dB_values, ber_Hamming, marker='o', linestyle='', label='Codificado')\n",
    "plt.semilogy(Eb_dB_values, ber_autoencoder, marker='o', linestyle='', label='Autoencoder')\n",
    "plt.semilogy(Eb_dB_values, ber_teorica, marker='o', linestyle='', label='Teórica')\n",
    "\n",
    "plt.legend()\n",
    "plt.grid(True, which='both')\n",
    "\n",
    "plt.show()\n"
   ],
   "metadata": {
    "collapsed": false,
    "ExecuteTime": {
     "end_time": "2024-06-10T13:47:51.761586700Z",
     "start_time": "2024-06-10T13:47:50.660671800Z"
    }
   },
   "id": "fd84ba486377ddf5",
   "execution_count": 5
  },
  {
   "cell_type": "code",
   "outputs": [],
   "source": [],
   "metadata": {
    "collapsed": false,
    "ExecuteTime": {
     "end_time": "2024-06-10T13:47:51.761586700Z",
     "start_time": "2024-06-10T13:47:51.759587700Z"
    }
   },
   "id": "7f12509ad54bf376",
   "execution_count": 5
  }
 ],
 "metadata": {
  "kernelspec": {
   "display_name": "Python 3",
   "language": "python",
   "name": "python3"
  },
  "language_info": {
   "codemirror_mode": {
    "name": "ipython",
    "version": 2
   },
   "file_extension": ".py",
   "mimetype": "text/x-python",
   "name": "python",
   "nbconvert_exporter": "python",
   "pygments_lexer": "ipython2",
   "version": "2.7.6"
  }
 },
 "nbformat": 4,
 "nbformat_minor": 5
}
