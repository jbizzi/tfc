{
 "cells": [
  {
   "cell_type": "code",
   "execution_count": 1,
   "id": "initial_id",
   "metadata": {
    "collapsed": true,
    "ExecuteTime": {
     "end_time": "2024-06-10T19:22:58.396661Z",
     "start_time": "2024-06-10T19:22:54.386421200Z"
    }
   },
   "outputs": [
    {
     "name": "stdout",
     "output_type": "stream",
     "text": [
      "The autoreload extension is already loaded. To reload it, use:\n",
      "  %reload_ext autoreload\n"
     ]
    },
    {
     "name": "stderr",
     "output_type": "stream",
     "text": [
      "2024-06-10 16:22:56.115208: E external/local_xla/xla/stream_executor/cuda/cuda_dnn.cc:9261] Unable to register cuDNN factory: Attempting to register factory for plugin cuDNN when one has already been registered\n",
      "2024-06-10 16:22:56.115309: E external/local_xla/xla/stream_executor/cuda/cuda_fft.cc:607] Unable to register cuFFT factory: Attempting to register factory for plugin cuFFT when one has already been registered\n",
      "2024-06-10 16:22:56.117428: E external/local_xla/xla/stream_executor/cuda/cuda_blas.cc:1515] Unable to register cuBLAS factory: Attempting to register factory for plugin cuBLAS when one has already been registered\n",
      "2024-06-10 16:22:56.131328: I tensorflow/core/platform/cpu_feature_guard.cc:182] This TensorFlow binary is optimized to use available CPU instructions in performance-critical operations.\n",
      "To enable the following instructions: AVX2 FMA, in other operations, rebuild TensorFlow with the appropriate compiler flags.\n",
      "2024-06-10 16:22:57.355164: W tensorflow/compiler/tf2tensorrt/utils/py_utils.cc:38] TF-TRT Warning: Could not find TensorRT\n"
     ]
    }
   ],
   "source": [
    "import copy\n",
    "%load_ext autoreload\n",
    "%autoreload 2\n",
    "%run Datasets.ipynb\n",
    "import numpy as np\n",
    "from keras import Input, Model\n",
    "from keras.src.layers import Dense, BatchNormalization, GaussianNoise\n",
    "from src import HammingCode\n"
   ]
  },
  {
   "cell_type": "code",
   "outputs": [],
   "source": [
    "code_rate = 4/7\n",
    "neurons = 7\n",
    "\n",
    "entrada = Input(shape=(SIZE,))\n",
    "encoder1 = Dense(SIZE, activation='relu')(entrada)\n",
    "encoder2 = Dense(neurons, activation='linear')(encoder1)\n",
    "encoder3 = BatchNormalization()(encoder2)\n",
    "\n",
    "\n",
    "Eb_treinamento = 5.01187 * code_rate\n",
    "\n",
    "noise = GaussianNoise(np.sqrt(1/(2* Eb_treinamento)))(encoder3)\n",
    "\n",
    "decoder1 = Dense(SIZE, activation='relu')(noise)\n",
    "decoder2 = Dense(SIZE, activation='softmax')(decoder1)\n",
    "\n",
    "autoencoder = Model(entrada, decoder2)\n",
    "autoencoder.compile(optimizer='adam', loss='categorical_crossentropy', metrics=['accuracy'])"
   ],
   "metadata": {
    "collapsed": false,
    "ExecuteTime": {
     "end_time": "2024-06-10T19:22:58.602190600Z",
     "start_time": "2024-06-10T19:22:58.405660100Z"
    }
   },
   "id": "76edd30ba3047aad",
   "execution_count": 2
  },
  {
   "cell_type": "code",
   "outputs": [
    {
     "name": "stdout",
     "output_type": "stream",
     "text": [
      "Epoch 1/20\n",
      "34/34 [==============================] - 2s 13ms/step - loss: 0.8914 - accuracy: 0.6636 - val_loss: 1.2427 - val_accuracy: 0.5000\n",
      "Epoch 2/20\n",
      "34/34 [==============================] - 0s 6ms/step - loss: 0.6945 - accuracy: 0.7783 - val_loss: 1.1404 - val_accuracy: 0.5000\n",
      "Epoch 3/20\n",
      "34/34 [==============================] - 0s 6ms/step - loss: 0.5479 - accuracy: 0.8311 - val_loss: 0.9829 - val_accuracy: 0.7580\n",
      "Epoch 4/20\n",
      "34/34 [==============================] - 0s 5ms/step - loss: 0.4080 - accuracy: 0.9512 - val_loss: 0.8110 - val_accuracy: 1.0000\n",
      "Epoch 5/20\n",
      "34/34 [==============================] - 0s 5ms/step - loss: 0.2681 - accuracy: 0.9975 - val_loss: 0.6529 - val_accuracy: 1.0000\n",
      "Epoch 6/20\n",
      "34/34 [==============================] - 0s 5ms/step - loss: 0.1730 - accuracy: 0.9997 - val_loss: 0.4898 - val_accuracy: 1.0000\n",
      "Epoch 7/20\n",
      "34/34 [==============================] - 0s 5ms/step - loss: 0.1211 - accuracy: 0.9999 - val_loss: 0.3486 - val_accuracy: 1.0000\n",
      "Epoch 8/20\n",
      "34/34 [==============================] - 0s 5ms/step - loss: 0.0871 - accuracy: 1.0000 - val_loss: 0.2370 - val_accuracy: 1.0000\n",
      "Epoch 9/20\n",
      "34/34 [==============================] - 0s 5ms/step - loss: 0.0670 - accuracy: 1.0000 - val_loss: 0.1525 - val_accuracy: 1.0000\n",
      "Epoch 10/20\n",
      "34/34 [==============================] - 0s 5ms/step - loss: 0.0515 - accuracy: 1.0000 - val_loss: 0.0953 - val_accuracy: 1.0000\n",
      "Epoch 11/20\n",
      "34/34 [==============================] - 0s 5ms/step - loss: 0.0412 - accuracy: 1.0000 - val_loss: 0.0602 - val_accuracy: 1.0000\n",
      "Epoch 12/20\n",
      "34/34 [==============================] - 0s 5ms/step - loss: 0.0338 - accuracy: 1.0000 - val_loss: 0.0394 - val_accuracy: 1.0000\n",
      "Epoch 13/20\n",
      "34/34 [==============================] - 0s 5ms/step - loss: 0.0279 - accuracy: 1.0000 - val_loss: 0.0263 - val_accuracy: 1.0000\n",
      "Epoch 14/20\n",
      "34/34 [==============================] - 0s 5ms/step - loss: 0.0237 - accuracy: 1.0000 - val_loss: 0.0189 - val_accuracy: 1.0000\n",
      "Epoch 15/20\n",
      "34/34 [==============================] - 0s 5ms/step - loss: 0.0204 - accuracy: 1.0000 - val_loss: 0.0142 - val_accuracy: 1.0000\n",
      "Epoch 16/20\n",
      "34/34 [==============================] - 0s 5ms/step - loss: 0.0172 - accuracy: 1.0000 - val_loss: 0.0108 - val_accuracy: 1.0000\n",
      "Epoch 17/20\n",
      "34/34 [==============================] - 0s 5ms/step - loss: 0.0151 - accuracy: 1.0000 - val_loss: 0.0085 - val_accuracy: 1.0000\n",
      "Epoch 18/20\n",
      "34/34 [==============================] - 0s 5ms/step - loss: 0.0132 - accuracy: 1.0000 - val_loss: 0.0071 - val_accuracy: 1.0000\n",
      "Epoch 19/20\n",
      "34/34 [==============================] - 0s 5ms/step - loss: 0.0119 - accuracy: 1.0000 - val_loss: 0.0061 - val_accuracy: 1.0000\n",
      "Epoch 20/20\n",
      "34/34 [==============================] - 0s 5ms/step - loss: 0.0105 - accuracy: 1.0000 - val_loss: 0.0053 - val_accuracy: 1.0000\n"
     ]
    }
   ],
   "source": [
    "autoencoder.fit(\n",
    "    training_data,\n",
    "    training_data,\n",
    "    epochs=20,\n",
    "    batch_size=300,\n",
    "    validation_data=(validation_data, validation_data),\n",
    ")\n",
    "\n",
    "# Com o modelo treinado, separa em encoder e decoder\n",
    "encoder = Model(entrada, encoder3)\n",
    "\n",
    "entrada_encoder = Input(shape=(7,))\n",
    "decoder_layer1 = autoencoder.layers[-2](entrada_encoder)\n",
    "decoder_layer2 = autoencoder.layers[-1](decoder_layer1)\n",
    "decoder = Model(entrada_encoder, decoder_layer2)"
   ],
   "metadata": {
    "collapsed": false,
    "ExecuteTime": {
     "end_time": "2024-06-10T19:23:03.911406900Z",
     "start_time": "2024-06-10T19:22:58.611194700Z"
    }
   },
   "id": "2a1cc28dc7b6bd84",
   "execution_count": 3
  },
  {
   "cell_type": "code",
   "outputs": [
    {
     "name": "stdout",
     "output_type": "stream",
     "text": [
      "Epoch 1/20\n",
      "34/34 [==============================] - 1s 16ms/step - loss: 0.3241 - accuracy: 0.8211 - val_loss: 0.1255 - val_accuracy: 0.9080\n",
      "Epoch 2/20\n",
      "34/34 [==============================] - 0s 10ms/step - loss: 0.1450 - accuracy: 0.8900 - val_loss: 0.1221 - val_accuracy: 0.9080\n",
      "Epoch 3/20\n",
      "34/34 [==============================] - 0s 10ms/step - loss: 0.1435 - accuracy: 0.8860 - val_loss: 0.1241 - val_accuracy: 0.9050\n",
      "Epoch 4/20\n",
      "34/34 [==============================] - 0s 9ms/step - loss: 0.1411 - accuracy: 0.8867 - val_loss: 0.1242 - val_accuracy: 0.9010\n",
      "Epoch 5/20\n",
      "34/34 [==============================] - 0s 9ms/step - loss: 0.1402 - accuracy: 0.8891 - val_loss: 0.1226 - val_accuracy: 0.9050\n",
      "Epoch 6/20\n",
      "34/34 [==============================] - 0s 9ms/step - loss: 0.1398 - accuracy: 0.8890 - val_loss: 0.1241 - val_accuracy: 0.9020\n",
      "Epoch 7/20\n",
      "34/34 [==============================] - 0s 9ms/step - loss: 0.1412 - accuracy: 0.8875 - val_loss: 0.1236 - val_accuracy: 0.9060\n",
      "Epoch 8/20\n",
      "34/34 [==============================] - 0s 9ms/step - loss: 0.1386 - accuracy: 0.8911 - val_loss: 0.1246 - val_accuracy: 0.9010\n",
      "Epoch 9/20\n",
      "34/34 [==============================] - 0s 9ms/step - loss: 0.1396 - accuracy: 0.8878 - val_loss: 0.1230 - val_accuracy: 0.9000\n",
      "Epoch 10/20\n",
      "34/34 [==============================] - 0s 9ms/step - loss: 0.1388 - accuracy: 0.8892 - val_loss: 0.1246 - val_accuracy: 0.8950\n",
      "Epoch 11/20\n",
      "34/34 [==============================] - 0s 9ms/step - loss: 0.1390 - accuracy: 0.8899 - val_loss: 0.1231 - val_accuracy: 0.9060\n",
      "Epoch 12/20\n",
      "34/34 [==============================] - 0s 10ms/step - loss: 0.1383 - accuracy: 0.8910 - val_loss: 0.1255 - val_accuracy: 0.8970\n",
      "Epoch 13/20\n",
      "34/34 [==============================] - 0s 9ms/step - loss: 0.1381 - accuracy: 0.8898 - val_loss: 0.1225 - val_accuracy: 0.9080\n",
      "Epoch 14/20\n",
      "34/34 [==============================] - 0s 10ms/step - loss: 0.1385 - accuracy: 0.8879 - val_loss: 0.1247 - val_accuracy: 0.9100\n",
      "Epoch 15/20\n",
      "34/34 [==============================] - 0s 9ms/step - loss: 0.1387 - accuracy: 0.8904 - val_loss: 0.1276 - val_accuracy: 0.8980\n",
      "Epoch 16/20\n",
      "34/34 [==============================] - 0s 9ms/step - loss: 0.1372 - accuracy: 0.8887 - val_loss: 0.1243 - val_accuracy: 0.9010\n",
      "Epoch 17/20\n",
      "34/34 [==============================] - 0s 9ms/step - loss: 0.1392 - accuracy: 0.8872 - val_loss: 0.1275 - val_accuracy: 0.9020\n",
      "Epoch 18/20\n",
      "34/34 [==============================] - 0s 9ms/step - loss: 0.1380 - accuracy: 0.8904 - val_loss: 0.1268 - val_accuracy: 0.9010\n",
      "Epoch 19/20\n",
      "34/34 [==============================] - 0s 9ms/step - loss: 0.1385 - accuracy: 0.8897 - val_loss: 0.1239 - val_accuracy: 0.9040\n",
      "Epoch 20/20\n",
      "34/34 [==============================] - 0s 9ms/step - loss: 0.1374 - accuracy: 0.8906 - val_loss: 0.1240 - val_accuracy: 0.8980\n",
      "32/32 [==============================] - 0s 3ms/step - loss: 0.1240 - accuracy: 0.8980\n",
      "Loss: 0.12398406118154526\n",
      "Accuracy: 0.8980000019073486\n"
     ]
    }
   ],
   "source": [
    "from keras.src.callbacks import ReduceLROnPlateau, EarlyStopping\n",
    "from keras import Sequential\n",
    "\n",
    "# MLP\n",
    "\n",
    "noise_for_training = np.sqrt((1/(2*Eb_treinamento))) * np.random.randn(training_length, 4)    \n",
    "noisy_input_for_training = training_data + noise_for_training\n",
    "\n",
    "noise_for_validation = np.sqrt((1/(2*Eb_treinamento))) * np.random.randn(validation_length, 4)    \n",
    "\n",
    "noisy_input_for_validation = validation_data + noise_for_validation\n",
    "mlp = Sequential()\n",
    "mlp.add(Input(shape=(4,)))\n",
    "mlp.add(Dense(512, activation='relu'))\n",
    "mlp.add(Dense(256, activation='relu'))\n",
    "mlp.add(Dense(128, activation='relu'))\n",
    "mlp.add(Dense(4, activation='sigmoid'))\n",
    "reduce_lr = ReduceLROnPlateau(monitor='val_loss', factor=0.2, patience=5, min_lr=0.001)\n",
    "early_stopping = EarlyStopping(monitor='val_loss', patience=10, restore_best_weights=True)\n",
    "\n",
    "mlp.compile(optimizer='adam', loss='binary_crossentropy', metrics=['accuracy'])\n",
    "\n",
    "mlp.fit(\n",
    "    noisy_input_for_training,\n",
    "    training_data,\n",
    "    epochs=20,\n",
    "    batch_size=300,\n",
    "    validation_data=(noisy_input_for_validation, validation_data),\n",
    ")\n",
    "\n",
    "loss, accuracy = mlp.evaluate(noisy_input_for_validation, validation_data)\n",
    "print(f'Loss: {loss}')\n",
    "print(f'Accuracy: {accuracy}')"
   ],
   "metadata": {
    "collapsed": false,
    "ExecuteTime": {
     "end_time": "2024-06-10T19:23:11.944319700Z",
     "start_time": "2024-06-10T19:23:03.911406900Z"
    }
   },
   "id": "407afa831c7233ed",
   "execution_count": 4
  },
  {
   "cell_type": "code",
   "outputs": [
    {
     "name": "stdout",
     "output_type": "stream",
     "text": [
      "3125/3125 [==============================] - 7s 2ms/step\n",
      "3125/3125 [==============================] - 6s 2ms/step\n",
      "SNR  -4 BER  0.0610525\n",
      "SNR  -4 BER  0.2620725\n",
      "3125/3125 [==============================] - 8s 3ms/step\n",
      "SNR  -4 BER  0.2756825\n",
      "3125/3125 [==============================] - 7s 2ms/step\n",
      "3125/3125 [==============================] - 6s 2ms/step\n",
      "SNR  -3 BER  0.0424625\n",
      "SNR  -3 BER  0.2294275\n",
      "3125/3125 [==============================] - 8s 3ms/step\n",
      "SNR  -3 BER  0.259525\n",
      "3125/3125 [==============================] - 7s 2ms/step\n",
      "3125/3125 [==============================] - 6s 2ms/step\n",
      "SNR  -2 BER  0.0277875\n",
      "SNR  -2 BER  0.194605\n",
      "3125/3125 [==============================] - 8s 3ms/step\n",
      "SNR  -2 BER  0.2461775\n",
      "3125/3125 [==============================] - 7s 2ms/step\n",
      "3125/3125 [==============================] - 6s 2ms/step\n",
      "SNR  -1 BER  0.0156475\n",
      "SNR  -1 BER  0.156695\n",
      "3125/3125 [==============================] - 8s 3ms/step\n",
      "SNR  -1 BER  0.23037\n",
      "3125/3125 [==============================] - 7s 2ms/step\n",
      "3125/3125 [==============================] - 6s 2ms/step\n",
      "SNR  0 BER  0.00793\n",
      "SNR  0 BER  0.1197575\n",
      "3125/3125 [==============================] - 8s 3ms/step\n",
      "SNR  0 BER  0.21273\n",
      "3125/3125 [==============================] - 7s 2ms/step\n",
      "3125/3125 [==============================] - 6s 2ms/step\n",
      "SNR  1 BER  0.0035725\n",
      "SNR  1 BER  0.0851975\n",
      "3125/3125 [==============================] - 8s 3ms/step\n",
      "SNR  1 BER  0.1918825\n",
      "3125/3125 [==============================] - 7s 2ms/step\n",
      "3125/3125 [==============================] - 6s 2ms/step\n",
      "SNR  2 BER  0.00131\n",
      "SNR  2 BER  0.05467\n",
      "3125/3125 [==============================] - 8s 3ms/step\n",
      "SNR  2 BER  0.169445\n",
      "3125/3125 [==============================] - 7s 2ms/step\n",
      "3125/3125 [==============================] - 6s 2ms/step\n",
      "SNR  3 BER  0.0002975\n",
      "SNR  3 BER  0.03151\n",
      "3125/3125 [==============================] - 8s 3ms/step\n",
      "SNR  3 BER  0.14646\n",
      "3125/3125 [==============================] - 7s 2ms/step\n",
      "3125/3125 [==============================] - 7s 2ms/step\n",
      "SNR  4 BER  7.5e-05\n",
      "SNR  4 BER  0.0158225\n",
      "3125/3125 [==============================] - 9s 3ms/step\n",
      "SNR  4 BER  0.12367\n",
      "3125/3125 [==============================] - 7s 2ms/step\n",
      "3125/3125 [==============================] - 6s 2ms/step\n",
      "SNR  5 BER  1.5e-05\n",
      "SNR  5 BER  0.006795\n",
      "3125/3125 [==============================] - 8s 3ms/step\n",
      "SNR  5 BER  0.0989875\n",
      "3125/3125 [==============================] - 7s 2ms/step\n",
      "3125/3125 [==============================] - 6s 2ms/step\n",
      "SNR  6 BER  0.0\n",
      "SNR  6 BER  0.00224\n",
      "3125/3125 [==============================] - 8s 3ms/step\n",
      "SNR  6 BER  0.07549\n",
      "3125/3125 [==============================] - 6s 2ms/step\n",
      "3125/3125 [==============================] - 6s 2ms/step\n",
      "SNR  7 BER  0.0\n",
      "SNR  7 BER  0.000625\n",
      "3125/3125 [==============================] - 8s 3ms/step\n",
      "SNR  7 BER  0.0545175\n",
      "3125/3125 [==============================] - 6s 2ms/step\n",
      "3125/3125 [==============================] - 6s 2ms/step\n",
      "SNR  8 BER  0.0\n",
      "SNR  8 BER  0.00015\n",
      "3125/3125 [==============================] - 8s 3ms/step\n",
      "SNR  8 BER  0.0364575\n",
      "3125/3125 [==============================] - 7s 2ms/step\n",
      "3125/3125 [==============================] - 6s 2ms/step\n",
      "SNR  9 BER  0.0\n",
      "SNR  9 BER  1.75e-05\n",
      "3125/3125 [==============================] - 8s 3ms/step\n",
      "SNR  9 BER  0.0223\n",
      "3125/3125 [==============================] - 7s 2ms/step\n",
      "3125/3125 [==============================] - 6s 2ms/step\n",
      "SNR  10 BER  0.0\n",
      "SNR  10 BER  2.5e-06\n",
      "3125/3125 [==============================] - 8s 3ms/step\n",
      "SNR  10 BER  0.0117875\n"
     ]
    }
   ],
   "source": [
    "from math import erfc\n",
    "\n",
    "Eb_dB_values = np.arange(-4, 11, 1)\n",
    "ber_autoencoder = []\n",
    "ber_Hamming = []\n",
    "ber_teorica = []\n",
    "ber_mlp = []\n",
    "for i in range(0, len(Eb_dB_values)):\n",
    "    \n",
    "    \n",
    "    Eb = 10**(Eb_dB_values[i]/10)\n",
    "    quantidade_amostras = test_length / SIZE\n",
    "    \n",
    "    testing_data_autoencoder = copy.deepcopy(testing_data)\n",
    "    merged_sample = np.concatenate(testing_data_autoencoder)\n",
    "    \n",
    "    testing_data_hamming = copy.deepcopy(merged_sample)\n",
    "    testing_data_mlp = copy.deepcopy(testing_data)\n",
    "    merged_testing_data_mlp = copy.deepcopy(merged_sample)\n",
    "    noise = np.sqrt((1/(2*code_rate*Eb))) * np.random.randn(test_length, 7)    \n",
    "    \n",
    "    noise_hamming = copy.deepcopy(noise)\n",
    "    noise_mlp = copy.deepcopy(noise)\n",
    "    \n",
    "    # codifica para 7 bits\n",
    "    codificado = encoder.predict(testing_data_autoencoder)\n",
    "    \n",
    "    #print(codificado)\n",
    "    # add ruido\n",
    "    codificado_com_ruido = codificado + noise\n",
    "    \n",
    "    #corrige com o decoder\n",
    "    corrigido = decoder.predict(codificado_com_ruido)\n",
    "    corrigido_merged = np.concatenate(corrigido)\n",
    "    corrigido_merged_digital = [1 if bit > 0.5 else 0 for bit in corrigido_merged]\n",
    "    calculated_ber = np.sum(np.array(corrigido_merged_digital).astype(int) != merged_sample.astype(int)) / len(merged_sample)\n",
    "    ber_autoencoder.append(calculated_ber)\n",
    "    print('SNR ', Eb_dB_values[i], 'BER ', calculated_ber)\n",
    "\n",
    "    ####################### Hamming code\n",
    "    # Merge sample to encode\n",
    "    split_encoded_data, split_original_data, merged_encoded_data = HammingCode.encode_sample(testing_data_hamming)\n",
    "\n",
    "    # Add noise\n",
    "    merged_encoded_data = [1.0 if bit == 1 else -1.0 for bit in merged_encoded_data]\n",
    "    merged_noise = np.concatenate(noise_hamming)\n",
    "    merged_encoded_data = merged_encoded_data + np.array(merged_noise)\n",
    "    digital_encoded_noisy = np.array([1 if x > 0 else 0.0 for x in merged_encoded_data])\n",
    "    \n",
    "    split_digital_encoded_noisy = np.array_split(digital_encoded_noisy, int(len(digital_encoded_noisy)/7))\n",
    "    \n",
    "    decoded_sample = HammingCode.decode_sample(split_digital_encoded_noisy)\n",
    "    calculated_ber_Hamming = np.sum(np.array(decoded_sample).astype(int) != testing_data_hamming.astype(int)) / len(testing_data_hamming)\n",
    "    ber_Hamming.append(calculated_ber_Hamming)\n",
    "    \n",
    "    print('SNR ', Eb_dB_values[i], 'BER ', calculated_ber_Hamming)    \n",
    "    \n",
    "    ####################### MLP\n",
    "    noise_smaller = noise_mlp[:, :4]\n",
    "    amostra_ruidosa = testing_data_mlp + noise_smaller\n",
    "    \n",
    "    mlp_corrigido = mlp.predict(amostra_ruidosa)\n",
    "    \n",
    "    mlp_corrigido_merged = np.concatenate(mlp_corrigido)\n",
    "    mlp_corrigido_merged_digital = [1 if bit > 0.5 else 0 for bit in mlp_corrigido_merged]\n",
    "    calculated_ber_mlp = np.sum(np.array(mlp_corrigido_merged_digital).astype(int) != merged_testing_data_mlp.astype(int)) / len(merged_testing_data_mlp)\n",
    "    ber_mlp.append(calculated_ber_mlp)\n",
    "    print('SNR ', Eb_dB_values[i], 'BER ', calculated_ber_mlp)"
   ],
   "metadata": {
    "collapsed": false,
    "ExecuteTime": {
     "end_time": "2024-06-10T19:31:09.291843300Z",
     "start_time": "2024-06-10T19:23:11.942173800Z"
    }
   },
   "id": "f4df4b5fbca6afee",
   "execution_count": 5
  },
  {
   "cell_type": "code",
   "outputs": [],
   "source": [
    "Eb_values_BPSK = 10**(Eb_dB_values/10)\n",
    "BPSK = [0.5 * erfc(np.sqrt(each)) for each in Eb_values_BPSK]"
   ],
   "metadata": {
    "collapsed": false,
    "ExecuteTime": {
     "end_time": "2024-06-10T19:31:09.356754Z",
     "start_time": "2024-06-10T19:31:09.281824Z"
    }
   },
   "id": "a57a56e0f3a67d4f",
   "execution_count": 6
  },
  {
   "cell_type": "code",
   "outputs": [
    {
     "data": {
      "text/plain": "<Figure size 640x480 with 1 Axes>",
      "image/png": "[encoded data removed]"
     },
     "metadata": {},
     "output_type": "display_data"
    }
   ],
   "source": [
    "from matplotlib import pyplot as plt\n",
    "\n",
    "plt.semilogy(Eb_dB_values, ber_Hamming, marker='', linestyle='--', label='Codificado')\n",
    "plt.semilogy(Eb_dB_values, ber_mlp, marker='', linestyle='--', label='MLP')\n",
    "\n",
    "plt.semilogy(Eb_dB_values, ber_autoencoder, marker='', linestyle='--', label='Autoencoder')\n",
    "plt.semilogy(Eb_dB_values, BPSK, marker='', linestyle='--', label='BPSK')\n",
    "plt.xlabel('Eb/No (dB)')\n",
    "plt.ylabel('BER')\n",
    "plt.grid(True, which='both')\n",
    "plt.legend()\n",
    "plt.title('BER x Eb/No')\n",
    "\n",
    "plt.show()\n"
   ],
   "metadata": {
    "collapsed": false,
    "ExecuteTime": {
     "end_time": "2024-06-10T21:03:06.049779200Z",
     "start_time": "2024-06-10T21:03:02.351030700Z"
    }
   },
   "id": "fd84ba486377ddf5",
   "execution_count": 8
  },
  {
   "cell_type": "code",
   "outputs": [],
   "source": [],
   "metadata": {
    "collapsed": false,
    "ExecuteTime": {
     "end_time": "2024-06-10T19:31:10.446586Z",
     "start_time": "2024-06-10T19:31:10.442037800Z"
    }
   },
   "id": "7f12509ad54bf376",
   "execution_count": 7
  }
 ],
 "metadata": {
  "kernelspec": {
   "display_name": "Python 3",
   "language": "python",
   "name": "python3"
  },
  "language_info": {
   "codemirror_mode": {
    "name": "ipython",
    "version": 2
   },
   "file_extension": ".py",
   "mimetype": "text/x-python",
   "name": "python",
   "nbconvert_exporter": "python",
   "pygments_lexer": "ipython2",
   "version": "2.7.6"
  }
 },
 "nbformat": 4,
 "nbformat_minor": 5
}
