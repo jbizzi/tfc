{
 "cells": [
  {
   "cell_type": "code",
   "execution_count": 3,
   "id": "initial_id",
   "metadata": {
    "collapsed": true,
    "ExecuteTime": {
     "end_time": "2024-06-09T14:40:42.378850800Z",
     "start_time": "2024-06-09T14:40:41.651944300Z"
    }
   },
   "outputs": [
    {
     "name": "stdout",
     "output_type": "stream",
     "text": [
      "The autoreload extension is already loaded. To reload it, use:\n",
      "  %reload_ext autoreload\n",
      "The autoreload extension is already loaded. To reload it, use:\n",
      "  %reload_ext autoreload\n"
     ]
    }
   ],
   "source": [
    "%load_ext autoreload\n",
    "%autoreload 2\n",
    "%run Datasets.ipynb\n",
    "import numpy as np\n",
    "from keras import Input, Model\n",
    "from keras.src.layers import Dense, BatchNormalization, GaussianNoise\n",
    "\n"
   ]
  },
  {
   "cell_type": "code",
   "outputs": [],
   "source": [
    "code_rate = 4/7\n",
    "neurons = 7\n",
    "\n",
    "entrada = Input(shape=(SIZE,))\n",
    "encoder1 = Dense(SIZE, activation='relu')(entrada)\n",
    "encoder2 = Dense(neurons, activation='linear')(encoder1)\n",
    "encoder3 = BatchNormalization()(encoder2)\n",
    "\n",
    "\n",
    "Eb_treinamento = 5.01187 * code_rate\n",
    "\n",
    "noise = GaussianNoise(np.sqrt(1/(2* Eb_treinamento)))(encoder3)\n",
    "\n",
    "decoder1 = Dense(SIZE, activation='relu')(noise)\n",
    "decoder2 = Dense(SIZE, activation='softmax')(decoder1)\n",
    "\n",
    "autoencoder = Model(entrada, decoder2)\n",
    "autoencoder.compile(optimizer='adam', loss='categorical_crossentropy', metrics=['accuracy'])"
   ],
   "metadata": {
    "collapsed": false,
    "ExecuteTime": {
     "end_time": "2024-06-09T14:40:42.855718600Z",
     "start_time": "2024-06-09T14:40:42.370285200Z"
    }
   },
   "id": "76edd30ba3047aad",
   "execution_count": 4
  },
  {
   "cell_type": "code",
   "outputs": [
    {
     "name": "stdout",
     "output_type": "stream",
     "text": [
      "Epoch 1/20\n",
      "34/34 [==============================] - 4s 16ms/step - loss: 1.5694 - accuracy: 0.1204 - val_loss: 1.3760 - val_accuracy: 0.2660\n",
      "Epoch 2/20\n",
      "34/34 [==============================] - 0s 7ms/step - loss: 1.3690 - accuracy: 0.1782 - val_loss: 1.3416 - val_accuracy: 0.2660\n",
      "Epoch 3/20\n",
      "34/34 [==============================] - 0s 7ms/step - loss: 1.2097 - accuracy: 0.3728 - val_loss: 1.2716 - val_accuracy: 0.5040\n",
      "Epoch 4/20\n",
      "34/34 [==============================] - 0s 6ms/step - loss: 1.0491 - accuracy: 0.4792 - val_loss: 1.1624 - val_accuracy: 0.5040\n",
      "Epoch 5/20\n",
      "34/34 [==============================] - 0s 6ms/step - loss: 0.8773 - accuracy: 0.5282 - val_loss: 1.0276 - val_accuracy: 0.7530\n",
      "Epoch 6/20\n",
      "34/34 [==============================] - 0s 6ms/step - loss: 0.7308 - accuracy: 0.7075 - val_loss: 0.8836 - val_accuracy: 0.7530\n",
      "Epoch 7/20\n",
      "34/34 [==============================] - 0s 6ms/step - loss: 0.6198 - accuracy: 0.7912 - val_loss: 0.7592 - val_accuracy: 0.7340\n",
      "Epoch 8/20\n",
      "34/34 [==============================] - 0s 6ms/step - loss: 0.5368 - accuracy: 0.8076 - val_loss: 0.6471 - val_accuracy: 0.7340\n",
      "Epoch 9/20\n",
      "34/34 [==============================] - 0s 6ms/step - loss: 0.4685 - accuracy: 0.8234 - val_loss: 0.5465 - val_accuracy: 0.7340\n",
      "Epoch 10/20\n",
      "34/34 [==============================] - 0s 6ms/step - loss: 0.4107 - accuracy: 0.8527 - val_loss: 0.4656 - val_accuracy: 1.0000\n",
      "Epoch 11/20\n",
      "34/34 [==============================] - 0s 6ms/step - loss: 0.3610 - accuracy: 0.8815 - val_loss: 0.3976 - val_accuracy: 1.0000\n",
      "Epoch 12/20\n",
      "34/34 [==============================] - 0s 6ms/step - loss: 0.3179 - accuracy: 0.9206 - val_loss: 0.3409 - val_accuracy: 1.0000\n",
      "Epoch 13/20\n",
      "34/34 [==============================] - 0s 6ms/step - loss: 0.2769 - accuracy: 0.9600 - val_loss: 0.2802 - val_accuracy: 1.0000\n",
      "Epoch 14/20\n",
      "34/34 [==============================] - 0s 6ms/step - loss: 0.2393 - accuracy: 0.9725 - val_loss: 0.2227 - val_accuracy: 1.0000\n",
      "Epoch 15/20\n",
      "34/34 [==============================] - 0s 6ms/step - loss: 0.1991 - accuracy: 0.9885 - val_loss: 0.1768 - val_accuracy: 1.0000\n",
      "Epoch 16/20\n",
      "34/34 [==============================] - 0s 6ms/step - loss: 0.1658 - accuracy: 0.9947 - val_loss: 0.1390 - val_accuracy: 1.0000\n",
      "Epoch 17/20\n",
      "34/34 [==============================] - 0s 6ms/step - loss: 0.1349 - accuracy: 0.9978 - val_loss: 0.1060 - val_accuracy: 1.0000\n",
      "Epoch 18/20\n",
      "34/34 [==============================] - 0s 6ms/step - loss: 0.1105 - accuracy: 0.9991 - val_loss: 0.0816 - val_accuracy: 1.0000\n",
      "Epoch 19/20\n",
      "34/34 [==============================] - 0s 6ms/step - loss: 0.0914 - accuracy: 0.9990 - val_loss: 0.0634 - val_accuracy: 1.0000\n",
      "Epoch 20/20\n",
      "34/34 [==============================] - 0s 6ms/step - loss: 0.0757 - accuracy: 0.9994 - val_loss: 0.0493 - val_accuracy: 1.0000\n"
     ]
    }
   ],
   "source": [
    "autoencoder.fit(\n",
    "    training_data,\n",
    "    training_data,\n",
    "    epochs=20,\n",
    "    batch_size=300,\n",
    "    validation_data=(validation_data, validation_data),\n",
    ")\n",
    "\n",
    "# Com o modelo treinado, separa em encoder e decoder\n",
    "encoder = Model(entrada, encoder3)\n",
    "\n",
    "entrada_encoder = Input(shape=(7,))\n",
    "decoder_layer1 = autoencoder.layers[-2](entrada_encoder)\n",
    "decoder_layer2 = autoencoder.layers[-1](decoder_layer1)\n",
    "decoder = Model(entrada_encoder, decoder_layer2)"
   ],
   "metadata": {
    "collapsed": false,
    "ExecuteTime": {
     "end_time": "2024-06-09T14:40:51.408719900Z",
     "start_time": "2024-06-09T14:40:42.854719300Z"
    }
   },
   "id": "2a1cc28dc7b6bd84",
   "execution_count": 5
  },
  {
   "cell_type": "code",
   "outputs": [
    {
     "name": "stdout",
     "output_type": "stream",
     "text": [
      "3125/3125 [==============================] - 8s 3ms/step\n",
      "3125/3125 [==============================] - 8s 3ms/step\n",
      "SNR  -4 BER  0.18296\n",
      "3125/3125 [==============================] - 7s 2ms/step\n",
      "3125/3125 [==============================] - 7s 2ms/step\n",
      "SNR  -3 BER  0.14735\n",
      "3125/3125 [==============================] - 7s 2ms/step\n",
      "3125/3125 [==============================] - 7s 2ms/step\n",
      "SNR  -2 BER  0.114\n",
      "3125/3125 [==============================] - 7s 2ms/step\n",
      "3125/3125 [==============================] - 6s 2ms/step\n",
      "SNR  -1 BER  0.08646\n",
      "3125/3125 [==============================] - 7s 2ms/step\n",
      "2127/3125 [===================>..........] - ETA: 1s"
     ]
    }
   ],
   "source": [
    "Eb_dB_values = np.arange(-4, 8, 1)\n",
    "ber_autoencoder = []\n",
    "\n",
    "for i in range(0, len(Eb_dB_values)):\n",
    "    \n",
    "    Eb = 10**(Eb_dB_values[i]/10)\n",
    "    quantidade_amostras = test_length / SIZE\n",
    "    noise = np.sqrt((1/(2*code_rate*Eb))) * np.random.randn(test_length, 7)    \n",
    "    \n",
    "    # codifica para 7 bits\n",
    "    codificado = encoder.predict(testing_data)\n",
    "    \n",
    "    # add ruido\n",
    "    codificado_com_ruido = codificado + noise\n",
    "    \n",
    "    # corrige com o decoder\n",
    "    corrigido = decoder.predict(codificado_com_ruido)\n",
    "    \n",
    "    digital = np.argmax(corrigido, axis = 1)\n",
    "    \n",
    "    erros = digital != testing_label\n",
    "    erros = erros.astype(int).sum()\n",
    "    calculated_ber = erros/test_length\n",
    "    ber_autoencoder.append(erros/test_length)\n",
    "\n",
    "    print('SNR ', Eb_dB_values[i], 'BER ', calculated_ber)\n",
    "    \n",
    "    \n"
   ],
   "metadata": {
    "collapsed": false,
    "is_executing": true,
    "ExecuteTime": {
     "start_time": "2024-06-09T14:40:51.407716700Z"
    }
   },
   "id": "f4df4b5fbca6afee",
   "execution_count": null
  },
  {
   "cell_type": "code",
   "outputs": [],
   "source": [
    "from matplotlib import pyplot as plt\n",
    "\n",
    "plt.plot(Eb_dB_values, ber_autoencoder, 'bo')\n",
    "plt.yscale('log')\n",
    "plt.show()"
   ],
   "metadata": {
    "collapsed": false,
    "is_executing": true
   },
   "id": "fd84ba486377ddf5",
   "execution_count": null
  },
  {
   "cell_type": "code",
   "outputs": [],
   "source": [],
   "metadata": {
    "collapsed": false,
    "is_executing": true
   },
   "id": "91ec117044db7ba",
   "execution_count": null
  }
 ],
 "metadata": {
  "kernelspec": {
   "display_name": "Python 3",
   "language": "python",
   "name": "python3"
  },
  "language_info": {
   "codemirror_mode": {
    "name": "ipython",
    "version": 2
   },
   "file_extension": ".py",
   "mimetype": "text/x-python",
   "name": "python",
   "nbconvert_exporter": "python",
   "pygments_lexer": "ipython2",
   "version": "2.7.6"
  }
 },
 "nbformat": 4,
 "nbformat_minor": 5
}
