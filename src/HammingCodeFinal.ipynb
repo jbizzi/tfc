{
 "cells": [
  {
   "cell_type": "markdown",
   "source": [
    "THis notebook contains the code that worked for hamming code eb/n0 plot"
   ],
   "metadata": {
    "collapsed": false
   },
   "id": "8e485d1efd8e3573"
  },
  {
   "cell_type": "code",
   "outputs": [],
   "source": [
    "import numpy as np\n",
    "import matplotlib.pyplot as plt\n",
    "import math\n",
    "from scipy.special import erfc\n",
    "import HammingCode\n",
    "import Utils\n",
    "\n",
    "from scipy.special import erfc\n",
    "\n",
    "# tamanho da amostra\n",
    "tamanho = 1e8\n",
    "variancia = 1\n",
    "\n",
    "# amostra\n",
    "amostra_avaliada = np.random.choice([0, 1], size=int(tamanho))\n",
    "\n",
    "Eb_dB_values = np.arange(-2, 11, 1)"
   ],
   "metadata": {
    "collapsed": true
   },
   "id": "initial_id",
   "execution_count": 0
  },
  {
   "cell_type": "code",
   "outputs": [],
   "source": [
    "def decode_sample(data):\n",
    "    decoded_data = []\n",
    "    for i in range(0, len(data) - 6, 7):\n",
    "        decoded_data.extend(HammingCode.decode(data[i:i + 7]).T)\n",
    "    return decoded_data\n",
    "\n",
    "def encode_sample(data):\n",
    "    encoded_data = []\n",
    "    for i in range(0, len(data) - 3, 4):\n",
    "        encoded_data.extend(HammingCode.encode(data[i:i + 4]))\n",
    "    return encoded_data"
   ],
   "metadata": {
    "collapsed": false
   },
   "id": "62031dccf58d565a",
   "execution_count": null
  },
  {
   "cell_type": "code",
   "outputs": [],
   "source": [
    "def calcular_BER_simulada(amostra, Eb_db):\n",
    "\n",
    "    amostra_codificada = encode_sample(amostra)\n",
    "    ruido = np.random.normal(0, np.sqrt(variancia/2), size=int(len(amostra_codificada)))\n",
    "    \n",
    "    for i in range(len(amostra_codificada)):\n",
    "        if amostra_codificada[i] == 0.0:\n",
    "            amostra_codificada[i] = -1.0\n",
    "        else:\n",
    "            amostra_codificada[i] = 1.0\n",
    "\n",
    "    Eb = 10**(Eb_db /10)\n",
    "\n",
    "    amostra_transmitida = np.sqrt(Eb) * np.array(amostra_codificada) + ruido\n",
    "    \n",
    "    amostra_recebida = np.sign(amostra_transmitida)\n",
    "    \n",
    "    for i in range(len(amostra_recebida)):\n",
    "        if amostra_recebida[i] == -1:\n",
    "            amostra_recebida[i] = 0\n",
    "        else:\n",
    "            amostra_recebida[i] = 1\n",
    "    \n",
    "    amostra_decodificada = decode_sample(amostra_recebida)\n",
    "    return np.sum(amostra_decodificada != amostra) / len(amostra)\n",
    "  "
   ],
   "metadata": {
    "collapsed": false
   },
   "id": "152e4c914ed90e24",
   "execution_count": null
  },
  {
   "cell_type": "code",
   "outputs": [],
   "source": [
    "BER_simulada = []\n",
    "SNRs = []\n",
    "    \n",
    "for Eb_db in Eb_dB_values:       \n",
    "    ber = calcular_BER_simulada(amostra_avaliada, Eb_db)\n",
    "\n",
    "    #SNRs.append(snr)\n",
    "    BER_simulada.append(ber)\n",
    "\n",
    "BER_simulada = np.array(BER_simulada)\n",
    "\n",
    "# Calcular a BER teórica\n",
    "Eb_values = 10**(Eb_dB_values / 10)\n",
    "BER_teorica = 0.5 * erfc(np.sqrt(Eb_values))"
   ],
   "metadata": {
    "collapsed": false,
    "is_executing": true
   },
   "id": "e0275fd87d122bf0",
   "execution_count": null
  },
  {
   "cell_type": "code",
   "outputs": [],
   "source": [
    "# Plotar as taxas de erro de bit simuladas e teóricas\n",
    "plt.figure(figsize=(10, 6))\n",
    "plt.semilogy(Eb_dB_values, BER_simulada, linestyle = '--', label='BER Simulada')\n",
    "plt.semilogy(Eb_dB_values, BER_teorica, linestyle='--', label='BER Teórica')\n",
    "plt.xlabel('Eb/No (dB)')\n",
    "plt.ylabel('BER')\n",
    "plt.grid(True, which='both')\n",
    "plt.legend()\n",
    "plt.title('BER Simulada vs BER Teórica')\n",
    "plt.show()"
   ],
   "metadata": {
    "collapsed": false,
    "is_executing": true
   },
   "id": "71a1ab7a7c66a77b",
   "execution_count": null
  },
  {
   "cell_type": "code",
   "outputs": [],
   "source": [],
   "metadata": {
    "collapsed": false,
    "is_executing": true
   },
   "id": "3050f009d745074d"
  }
 ],
 "metadata": {
  "kernelspec": {
   "display_name": "Python 3",
   "language": "python",
   "name": "python3"
  },
  "language_info": {
   "codemirror_mode": {
    "name": "ipython",
    "version": 2
   },
   "file_extension": ".py",
   "mimetype": "text/x-python",
   "name": "python",
   "nbconvert_exporter": "python",
   "pygments_lexer": "ipython2",
   "version": "2.7.6"
  }
 },
 "nbformat": 4,
 "nbformat_minor": 5
}
