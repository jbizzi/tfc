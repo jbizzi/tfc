{
 "cells": [
  {
   "cell_type": "code",
   "outputs": [],
   "source": [
    "import numpy as np\n",
    "import matplotlib.pyplot as plt\n",
    "import math\n",
    "import HammingCode\n",
    "import Utils\n",
    "\n",
    "from scipy.special import erfc\n",
    "\n",
    "# número de bits da amostra a ser corrompida\n",
    "sample_length = 2 ** 8\n",
    "noise_samples_length = 10^3\n",
    "variancia = 1\n",
    "sample = np.random.choice([1, 0], size=sample_length);\n",
    "\n",
    "#sample = Utils.generate_random_string(sample_length)\n",
    "\n",
    "# array com as taxas de ruído indo de 0 à 100%\n",
    "#noise_rates = np.linspace(0, 1, 1001)\n",
    "noise_rates = np.random.normal(0, np.sqrt(variancia/2), size=int(noise_samples_length))"
   ],
   "metadata": {
    "collapsed": false,
    "ExecuteTime": {
     "end_time": "2024-05-18T00:20:24.838029900Z",
     "start_time": "2024-05-18T00:20:24.820318100Z"
    }
   },
   "id": "initial_id",
   "execution_count": 22
  },
  {
   "cell_type": "code",
   "outputs": [],
   "source": [
    "def decode_sample(data):\n",
    "    decoded_data = []\n",
    "    for i in range(0, len(data) - 6, 7):\n",
    "        decoded_data.extend(HammingCode.decode(data[i:i + 7]).T)\n",
    "    return decoded_data\n",
    "\n",
    "def encode_sample(data):\n",
    "    encoded_data = []\n",
    "    for i in range(0, len(data) - 3, 4):\n",
    "        encoded_data.extend(HammingCode.encode(data[i:i + 4]))\n",
    "    return encoded_data"
   ],
   "metadata": {
    "collapsed": false,
    "ExecuteTime": {
     "end_time": "2024-05-18T00:14:22.399341900Z",
     "start_time": "2024-05-18T00:14:22.303800800Z"
    }
   },
   "id": "65301ebee858c743",
   "execution_count": 15
  },
  {
   "cell_type": "code",
   "outputs": [],
   "source": [
    "#  generate encoded sampels\n",
    "encoded_sample = encode_sample(sample)\n",
    "Eb_dB_values = np.arange(-2, 11, 1)\n",
    "\n",
    "# adciona ruído às amostras\n",
    "noisy_samples = []\n",
    "for rate in noise_rates:\n",
    "    noisy_samples.append(Utils.noiseString(rate, encoded_sample))\n",
    "\n",
    "decoded_samples = []\n",
    "ber_values = []\n",
    "snr_values = []\n",
    "\n",
    "for noisy_sample in noisy_samples:\n",
    "    decoded_samples.append(decode_sample(noisy_sample))\n",
    "    ber, snr = Utils.calculateRecall(sample, decoded_samples[-1])\n",
    "    ber_values.append(ber)\n",
    "    snr_values.append(snr)"
   ],
   "metadata": {
    "collapsed": false,
    "ExecuteTime": {
     "end_time": "2024-05-18T00:28:23.500063Z",
     "start_time": "2024-05-18T00:28:23.374982900Z"
    }
   },
   "id": "4cc31471c56de3e",
   "execution_count": 25
  },
  {
   "cell_type": "code",
   "outputs": [
    {
     "data": {
      "text/plain": "<Figure size 1000x600 with 1 Axes>",
      "image/png": "[encoded data removed]"
     },
     "metadata": {},
     "output_type": "display_data"
    }
   ],
   "source": [
    "# Plotar as taxas de erro de bit simuladas e teóricas\n",
    "plt.figure(figsize=(10, 6))\n",
    "#plt.semilogy(noise_rates, ber_values, label='BER x nois rates')\n",
    "#plt.semilogy(noise_rates, snr_values, label='SNR x noise rates')\n",
    "plt.semilogy(snr_values, ber_values, label='SNR x BER')\n",
    "plt.xlabel('Noise Rates')\n",
    "plt.grid(True, which='both')\n",
    "plt.legend()\n",
    "plt.title('BER Simulada vs BER Teórica')\n",
    "plt.show()"
   ],
   "metadata": {
    "collapsed": false,
    "ExecuteTime": {
     "end_time": "2024-05-18T00:20:37.715719400Z",
     "start_time": "2024-05-18T00:20:36.570073700Z"
    }
   },
   "id": "f9791ae1685b540d",
   "execution_count": 24
  },
  {
   "cell_type": "code",
   "outputs": [
    {
     "ename": "KeyboardInterrupt",
     "evalue": "",
     "output_type": "error",
     "traceback": [
      "\u001B[0;31m---------------------------------------------------------------------------\u001B[0m",
      "\u001B[0;31mKeyboardInterrupt\u001B[0m                         Traceback (most recent call last)",
      "Cell \u001B[0;32mIn[8], line 6\u001B[0m\n\u001B[1;32m      4\u001B[0m \u001B[38;5;66;03m# Calcular a BER simulada para cada valor de Eb\u001B[39;00m\n\u001B[1;32m      5\u001B[0m \u001B[38;5;28;01mfor\u001B[39;00m Eb_dB \u001B[38;5;129;01min\u001B[39;00m Eb_dB_values:\n\u001B[0;32m----> 6\u001B[0m     np\u001B[38;5;241m.\u001B[39mappend(BER_simulada, \u001B[43mUtils\u001B[49m\u001B[38;5;241;43m.\u001B[39;49m\u001B[43mcalcular_BER_simulada\u001B[49m\u001B[43m(\u001B[49m\u001B[43mEb_dB\u001B[49m\u001B[43m)\u001B[49m)\n\u001B[1;32m      8\u001B[0m \u001B[38;5;66;03m# Converter a lista BER_simulada em array numpy\u001B[39;00m\n\u001B[1;32m      9\u001B[0m BER_simulada \u001B[38;5;241m=\u001B[39m np\u001B[38;5;241m.\u001B[39marray(BER_simulada)\n",
      "File \u001B[0;32m~/Unicamp/TCC/tcc/src/Utils.py:97\u001B[0m, in \u001B[0;36mcalcular_BER_simulada\u001B[0;34m(Eb_dB, tamanho)\u001B[0m\n\u001B[1;32m     94\u001B[0m variancia \u001B[38;5;241m=\u001B[39m \u001B[38;5;241m1\u001B[39m\n\u001B[1;32m     96\u001B[0m \u001B[38;5;66;03m# Gerar ruído gaussiano N com média 0 e variância variancia\u001B[39;00m\n\u001B[0;32m---> 97\u001B[0m N \u001B[38;5;241m=\u001B[39m \u001B[43mnp\u001B[49m\u001B[38;5;241;43m.\u001B[39;49m\u001B[43mrandom\u001B[49m\u001B[38;5;241;43m.\u001B[39;49m\u001B[43mnormal\u001B[49m\u001B[43m(\u001B[49m\u001B[38;5;241;43m0\u001B[39;49m\u001B[43m,\u001B[49m\u001B[43m \u001B[49m\u001B[43mnp\u001B[49m\u001B[38;5;241;43m.\u001B[39;49m\u001B[43msqrt\u001B[49m\u001B[43m(\u001B[49m\u001B[43mvariancia\u001B[49m\u001B[43m \u001B[49m\u001B[38;5;241;43m/\u001B[39;49m\u001B[43m \u001B[49m\u001B[38;5;241;43m2\u001B[39;49m\u001B[43m)\u001B[49m\u001B[43m,\u001B[49m\u001B[43m \u001B[49m\u001B[43msize\u001B[49m\u001B[38;5;241;43m=\u001B[39;49m\u001B[38;5;28;43mint\u001B[39;49m\u001B[43m(\u001B[49m\u001B[43mtamanho\u001B[49m\u001B[43m)\u001B[49m\u001B[43m)\u001B[49m\n\u001B[1;32m     99\u001B[0m \u001B[38;5;66;03m# Valor de Eb\u001B[39;00m\n\u001B[1;32m    100\u001B[0m Eb \u001B[38;5;241m=\u001B[39m \u001B[38;5;241m10\u001B[39m \u001B[38;5;241m*\u001B[39m\u001B[38;5;241m*\u001B[39m (Eb_dB \u001B[38;5;241m/\u001B[39m \u001B[38;5;241m10\u001B[39m)\n",
      "\u001B[0;31mKeyboardInterrupt\u001B[0m: "
     ]
    }
   ],
   "source": [
    "Eb_dB_values = np.arange(0, 10, 0.01)\n",
    "BER_simulada = noise_rates*sample_length\n",
    "\n",
    "# Calcular a BER simulada para cada valor de Eb\n",
    "for Eb_dB in Eb_dB_values:\n",
    "    np.append(BER_simulada, Utils.calcular_BER_simulada(Eb_dB))\n",
    "\n",
    "# Converter a lista BER_simulada em array numpy\n",
    "BER_simulada = np.array(BER_simulada)\n",
    "\n",
    "# Calcular a BER teórica\n",
    "Eb_values = 10 ** (Eb_dB_values / 10)\n",
    "\n",
    "\n",
    "BER_teorica = 0.5 * erfc(np.sqrt(Eb_values))\n",
    "\n",
    "# Imprimir as taxas de erro de bit teóricas\n",
    "# for i, Eb_dB in enumerate(Eb_dB_values):\n",
    "#    print(f'BER Teórica para Eb/No de {Eb_dB} dB:', BER_teorica[i])\n",
    "\n",
    "# Plotar as taxas de erro de bit simuladas e teóricas\n",
    "plt.figure(figsize=(10, 6))\n",
    "plt.semilogy(Eb_dB_values, BER_simulada, marker='o', label='BER Simulada')\n",
    "plt.semilogy(Eb_dB_values, BER_teorica, linestyle='--', label='BER Teórica')\n",
    "plt.xlabel('Eb/No (dB)')\n",
    "plt.ylabel('BER')\n",
    "plt.grid(True, which='both')\n",
    "plt.legend()\n",
    "plt.title('BER Simulada vs BER Teórica')\n",
    "plt.show()"
   ],
   "metadata": {
    "collapsed": false,
    "ExecuteTime": {
     "end_time": "2024-05-18T00:07:54.547537300Z",
     "start_time": "2024-05-18T00:01:43.010715700Z"
    }
   },
   "id": "d1d692e2b90ada57",
   "execution_count": 8
  },
  {
   "cell_type": "code",
   "outputs": [],
   "source": [],
   "metadata": {
    "collapsed": false
   },
   "id": "9e0e5f225301a7ac"
  }
 ],
 "metadata": {
  "kernelspec": {
   "display_name": "Python 3",
   "language": "python",
   "name": "python3"
  },
  "language_info": {
   "codemirror_mode": {
    "name": "ipython",
    "version": 2
   },
   "file_extension": ".py",
   "mimetype": "text/x-python",
   "name": "python",
   "nbconvert_exporter": "python",
   "pygments_lexer": "ipython2",
   "version": "2.7.6"
  }
 },
 "nbformat": 4,
 "nbformat_minor": 5
}
