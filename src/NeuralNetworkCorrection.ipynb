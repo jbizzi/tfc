{
 "cells": [
  {
   "cell_type": "code",
   "outputs": [
    {
     "ename": "IndentationError",
     "evalue": "expected an indented block after 'if' statement on line 35 (NeuralNetworkCorrection.py, line 37)",
     "output_type": "error",
     "traceback": [
      "Traceback \u001B[0;36m(most recent call last)\u001B[0m:\n",
      "\u001B[0m  File \u001B[1;32m~/Unicamp/TCC/tcc/.venv/lib/python3.10/site-packages/IPython/core/interactiveshell.py:3577\u001B[0m in \u001B[1;35mrun_code\u001B[0m\n    exec(code_obj, self.user_global_ns, self.user_ns)\u001B[0m\n",
      "\u001B[0;36m  Cell \u001B[0;32mIn[5], line 6\u001B[0;36m\n\u001B[0;31m    import NeuralNetworkCorrection as network\u001B[0;36m\n",
      "\u001B[0;36m  File \u001B[0;32m~/Unicamp/TCC/tcc/src/NeuralNetworkCorrection.py:37\u001B[0;36m\u001B[0m\n\u001B[0;31m    encoded_data = [Utils.encode_sample(bit) for bit in data]\u001B[0m\n\u001B[0m    ^\u001B[0m\n\u001B[0;31mIndentationError\u001B[0m\u001B[0;31m:\u001B[0m expected an indented block after 'if' statement on line 35\n"
     ]
    }
   ],
   "source": [
    "import random\n",
    "import sys\n",
    "\n",
    "import matplotlib.pyplot as plt\n",
    "import Utils as utils\n",
    "import NeuralNetworkCorrection as network\n",
    "import numpy as np"
   ],
   "metadata": {
    "collapsed": false,
    "ExecuteTime": {
     "end_time": "2024-05-13T16:14:56.196891900Z",
     "start_time": "2024-05-13T16:14:56.176898300Z"
    }
   },
   "id": "4e3c253fbae0fc7d",
   "execution_count": 5
  },
  {
   "cell_type": "code",
   "outputs": [],
   "source": [
    "# Gerar dados de treinamento\n",
    "word_length = 2 ** 2 # Tamanho padrão da entrada do hamming\n",
    "noise_rates = np.linspace(0, 1, 101)\n",
    "samples = 10 ** 3\n",
    "epoches = 50\n",
    "\n",
    "noisy_data, original_data = network.generate_data_for_training(word_length, noise_rates, samples)"
   ],
   "metadata": {
    "collapsed": false
   },
   "id": "92607956919a7d9f",
   "execution_count": null
  },
  {
   "cell_type": "code",
   "outputs": [],
   "source": [
    "# Criar e treinar a rede neural\n",
    "model = network.train_neural_network(noisy_data, original_data, epoches, word_length)"
   ],
   "metadata": {
    "collapsed": false
   },
   "id": "294179df0804a7f2",
   "execution_count": null
  },
  {
   "cell_type": "code",
   "outputs": [],
   "source": [
    "# Gerar dados de teste\n",
    "test_noisy_data, test_original_data = network.generate_data_for_testing(2 ** 5, noise_rates, 100)\n",
    "\n",
    "print(len(test_noisy_data))\n",
    "print(len(test_original_data))\n"
   ],
   "metadata": {
    "collapsed": false
   },
   "id": "5f01dfaf01c3e031",
   "execution_count": null
  },
  {
   "cell_type": "code",
   "outputs": [],
   "source": [
    "# Decodificar e corrigir os bits usando a rede neural\n",
    "decoded_data = []\n",
    "for noise in test_noisy_data:\n",
    "    decoded_data.append(network.decode_and_correct(noise, model))"
   ],
   "metadata": {
    "collapsed": false
   },
   "id": "5b600dde787b8f39",
   "execution_count": null
  },
  {
   "cell_type": "code",
   "execution_count": null,
   "id": "initial_id",
   "metadata": {
    "collapsed": true
   },
   "outputs": [],
   "source": [
    "bers = []\n",
    "snrs = []\n",
    "for output, original in zip(decoded_data, test_original_data):\n",
    "    ber, snr = utils.calculateRecall(original, output)\n",
    "    bers.append(ber)\n",
    "    snrs.append(snr)\n",
    "\n",
    "snrs_db = [utils.dbValueOf(snr) for snr in snrs]\n",
    "\n",
    "print(bers)\n",
    "print(snrs)\n"
   ]
  },
  {
   "cell_type": "code",
   "outputs": [],
   "source": [
    "plt.plot(snrs_db, bers, marker = \"o\")\n",
    "plt.xlabel('SNR (dB)')\n",
    "#plt.xlim(0, 35)\n",
    "plt.ylabel('BER')\n",
    "plt.yscale(\"log\")\n",
    "plt.legend()\n",
    "plt.show()"
   ],
   "metadata": {
    "collapsed": false
   },
   "id": "71f394e2821c58e9",
   "execution_count": null
  },
  {
   "cell_type": "code",
   "outputs": [],
   "source": [],
   "metadata": {
    "collapsed": false
   },
   "id": "e86d4d8e25b496e7",
   "execution_count": null
  }
 ],
 "metadata": {
  "kernelspec": {
   "display_name": "Python 3",
   "language": "python",
   "name": "python3"
  },
  "language_info": {
   "codemirror_mode": {
    "name": "ipython",
    "version": 2
   },
   "file_extension": ".py",
   "mimetype": "text/x-python",
   "name": "python",
   "nbconvert_exporter": "python",
   "pygments_lexer": "ipython2",
   "version": "2.7.6"
  }
 },
 "nbformat": 4,
 "nbformat_minor": 5
}
