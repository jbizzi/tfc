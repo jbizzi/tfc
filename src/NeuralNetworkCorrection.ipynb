{
 "cells": [
  {
   "cell_type": "code",
   "outputs": [],
   "source": [
    "import random\n",
    "import sys\n",
    "\n",
    "import matplotlib.pyplot as plt\n",
    "from scipy.special import erfc\n",
    "\n",
    "import Utils as utils\n",
    "import NeuralNetworkCorrection as network\n",
    "import numpy as np"
   ],
   "metadata": {
    "collapsed": false
   },
   "id": "4e3c253fbae0fc7d",
   "execution_count": null
  },
  {
   "cell_type": "code",
   "outputs": [],
   "source": [
    "# Gerar dados de treinamento\n",
    "word_length = 2 ** 2 # Tamanho padrão da entrada do hamming\n",
    "noise_rates = np.linspace(0.01, 0.2, 100)\n",
    "sample_length = 10 ** 3\n",
    "epoches = 50\n",
    "Eb_dB_values = np.arange(-2, 11, 1)\n",
    "noisy_data = []\n",
    "original_data = []\n",
    "\n",
    "for eb_db in Eb_dB_values:\n",
    "    corrompida, original = network.generate_data_for_training(1, sample_length, eb_db)\n",
    "    noisy_data.append(corrompida)\n",
    "    original_data.append(original)"
   ],
   "metadata": {
    "collapsed": false
   },
   "id": "92607956919a7d9f",
   "execution_count": null
  },
  {
   "cell_type": "code",
   "outputs": [],
   "source": [
    "# Criar e treinar a rede neural\n",
    "model = network.train_neural_network(noisy_data, original_data, epoches, word_length)"
   ],
   "metadata": {
    "collapsed": false
   },
   "id": "294179df0804a7f2",
   "execution_count": null
  },
  {
   "cell_type": "code",
   "outputs": [],
   "source": [
    "# Gerar dados de teste\n",
    "amostras_ruidosas = []\n",
    "amostras_originais = []\n",
    "for eb_db in Eb_dB_values:\n",
    "    ruidosa, original = network.generate_data_for_training(1, 10**4, eb_db)\n",
    "    amostras_originais.append(original)\n",
    "    amostras_ruidosas.append(ruidosa)\n"
   ],
   "metadata": {
    "collapsed": false
   },
   "id": "5f01dfaf01c3e031",
   "execution_count": null
  },
  {
   "cell_type": "code",
   "outputs": [],
   "source": [
    "# Decodificar e corrigir os bits usando a rede neural\n",
    "amostras_decodificadas = []\n",
    "#for amostra_ruidosa in amostras_ruidosas:\n",
    " #   amostras_decodificadas.append(network.decode_and_correct(amostra_ruidosa, model))"
   ],
   "metadata": {
    "collapsed": false
   },
   "id": "5b600dde787b8f39",
   "execution_count": null
  },
  {
   "cell_type": "code",
   "outputs": [],
   "source": [
    "amostras_decodificadas.append(network.decode_and_correct(amostras_ruidosas[0], model))"
   ],
   "metadata": {
    "collapsed": false
   },
   "id": "a74dc7dd3ff63b16",
   "execution_count": null
  },
  {
   "cell_type": "code",
   "outputs": [],
   "source": [
    "amostras_decodificadas.append(network.decode_and_correct(amostras_ruidosas[1], model))\n"
   ],
   "metadata": {
    "collapsed": false
   },
   "id": "6104c858899fcafe",
   "execution_count": null
  },
  {
   "cell_type": "code",
   "outputs": [],
   "source": [
    "amostras_decodificadas.append(network.decode_and_correct(amostras_ruidosas[2], model))\n"
   ],
   "metadata": {
    "collapsed": false
   },
   "id": "cea9ddd075a494f",
   "execution_count": null
  },
  {
   "cell_type": "code",
   "outputs": [],
   "source": [
    "amostras_decodificadas.append(network.decode_and_correct(amostras_ruidosas[3], model))\n"
   ],
   "metadata": {
    "collapsed": false
   },
   "id": "c1f01d5fd7d0be89",
   "execution_count": null
  },
  {
   "cell_type": "code",
   "outputs": [],
   "source": [
    "amostras_decodificadas.append(network.decode_and_correct(amostras_ruidosas[4], model))\n"
   ],
   "metadata": {
    "collapsed": false
   },
   "id": "bb272af2feb5a26f",
   "execution_count": null
  },
  {
   "cell_type": "code",
   "outputs": [],
   "source": [
    "amostras_decodificadas.append(network.decode_and_correct(amostras_ruidosas[5], model))\n"
   ],
   "metadata": {
    "collapsed": false
   },
   "id": "a596fe95ca4eaeb4",
   "execution_count": null
  },
  {
   "cell_type": "code",
   "outputs": [],
   "source": [
    "amostras_decodificadas.append(network.decode_and_correct(amostras_ruidosas[6], model))\n"
   ],
   "metadata": {
    "collapsed": false
   },
   "id": "4c8aa534ee77aa3f",
   "execution_count": null
  },
  {
   "cell_type": "code",
   "outputs": [],
   "source": [
    "amostras_decodificadas.append(network.decode_and_correct(amostras_ruidosas[7], model))\n"
   ],
   "metadata": {
    "collapsed": false
   },
   "id": "99413b1dfba34682",
   "execution_count": null
  },
  {
   "cell_type": "code",
   "outputs": [],
   "source": [
    "amostras_decodificadas.append(network.decode_and_correct(amostras_ruidosas[8], model))\n"
   ],
   "metadata": {
    "collapsed": false
   },
   "id": "fc44d69d8a4b1a34",
   "execution_count": null
  },
  {
   "cell_type": "code",
   "outputs": [],
   "source": [
    "amostras_decodificadas.append(network.decode_and_correct(amostras_ruidosas[9], model))\n"
   ],
   "metadata": {
    "collapsed": false
   },
   "id": "5546a41116ef2e0e",
   "execution_count": null
  },
  {
   "cell_type": "code",
   "outputs": [],
   "source": [
    "amostras_decodificadas.append(network.decode_and_correct(amostras_ruidosas[10], model))\n"
   ],
   "metadata": {
    "collapsed": false
   },
   "id": "166877fa2a5c0311",
   "execution_count": null
  },
  {
   "cell_type": "code",
   "outputs": [],
   "source": [
    "amostras_decodificadas.append(network.decode_and_correct(amostras_ruidosas[11], model))\n"
   ],
   "metadata": {
    "collapsed": false
   },
   "id": "c2965cdfc3777258",
   "execution_count": null
  },
  {
   "cell_type": "code",
   "outputs": [],
   "source": [
    "amostras_decodificadas.append(network.decode_and_correct(amostras_ruidosas[12], model))\n"
   ],
   "metadata": {
    "collapsed": false
   },
   "id": "4561e91d9029826c",
   "execution_count": null
  },
  {
   "cell_type": "code",
   "execution_count": null,
   "id": "initial_id",
   "metadata": {
    "collapsed": true
   },
   "outputs": [],
   "source": [
    "bers = []\n",
    "for i in range(0, len(amostras_decodificadas)):\n",
    "    bers.append(np.sum(np.array(amostras_decodificadas[i]).astype(int) != amostras_originais[i]) / len(amostras_originais[i]))\n"
   ]
  },
  {
   "cell_type": "code",
   "outputs": [],
   "source": [
    "# Calcular a BER teórica\n",
    "Eb_values = 10**(Eb_dB_values / 10)\n",
    "BER_teorica = 0.5 * erfc(np.sqrt(Eb_values))\n",
    "\n",
    "# Plotar as taxas de erro de bit simuladas e teóricas\n",
    "plt.figure(figsize=(10, 6))\n",
    "plt.semilogy(Eb_dB_values, bers, linestyle = '--', label='BER Simulada')\n",
    "plt.semilogy(Eb_dB_values, BER_teorica, linestyle='--', label='BER Teórica')\n",
    "plt.xlabel('Eb/No (dB)')\n",
    "plt.ylabel('BER')\n",
    "plt.grid(True, which='both')\n",
    "plt.legend()\n",
    "plt.title('BER Simulada vs BER Teórica')\n",
    "plt.show()"
   ],
   "metadata": {
    "collapsed": false
   },
   "id": "71f394e2821c58e9",
   "execution_count": null
  },
  {
   "cell_type": "code",
   "outputs": [],
   "source": [
    "print(model.summary())"
   ],
   "metadata": {
    "collapsed": false
   },
   "id": "24ea50792f4663b",
   "execution_count": null
  },
  {
   "cell_type": "code",
   "outputs": [],
   "source": [
    "from tensorflow.keras.utils import plot_model\n",
    "\n",
    "plot_model(model, to_file='model.png', show_shapes=True, show_layer_names=True)"
   ],
   "metadata": {
    "collapsed": false
   },
   "id": "e356c024f3afbe52",
   "execution_count": null
  },
  {
   "cell_type": "code",
   "outputs": [],
   "source": [],
   "metadata": {
    "collapsed": false
   },
   "id": "5ad3da0fee290e0a"
  }
 ],
 "metadata": {
  "kernelspec": {
   "display_name": "Python 3",
   "language": "python",
   "name": "python3"
  },
  "language_info": {
   "codemirror_mode": {
    "name": "ipython",
    "version": 2
   },
   "file_extension": ".py",
   "mimetype": "text/x-python",
   "name": "python",
   "nbconvert_exporter": "python",
   "pygments_lexer": "ipython2",
   "version": "2.7.6"
  }
 },
 "nbformat": 4,
 "nbformat_minor": 5
}
