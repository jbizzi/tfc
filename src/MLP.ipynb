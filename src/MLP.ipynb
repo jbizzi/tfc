{
 "cells": [
  {
   "cell_type": "code",
   "outputs": [],
   "source": [
    "import copy\n",
    "import random\n",
    "\n",
    "import numpy as np\n",
    "import tensorflow as tf\n",
    "from keras import Sequential\n",
    "from keras.src.callbacks import ReduceLROnPlateau, EarlyStopping\n",
    "from keras.src.layers import Dense\n",
    "\n",
    "from sklearn.model_selection import train_test_split\n",
    "\n",
    "from src import Utils, HammingCode"
   ],
   "metadata": {
    "collapsed": false
   },
   "id": "ea0a0f92ae8b8b7d"
  },
  {
   "cell_type": "code",
   "outputs": [],
   "source": [
    "model = tf.keras.Sequential()\n",
    "\n",
    "model.add(Dense(512, input_dim=SIZE, activation='relu'))\n",
    "model.add(Dense(256, activation='relu'))\n",
    "model.add(Dense(128, activation='relu'))\n",
    "model.add(Dense(SIZE, activation='sigmoid'))\n",
    "\n",
    "model.compile(optimizer='adam', loss='binary_crossentropy', metrics=['accuracy'])\n",
    "\n",
    "# falta colocar o ruído na entrada \n",
    "\n",
    "model.fit(\n",
    "    training_data,\n",
    "    training_data,\n",
    "    epochs=epoches,\n",
    "    batch_size=batch_size,\n",
    "    validation_data=(validation_data, validation_data),\n",
    "    callbacks=[reduce_lr, early_stopping]\n",
    ")\n",
    "\n",
    "loss, accuracy = model.evaluate(validation_data, validation_data)\n",
    "print(f'Loss: {loss}')\n",
    "print(f'Accuracy: {accuracy}')"
   ],
   "metadata": {
    "collapsed": false
   },
   "id": "8eed86fe834dcbde"
  }
 ],
 "metadata": {
  "kernelspec": {
   "display_name": "Python 3",
   "language": "python",
   "name": "python3"
  },
  "language_info": {
   "codemirror_mode": {
    "name": "ipython",
    "version": 2
   },
   "file_extension": ".py",
   "mimetype": "text/x-python",
   "name": "python",
   "nbconvert_exporter": "python",
   "pygments_lexer": "ipython2",
   "version": "2.7.6"
  }
 },
 "nbformat": 4,
 "nbformat_minor": 5
}
