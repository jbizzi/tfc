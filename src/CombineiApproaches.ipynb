{
 "cells": [
  {
   "cell_type": "code",
   "execution_count": 2,
   "id": "initial_id",
   "metadata": {
    "collapsed": true,
    "jupyter": {
     "outputs_hidden": true
    },
    "ExecuteTime": {
     "end_time": "2024-06-09T18:40:28.261094300Z",
     "start_time": "2024-06-09T18:40:28.122682600Z"
    }
   },
   "outputs": [
    {
     "name": "stdout",
     "output_type": "stream",
     "text": [
      "The autoreload extension is already loaded. To reload it, use:\n",
      "  %reload_ext autoreload\n"
     ]
    }
   ],
   "source": [
    "%load_ext autoreload\n",
    "%autoreload 2\n",
    "import HammingCode\n",
    "import matplotlib.pyplot as plt\n",
    "import numpy as np\n",
    "from scipy.special import erfc\n",
    "import NeuralNetworkCorrection as network\n",
    "import Autoencoder\n",
    "import tensorflow as tf\n"
   ]
  },
  {
   "cell_type": "code",
   "execution_count": 3,
   "id": "a5b56cf35e30f038",
   "metadata": {
    "collapsed": false,
    "ExecuteTime": {
     "end_time": "2024-06-09T18:40:28.309757900Z",
     "start_time": "2024-06-09T18:40:28.252012Z"
    }
   },
   "outputs": [],
   "source": [
    "variancia = 1\n",
    "code_rate = 4/7\n",
    "# amostra\n",
    "Eb_dB_values = np.arange(-5, 12, 1)\n",
    "\n",
    "# Gerar dados de treinamento\n",
    "training_sample_length = 10 ** 5\n",
    "epoches = 15\n",
    "batch_size = 64"
   ]
  },
  {
   "cell_type": "code",
   "execution_count": 4,
   "id": "54fb41e7292daaf5",
   "metadata": {
    "collapsed": false,
    "ExecuteTime": {
     "end_time": "2024-06-09T18:40:28.388590400Z",
     "start_time": "2024-06-09T18:40:28.295753500Z"
    }
   },
   "outputs": [],
   "source": [
    "# Criar e treinar a rede neural\n",
    "#model = network.train_neural_network(training_data, epoches, batch_size)"
   ]
  },
  {
   "cell_type": "code",
   "execution_count": 5,
   "id": "dabd2ca69967e1ae",
   "metadata": {
    "collapsed": false,
    "ExecuteTime": {
     "end_time": "2024-06-09T18:40:28.439650800Z",
     "start_time": "2024-06-09T18:40:28.388590400Z"
    }
   },
   "outputs": [],
   "source": [
    "#autoencoder, encoder, decoder = Autoencoder.create_and_train_auto_encoder(training_data)"
   ]
  },
  {
   "cell_type": "code",
   "outputs": [],
   "source": [
    "#autoencoder = tf.keras.models.load_model('autoencoder')\n",
    "#model = tf.keras.models.load_model('mlp')"
   ],
   "metadata": {
    "collapsed": false,
    "ExecuteTime": {
     "end_time": "2024-06-09T18:40:28.468168Z",
     "start_time": "2024-06-09T18:40:28.410126300Z"
    }
   },
   "id": "34de00483ae092e",
   "execution_count": 6
  },
  {
   "cell_type": "code",
   "execution_count": 7,
   "id": "86f1344e5856c64",
   "metadata": {
    "collapsed": false,
    "ExecuteTime": {
     "end_time": "2024-06-09T18:40:28.535820Z",
     "start_time": "2024-06-09T18:40:28.465166700Z"
    }
   },
   "outputs": [],
   "source": [
    "# Gerar dados de teste\n",
    "amostras_ruidosas = []\n",
    "amostras_originais = []\n",
    "ML_result = []\n",
    "tradicional_result = []\n",
    "autoencoder_result = []\n"
   ]
  },
  {
   "cell_type": "code",
   "outputs": [],
   "source": [
    "#for eb_db in Eb_dB_values:\n",
    "#    tradicional_result = (HammingCode.decode_sample())\n"
   ],
   "metadata": {
    "collapsed": false,
    "ExecuteTime": {
     "end_time": "2024-06-09T18:40:49.532172400Z",
     "start_time": "2024-06-09T18:40:49.444085900Z"
    }
   },
   "id": "151a22e6bba5a4ba",
   "execution_count": 9
  },
  {
   "cell_type": "code",
   "execution_count": 13,
   "id": "7f720926d3e1ad4a",
   "metadata": {
    "collapsed": false,
    "ExecuteTime": {
     "end_time": "2024-06-09T19:14:32.830260700Z",
     "start_time": "2024-06-09T19:14:28.493410400Z"
    }
   },
   "outputs": [
    {
     "name": "stdout",
     "output_type": "stream",
     "text": [
      "[1 0 0 0 0 1 1]\n",
      "[1 0 0 0 0 1 1]\n"
     ]
    },
    {
     "ename": "KeyboardInterrupt",
     "evalue": "",
     "output_type": "error",
     "traceback": [
      "\u001B[0;31m---------------------------------------------------------------------------\u001B[0m",
      "\u001B[0;31mKeyboardInterrupt\u001B[0m                         Traceback (most recent call last)",
      "Cell \u001B[0;32mIn[13], line 14\u001B[0m\n\u001B[1;32m     12\u001B[0m padded_array \u001B[38;5;241m=\u001B[39m []\n\u001B[1;32m     13\u001B[0m \u001B[38;5;28;01mfor\u001B[39;00m eb_db \u001B[38;5;129;01min\u001B[39;00m Eb_dB_values:\n\u001B[0;32m---> 14\u001B[0m     info \u001B[38;5;241m=\u001B[39m \u001B[43mnetwork\u001B[49m\u001B[38;5;241;43m.\u001B[39;49m\u001B[43mgenerate_data_for_training\u001B[49m\u001B[43m(\u001B[49m\u001B[43mtest_information\u001B[49m\u001B[43m,\u001B[49m\u001B[43m \u001B[49m\u001B[43meb_db\u001B[49m\u001B[43m,\u001B[49m\u001B[43m \u001B[49m\u001B[43mvariancia\u001B[49m\u001B[43m)\u001B[49m\n\u001B[1;32m     15\u001B[0m     test_data[\u001B[38;5;124m'\u001B[39m\u001B[38;5;124moriginal\u001B[39m\u001B[38;5;124m'\u001B[39m] \u001B[38;5;241m=\u001B[39m info[\u001B[38;5;124m'\u001B[39m\u001B[38;5;124moriginal_data\u001B[39m\u001B[38;5;124m'\u001B[39m]\n\u001B[1;32m     18\u001B[0m     \u001B[38;5;66;03m#autoencoder_result = (network.decode_and_correct(info['split_noisy_original_data_15_11'], autoencoder))\u001B[39;00m\n\u001B[1;32m     19\u001B[0m     \u001B[38;5;66;03m#ML_result = (network.decode_and_correct(info['split_noisy_original_data_15_11'], model))\u001B[39;00m\n",
      "File \u001B[0;32m~/Unicamp/TCC/tcc/src/NeuralNetworkCorrection.py:54\u001B[0m, in \u001B[0;36mgenerate_data_for_training\u001B[0;34m(training_data_set, Eb_db, variancia)\u001B[0m\n\u001B[1;32m     51\u001B[0m normalizedInfo \u001B[38;5;241m=\u001B[39m copy\u001B[38;5;241m.\u001B[39mdeepcopy(training_data_set)\n\u001B[1;32m     53\u001B[0m normalizedInfo[\u001B[38;5;124m'\u001B[39m\u001B[38;5;124mencoded_data\u001B[39m\u001B[38;5;124m'\u001B[39m] \u001B[38;5;241m=\u001B[39m amostra_ruidosa_digital_7_4\n\u001B[0;32m---> 54\u001B[0m normalizedInfo[\u001B[38;5;124m'\u001B[39m\u001B[38;5;124msplit_encoded_data\u001B[39m\u001B[38;5;124m'\u001B[39m] \u001B[38;5;241m=\u001B[39m \u001B[43mnp\u001B[49m\u001B[38;5;241;43m.\u001B[39;49m\u001B[43marray_split\u001B[49m\u001B[43m(\u001B[49m\u001B[43mamostra_ruidosa_digital_7_4\u001B[49m\u001B[43m,\u001B[49m\u001B[43m \u001B[49m\u001B[38;5;28;43mint\u001B[39;49m\u001B[43m(\u001B[49m\u001B[38;5;28;43mlen\u001B[39;49m\u001B[43m(\u001B[49m\u001B[43mamostra_ruidosa_digital_7_4\u001B[49m\u001B[43m)\u001B[49m\u001B[38;5;241;43m/\u001B[39;49m\u001B[38;5;241;43m7\u001B[39;49m\u001B[43m)\u001B[49m\u001B[43m)\u001B[49m\n\u001B[1;32m     56\u001B[0m normalizedInfo[\u001B[38;5;124m'\u001B[39m\u001B[38;5;124msplit_original_data_15_11\u001B[39m\u001B[38;5;124m'\u001B[39m] \u001B[38;5;241m=\u001B[39m np\u001B[38;5;241m.\u001B[39marray_split(training_data_set[\u001B[38;5;124m'\u001B[39m\u001B[38;5;124mpadded_array_original_data\u001B[39m\u001B[38;5;124m'\u001B[39m], \u001B[38;5;28mint\u001B[39m(\u001B[38;5;28mlen\u001B[39m(training_data_set[\u001B[38;5;124m'\u001B[39m\u001B[38;5;124mpadded_array_original_data\u001B[39m\u001B[38;5;124m'\u001B[39m])\u001B[38;5;241m/\u001B[39mdata_bits))\n\u001B[1;32m     57\u001B[0m normalizedInfo[\u001B[38;5;124m'\u001B[39m\u001B[38;5;124msplit_noisy_original_data_15_11\u001B[39m\u001B[38;5;124m'\u001B[39m] \u001B[38;5;241m=\u001B[39m np\u001B[38;5;241m.\u001B[39marray_split(amostra_ruidosa_original_digital, \u001B[38;5;28mint\u001B[39m(\u001B[38;5;28mlen\u001B[39m(amostra_ruidosa_original_digital)\u001B[38;5;241m/\u001B[39mdata_bits))\n",
      "File \u001B[0;32m~/Unicamp/TCC/tcc/.venv/lib/python3.10/site-packages/numpy/lib/shape_base.py:782\u001B[0m, in \u001B[0;36marray_split\u001B[0;34m(ary, indices_or_sections, axis)\u001B[0m\n\u001B[1;32m    780\u001B[0m     st \u001B[38;5;241m=\u001B[39m div_points[i]\n\u001B[1;32m    781\u001B[0m     end \u001B[38;5;241m=\u001B[39m div_points[i \u001B[38;5;241m+\u001B[39m \u001B[38;5;241m1\u001B[39m]\n\u001B[0;32m--> 782\u001B[0m     sub_arys\u001B[38;5;241m.\u001B[39mappend(\u001B[43m_nx\u001B[49m\u001B[38;5;241;43m.\u001B[39;49m\u001B[43mswapaxes\u001B[49m\u001B[43m(\u001B[49m\u001B[43msary\u001B[49m\u001B[43m[\u001B[49m\u001B[43mst\u001B[49m\u001B[43m:\u001B[49m\u001B[43mend\u001B[49m\u001B[43m]\u001B[49m\u001B[43m,\u001B[49m\u001B[43m \u001B[49m\u001B[43maxis\u001B[49m\u001B[43m,\u001B[49m\u001B[43m \u001B[49m\u001B[38;5;241;43m0\u001B[39;49m\u001B[43m)\u001B[49m)\n\u001B[1;32m    784\u001B[0m \u001B[38;5;28;01mreturn\u001B[39;00m sub_arys\n",
      "File \u001B[0;32m~/Unicamp/TCC/tcc/.venv/lib/python3.10/site-packages/numpy/core/fromnumeric.py:581\u001B[0m, in \u001B[0;36mswapaxes\u001B[0;34m(a, axis1, axis2)\u001B[0m\n\u001B[1;32m    537\u001B[0m \u001B[38;5;129m@array_function_dispatch\u001B[39m(_swapaxes_dispatcher)\n\u001B[1;32m    538\u001B[0m \u001B[38;5;28;01mdef\u001B[39;00m \u001B[38;5;21mswapaxes\u001B[39m(a, axis1, axis2):\n\u001B[1;32m    539\u001B[0m \u001B[38;5;250m    \u001B[39m\u001B[38;5;124;03m\"\"\"\u001B[39;00m\n\u001B[1;32m    540\u001B[0m \u001B[38;5;124;03m    Interchange two axes of an array.\u001B[39;00m\n\u001B[1;32m    541\u001B[0m \n\u001B[0;32m   (...)\u001B[0m\n\u001B[1;32m    579\u001B[0m \n\u001B[1;32m    580\u001B[0m \u001B[38;5;124;03m    \"\"\"\u001B[39;00m\n\u001B[0;32m--> 581\u001B[0m     \u001B[38;5;28;01mreturn\u001B[39;00m \u001B[43m_wrapfunc\u001B[49m\u001B[43m(\u001B[49m\u001B[43ma\u001B[49m\u001B[43m,\u001B[49m\u001B[43m \u001B[49m\u001B[38;5;124;43m'\u001B[39;49m\u001B[38;5;124;43mswapaxes\u001B[39;49m\u001B[38;5;124;43m'\u001B[39;49m\u001B[43m,\u001B[49m\u001B[43m \u001B[49m\u001B[43maxis1\u001B[49m\u001B[43m,\u001B[49m\u001B[43m \u001B[49m\u001B[43maxis2\u001B[49m\u001B[43m)\u001B[49m\n",
      "File \u001B[0;32m~/Unicamp/TCC/tcc/.venv/lib/python3.10/site-packages/numpy/core/fromnumeric.py:59\u001B[0m, in \u001B[0;36m_wrapfunc\u001B[0;34m(obj, method, *args, **kwds)\u001B[0m\n\u001B[1;32m     56\u001B[0m     \u001B[38;5;28;01mreturn\u001B[39;00m _wrapit(obj, method, \u001B[38;5;241m*\u001B[39margs, \u001B[38;5;241m*\u001B[39m\u001B[38;5;241m*\u001B[39mkwds)\n\u001B[1;32m     58\u001B[0m \u001B[38;5;28;01mtry\u001B[39;00m:\n\u001B[0;32m---> 59\u001B[0m     \u001B[38;5;28;01mreturn\u001B[39;00m \u001B[43mbound\u001B[49m\u001B[43m(\u001B[49m\u001B[38;5;241;43m*\u001B[39;49m\u001B[43margs\u001B[49m\u001B[43m,\u001B[49m\u001B[43m \u001B[49m\u001B[38;5;241;43m*\u001B[39;49m\u001B[38;5;241;43m*\u001B[39;49m\u001B[43mkwds\u001B[49m\u001B[43m)\u001B[49m\n\u001B[1;32m     60\u001B[0m \u001B[38;5;28;01mexcept\u001B[39;00m \u001B[38;5;167;01mTypeError\u001B[39;00m:\n\u001B[1;32m     61\u001B[0m     \u001B[38;5;66;03m# A TypeError occurs if the object does have such a method in its\u001B[39;00m\n\u001B[1;32m     62\u001B[0m     \u001B[38;5;66;03m# class, but its signature is not identical to that of NumPy's. This\u001B[39;00m\n\u001B[0;32m   (...)\u001B[0m\n\u001B[1;32m     66\u001B[0m     \u001B[38;5;66;03m# Call _wrapit from within the except clause to ensure a potential\u001B[39;00m\n\u001B[1;32m     67\u001B[0m     \u001B[38;5;66;03m# exception has a traceback chain.\u001B[39;00m\n\u001B[1;32m     68\u001B[0m     \u001B[38;5;28;01mreturn\u001B[39;00m _wrapit(obj, method, \u001B[38;5;241m*\u001B[39margs, \u001B[38;5;241m*\u001B[39m\u001B[38;5;241m*\u001B[39mkwds)\n",
      "\u001B[0;31mKeyboardInterrupt\u001B[0m: "
     ]
    }
   ],
   "source": [
    "test_data = {\n",
    "    'original': [],\n",
    "    'info': []\n",
    "}\n",
    "test_sample_length = 10 ** 5\n",
    "test_information = network.get_training_data_set(test_sample_length)\n",
    "\n",
    "BER_tradicional = []\n",
    "BER_autoencoder = []\n",
    "BER_ML = []\n",
    "\n",
    "padded_array = []\n",
    "for eb_db in Eb_dB_values:\n",
    "    info = network.generate_data_for_training(test_information, eb_db, variancia)\n",
    "    test_data['original'] = info['original_data']\n",
    "    \n",
    "\n",
    "    #autoencoder_result = (network.decode_and_correct(info['split_noisy_original_data_15_11'], autoencoder))\n",
    "    #ML_result = (network.decode_and_correct(info['split_noisy_original_data_15_11'], model))\n",
    "    print(info['split_encoded_data'][0])\n",
    "    tradicional_result = (HammingCode.decode_sample(info['split_encoded_data']))\n",
    "    \n",
    "    padded_array = info['padded_array_original_data']\n",
    "    \n",
    "    #BER_ML.append(np.sum(np.array(ML_result).astype(int) != padded_array) / len(padded_array))\n",
    "    BER_tradicional.append(np.sum(np.array(tradicional_result).astype(int) != test_data['original']) / len(test_data['original']))\n",
    "    #BER_autoencoder.append(np.sum(np.array(autoencoder_result).astype(int) != padded_array) / len(padded_array))"
   ]
  },
  {
   "cell_type": "code",
   "execution_count": null,
   "id": "a768bfbe55979643",
   "metadata": {
    "collapsed": false,
    "ExecuteTime": {
     "start_time": "2024-06-09T18:40:28.656799500Z"
    }
   },
   "outputs": [],
   "source": [
    "# Calcular a BER teórica\n",
    "Eb_coded = np.array([eb_db + 10*np.log10(code_rate) for eb_db in Eb_dB_values])\n",
    "Eb_values = 10**(Eb_coded/10)\n",
    "BER_teorica_codificado = 0.5 * erfc(np.sqrt(Eb_values))\n",
    "\n",
    "Eb_values_BPSK = 10**(Eb_dB_values/10)\n",
    "BPSK = 0.5 * erfc(np.sqrt(Eb_values_BPSK))"
   ]
  },
  {
   "cell_type": "code",
   "execution_count": null,
   "id": "dd38a450efea265d",
   "metadata": {
    "collapsed": false,
    "ExecuteTime": {
     "start_time": "2024-06-09T18:40:28.664774700Z"
    }
   },
   "outputs": [],
   "source": [
    "# Plotar as taxas de erro de bit simuladas e teóricas\n",
    "plt.figure(figsize=(10, 6))\n",
    "plt.semilogy(Eb_dB_values, BER_tradicional, marker='o', linestyle='', label='Codificado')\n",
    "#plt.semilogy(Eb_dB_values, BER_autoencoder, marker='o',  linestyle='',label='Autoencoder')\n",
    "#plt.semilogy(Eb_dB_values, BER_ML, marker='o', linestyle='', label='MLP')\n",
    "#plt.semilogy(Eb_dB_values, BPSK, marker='o', linestyle='', label='BPSK')\n",
    "plt.semilogy(Eb_dB_values, BER_teorica_codificado, marker='o', linestyle='', label='Teórico codificado')\n",
    "\n",
    "plt.xlabel('Eb/No (dB)')\n",
    "plt.ylabel('BER')\n",
    "plt.grid(True, which='both')\n",
    "plt.legend()\n",
    "plt.title('BER x Eb/No')\n",
    "plt.show()"
   ]
  },
  {
   "cell_type": "code",
   "outputs": [],
   "source": [
    "\n"
   ],
   "metadata": {
    "collapsed": false,
    "ExecuteTime": {
     "end_time": "2024-06-09T18:40:28.693309300Z",
     "start_time": "2024-06-09T18:40:28.664774700Z"
    }
   },
   "id": "4bb791e602fc1c45",
   "execution_count": null
  }
 ],
 "metadata": {
  "kernelspec": {
   "display_name": "Python 3 (ipykernel)",
   "language": "python",
   "name": "python3"
  },
  "language_info": {
   "codemirror_mode": {
    "name": "ipython",
    "version": 3
   },
   "file_extension": ".py",
   "mimetype": "text/x-python",
   "name": "python",
   "nbconvert_exporter": "python",
   "pygments_lexer": "ipython3",
   "version": "3.10.12"
  }
 },
 "nbformat": 4,
 "nbformat_minor": 5
}
