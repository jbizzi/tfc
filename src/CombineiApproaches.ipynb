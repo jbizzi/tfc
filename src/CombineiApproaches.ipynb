{
 "cells": [
  {
   "cell_type": "code",
   "execution_count": 1,
   "id": "initial_id",
   "metadata": {
    "collapsed": true,
    "jupyter": {
     "outputs_hidden": true
    },
    "ExecuteTime": {
     "end_time": "2024-06-03T16:04:38.394533900Z",
     "start_time": "2024-06-03T16:04:33.442833600Z"
    }
   },
   "outputs": [
    {
     "name": "stderr",
     "output_type": "stream",
     "text": [
      "2024-06-03 13:04:35.715638: E external/local_xla/xla/stream_executor/cuda/cuda_dnn.cc:9261] Unable to register cuDNN factory: Attempting to register factory for plugin cuDNN when one has already been registered\n",
      "2024-06-03 13:04:35.715729: E external/local_xla/xla/stream_executor/cuda/cuda_fft.cc:607] Unable to register cuFFT factory: Attempting to register factory for plugin cuFFT when one has already been registered\n",
      "2024-06-03 13:04:35.718027: E external/local_xla/xla/stream_executor/cuda/cuda_blas.cc:1515] Unable to register cuBLAS factory: Attempting to register factory for plugin cuBLAS when one has already been registered\n",
      "2024-06-03 13:04:35.732516: I tensorflow/core/platform/cpu_feature_guard.cc:182] This TensorFlow binary is optimized to use available CPU instructions in performance-critical operations.\n",
      "To enable the following instructions: AVX2 FMA, in other operations, rebuild TensorFlow with the appropriate compiler flags.\n",
      "2024-06-03 13:04:37.128643: W tensorflow/compiler/tf2tensorrt/utils/py_utils.cc:38] TF-TRT Warning: Could not find TensorRT\n"
     ]
    }
   ],
   "source": [
    "%load_ext autoreload\n",
    "%autoreload 2\n",
    "import HammingCode\n",
    "import matplotlib.pyplot as plt\n",
    "import numpy as np\n",
    "from scipy.special import erfc\n",
    "import NeuralNetworkCorrection as network\n",
    "import Autoencoder\n",
    "import math\n",
    "import Utils"
   ]
  },
  {
   "cell_type": "code",
   "execution_count": 2,
   "id": "a5b56cf35e30f038",
   "metadata": {
    "collapsed": false,
    "ExecuteTime": {
     "end_time": "2024-06-03T16:04:38.449578700Z",
     "start_time": "2024-06-03T16:04:38.402057300Z"
    }
   },
   "outputs": [],
   "source": [
    "variancia = 1\n",
    "code_rate = 4/7\n",
    "# amostra\n",
    "Eb_dB_values = np.arange(3, 16, 1)\n",
    "\n",
    "# Gerar dados de treinamento\n",
    "training_sample_length = 10 ** 3\n",
    "epoches = 100\n",
    "batch_size = 32"
   ]
  },
  {
   "cell_type": "code",
   "execution_count": 4,
   "id": "7b8afdcc790661ee",
   "metadata": {
    "collapsed": false,
    "ExecuteTime": {
     "end_time": "2024-06-03T16:05:03.704817500Z",
     "start_time": "2024-06-03T16:05:03.590329500Z"
    }
   },
   "outputs": [],
   "source": [
    "training_data = {\n",
    "    'original': [],\n",
    "    'noisy': [],\n",
    "    'info': []\n",
    "}\n",
    "\n",
    "training_information = network.get_training_data_set(training_sample_length)\n",
    "\n",
    "for eb_db in Eb_dB_values:\n",
    "    info = network.generate_data_for_training(training_information, eb_db, variancia)\n",
    "    training_data['noisy'].extend(info['split_noisy_original_data_15_11'])\n",
    "    training_data['original'].extend(info['split_original_data_15_11'])\n",
    "\n",
    "training_data['noisy'] = np.array(training_data['noisy'])\n",
    "training_data['original'] = np.array(training_data['original'])"
   ]
  },
  {
   "cell_type": "code",
   "execution_count": 5,
   "id": "54fb41e7292daaf5",
   "metadata": {
    "collapsed": false,
    "ExecuteTime": {
     "end_time": "2024-06-03T16:05:10.239260700Z",
     "start_time": "2024-06-03T16:05:04.951635500Z"
    }
   },
   "outputs": [
    {
     "name": "stdout",
     "output_type": "stream",
     "text": [
      "[[0 1 1 ... 1 0 1]\n",
      " [1 0 1 ... 1 1 0]\n",
      " [0 0 0 ... 0 0 1]\n",
      " ...\n",
      " [0 1 1 ... 0 1 1]\n",
      " [1 0 1 ... 1 1 0]\n",
      " [1 1 1 ... 0 0 0]]\n",
      "Epoch 1/100\n",
      "34/34 [==============================] - 2s 14ms/step - loss: 0.4650 - accuracy: 0.0836 - val_loss: 0.1828 - val_accuracy: 0.1345 - lr: 0.0010\n",
      "Epoch 2/100\n",
      "34/34 [==============================] - 0s 7ms/step - loss: 0.0771 - accuracy: 0.1532 - val_loss: 0.0508 - val_accuracy: 0.2101 - lr: 0.0010\n",
      "Epoch 3/100\n",
      "34/34 [==============================] - 0s 7ms/step - loss: 0.0240 - accuracy: 0.2096 - val_loss: 0.0431 - val_accuracy: 0.2605 - lr: 0.0010\n",
      "Epoch 4/100\n",
      "34/34 [==============================] - 0s 7ms/step - loss: 0.0193 - accuracy: 0.2011 - val_loss: 0.0442 - val_accuracy: 0.0756 - lr: 0.0010\n",
      "Epoch 5/100\n",
      "34/34 [==============================] - 0s 7ms/step - loss: 0.0172 - accuracy: 0.1767 - val_loss: 0.0460 - val_accuracy: 0.2101 - lr: 0.0010\n",
      "Epoch 6/100\n",
      "34/34 [==============================] - 0s 6ms/step - loss: 0.0151 - accuracy: 0.2058 - val_loss: 0.0486 - val_accuracy: 0.3361 - lr: 0.0010\n",
      "Epoch 7/100\n",
      "34/34 [==============================] - 0s 7ms/step - loss: 0.0144 - accuracy: 0.1795 - val_loss: 0.0498 - val_accuracy: 0.2689 - lr: 0.0010\n",
      "Epoch 8/100\n",
      "34/34 [==============================] - 0s 6ms/step - loss: 0.0145 - accuracy: 0.1974 - val_loss: 0.0520 - val_accuracy: 0.2689 - lr: 0.0010\n",
      "Epoch 9/100\n",
      "34/34 [==============================] - 0s 7ms/step - loss: 0.0132 - accuracy: 0.2021 - val_loss: 0.0474 - val_accuracy: 0.1849 - lr: 0.0010\n",
      "Epoch 10/100\n",
      "34/34 [==============================] - 0s 6ms/step - loss: 0.0101 - accuracy: 0.1598 - val_loss: 0.0530 - val_accuracy: 0.1765 - lr: 0.0010\n",
      "Epoch 11/100\n",
      "34/34 [==============================] - 0s 6ms/step - loss: 0.0084 - accuracy: 0.1654 - val_loss: 0.0489 - val_accuracy: 0.2185 - lr: 0.0010\n",
      "Epoch 12/100\n",
      "34/34 [==============================] - 0s 7ms/step - loss: 0.0081 - accuracy: 0.2472 - val_loss: 0.0582 - val_accuracy: 0.1345 - lr: 0.0010\n",
      "Epoch 13/100\n",
      "34/34 [==============================] - 0s 7ms/step - loss: 0.0092 - accuracy: 0.1842 - val_loss: 0.0565 - val_accuracy: 0.2941 - lr: 0.0010\n",
      "4/4 [==============================] - 0s 4ms/step - loss: 0.0431 - accuracy: 0.2605\n",
      "Loss: 0.04306308180093765\n",
      "Accuracy: 0.26050421595573425\n"
     ]
    }
   ],
   "source": [
    "# Criar e treinar a rede neural\n",
    "model = network.train_neural_network(training_data, epoches, batch_size)"
   ]
  },
  {
   "cell_type": "code",
   "execution_count": 6,
   "id": "dabd2ca69967e1ae",
   "metadata": {
    "collapsed": false,
    "ExecuteTime": {
     "end_time": "2024-06-03T16:05:38.234325600Z",
     "start_time": "2024-06-03T16:05:15.887352500Z"
    }
   },
   "outputs": [
    {
     "name": "stdout",
     "output_type": "stream",
     "text": [
      "Epoch 1/100\n",
      "37/37 [==============================] - 2s 12ms/step - loss: 0.7069 - accuracy: 0.0025 - val_loss: 0.6902 - val_accuracy: 0.0101\n",
      "Epoch 2/100\n",
      "37/37 [==============================] - 0s 6ms/step - loss: 0.6767 - accuracy: 0.0135 - val_loss: 0.6624 - val_accuracy: 0.0220\n",
      "Epoch 3/100\n",
      "37/37 [==============================] - 0s 7ms/step - loss: 0.6488 - accuracy: 0.0228 - val_loss: 0.6343 - val_accuracy: 0.0228\n",
      "Epoch 4/100\n",
      "37/37 [==============================] - 0s 7ms/step - loss: 0.6200 - accuracy: 0.0363 - val_loss: 0.6044 - val_accuracy: 0.0431\n",
      "Epoch 5/100\n",
      "37/37 [==============================] - 0s 5ms/step - loss: 0.5889 - accuracy: 0.0431 - val_loss: 0.5711 - val_accuracy: 0.0330\n",
      "Epoch 6/100\n",
      "37/37 [==============================] - 0s 6ms/step - loss: 0.5522 - accuracy: 0.0440 - val_loss: 0.5307 - val_accuracy: 0.0549\n",
      "Epoch 7/100\n",
      "37/37 [==============================] - 0s 6ms/step - loss: 0.5109 - accuracy: 0.0609 - val_loss: 0.4893 - val_accuracy: 0.0676\n",
      "Epoch 8/100\n",
      "37/37 [==============================] - 0s 6ms/step - loss: 0.4698 - accuracy: 0.0786 - val_loss: 0.4488 - val_accuracy: 0.0778\n",
      "Epoch 9/100\n",
      "37/37 [==============================] - 0s 5ms/step - loss: 0.4305 - accuracy: 0.0854 - val_loss: 0.4109 - val_accuracy: 0.0888\n",
      "Epoch 10/100\n",
      "37/37 [==============================] - 0s 5ms/step - loss: 0.3934 - accuracy: 0.0702 - val_loss: 0.3742 - val_accuracy: 0.0668\n",
      "Epoch 11/100\n",
      "37/37 [==============================] - 0s 5ms/step - loss: 0.3582 - accuracy: 0.0744 - val_loss: 0.3412 - val_accuracy: 0.0879\n",
      "Epoch 12/100\n",
      "37/37 [==============================] - 0s 5ms/step - loss: 0.3266 - accuracy: 0.0896 - val_loss: 0.3110 - val_accuracy: 0.0997\n",
      "Epoch 13/100\n",
      "37/37 [==============================] - 0s 6ms/step - loss: 0.2976 - accuracy: 0.1014 - val_loss: 0.2831 - val_accuracy: 0.1107\n",
      "Epoch 14/100\n",
      "37/37 [==============================] - 0s 5ms/step - loss: 0.2711 - accuracy: 0.1074 - val_loss: 0.2581 - val_accuracy: 0.1099\n",
      "Epoch 15/100\n",
      "37/37 [==============================] - 0s 6ms/step - loss: 0.2472 - accuracy: 0.1217 - val_loss: 0.2355 - val_accuracy: 0.1090\n",
      "Epoch 16/100\n",
      "37/37 [==============================] - 0s 5ms/step - loss: 0.2258 - accuracy: 0.1082 - val_loss: 0.2155 - val_accuracy: 0.1082\n",
      "Epoch 17/100\n",
      "37/37 [==============================] - 0s 6ms/step - loss: 0.2069 - accuracy: 0.1099 - val_loss: 0.1976 - val_accuracy: 0.1082\n",
      "Epoch 18/100\n",
      "37/37 [==============================] - 0s 6ms/step - loss: 0.1901 - accuracy: 0.1090 - val_loss: 0.1817 - val_accuracy: 0.1200\n",
      "Epoch 19/100\n",
      "37/37 [==============================] - 0s 5ms/step - loss: 0.1752 - accuracy: 0.1217 - val_loss: 0.1676 - val_accuracy: 0.1090\n",
      "Epoch 20/100\n",
      "37/37 [==============================] - 0s 5ms/step - loss: 0.1617 - accuracy: 0.1167 - val_loss: 0.1551 - val_accuracy: 0.1090\n",
      "Epoch 21/100\n",
      "37/37 [==============================] - 0s 5ms/step - loss: 0.1497 - accuracy: 0.1319 - val_loss: 0.1439 - val_accuracy: 0.1200\n",
      "Epoch 22/100\n",
      "37/37 [==============================] - 0s 6ms/step - loss: 0.1391 - accuracy: 0.1310 - val_loss: 0.1338 - val_accuracy: 0.1412\n",
      "Epoch 23/100\n",
      "37/37 [==============================] - 0s 5ms/step - loss: 0.1295 - accuracy: 0.1226 - val_loss: 0.1247 - val_accuracy: 0.1302\n",
      "Epoch 24/100\n",
      "37/37 [==============================] - 0s 6ms/step - loss: 0.1209 - accuracy: 0.1403 - val_loss: 0.1165 - val_accuracy: 0.1530\n",
      "Epoch 25/100\n",
      "37/37 [==============================] - 0s 5ms/step - loss: 0.1131 - accuracy: 0.1505 - val_loss: 0.1092 - val_accuracy: 0.1302\n",
      "Epoch 26/100\n",
      "37/37 [==============================] - 0s 5ms/step - loss: 0.1062 - accuracy: 0.1538 - val_loss: 0.1025 - val_accuracy: 0.1310\n",
      "Epoch 27/100\n",
      "37/37 [==============================] - 0s 6ms/step - loss: 0.0997 - accuracy: 0.1251 - val_loss: 0.0964 - val_accuracy: 0.1513\n",
      "Epoch 28/100\n",
      "37/37 [==============================] - 0s 5ms/step - loss: 0.0939 - accuracy: 0.1572 - val_loss: 0.0910 - val_accuracy: 0.1623\n",
      "Epoch 29/100\n",
      "37/37 [==============================] - 0s 5ms/step - loss: 0.0886 - accuracy: 0.1547 - val_loss: 0.0859 - val_accuracy: 0.1505\n",
      "Epoch 30/100\n",
      "37/37 [==============================] - 0s 5ms/step - loss: 0.0838 - accuracy: 0.1462 - val_loss: 0.0814 - val_accuracy: 0.1395\n",
      "Epoch 31/100\n",
      "37/37 [==============================] - 0s 5ms/step - loss: 0.0795 - accuracy: 0.1412 - val_loss: 0.0772 - val_accuracy: 0.1386\n",
      "Epoch 32/100\n",
      "37/37 [==============================] - 0s 6ms/step - loss: 0.0755 - accuracy: 0.1471 - val_loss: 0.0734 - val_accuracy: 0.1302\n",
      "Epoch 33/100\n",
      "37/37 [==============================] - 0s 5ms/step - loss: 0.0718 - accuracy: 0.1378 - val_loss: 0.0698 - val_accuracy: 0.1395\n",
      "Epoch 34/100\n",
      "37/37 [==============================] - 0s 5ms/step - loss: 0.0684 - accuracy: 0.1395 - val_loss: 0.0666 - val_accuracy: 0.1496\n",
      "Epoch 35/100\n",
      "37/37 [==============================] - 0s 6ms/step - loss: 0.0654 - accuracy: 0.1395 - val_loss: 0.0637 - val_accuracy: 0.1276\n",
      "Epoch 36/100\n",
      "37/37 [==============================] - 0s 6ms/step - loss: 0.0624 - accuracy: 0.1412 - val_loss: 0.0609 - val_accuracy: 0.1395\n",
      "Epoch 37/100\n",
      "37/37 [==============================] - 0s 5ms/step - loss: 0.0598 - accuracy: 0.1319 - val_loss: 0.0583 - val_accuracy: 0.1285\n",
      "Epoch 38/100\n",
      "37/37 [==============================] - 0s 5ms/step - loss: 0.0573 - accuracy: 0.1378 - val_loss: 0.0560 - val_accuracy: 0.1395\n",
      "Epoch 39/100\n",
      "37/37 [==============================] - 0s 5ms/step - loss: 0.0550 - accuracy: 0.1293 - val_loss: 0.0537 - val_accuracy: 0.1285\n",
      "Epoch 40/100\n",
      "37/37 [==============================] - 0s 5ms/step - loss: 0.0529 - accuracy: 0.1200 - val_loss: 0.0517 - val_accuracy: 0.1276\n",
      "Epoch 41/100\n",
      "37/37 [==============================] - 0s 5ms/step - loss: 0.0509 - accuracy: 0.1386 - val_loss: 0.0498 - val_accuracy: 0.1293\n",
      "Epoch 42/100\n",
      "37/37 [==============================] - 0s 6ms/step - loss: 0.0491 - accuracy: 0.1183 - val_loss: 0.0480 - val_accuracy: 0.1082\n",
      "Epoch 43/100\n",
      "37/37 [==============================] - 0s 6ms/step - loss: 0.0473 - accuracy: 0.1141 - val_loss: 0.0464 - val_accuracy: 0.1183\n",
      "Epoch 44/100\n",
      "37/37 [==============================] - 0s 5ms/step - loss: 0.0457 - accuracy: 0.1183 - val_loss: 0.0448 - val_accuracy: 0.1183\n",
      "Epoch 45/100\n",
      "37/37 [==============================] - 0s 5ms/step - loss: 0.0442 - accuracy: 0.1183 - val_loss: 0.0433 - val_accuracy: 0.1192\n",
      "Epoch 46/100\n",
      "37/37 [==============================] - 0s 5ms/step - loss: 0.0428 - accuracy: 0.1175 - val_loss: 0.0420 - val_accuracy: 0.1192\n",
      "Epoch 47/100\n",
      "37/37 [==============================] - 0s 5ms/step - loss: 0.0415 - accuracy: 0.1226 - val_loss: 0.0407 - val_accuracy: 0.1192\n",
      "Epoch 48/100\n",
      "37/37 [==============================] - 0s 6ms/step - loss: 0.0402 - accuracy: 0.1217 - val_loss: 0.0395 - val_accuracy: 0.1200\n",
      "Epoch 49/100\n",
      "37/37 [==============================] - 0s 5ms/step - loss: 0.0391 - accuracy: 0.1200 - val_loss: 0.0384 - val_accuracy: 0.1200\n",
      "Epoch 50/100\n",
      "37/37 [==============================] - 0s 5ms/step - loss: 0.0380 - accuracy: 0.1200 - val_loss: 0.0373 - val_accuracy: 0.1200\n",
      "Epoch 51/100\n",
      "37/37 [==============================] - 0s 5ms/step - loss: 0.0370 - accuracy: 0.1200 - val_loss: 0.0363 - val_accuracy: 0.1200\n",
      "Epoch 52/100\n",
      "37/37 [==============================] - 0s 6ms/step - loss: 0.0360 - accuracy: 0.1158 - val_loss: 0.0354 - val_accuracy: 0.1200\n",
      "Epoch 53/100\n",
      "37/37 [==============================] - 0s 5ms/step - loss: 0.0351 - accuracy: 0.1124 - val_loss: 0.0345 - val_accuracy: 0.1200\n",
      "Epoch 54/100\n",
      "37/37 [==============================] - 0s 5ms/step - loss: 0.0342 - accuracy: 0.1217 - val_loss: 0.0336 - val_accuracy: 0.1200\n",
      "Epoch 55/100\n",
      "37/37 [==============================] - 0s 5ms/step - loss: 0.0333 - accuracy: 0.1124 - val_loss: 0.0328 - val_accuracy: 0.1099\n",
      "Epoch 56/100\n",
      "37/37 [==============================] - 0s 5ms/step - loss: 0.0326 - accuracy: 0.1200 - val_loss: 0.0321 - val_accuracy: 0.1200\n",
      "Epoch 57/100\n",
      "37/37 [==============================] - 0s 5ms/step - loss: 0.0319 - accuracy: 0.1090 - val_loss: 0.0314 - val_accuracy: 0.1099\n",
      "Epoch 58/100\n",
      "37/37 [==============================] - 0s 6ms/step - loss: 0.0312 - accuracy: 0.1099 - val_loss: 0.0307 - val_accuracy: 0.1099\n",
      "Epoch 59/100\n",
      "37/37 [==============================] - 0s 5ms/step - loss: 0.0305 - accuracy: 0.1074 - val_loss: 0.0301 - val_accuracy: 0.0989\n",
      "Epoch 60/100\n",
      "37/37 [==============================] - 0s 5ms/step - loss: 0.0299 - accuracy: 0.1090 - val_loss: 0.0295 - val_accuracy: 0.1006\n",
      "Epoch 61/100\n",
      "37/37 [==============================] - 0s 5ms/step - loss: 0.0294 - accuracy: 0.0997 - val_loss: 0.0289 - val_accuracy: 0.1006\n",
      "Epoch 62/100\n",
      "37/37 [==============================] - 0s 5ms/step - loss: 0.0288 - accuracy: 0.1006 - val_loss: 0.0284 - val_accuracy: 0.0997\n",
      "Epoch 63/100\n",
      "37/37 [==============================] - 0s 5ms/step - loss: 0.0283 - accuracy: 0.1006 - val_loss: 0.0279 - val_accuracy: 0.1226\n",
      "Epoch 64/100\n",
      "37/37 [==============================] - 0s 5ms/step - loss: 0.0278 - accuracy: 0.1006 - val_loss: 0.0274 - val_accuracy: 0.1006\n",
      "Epoch 65/100\n",
      "37/37 [==============================] - 0s 5ms/step - loss: 0.0273 - accuracy: 0.1057 - val_loss: 0.0270 - val_accuracy: 0.1107\n",
      "Epoch 66/100\n",
      "37/37 [==============================] - 0s 5ms/step - loss: 0.0269 - accuracy: 0.0947 - val_loss: 0.0265 - val_accuracy: 0.0904\n",
      "Epoch 67/100\n",
      "37/37 [==============================] - 0s 6ms/step - loss: 0.0265 - accuracy: 0.0913 - val_loss: 0.0261 - val_accuracy: 0.0913\n",
      "Epoch 68/100\n",
      "37/37 [==============================] - 0s 5ms/step - loss: 0.0261 - accuracy: 0.0913 - val_loss: 0.0257 - val_accuracy: 0.0913\n",
      "Epoch 69/100\n",
      "37/37 [==============================] - 0s 5ms/step - loss: 0.0257 - accuracy: 0.0955 - val_loss: 0.0254 - val_accuracy: 0.1014\n",
      "Epoch 70/100\n",
      "37/37 [==============================] - 0s 5ms/step - loss: 0.0253 - accuracy: 0.1006 - val_loss: 0.0250 - val_accuracy: 0.1023\n",
      "Epoch 71/100\n",
      "37/37 [==============================] - 0s 5ms/step - loss: 0.0250 - accuracy: 0.1023 - val_loss: 0.0247 - val_accuracy: 0.1023\n",
      "Epoch 72/100\n",
      "37/37 [==============================] - 0s 5ms/step - loss: 0.0247 - accuracy: 0.1014 - val_loss: 0.0244 - val_accuracy: 0.1014\n",
      "Epoch 73/100\n",
      "37/37 [==============================] - 0s 5ms/step - loss: 0.0244 - accuracy: 0.1048 - val_loss: 0.0241 - val_accuracy: 0.1014\n",
      "Epoch 74/100\n",
      "37/37 [==============================] - 0s 5ms/step - loss: 0.0241 - accuracy: 0.0888 - val_loss: 0.0238 - val_accuracy: 0.0913\n",
      "Epoch 75/100\n",
      "37/37 [==============================] - 0s 6ms/step - loss: 0.0238 - accuracy: 0.0947 - val_loss: 0.0235 - val_accuracy: 0.0913\n",
      "Epoch 76/100\n",
      "37/37 [==============================] - 0s 5ms/step - loss: 0.0235 - accuracy: 0.0921 - val_loss: 0.0233 - val_accuracy: 0.1124\n",
      "Epoch 77/100\n",
      "37/37 [==============================] - 0s 5ms/step - loss: 0.0233 - accuracy: 0.1099 - val_loss: 0.0230 - val_accuracy: 0.1023\n",
      "Epoch 78/100\n",
      "37/37 [==============================] - 0s 5ms/step - loss: 0.0230 - accuracy: 0.0921 - val_loss: 0.0228 - val_accuracy: 0.0913\n",
      "Epoch 79/100\n",
      "37/37 [==============================] - 0s 5ms/step - loss: 0.0228 - accuracy: 0.0989 - val_loss: 0.0225 - val_accuracy: 0.0913\n",
      "Epoch 80/100\n",
      "37/37 [==============================] - 0s 6ms/step - loss: 0.0226 - accuracy: 0.0837 - val_loss: 0.0223 - val_accuracy: 0.1014\n",
      "Epoch 81/100\n",
      "37/37 [==============================] - 0s 6ms/step - loss: 0.0224 - accuracy: 0.1023 - val_loss: 0.0221 - val_accuracy: 0.1014\n",
      "Epoch 82/100\n",
      "37/37 [==============================] - 0s 6ms/step - loss: 0.0222 - accuracy: 0.1057 - val_loss: 0.0219 - val_accuracy: 0.1014\n",
      "Epoch 83/100\n",
      "37/37 [==============================] - 0s 5ms/step - loss: 0.0220 - accuracy: 0.0845 - val_loss: 0.0217 - val_accuracy: 0.1014\n",
      "Epoch 84/100\n",
      "37/37 [==============================] - 0s 5ms/step - loss: 0.0218 - accuracy: 0.1107 - val_loss: 0.0215 - val_accuracy: 0.1234\n",
      "Epoch 85/100\n",
      "37/37 [==============================] - 0s 5ms/step - loss: 0.0216 - accuracy: 0.1217 - val_loss: 0.0214 - val_accuracy: 0.1107\n",
      "Epoch 86/100\n",
      "37/37 [==============================] - 0s 5ms/step - loss: 0.0214 - accuracy: 0.1040 - val_loss: 0.0212 - val_accuracy: 0.1116\n",
      "Epoch 87/100\n",
      "37/37 [==============================] - 0s 5ms/step - loss: 0.0213 - accuracy: 0.1057 - val_loss: 0.0210 - val_accuracy: 0.1107\n",
      "Epoch 88/100\n",
      "37/37 [==============================] - 0s 5ms/step - loss: 0.0211 - accuracy: 0.1293 - val_loss: 0.0209 - val_accuracy: 0.1107\n",
      "Epoch 89/100\n",
      "37/37 [==============================] - 0s 5ms/step - loss: 0.0210 - accuracy: 0.1065 - val_loss: 0.0207 - val_accuracy: 0.0997\n",
      "Epoch 90/100\n",
      "37/37 [==============================] - 0s 5ms/step - loss: 0.0208 - accuracy: 0.1369 - val_loss: 0.0205 - val_accuracy: 0.1124\n",
      "Epoch 91/100\n",
      "37/37 [==============================] - 0s 6ms/step - loss: 0.0207 - accuracy: 0.1175 - val_loss: 0.0204 - val_accuracy: 0.0904\n",
      "Epoch 92/100\n",
      "37/37 [==============================] - 0s 6ms/step - loss: 0.0206 - accuracy: 0.0972 - val_loss: 0.0203 - val_accuracy: 0.0778\n",
      "Epoch 93/100\n",
      "37/37 [==============================] - 0s 5ms/step - loss: 0.0204 - accuracy: 0.0845 - val_loss: 0.0201 - val_accuracy: 0.0896\n",
      "Epoch 94/100\n",
      "37/37 [==============================] - 0s 5ms/step - loss: 0.0202 - accuracy: 0.0828 - val_loss: 0.0200 - val_accuracy: 0.0997\n",
      "Epoch 95/100\n",
      "37/37 [==============================] - 0s 5ms/step - loss: 0.0201 - accuracy: 0.1099 - val_loss: 0.0199 - val_accuracy: 0.1006\n",
      "Epoch 96/100\n",
      "37/37 [==============================] - 0s 5ms/step - loss: 0.0200 - accuracy: 0.1107 - val_loss: 0.0198 - val_accuracy: 0.0888\n",
      "Epoch 97/100\n",
      "37/37 [==============================] - 0s 5ms/step - loss: 0.0199 - accuracy: 0.0811 - val_loss: 0.0197 - val_accuracy: 0.0879\n",
      "Epoch 98/100\n",
      "37/37 [==============================] - 0s 5ms/step - loss: 0.0198 - accuracy: 0.1014 - val_loss: 0.0195 - val_accuracy: 0.0786\n",
      "Epoch 99/100\n",
      "37/37 [==============================] - 0s 5ms/step - loss: 0.0197 - accuracy: 0.0845 - val_loss: 0.0194 - val_accuracy: 0.0997\n",
      "Epoch 100/100\n",
      "37/37 [==============================] - 0s 6ms/step - loss: 0.0196 - accuracy: 0.1183 - val_loss: 0.0193 - val_accuracy: 0.0989\n"
     ]
    }
   ],
   "source": [
    "autoencoder = Autoencoder.create_and_train_auto_encoder(training_data, epoches, batch_size)"
   ]
  },
  {
   "cell_type": "code",
   "execution_count": 49,
   "id": "86f1344e5856c64",
   "metadata": {
    "collapsed": false,
    "ExecuteTime": {
     "end_time": "2024-06-03T16:14:45.582082100Z",
     "start_time": "2024-06-03T16:14:45.476455300Z"
    }
   },
   "outputs": [],
   "source": [
    "# Gerar dados de teste\n",
    "amostras_ruidosas = []\n",
    "amostras_originais = []\n",
    "ML_result = []\n",
    "tradicional_result = []\n",
    "autoencoder_result = []\n"
   ]
  },
  {
   "cell_type": "code",
   "execution_count": 50,
   "id": "7f720926d3e1ad4a",
   "metadata": {
    "collapsed": false,
    "ExecuteTime": {
     "end_time": "2024-06-03T16:14:54.293435200Z",
     "start_time": "2024-06-03T16:14:48.712013Z"
    }
   },
   "outputs": [],
   "source": [
    "test_data = {\n",
    "    'original': [],\n",
    "    'info': []\n",
    "}\n",
    "test_sample_length = 10 ** 6\n",
    "test_information = network.get_training_data_set(test_sample_length)\n",
    "\n",
    "total_chunks = math.floor(test_sample_length / 11)\n",
    "total_length_chunks = total_chunks * 11\n",
    "smaller_array_len = test_sample_length - total_length_chunks\n",
    "\n",
    "adjustment_test = 11 - smaller_array_len\n",
    "\n",
    "for eb_db in Eb_dB_values:\n",
    "    info = network.generate_data_for_training(test_information, eb_db, variancia)\n",
    "    test_data['info'].append(info)\n",
    "    test_data['original'] = info['original_data']"
   ]
  },
  {
   "cell_type": "code",
   "outputs": [
    {
     "name": "stdout",
     "output_type": "stream",
     "text": [
      "9091\n"
     ]
    }
   ],
   "source": [
    "print(len(test_data['info'][0]['split_noisy_original_data_15_11']))"
   ],
   "metadata": {
    "collapsed": false,
    "ExecuteTime": {
     "end_time": "2024-06-03T16:15:59.381275300Z",
     "start_time": "2024-06-03T16:15:59.269806900Z"
    }
   },
   "id": "7e7ea03e16ca8471",
   "execution_count": 52
  },
  {
   "cell_type": "code",
   "execution_count": 53,
   "id": "92478d60195b350d",
   "metadata": {
    "collapsed": false,
    "ExecuteTime": {
     "end_time": "2024-06-03T16:16:35.323367700Z",
     "start_time": "2024-06-03T16:16:32.741552700Z"
    }
   },
   "outputs": [],
   "source": [
    "i = 0\n",
    "autoencoder_result.append(network.decode_and_correct(test_data['info'][i]['split_noisy_original_data_15_11'], autoencoder))\n",
    "ML_result.append(network.decode_and_correct(test_data['info'][i]['split_noisy_original_data_15_11'], model))"
   ]
  },
  {
   "cell_type": "code",
   "outputs": [
    {
     "name": "stdout",
     "output_type": "stream",
     "text": [
      "100001\n"
     ]
    }
   ],
   "source": [],
   "metadata": {
    "collapsed": false,
    "ExecuteTime": {
     "end_time": "2024-06-03T16:16:50.565667700Z",
     "start_time": "2024-06-03T16:16:50.469758500Z"
    }
   },
   "id": "a79d64f2dd4c3cac",
   "execution_count": 55
  },
  {
   "cell_type": "code",
   "execution_count": 56,
   "id": "72e3dc0bb0a81867",
   "metadata": {
    "collapsed": false,
    "ExecuteTime": {
     "end_time": "2024-06-03T16:17:00.775283Z",
     "start_time": "2024-06-03T16:16:58.111130400Z"
    }
   },
   "outputs": [],
   "source": [
    "i = 1\n",
    "autoencoder_result.append(network.decode_and_correct(test_data['info'][i]['split_noisy_original_data_15_11'], autoencoder))\n",
    "ML_result.append(network.decode_and_correct(test_data['info'][i]['split_noisy_original_data_15_11'], model))"
   ]
  },
  {
   "cell_type": "code",
   "execution_count": 57,
   "id": "8304e6274557f9db",
   "metadata": {
    "collapsed": false,
    "ExecuteTime": {
     "end_time": "2024-06-03T16:17:04.372462200Z",
     "start_time": "2024-06-03T16:17:00.733603200Z"
    }
   },
   "outputs": [],
   "source": [
    "i = 2\n",
    "autoencoder_result.append(network.decode_and_correct(test_data['info'][i]['split_noisy_original_data_15_11'], autoencoder))\n",
    "ML_result.append(network.decode_and_correct(test_data['info'][i]['split_noisy_original_data_15_11'], model))"
   ]
  },
  {
   "cell_type": "code",
   "execution_count": 58,
   "id": "92f2ef9d94186818",
   "metadata": {
    "collapsed": false,
    "ExecuteTime": {
     "end_time": "2024-06-03T16:17:06.538158900Z",
     "start_time": "2024-06-03T16:17:04.379687100Z"
    }
   },
   "outputs": [],
   "source": [
    "i = 3\n",
    "autoencoder_result.append(network.decode_and_correct(test_data['info'][i]['split_noisy_original_data_15_11'], autoencoder))\n",
    "ML_result.append(network.decode_and_correct(test_data['info'][i]['split_noisy_original_data_15_11'], model))\n"
   ]
  },
  {
   "cell_type": "code",
   "execution_count": 59,
   "id": "10b7ea5cd5b31971",
   "metadata": {
    "collapsed": false,
    "ExecuteTime": {
     "end_time": "2024-06-03T16:17:08.771940400Z",
     "start_time": "2024-06-03T16:17:06.545159600Z"
    }
   },
   "outputs": [],
   "source": [
    "i = 4\n",
    "autoencoder_result.append(network.decode_and_correct(test_data['info'][i]['split_noisy_original_data_15_11'], autoencoder))\n",
    "ML_result.append(network.decode_and_correct(test_data['info'][i]['split_noisy_original_data_15_11'], model))\n"
   ]
  },
  {
   "cell_type": "code",
   "execution_count": 60,
   "id": "b89dc1d26fc5c62",
   "metadata": {
    "collapsed": false,
    "ExecuteTime": {
     "end_time": "2024-06-03T16:17:10.968551100Z",
     "start_time": "2024-06-03T16:17:08.778938500Z"
    }
   },
   "outputs": [],
   "source": [
    "i = 5\n",
    "autoencoder_result.append(network.decode_and_correct(test_data['info'][i]['split_noisy_original_data_15_11'], autoencoder))\n",
    "ML_result.append(network.decode_and_correct(test_data['info'][i]['split_noisy_original_data_15_11'], model))"
   ]
  },
  {
   "cell_type": "code",
   "execution_count": 61,
   "id": "77b4e5024678da5f",
   "metadata": {
    "collapsed": false,
    "ExecuteTime": {
     "end_time": "2024-06-03T16:17:13.164053200Z",
     "start_time": "2024-06-03T16:17:10.975562700Z"
    }
   },
   "outputs": [],
   "source": [
    "i = 6\n",
    "autoencoder_result.append(network.decode_and_correct(test_data['info'][i]['split_noisy_original_data_15_11'], autoencoder))\n",
    "ML_result.append(network.decode_and_correct(test_data['info'][i]['split_noisy_original_data_15_11'], model))\n"
   ]
  },
  {
   "cell_type": "code",
   "execution_count": 62,
   "id": "b27dc1c73c47c737",
   "metadata": {
    "collapsed": false,
    "ExecuteTime": {
     "end_time": "2024-06-03T16:17:15.403413Z",
     "start_time": "2024-06-03T16:17:13.164053200Z"
    }
   },
   "outputs": [],
   "source": [
    "i = 7\n",
    "autoencoder_result.append(network.decode_and_correct(test_data['info'][i]['split_noisy_original_data_15_11'], autoencoder))\n",
    "ML_result.append(network.decode_and_correct(test_data['info'][i]['split_noisy_original_data_15_11'], model))\n"
   ]
  },
  {
   "cell_type": "code",
   "execution_count": 63,
   "id": "ecd06b38335dffff",
   "metadata": {
    "collapsed": false,
    "ExecuteTime": {
     "end_time": "2024-06-03T16:17:17.620042200Z",
     "start_time": "2024-06-03T16:17:15.410981400Z"
    }
   },
   "outputs": [],
   "source": [
    "i = 8\n",
    "autoencoder_result.append(network.decode_and_correct(test_data['info'][i]['split_noisy_original_data_15_11'], autoencoder))\n",
    "ML_result.append(network.decode_and_correct(test_data['info'][i]['split_noisy_original_data_15_11'], model))\n"
   ]
  },
  {
   "cell_type": "code",
   "execution_count": 64,
   "id": "52405c0bdc7eb8af",
   "metadata": {
    "collapsed": false,
    "ExecuteTime": {
     "end_time": "2024-06-03T16:17:19.847875200Z",
     "start_time": "2024-06-03T16:17:17.626041200Z"
    }
   },
   "outputs": [],
   "source": [
    "i = 9\n",
    "autoencoder_result.append(network.decode_and_correct(test_data['info'][i]['split_noisy_original_data_15_11'], autoencoder))\n",
    "ML_result.append(network.decode_and_correct(test_data['info'][i]['split_noisy_original_data_15_11'], model))\n"
   ]
  },
  {
   "cell_type": "code",
   "execution_count": 65,
   "id": "f7d42586607c275c",
   "metadata": {
    "collapsed": false,
    "ExecuteTime": {
     "end_time": "2024-06-03T16:17:22.193634900Z",
     "start_time": "2024-06-03T16:17:19.855871400Z"
    }
   },
   "outputs": [],
   "source": [
    "i = 10\n",
    "autoencoder_result.append(network.decode_and_correct(test_data['info'][i]['split_noisy_original_data_15_11'], autoencoder))\n",
    "ML_result.append(network.decode_and_correct(test_data['info'][i]['split_noisy_original_data_15_11'], model))\n"
   ]
  },
  {
   "cell_type": "code",
   "execution_count": 66,
   "id": "649e1eba901de9dd",
   "metadata": {
    "collapsed": false,
    "ExecuteTime": {
     "end_time": "2024-06-03T16:17:24.336793800Z",
     "start_time": "2024-06-03T16:17:22.200628Z"
    }
   },
   "outputs": [],
   "source": [
    "i = 11\n",
    "autoencoder_result.append(network.decode_and_correct(test_data['info'][i]['split_noisy_original_data_15_11'], autoencoder))\n",
    "ML_result.append(network.decode_and_correct(test_data['info'][i]['split_noisy_original_data_15_11'], model))\n"
   ]
  },
  {
   "cell_type": "code",
   "execution_count": 67,
   "id": "58eed42c1b38f69f",
   "metadata": {
    "collapsed": false,
    "ExecuteTime": {
     "end_time": "2024-06-03T16:17:26.516237300Z",
     "start_time": "2024-06-03T16:17:24.343791Z"
    }
   },
   "outputs": [],
   "source": [
    "i = 12\n",
    "autoencoder_result.append(network.decode_and_correct(test_data['info'][i]['split_noisy_original_data_15_11'], autoencoder))\n",
    "ML_result.append(network.decode_and_correct(test_data['info'][i]['split_noisy_original_data_15_11'], model))\n"
   ]
  },
  {
   "cell_type": "code",
   "execution_count": 68,
   "id": "d4e42892a42effa8",
   "metadata": {
    "collapsed": false,
    "ExecuteTime": {
     "end_time": "2024-06-03T16:17:34.297263500Z",
     "start_time": "2024-06-03T16:17:26.522756500Z"
    }
   },
   "outputs": [],
   "source": [
    "for i in test_data['info']:\n",
    "   tradicional_result.append(HammingCode.decode_sample(i['split_encoded_data']))"
   ]
  },
  {
   "cell_type": "code",
   "execution_count": 69,
   "id": "a768bfbe55979643",
   "metadata": {
    "collapsed": false,
    "ExecuteTime": {
     "end_time": "2024-06-03T16:17:34.451174700Z",
     "start_time": "2024-06-03T16:17:34.298263100Z"
    }
   },
   "outputs": [],
   "source": [
    "BER_tradicional = []\n",
    "BER_autoencoder = []\n",
    "BER_ML = []\n",
    "paddded_array = test_data['info'][0]['padded_array_original_data']\n",
    "for i in range(0, len(autoencoder_result)):\n",
    "    BER_ML.append(np.sum(np.array(ML_result[i]).astype(int) != paddded_array) / len(paddded_array))\n",
    "    BER_tradicional.append(np.sum(np.array(tradicional_result[i]).astype(int) != test_data['original']) / len(test_data['original']))\n",
    "    BER_autoencoder.append(np.sum(np.array(autoencoder_result[i]).astype(int) != paddded_array) / len(paddded_array))\n",
    "\n",
    "# Calcular a BER teórica\n",
    "Eb_coded = np.array([eb_db + 10*np.log10(code_rate) for eb_db in Eb_dB_values])\n",
    "Eb_values = 10**(Eb_coded/10)\n",
    "BER_teorica = 0.5 * erfc(np.sqrt(Eb_values))"
   ]
  },
  {
   "cell_type": "code",
   "execution_count": 70,
   "id": "dd38a450efea265d",
   "metadata": {
    "collapsed": false,
    "ExecuteTime": {
     "end_time": "2024-06-03T16:17:39.861955700Z",
     "start_time": "2024-06-03T16:17:38.071911400Z"
    }
   },
   "outputs": [
    {
     "data": {
      "text/plain": "<Figure size 1000x600 with 1 Axes>",
      "image/png": "[encoded data removed]"
     },
     "metadata": {},
     "output_type": "display_data"
    }
   ],
   "source": [
    "# Plotar as taxas de erro de bit simuladas e teóricas\n",
    "plt.figure(figsize=(10, 6))\n",
    "plt.semilogy(Eb_coded, BER_tradicional, linestyle = '--', label='Codificado')\n",
    "plt.semilogy(Eb_coded, BER_autoencoder, linestyle = '--', label='Autoencoder')\n",
    "plt.semilogy(Eb_coded, BER_ML, linestyle = '--', label='MLP')\n",
    "plt.semilogy(Eb_coded, BER_teorica, linestyle='--', label='Teórica')\n",
    "plt.xlabel('Eb/No (dB)')\n",
    "plt.ylabel('BER')\n",
    "plt.grid(True, which='both')\n",
    "plt.legend()\n",
    "plt.title('BER x Eb/No')\n",
    "plt.show()"
   ]
  },
  {
   "cell_type": "code",
   "outputs": [],
   "source": [],
   "metadata": {
    "collapsed": false,
    "ExecuteTime": {
     "start_time": "2024-06-03T16:04:39.175154300Z"
    }
   },
   "id": "6c71e5745e08e1c",
   "execution_count": null
  },
  {
   "cell_type": "code",
   "outputs": [],
   "source": [],
   "metadata": {
    "collapsed": false,
    "ExecuteTime": {
     "start_time": "2024-06-03T16:04:39.179714800Z"
    }
   },
   "id": "56fd06d38937a204",
   "execution_count": null
  },
  {
   "cell_type": "code",
   "outputs": [],
   "source": [],
   "metadata": {
    "collapsed": false,
    "ExecuteTime": {
     "start_time": "2024-06-03T16:04:39.185714100Z"
    }
   },
   "id": "ec9421734247ae94",
   "execution_count": null
  },
  {
   "cell_type": "code",
   "outputs": [],
   "source": [],
   "metadata": {
    "collapsed": false,
    "ExecuteTime": {
     "start_time": "2024-06-03T16:04:39.185714100Z"
    }
   },
   "id": "8f86160f1e216a4b",
   "execution_count": null
  },
  {
   "cell_type": "code",
   "outputs": [],
   "source": [],
   "metadata": {
    "collapsed": false,
    "ExecuteTime": {
     "start_time": "2024-06-03T16:04:39.189713200Z"
    }
   },
   "id": "25a0aef9b69baea8",
   "execution_count": null
  }
 ],
 "metadata": {
  "kernelspec": {
   "display_name": "Python 3 (ipykernel)",
   "language": "python",
   "name": "python3"
  },
  "language_info": {
   "codemirror_mode": {
    "name": "ipython",
    "version": 3
   },
   "file_extension": ".py",
   "mimetype": "text/x-python",
   "name": "python",
   "nbconvert_exporter": "python",
   "pygments_lexer": "ipython3",
   "version": "3.10.12"
  }
 },
 "nbformat": 4,
 "nbformat_minor": 5
}
