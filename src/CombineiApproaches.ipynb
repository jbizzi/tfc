{
 "cells": [
  {
   "cell_type": "code",
   "execution_count": 5,
   "id": "initial_id",
   "metadata": {
    "collapsed": true,
    "jupyter": {
     "outputs_hidden": true
    },
    "ExecuteTime": {
     "end_time": "2024-06-01T20:45:07.325159400Z",
     "start_time": "2024-06-01T20:45:07.210923800Z"
    }
   },
   "outputs": [
    {
     "name": "stdout",
     "output_type": "stream",
     "text": [
      "The autoreload extension is already loaded. To reload it, use:\n",
      "  %reload_ext autoreload\n"
     ]
    }
   ],
   "source": [
    "%load_ext autoreload\n",
    "%autoreload 2\n",
    "import HammingCode\n",
    "import matplotlib.pyplot as plt\n",
    "import numpy as np\n",
    "from scipy.special import erfc\n",
    "import NeuralNetworkCorrection as network\n",
    "import Autoencoder\n",
    "import Utils"
   ]
  },
  {
   "cell_type": "code",
   "execution_count": 10,
   "id": "a5b56cf35e30f038",
   "metadata": {
    "collapsed": false,
    "ExecuteTime": {
     "end_time": "2024-06-01T20:45:50.233795900Z",
     "start_time": "2024-06-01T20:45:50.183027900Z"
    }
   },
   "outputs": [],
   "source": [
    "variancia = 1\n",
    "code_rate = 4/7\n",
    "# amostra\n",
    "Eb_dB_values = np.arange(3, 16, 1)\n",
    "\n",
    "# Gerar dados de treinamento\n",
    "training_sample_length = 10 ** 3\n",
    "epoches = 300\n",
    "batch_size = 16"
   ]
  },
  {
   "cell_type": "code",
   "execution_count": 11,
   "id": "7b8afdcc790661ee",
   "metadata": {
    "collapsed": false,
    "ExecuteTime": {
     "end_time": "2024-06-01T20:45:51.301432700Z",
     "start_time": "2024-06-01T20:45:51.077699Z"
    }
   },
   "outputs": [],
   "source": [
    "training_data = {\n",
    "    'original': [],\n",
    "    'noisy': [],\n",
    "    'info': []\n",
    "}\n",
    "\n",
    "training_information = network.get_training_data_set(training_sample_length)\n",
    "\n",
    "for eb_db in Eb_dB_values:\n",
    "    info = network.generate_data_for_training(training_information, eb_db, variancia)\n",
    "    training_data['noisy'].extend(info['split_noisy_original_data_15_11'])\n",
    "    training_data['original'].extend(info['split_original_data_15_11'])\n",
    "\n",
    "training_data['noisy'] = np.array(training_data['noisy'])\n",
    "training_data['original'] = np.array(training_data['original'])"
   ]
  },
  {
   "cell_type": "code",
   "execution_count": 12,
   "id": "54fb41e7292daaf5",
   "metadata": {
    "collapsed": false,
    "ExecuteTime": {
     "end_time": "2024-06-01T20:49:00.289557Z",
     "start_time": "2024-06-01T20:45:51.673913900Z"
    }
   },
   "outputs": [
    {
     "name": "stdout",
     "output_type": "stream",
     "text": [
      "Epoch 1/300\n",
      "67/67 [==============================] - 2s 11ms/step - loss: 0.6144 - accuracy: 0.1006 - val_loss: 0.5601 - val_accuracy: 0.1849\n",
      "Epoch 2/300\n",
      "67/67 [==============================] - 0s 6ms/step - loss: 0.5250 - accuracy: 0.1945 - val_loss: 0.5403 - val_accuracy: 0.0924\n",
      "Epoch 3/300\n",
      "67/67 [==============================] - 0s 6ms/step - loss: 0.4971 - accuracy: 0.1504 - val_loss: 0.5047 - val_accuracy: 0.2773\n",
      "Epoch 4/300\n",
      "67/67 [==============================] - 0s 6ms/step - loss: 0.4802 - accuracy: 0.1720 - val_loss: 0.4975 - val_accuracy: 0.3109\n",
      "Epoch 5/300\n",
      "67/67 [==============================] - 0s 6ms/step - loss: 0.4773 - accuracy: 0.1447 - val_loss: 0.5083 - val_accuracy: 0.1597\n",
      "Epoch 6/300\n",
      "67/67 [==============================] - 0s 6ms/step - loss: 0.4652 - accuracy: 0.1776 - val_loss: 0.4967 - val_accuracy: 0.2101\n",
      "Epoch 7/300\n",
      "67/67 [==============================] - 0s 6ms/step - loss: 0.4628 - accuracy: 0.1551 - val_loss: 0.5019 - val_accuracy: 0.3193\n",
      "Epoch 8/300\n",
      "67/67 [==============================] - 0s 6ms/step - loss: 0.4557 - accuracy: 0.1720 - val_loss: 0.4898 - val_accuracy: 0.1849\n",
      "Epoch 9/300\n",
      "67/67 [==============================] - 0s 6ms/step - loss: 0.4514 - accuracy: 0.1898 - val_loss: 0.4988 - val_accuracy: 0.0924\n",
      "Epoch 10/300\n",
      "67/67 [==============================] - 0s 6ms/step - loss: 0.4503 - accuracy: 0.1607 - val_loss: 0.5054 - val_accuracy: 0.1765\n",
      "Epoch 11/300\n",
      "67/67 [==============================] - 0s 6ms/step - loss: 0.4451 - accuracy: 0.1767 - val_loss: 0.4956 - val_accuracy: 0.1008\n",
      "Epoch 12/300\n",
      "67/67 [==============================] - 0s 6ms/step - loss: 0.4407 - accuracy: 0.1720 - val_loss: 0.4966 - val_accuracy: 0.1765\n",
      "Epoch 13/300\n",
      "67/67 [==============================] - 0s 6ms/step - loss: 0.4342 - accuracy: 0.1617 - val_loss: 0.5023 - val_accuracy: 0.2773\n",
      "Epoch 14/300\n",
      "67/67 [==============================] - 0s 6ms/step - loss: 0.4293 - accuracy: 0.2096 - val_loss: 0.4942 - val_accuracy: 0.1597\n",
      "Epoch 15/300\n",
      "67/67 [==============================] - 0s 6ms/step - loss: 0.4292 - accuracy: 0.1720 - val_loss: 0.5000 - val_accuracy: 0.0924\n",
      "Epoch 16/300\n",
      "67/67 [==============================] - 0s 6ms/step - loss: 0.4268 - accuracy: 0.1739 - val_loss: 0.5047 - val_accuracy: 0.2017\n",
      "Epoch 17/300\n",
      "67/67 [==============================] - 0s 6ms/step - loss: 0.4204 - accuracy: 0.1861 - val_loss: 0.5032 - val_accuracy: 0.1597\n",
      "Epoch 18/300\n",
      "67/67 [==============================] - 0s 6ms/step - loss: 0.4208 - accuracy: 0.2002 - val_loss: 0.5152 - val_accuracy: 0.1429\n",
      "Epoch 19/300\n",
      "67/67 [==============================] - 0s 6ms/step - loss: 0.4170 - accuracy: 0.1729 - val_loss: 0.5037 - val_accuracy: 0.2017\n",
      "Epoch 20/300\n",
      "67/67 [==============================] - 0s 6ms/step - loss: 0.4121 - accuracy: 0.1945 - val_loss: 0.5018 - val_accuracy: 0.1597\n",
      "Epoch 21/300\n",
      "67/67 [==============================] - 0s 6ms/step - loss: 0.4111 - accuracy: 0.1833 - val_loss: 0.5158 - val_accuracy: 0.2101\n",
      "Epoch 22/300\n",
      "67/67 [==============================] - 0s 6ms/step - loss: 0.4092 - accuracy: 0.1786 - val_loss: 0.5207 - val_accuracy: 0.1933\n",
      "Epoch 23/300\n",
      "67/67 [==============================] - 0s 6ms/step - loss: 0.4042 - accuracy: 0.1833 - val_loss: 0.5127 - val_accuracy: 0.2101\n",
      "Epoch 24/300\n",
      "67/67 [==============================] - 0s 6ms/step - loss: 0.4052 - accuracy: 0.1936 - val_loss: 0.5143 - val_accuracy: 0.1513\n",
      "Epoch 25/300\n",
      "67/67 [==============================] - 0s 6ms/step - loss: 0.4030 - accuracy: 0.1786 - val_loss: 0.5167 - val_accuracy: 0.1849\n",
      "Epoch 26/300\n",
      "67/67 [==============================] - 0s 6ms/step - loss: 0.3981 - accuracy: 0.1861 - val_loss: 0.5165 - val_accuracy: 0.1597\n",
      "Epoch 27/300\n",
      "67/67 [==============================] - 0s 6ms/step - loss: 0.3971 - accuracy: 0.1992 - val_loss: 0.5307 - val_accuracy: 0.1765\n",
      "Epoch 28/300\n",
      "67/67 [==============================] - 0s 6ms/step - loss: 0.3950 - accuracy: 0.1852 - val_loss: 0.5322 - val_accuracy: 0.1513\n",
      "Epoch 29/300\n",
      "67/67 [==============================] - 0s 6ms/step - loss: 0.3934 - accuracy: 0.2058 - val_loss: 0.5221 - val_accuracy: 0.1597\n",
      "Epoch 30/300\n",
      "67/67 [==============================] - 0s 6ms/step - loss: 0.3921 - accuracy: 0.2180 - val_loss: 0.5471 - val_accuracy: 0.1849\n",
      "Epoch 31/300\n",
      "67/67 [==============================] - 0s 6ms/step - loss: 0.3904 - accuracy: 0.1898 - val_loss: 0.5480 - val_accuracy: 0.1597\n",
      "Epoch 32/300\n",
      "67/67 [==============================] - 0s 6ms/step - loss: 0.3884 - accuracy: 0.1908 - val_loss: 0.5248 - val_accuracy: 0.2101\n",
      "Epoch 33/300\n",
      "67/67 [==============================] - 0s 6ms/step - loss: 0.3869 - accuracy: 0.2190 - val_loss: 0.5382 - val_accuracy: 0.1597\n",
      "Epoch 34/300\n",
      "67/67 [==============================] - 0s 6ms/step - loss: 0.3811 - accuracy: 0.2133 - val_loss: 0.5597 - val_accuracy: 0.1092\n",
      "Epoch 35/300\n",
      "67/67 [==============================] - 0s 6ms/step - loss: 0.3832 - accuracy: 0.1898 - val_loss: 0.5538 - val_accuracy: 0.1597\n",
      "Epoch 36/300\n",
      "67/67 [==============================] - 0s 6ms/step - loss: 0.3762 - accuracy: 0.2105 - val_loss: 0.5494 - val_accuracy: 0.1261\n",
      "Epoch 37/300\n",
      "67/67 [==============================] - 0s 6ms/step - loss: 0.3792 - accuracy: 0.2002 - val_loss: 0.5458 - val_accuracy: 0.1261\n",
      "Epoch 38/300\n",
      "67/67 [==============================] - 0s 6ms/step - loss: 0.3765 - accuracy: 0.1974 - val_loss: 0.5603 - val_accuracy: 0.0840\n",
      "Epoch 39/300\n",
      "67/67 [==============================] - 0s 6ms/step - loss: 0.3715 - accuracy: 0.1889 - val_loss: 0.5482 - val_accuracy: 0.1681\n",
      "Epoch 40/300\n",
      "67/67 [==============================] - 0s 6ms/step - loss: 0.3735 - accuracy: 0.1814 - val_loss: 0.5623 - val_accuracy: 0.1176\n",
      "Epoch 41/300\n",
      "67/67 [==============================] - 0s 6ms/step - loss: 0.3682 - accuracy: 0.2058 - val_loss: 0.5717 - val_accuracy: 0.1849\n",
      "Epoch 42/300\n",
      "67/67 [==============================] - 0s 6ms/step - loss: 0.3642 - accuracy: 0.2030 - val_loss: 0.5689 - val_accuracy: 0.1681\n",
      "Epoch 43/300\n",
      "67/67 [==============================] - 0s 6ms/step - loss: 0.3631 - accuracy: 0.1927 - val_loss: 0.5662 - val_accuracy: 0.1513\n",
      "Epoch 44/300\n",
      "67/67 [==============================] - 0s 6ms/step - loss: 0.3632 - accuracy: 0.1880 - val_loss: 0.5677 - val_accuracy: 0.1513\n",
      "Epoch 45/300\n",
      "67/67 [==============================] - 0s 6ms/step - loss: 0.3628 - accuracy: 0.2030 - val_loss: 0.5704 - val_accuracy: 0.1765\n",
      "Epoch 46/300\n",
      "67/67 [==============================] - 0s 6ms/step - loss: 0.3589 - accuracy: 0.1955 - val_loss: 0.5793 - val_accuracy: 0.1092\n",
      "Epoch 47/300\n",
      "67/67 [==============================] - 0s 6ms/step - loss: 0.3586 - accuracy: 0.2312 - val_loss: 0.5753 - val_accuracy: 0.1176\n",
      "Epoch 48/300\n",
      "67/67 [==============================] - 0s 6ms/step - loss: 0.3565 - accuracy: 0.2068 - val_loss: 0.5750 - val_accuracy: 0.1849\n",
      "Epoch 49/300\n",
      "67/67 [==============================] - 0s 6ms/step - loss: 0.3534 - accuracy: 0.2115 - val_loss: 0.5978 - val_accuracy: 0.1765\n",
      "Epoch 50/300\n",
      "67/67 [==============================] - 0s 6ms/step - loss: 0.3532 - accuracy: 0.1889 - val_loss: 0.6034 - val_accuracy: 0.1765\n",
      "Epoch 51/300\n",
      "67/67 [==============================] - 0s 6ms/step - loss: 0.3552 - accuracy: 0.2030 - val_loss: 0.6149 - val_accuracy: 0.1597\n",
      "Epoch 52/300\n",
      "67/67 [==============================] - 0s 6ms/step - loss: 0.3524 - accuracy: 0.2002 - val_loss: 0.5944 - val_accuracy: 0.1597\n",
      "Epoch 53/300\n",
      "67/67 [==============================] - 0s 6ms/step - loss: 0.3516 - accuracy: 0.1945 - val_loss: 0.5941 - val_accuracy: 0.1261\n",
      "Epoch 54/300\n",
      "67/67 [==============================] - 0s 6ms/step - loss: 0.3490 - accuracy: 0.2086 - val_loss: 0.5965 - val_accuracy: 0.1429\n",
      "Epoch 55/300\n",
      "67/67 [==============================] - 0s 6ms/step - loss: 0.3477 - accuracy: 0.2030 - val_loss: 0.6094 - val_accuracy: 0.1933\n",
      "Epoch 56/300\n",
      "67/67 [==============================] - 0s 6ms/step - loss: 0.3477 - accuracy: 0.2068 - val_loss: 0.6112 - val_accuracy: 0.1008\n",
      "Epoch 57/300\n",
      "67/67 [==============================] - 0s 6ms/step - loss: 0.3441 - accuracy: 0.2133 - val_loss: 0.5951 - val_accuracy: 0.1597\n",
      "Epoch 58/300\n",
      "67/67 [==============================] - 0s 6ms/step - loss: 0.3434 - accuracy: 0.2049 - val_loss: 0.6368 - val_accuracy: 0.1597\n",
      "Epoch 59/300\n",
      "67/67 [==============================] - 0s 6ms/step - loss: 0.3420 - accuracy: 0.2030 - val_loss: 0.6257 - val_accuracy: 0.1597\n",
      "Epoch 60/300\n",
      "67/67 [==============================] - 0s 6ms/step - loss: 0.3405 - accuracy: 0.1992 - val_loss: 0.6375 - val_accuracy: 0.1681\n",
      "Epoch 61/300\n",
      "67/67 [==============================] - 0s 6ms/step - loss: 0.3409 - accuracy: 0.2002 - val_loss: 0.6228 - val_accuracy: 0.1513\n",
      "Epoch 62/300\n",
      "67/67 [==============================] - 0s 6ms/step - loss: 0.3398 - accuracy: 0.1974 - val_loss: 0.6381 - val_accuracy: 0.1176\n",
      "Epoch 63/300\n",
      "67/67 [==============================] - 0s 6ms/step - loss: 0.3411 - accuracy: 0.1992 - val_loss: 0.6393 - val_accuracy: 0.1345\n",
      "Epoch 64/300\n",
      "67/67 [==============================] - 0s 6ms/step - loss: 0.3371 - accuracy: 0.2058 - val_loss: 0.6411 - val_accuracy: 0.1849\n",
      "Epoch 65/300\n",
      "67/67 [==============================] - 0s 6ms/step - loss: 0.3351 - accuracy: 0.2011 - val_loss: 0.6498 - val_accuracy: 0.1597\n",
      "Epoch 66/300\n",
      "67/67 [==============================] - 0s 6ms/step - loss: 0.3348 - accuracy: 0.2105 - val_loss: 0.6608 - val_accuracy: 0.1176\n",
      "Epoch 67/300\n",
      "67/67 [==============================] - 0s 6ms/step - loss: 0.3366 - accuracy: 0.2030 - val_loss: 0.6499 - val_accuracy: 0.1429\n",
      "Epoch 68/300\n",
      "67/67 [==============================] - 0s 7ms/step - loss: 0.3333 - accuracy: 0.2115 - val_loss: 0.6541 - val_accuracy: 0.1681\n",
      "Epoch 69/300\n",
      "67/67 [==============================] - 0s 6ms/step - loss: 0.3340 - accuracy: 0.1898 - val_loss: 0.6684 - val_accuracy: 0.1513\n",
      "Epoch 70/300\n",
      "67/67 [==============================] - 0s 6ms/step - loss: 0.3305 - accuracy: 0.2002 - val_loss: 0.6657 - val_accuracy: 0.1513\n",
      "Epoch 71/300\n",
      "67/67 [==============================] - 0s 6ms/step - loss: 0.3303 - accuracy: 0.2105 - val_loss: 0.6706 - val_accuracy: 0.1513\n",
      "Epoch 72/300\n",
      "67/67 [==============================] - 0s 6ms/step - loss: 0.3299 - accuracy: 0.2030 - val_loss: 0.6556 - val_accuracy: 0.1261\n",
      "Epoch 73/300\n",
      "67/67 [==============================] - 0s 6ms/step - loss: 0.3323 - accuracy: 0.2086 - val_loss: 0.6751 - val_accuracy: 0.1261\n",
      "Epoch 74/300\n",
      "67/67 [==============================] - 0s 6ms/step - loss: 0.3312 - accuracy: 0.1898 - val_loss: 0.6876 - val_accuracy: 0.1765\n",
      "Epoch 75/300\n",
      "67/67 [==============================] - 0s 6ms/step - loss: 0.3302 - accuracy: 0.2105 - val_loss: 0.6474 - val_accuracy: 0.1261\n",
      "Epoch 76/300\n",
      "67/67 [==============================] - 0s 6ms/step - loss: 0.3260 - accuracy: 0.2096 - val_loss: 0.6543 - val_accuracy: 0.1513\n",
      "Epoch 77/300\n",
      "67/67 [==============================] - 0s 6ms/step - loss: 0.3264 - accuracy: 0.2058 - val_loss: 0.6841 - val_accuracy: 0.1092\n",
      "Epoch 78/300\n",
      "67/67 [==============================] - 0s 6ms/step - loss: 0.3315 - accuracy: 0.1786 - val_loss: 0.6748 - val_accuracy: 0.2101\n",
      "Epoch 79/300\n",
      "67/67 [==============================] - 0s 7ms/step - loss: 0.3272 - accuracy: 0.2096 - val_loss: 0.6923 - val_accuracy: 0.1765\n",
      "Epoch 80/300\n",
      "67/67 [==============================] - 0s 6ms/step - loss: 0.3269 - accuracy: 0.2030 - val_loss: 0.6837 - val_accuracy: 0.1681\n",
      "Epoch 81/300\n",
      "67/67 [==============================] - 0s 6ms/step - loss: 0.3272 - accuracy: 0.2124 - val_loss: 0.7071 - val_accuracy: 0.1849\n",
      "Epoch 82/300\n",
      "67/67 [==============================] - 0s 6ms/step - loss: 0.3267 - accuracy: 0.2086 - val_loss: 0.6715 - val_accuracy: 0.1597\n",
      "Epoch 83/300\n",
      "67/67 [==============================] - 0s 7ms/step - loss: 0.3255 - accuracy: 0.2049 - val_loss: 0.6876 - val_accuracy: 0.1092\n",
      "Epoch 84/300\n",
      "67/67 [==============================] - 1s 8ms/step - loss: 0.3220 - accuracy: 0.2077 - val_loss: 0.7080 - val_accuracy: 0.1513\n",
      "Epoch 85/300\n",
      "67/67 [==============================] - 0s 7ms/step - loss: 0.3247 - accuracy: 0.2218 - val_loss: 0.6975 - val_accuracy: 0.1681\n",
      "Epoch 86/300\n",
      "67/67 [==============================] - 0s 6ms/step - loss: 0.3242 - accuracy: 0.1870 - val_loss: 0.7057 - val_accuracy: 0.1261\n",
      "Epoch 87/300\n",
      "67/67 [==============================] - 0s 7ms/step - loss: 0.3210 - accuracy: 0.2039 - val_loss: 0.7054 - val_accuracy: 0.1261\n",
      "Epoch 88/300\n",
      "67/67 [==============================] - 0s 6ms/step - loss: 0.3229 - accuracy: 0.1983 - val_loss: 0.7150 - val_accuracy: 0.1597\n",
      "Epoch 89/300\n",
      "67/67 [==============================] - 0s 7ms/step - loss: 0.3213 - accuracy: 0.2209 - val_loss: 0.7336 - val_accuracy: 0.1345\n",
      "Epoch 90/300\n",
      "67/67 [==============================] - 0s 6ms/step - loss: 0.3223 - accuracy: 0.2039 - val_loss: 0.7058 - val_accuracy: 0.1429\n",
      "Epoch 91/300\n",
      "67/67 [==============================] - 0s 6ms/step - loss: 0.3224 - accuracy: 0.2180 - val_loss: 0.7123 - val_accuracy: 0.0924\n",
      "Epoch 92/300\n",
      "67/67 [==============================] - 0s 6ms/step - loss: 0.3186 - accuracy: 0.2030 - val_loss: 0.7052 - val_accuracy: 0.1681\n",
      "Epoch 93/300\n",
      "67/67 [==============================] - 0s 6ms/step - loss: 0.3211 - accuracy: 0.2115 - val_loss: 0.7085 - val_accuracy: 0.1597\n",
      "Epoch 94/300\n",
      "67/67 [==============================] - 0s 6ms/step - loss: 0.3203 - accuracy: 0.1974 - val_loss: 0.7117 - val_accuracy: 0.1008\n",
      "Epoch 95/300\n",
      "67/67 [==============================] - 0s 6ms/step - loss: 0.3185 - accuracy: 0.2049 - val_loss: 0.7353 - val_accuracy: 0.1849\n",
      "Epoch 96/300\n",
      "67/67 [==============================] - 0s 6ms/step - loss: 0.3202 - accuracy: 0.2199 - val_loss: 0.7436 - val_accuracy: 0.1597\n",
      "Epoch 97/300\n",
      "67/67 [==============================] - 0s 6ms/step - loss: 0.3202 - accuracy: 0.1917 - val_loss: 0.7559 - val_accuracy: 0.1681\n",
      "Epoch 98/300\n",
      "67/67 [==============================] - 0s 6ms/step - loss: 0.3209 - accuracy: 0.2124 - val_loss: 0.7401 - val_accuracy: 0.1429\n",
      "Epoch 99/300\n",
      "67/67 [==============================] - 0s 6ms/step - loss: 0.3163 - accuracy: 0.2143 - val_loss: 0.7618 - val_accuracy: 0.1681\n",
      "Epoch 100/300\n",
      "67/67 [==============================] - 1s 7ms/step - loss: 0.3174 - accuracy: 0.2077 - val_loss: 0.7561 - val_accuracy: 0.1513\n",
      "Epoch 101/300\n",
      "67/67 [==============================] - 1s 9ms/step - loss: 0.3210 - accuracy: 0.2068 - val_loss: 0.7170 - val_accuracy: 0.1429\n",
      "Epoch 102/300\n",
      "67/67 [==============================] - 1s 8ms/step - loss: 0.3166 - accuracy: 0.2162 - val_loss: 0.7489 - val_accuracy: 0.1345\n",
      "Epoch 103/300\n",
      "67/67 [==============================] - 1s 8ms/step - loss: 0.3179 - accuracy: 0.1898 - val_loss: 0.7622 - val_accuracy: 0.1681\n",
      "Epoch 104/300\n",
      "67/67 [==============================] - 1s 9ms/step - loss: 0.3153 - accuracy: 0.2030 - val_loss: 0.7529 - val_accuracy: 0.1261\n",
      "Epoch 105/300\n",
      "67/67 [==============================] - 1s 8ms/step - loss: 0.3148 - accuracy: 0.2049 - val_loss: 0.7461 - val_accuracy: 0.1345\n",
      "Epoch 106/300\n",
      "67/67 [==============================] - 1s 8ms/step - loss: 0.3168 - accuracy: 0.2115 - val_loss: 0.7575 - val_accuracy: 0.0924\n",
      "Epoch 107/300\n",
      "67/67 [==============================] - 1s 9ms/step - loss: 0.3168 - accuracy: 0.2058 - val_loss: 0.7555 - val_accuracy: 0.1261\n",
      "Epoch 108/300\n",
      "67/67 [==============================] - 1s 8ms/step - loss: 0.3148 - accuracy: 0.2039 - val_loss: 0.7934 - val_accuracy: 0.1765\n",
      "Epoch 109/300\n",
      "67/67 [==============================] - 1s 8ms/step - loss: 0.3173 - accuracy: 0.2284 - val_loss: 0.7632 - val_accuracy: 0.1176\n",
      "Epoch 110/300\n",
      "67/67 [==============================] - 1s 8ms/step - loss: 0.3178 - accuracy: 0.1927 - val_loss: 0.7647 - val_accuracy: 0.1597\n",
      "Epoch 111/300\n",
      "67/67 [==============================] - 1s 8ms/step - loss: 0.3171 - accuracy: 0.2162 - val_loss: 0.7385 - val_accuracy: 0.1261\n",
      "Epoch 112/300\n",
      "67/67 [==============================] - 1s 8ms/step - loss: 0.3124 - accuracy: 0.2068 - val_loss: 0.7606 - val_accuracy: 0.1513\n",
      "Epoch 113/300\n",
      "67/67 [==============================] - 1s 8ms/step - loss: 0.3159 - accuracy: 0.2143 - val_loss: 0.7472 - val_accuracy: 0.1345\n",
      "Epoch 114/300\n",
      "67/67 [==============================] - 1s 8ms/step - loss: 0.3152 - accuracy: 0.2077 - val_loss: 0.7679 - val_accuracy: 0.1429\n",
      "Epoch 115/300\n",
      "67/67 [==============================] - 1s 8ms/step - loss: 0.3142 - accuracy: 0.2021 - val_loss: 0.7810 - val_accuracy: 0.1597\n",
      "Epoch 116/300\n",
      "67/67 [==============================] - 0s 7ms/step - loss: 0.3160 - accuracy: 0.2011 - val_loss: 0.7646 - val_accuracy: 0.1345\n",
      "Epoch 117/300\n",
      "67/67 [==============================] - 0s 7ms/step - loss: 0.3126 - accuracy: 0.2011 - val_loss: 0.7687 - val_accuracy: 0.1261\n",
      "Epoch 118/300\n",
      "67/67 [==============================] - 0s 7ms/step - loss: 0.3142 - accuracy: 0.2058 - val_loss: 0.7601 - val_accuracy: 0.1261\n",
      "Epoch 119/300\n",
      "67/67 [==============================] - 0s 7ms/step - loss: 0.3126 - accuracy: 0.1917 - val_loss: 0.7909 - val_accuracy: 0.1597\n",
      "Epoch 120/300\n",
      "67/67 [==============================] - 1s 8ms/step - loss: 0.3127 - accuracy: 0.2096 - val_loss: 0.7654 - val_accuracy: 0.1513\n",
      "Epoch 121/300\n",
      "67/67 [==============================] - 0s 7ms/step - loss: 0.3129 - accuracy: 0.2162 - val_loss: 0.7889 - val_accuracy: 0.1261\n",
      "Epoch 122/300\n",
      "67/67 [==============================] - 0s 6ms/step - loss: 0.3123 - accuracy: 0.1955 - val_loss: 0.7607 - val_accuracy: 0.1513\n",
      "Epoch 123/300\n",
      "67/67 [==============================] - 0s 6ms/step - loss: 0.3122 - accuracy: 0.2039 - val_loss: 0.7661 - val_accuracy: 0.1008\n",
      "Epoch 124/300\n",
      "67/67 [==============================] - 0s 6ms/step - loss: 0.3130 - accuracy: 0.2002 - val_loss: 0.7769 - val_accuracy: 0.1597\n",
      "Epoch 125/300\n",
      "67/67 [==============================] - 0s 6ms/step - loss: 0.3117 - accuracy: 0.2086 - val_loss: 0.7845 - val_accuracy: 0.1513\n",
      "Epoch 126/300\n",
      "67/67 [==============================] - 0s 6ms/step - loss: 0.3127 - accuracy: 0.2039 - val_loss: 0.7864 - val_accuracy: 0.1681\n",
      "Epoch 127/300\n",
      "67/67 [==============================] - 0s 6ms/step - loss: 0.3123 - accuracy: 0.1927 - val_loss: 0.7649 - val_accuracy: 0.1429\n",
      "Epoch 128/300\n",
      "67/67 [==============================] - 0s 6ms/step - loss: 0.3119 - accuracy: 0.2105 - val_loss: 0.7547 - val_accuracy: 0.1092\n",
      "Epoch 129/300\n",
      "67/67 [==============================] - 0s 6ms/step - loss: 0.3110 - accuracy: 0.2002 - val_loss: 0.7788 - val_accuracy: 0.1345\n",
      "Epoch 130/300\n",
      "67/67 [==============================] - 0s 6ms/step - loss: 0.3114 - accuracy: 0.2218 - val_loss: 0.7846 - val_accuracy: 0.1261\n",
      "Epoch 131/300\n",
      "67/67 [==============================] - 0s 6ms/step - loss: 0.3125 - accuracy: 0.2152 - val_loss: 0.7900 - val_accuracy: 0.1092\n",
      "Epoch 132/300\n",
      "67/67 [==============================] - 0s 6ms/step - loss: 0.3105 - accuracy: 0.2077 - val_loss: 0.7729 - val_accuracy: 0.1092\n",
      "Epoch 133/300\n",
      "67/67 [==============================] - 0s 6ms/step - loss: 0.3100 - accuracy: 0.2058 - val_loss: 0.7918 - val_accuracy: 0.1176\n",
      "Epoch 134/300\n",
      "67/67 [==============================] - 0s 6ms/step - loss: 0.3097 - accuracy: 0.2077 - val_loss: 0.7783 - val_accuracy: 0.1261\n",
      "Epoch 135/300\n",
      "67/67 [==============================] - 0s 6ms/step - loss: 0.3125 - accuracy: 0.2049 - val_loss: 0.7993 - val_accuracy: 0.1429\n",
      "Epoch 136/300\n",
      "67/67 [==============================] - 0s 6ms/step - loss: 0.3107 - accuracy: 0.2209 - val_loss: 0.7868 - val_accuracy: 0.1008\n",
      "Epoch 137/300\n",
      "67/67 [==============================] - 0s 6ms/step - loss: 0.3105 - accuracy: 0.2021 - val_loss: 0.7681 - val_accuracy: 0.1345\n",
      "Epoch 138/300\n",
      "67/67 [==============================] - 0s 6ms/step - loss: 0.3104 - accuracy: 0.2058 - val_loss: 0.7999 - val_accuracy: 0.1261\n",
      "Epoch 139/300\n",
      "67/67 [==============================] - 0s 6ms/step - loss: 0.3092 - accuracy: 0.2152 - val_loss: 0.7926 - val_accuracy: 0.1261\n",
      "Epoch 140/300\n",
      "67/67 [==============================] - 0s 6ms/step - loss: 0.3094 - accuracy: 0.2162 - val_loss: 0.8027 - val_accuracy: 0.1008\n",
      "Epoch 141/300\n",
      "67/67 [==============================] - 0s 6ms/step - loss: 0.3091 - accuracy: 0.2021 - val_loss: 0.8100 - val_accuracy: 0.1092\n",
      "Epoch 142/300\n",
      "67/67 [==============================] - 0s 6ms/step - loss: 0.3086 - accuracy: 0.1852 - val_loss: 0.7872 - val_accuracy: 0.1345\n",
      "Epoch 143/300\n",
      "67/67 [==============================] - 0s 6ms/step - loss: 0.3073 - accuracy: 0.2086 - val_loss: 0.7999 - val_accuracy: 0.1513\n",
      "Epoch 144/300\n",
      "67/67 [==============================] - 0s 6ms/step - loss: 0.3079 - accuracy: 0.2096 - val_loss: 0.8158 - val_accuracy: 0.1429\n",
      "Epoch 145/300\n",
      "67/67 [==============================] - 0s 6ms/step - loss: 0.3083 - accuracy: 0.1898 - val_loss: 0.8015 - val_accuracy: 0.1261\n",
      "Epoch 146/300\n",
      "67/67 [==============================] - 0s 6ms/step - loss: 0.3099 - accuracy: 0.2049 - val_loss: 0.7856 - val_accuracy: 0.1176\n",
      "Epoch 147/300\n",
      "67/67 [==============================] - 0s 6ms/step - loss: 0.3080 - accuracy: 0.2105 - val_loss: 0.8374 - val_accuracy: 0.1681\n",
      "Epoch 148/300\n",
      "67/67 [==============================] - 0s 6ms/step - loss: 0.3098 - accuracy: 0.2133 - val_loss: 0.7901 - val_accuracy: 0.1513\n",
      "Epoch 149/300\n",
      "67/67 [==============================] - 0s 6ms/step - loss: 0.3079 - accuracy: 0.2115 - val_loss: 0.7998 - val_accuracy: 0.1176\n",
      "Epoch 150/300\n",
      "67/67 [==============================] - 0s 6ms/step - loss: 0.3086 - accuracy: 0.2039 - val_loss: 0.7957 - val_accuracy: 0.1261\n",
      "Epoch 151/300\n",
      "67/67 [==============================] - 0s 7ms/step - loss: 0.3102 - accuracy: 0.1964 - val_loss: 0.7934 - val_accuracy: 0.1261\n",
      "Epoch 152/300\n",
      "67/67 [==============================] - 0s 7ms/step - loss: 0.3061 - accuracy: 0.2077 - val_loss: 0.8089 - val_accuracy: 0.1261\n",
      "Epoch 153/300\n",
      "67/67 [==============================] - 0s 7ms/step - loss: 0.3068 - accuracy: 0.2068 - val_loss: 0.8360 - val_accuracy: 0.1429\n",
      "Epoch 154/300\n",
      "67/67 [==============================] - 0s 6ms/step - loss: 0.3062 - accuracy: 0.1898 - val_loss: 0.8135 - val_accuracy: 0.1765\n",
      "Epoch 155/300\n",
      "67/67 [==============================] - 0s 6ms/step - loss: 0.3087 - accuracy: 0.2058 - val_loss: 0.8254 - val_accuracy: 0.1176\n",
      "Epoch 156/300\n",
      "67/67 [==============================] - 0s 6ms/step - loss: 0.3097 - accuracy: 0.2086 - val_loss: 0.8019 - val_accuracy: 0.1092\n",
      "Epoch 157/300\n",
      "67/67 [==============================] - 0s 6ms/step - loss: 0.3065 - accuracy: 0.1917 - val_loss: 0.8270 - val_accuracy: 0.1681\n",
      "Epoch 158/300\n",
      "67/67 [==============================] - 0s 6ms/step - loss: 0.3061 - accuracy: 0.2152 - val_loss: 0.8105 - val_accuracy: 0.1513\n",
      "Epoch 159/300\n",
      "67/67 [==============================] - 0s 6ms/step - loss: 0.3087 - accuracy: 0.1964 - val_loss: 0.8251 - val_accuracy: 0.1345\n",
      "Epoch 160/300\n",
      "67/67 [==============================] - 0s 6ms/step - loss: 0.3075 - accuracy: 0.2068 - val_loss: 0.8133 - val_accuracy: 0.1345\n",
      "Epoch 161/300\n",
      "67/67 [==============================] - 0s 6ms/step - loss: 0.3067 - accuracy: 0.2096 - val_loss: 0.8243 - val_accuracy: 0.1429\n",
      "Epoch 162/300\n",
      "67/67 [==============================] - 0s 6ms/step - loss: 0.3064 - accuracy: 0.1927 - val_loss: 0.8092 - val_accuracy: 0.1261\n",
      "Epoch 163/300\n",
      "67/67 [==============================] - 0s 6ms/step - loss: 0.3051 - accuracy: 0.2180 - val_loss: 0.8106 - val_accuracy: 0.1176\n",
      "Epoch 164/300\n",
      "67/67 [==============================] - 0s 6ms/step - loss: 0.3050 - accuracy: 0.2021 - val_loss: 0.8122 - val_accuracy: 0.1261\n",
      "Epoch 165/300\n",
      "67/67 [==============================] - 0s 5ms/step - loss: 0.3074 - accuracy: 0.1964 - val_loss: 0.8369 - val_accuracy: 0.1765\n",
      "Epoch 166/300\n",
      "67/67 [==============================] - 0s 6ms/step - loss: 0.3064 - accuracy: 0.2030 - val_loss: 0.8320 - val_accuracy: 0.1176\n",
      "Epoch 167/300\n",
      "67/67 [==============================] - 0s 6ms/step - loss: 0.3055 - accuracy: 0.2030 - val_loss: 0.8090 - val_accuracy: 0.1176\n",
      "Epoch 168/300\n",
      "67/67 [==============================] - 0s 6ms/step - loss: 0.3078 - accuracy: 0.1889 - val_loss: 0.8411 - val_accuracy: 0.1597\n",
      "Epoch 169/300\n",
      "67/67 [==============================] - 0s 6ms/step - loss: 0.3083 - accuracy: 0.1945 - val_loss: 0.8202 - val_accuracy: 0.1261\n",
      "Epoch 170/300\n",
      "67/67 [==============================] - 1s 12ms/step - loss: 0.3063 - accuracy: 0.2058 - val_loss: 0.8467 - val_accuracy: 0.1513\n",
      "Epoch 171/300\n",
      "67/67 [==============================] - 1s 12ms/step - loss: 0.3068 - accuracy: 0.2002 - val_loss: 0.8244 - val_accuracy: 0.1176\n",
      "Epoch 172/300\n",
      "67/67 [==============================] - 1s 13ms/step - loss: 0.3069 - accuracy: 0.2030 - val_loss: 0.8100 - val_accuracy: 0.1345\n",
      "Epoch 173/300\n",
      "67/67 [==============================] - 1s 12ms/step - loss: 0.3056 - accuracy: 0.2039 - val_loss: 0.8247 - val_accuracy: 0.1176\n",
      "Epoch 174/300\n",
      "67/67 [==============================] - 1s 12ms/step - loss: 0.3050 - accuracy: 0.2039 - val_loss: 0.8453 - val_accuracy: 0.1345\n",
      "Epoch 175/300\n",
      "67/67 [==============================] - 1s 11ms/step - loss: 0.3076 - accuracy: 0.2115 - val_loss: 0.8270 - val_accuracy: 0.1092\n",
      "Epoch 176/300\n",
      "67/67 [==============================] - 1s 13ms/step - loss: 0.3070 - accuracy: 0.1992 - val_loss: 0.8395 - val_accuracy: 0.1345\n",
      "Epoch 177/300\n",
      "67/67 [==============================] - 1s 12ms/step - loss: 0.3057 - accuracy: 0.2058 - val_loss: 0.8332 - val_accuracy: 0.1092\n",
      "Epoch 178/300\n",
      "67/67 [==============================] - 1s 12ms/step - loss: 0.3075 - accuracy: 0.2077 - val_loss: 0.8273 - val_accuracy: 0.1261\n",
      "Epoch 179/300\n",
      "67/67 [==============================] - 1s 13ms/step - loss: 0.3056 - accuracy: 0.1964 - val_loss: 0.8328 - val_accuracy: 0.1597\n",
      "Epoch 180/300\n",
      "67/67 [==============================] - 1s 13ms/step - loss: 0.3057 - accuracy: 0.2077 - val_loss: 0.8110 - val_accuracy: 0.1092\n",
      "Epoch 181/300\n",
      "67/67 [==============================] - 1s 14ms/step - loss: 0.3063 - accuracy: 0.2058 - val_loss: 0.8336 - val_accuracy: 0.1176\n",
      "Epoch 182/300\n",
      "67/67 [==============================] - 1s 11ms/step - loss: 0.3062 - accuracy: 0.1917 - val_loss: 0.8506 - val_accuracy: 0.1597\n",
      "Epoch 183/300\n",
      "67/67 [==============================] - 1s 11ms/step - loss: 0.3057 - accuracy: 0.2133 - val_loss: 0.8247 - val_accuracy: 0.1176\n",
      "Epoch 184/300\n",
      "67/67 [==============================] - 1s 11ms/step - loss: 0.3067 - accuracy: 0.2068 - val_loss: 0.8249 - val_accuracy: 0.1008\n",
      "Epoch 185/300\n",
      "67/67 [==============================] - 1s 14ms/step - loss: 0.3021 - accuracy: 0.2058 - val_loss: 0.8452 - val_accuracy: 0.1176\n",
      "Epoch 186/300\n",
      "67/67 [==============================] - 1s 13ms/step - loss: 0.3061 - accuracy: 0.1983 - val_loss: 0.8119 - val_accuracy: 0.1513\n",
      "Epoch 187/300\n",
      "67/67 [==============================] - 1s 12ms/step - loss: 0.3039 - accuracy: 0.2058 - val_loss: 0.8210 - val_accuracy: 0.1261\n",
      "Epoch 188/300\n",
      "67/67 [==============================] - 1s 12ms/step - loss: 0.3039 - accuracy: 0.2124 - val_loss: 0.8406 - val_accuracy: 0.1345\n",
      "Epoch 189/300\n",
      "67/67 [==============================] - 1s 12ms/step - loss: 0.3039 - accuracy: 0.1936 - val_loss: 0.8266 - val_accuracy: 0.1345\n",
      "Epoch 190/300\n",
      "67/67 [==============================] - 1s 13ms/step - loss: 0.3034 - accuracy: 0.2011 - val_loss: 0.8464 - val_accuracy: 0.1008\n",
      "Epoch 191/300\n",
      "67/67 [==============================] - 1s 12ms/step - loss: 0.3054 - accuracy: 0.2021 - val_loss: 0.8485 - val_accuracy: 0.1176\n",
      "Epoch 192/300\n",
      "67/67 [==============================] - 1s 13ms/step - loss: 0.3044 - accuracy: 0.2143 - val_loss: 0.8434 - val_accuracy: 0.1513\n",
      "Epoch 193/300\n",
      "67/67 [==============================] - 1s 12ms/step - loss: 0.3045 - accuracy: 0.1908 - val_loss: 0.8232 - val_accuracy: 0.1681\n",
      "Epoch 194/300\n",
      "67/67 [==============================] - 1s 12ms/step - loss: 0.3038 - accuracy: 0.1983 - val_loss: 0.8355 - val_accuracy: 0.1176\n",
      "Epoch 195/300\n",
      "67/67 [==============================] - 1s 15ms/step - loss: 0.3029 - accuracy: 0.2086 - val_loss: 0.8317 - val_accuracy: 0.1345\n",
      "Epoch 196/300\n",
      "67/67 [==============================] - 1s 13ms/step - loss: 0.3066 - accuracy: 0.2068 - val_loss: 0.8160 - val_accuracy: 0.1261\n",
      "Epoch 197/300\n",
      "67/67 [==============================] - 1s 13ms/step - loss: 0.3055 - accuracy: 0.1983 - val_loss: 0.8486 - val_accuracy: 0.1345\n",
      "Epoch 198/300\n",
      "67/67 [==============================] - 1s 12ms/step - loss: 0.3064 - accuracy: 0.2115 - val_loss: 0.8650 - val_accuracy: 0.1176\n",
      "Epoch 199/300\n",
      "67/67 [==============================] - 1s 13ms/step - loss: 0.3038 - accuracy: 0.2143 - val_loss: 0.8364 - val_accuracy: 0.1008\n",
      "Epoch 200/300\n",
      "67/67 [==============================] - 1s 11ms/step - loss: 0.3033 - accuracy: 0.1936 - val_loss: 0.8440 - val_accuracy: 0.1429\n",
      "Epoch 201/300\n",
      "67/67 [==============================] - 1s 13ms/step - loss: 0.3043 - accuracy: 0.2086 - val_loss: 0.8462 - val_accuracy: 0.1261\n",
      "Epoch 202/300\n",
      "67/67 [==============================] - 1s 13ms/step - loss: 0.3042 - accuracy: 0.2077 - val_loss: 0.8347 - val_accuracy: 0.1345\n",
      "Epoch 203/300\n",
      "67/67 [==============================] - 1s 13ms/step - loss: 0.3030 - accuracy: 0.2115 - val_loss: 0.8459 - val_accuracy: 0.1345\n",
      "Epoch 204/300\n",
      "67/67 [==============================] - 1s 12ms/step - loss: 0.3021 - accuracy: 0.2049 - val_loss: 0.8506 - val_accuracy: 0.1513\n",
      "Epoch 205/300\n",
      "67/67 [==============================] - 1s 11ms/step - loss: 0.3031 - accuracy: 0.2096 - val_loss: 0.8366 - val_accuracy: 0.1176\n",
      "Epoch 206/300\n",
      "67/67 [==============================] - 1s 8ms/step - loss: 0.3032 - accuracy: 0.1823 - val_loss: 0.8315 - val_accuracy: 0.0924\n",
      "Epoch 207/300\n",
      "67/67 [==============================] - 0s 7ms/step - loss: 0.3020 - accuracy: 0.2086 - val_loss: 0.8733 - val_accuracy: 0.1176\n",
      "Epoch 208/300\n",
      "67/67 [==============================] - 1s 10ms/step - loss: 0.3037 - accuracy: 0.1992 - val_loss: 0.8549 - val_accuracy: 0.1176\n",
      "Epoch 209/300\n",
      "67/67 [==============================] - 1s 11ms/step - loss: 0.3008 - accuracy: 0.1955 - val_loss: 0.8648 - val_accuracy: 0.1261\n",
      "Epoch 210/300\n",
      "67/67 [==============================] - 1s 13ms/step - loss: 0.3047 - accuracy: 0.1964 - val_loss: 0.8396 - val_accuracy: 0.1345\n",
      "Epoch 211/300\n",
      "67/67 [==============================] - 1s 13ms/step - loss: 0.3031 - accuracy: 0.2058 - val_loss: 0.8468 - val_accuracy: 0.1597\n",
      "Epoch 212/300\n",
      "67/67 [==============================] - 1s 12ms/step - loss: 0.3033 - accuracy: 0.2021 - val_loss: 0.8529 - val_accuracy: 0.1429\n",
      "Epoch 213/300\n",
      "67/67 [==============================] - 1s 14ms/step - loss: 0.3021 - accuracy: 0.1889 - val_loss: 0.8739 - val_accuracy: 0.1429\n",
      "Epoch 214/300\n",
      "67/67 [==============================] - 1s 13ms/step - loss: 0.3041 - accuracy: 0.2011 - val_loss: 0.8450 - val_accuracy: 0.1092\n",
      "Epoch 215/300\n",
      "67/67 [==============================] - 1s 14ms/step - loss: 0.3023 - accuracy: 0.2058 - val_loss: 0.8477 - val_accuracy: 0.1429\n",
      "Epoch 216/300\n",
      "67/67 [==============================] - 1s 14ms/step - loss: 0.3035 - accuracy: 0.1917 - val_loss: 0.8536 - val_accuracy: 0.1092\n",
      "Epoch 217/300\n",
      "67/67 [==============================] - 1s 15ms/step - loss: 0.3020 - accuracy: 0.1974 - val_loss: 0.8572 - val_accuracy: 0.1345\n",
      "Epoch 218/300\n",
      "67/67 [==============================] - 1s 12ms/step - loss: 0.3030 - accuracy: 0.2002 - val_loss: 0.8389 - val_accuracy: 0.1176\n",
      "Epoch 219/300\n",
      "67/67 [==============================] - 1s 15ms/step - loss: 0.3020 - accuracy: 0.2068 - val_loss: 0.8531 - val_accuracy: 0.1429\n",
      "Epoch 220/300\n",
      "67/67 [==============================] - 1s 13ms/step - loss: 0.3024 - accuracy: 0.2002 - val_loss: 0.8407 - val_accuracy: 0.1429\n",
      "Epoch 221/300\n",
      "67/67 [==============================] - 1s 13ms/step - loss: 0.3018 - accuracy: 0.2162 - val_loss: 0.8420 - val_accuracy: 0.0924\n",
      "Epoch 222/300\n",
      "67/67 [==============================] - 1s 11ms/step - loss: 0.3036 - accuracy: 0.1852 - val_loss: 0.8585 - val_accuracy: 0.1429\n",
      "Epoch 223/300\n",
      "67/67 [==============================] - 1s 11ms/step - loss: 0.3021 - accuracy: 0.2058 - val_loss: 0.8446 - val_accuracy: 0.1513\n",
      "Epoch 224/300\n",
      "67/67 [==============================] - 1s 11ms/step - loss: 0.3014 - accuracy: 0.1936 - val_loss: 0.8270 - val_accuracy: 0.1176\n",
      "Epoch 225/300\n",
      "67/67 [==============================] - 1s 13ms/step - loss: 0.3018 - accuracy: 0.1974 - val_loss: 0.8462 - val_accuracy: 0.1261\n",
      "Epoch 226/300\n",
      "67/67 [==============================] - 1s 12ms/step - loss: 0.3036 - accuracy: 0.2133 - val_loss: 0.8495 - val_accuracy: 0.1176\n",
      "Epoch 227/300\n",
      "67/67 [==============================] - 1s 11ms/step - loss: 0.3020 - accuracy: 0.2011 - val_loss: 0.8570 - val_accuracy: 0.1261\n",
      "Epoch 228/300\n",
      "67/67 [==============================] - 1s 13ms/step - loss: 0.3007 - accuracy: 0.2002 - val_loss: 0.8506 - val_accuracy: 0.1597\n",
      "Epoch 229/300\n",
      "67/67 [==============================] - 1s 13ms/step - loss: 0.3012 - accuracy: 0.2115 - val_loss: 0.8564 - val_accuracy: 0.1008\n",
      "Epoch 230/300\n",
      "67/67 [==============================] - 1s 15ms/step - loss: 0.3012 - accuracy: 0.1936 - val_loss: 0.8689 - val_accuracy: 0.1429\n",
      "Epoch 231/300\n",
      "67/67 [==============================] - 1s 11ms/step - loss: 0.3025 - accuracy: 0.2124 - val_loss: 0.8625 - val_accuracy: 0.1345\n",
      "Epoch 232/300\n",
      "67/67 [==============================] - 1s 13ms/step - loss: 0.3026 - accuracy: 0.2002 - val_loss: 0.8654 - val_accuracy: 0.1092\n",
      "Epoch 233/300\n",
      "67/67 [==============================] - 1s 14ms/step - loss: 0.3017 - accuracy: 0.2030 - val_loss: 0.8510 - val_accuracy: 0.1681\n",
      "Epoch 234/300\n",
      "67/67 [==============================] - 1s 15ms/step - loss: 0.3011 - accuracy: 0.2124 - val_loss: 0.8625 - val_accuracy: 0.1345\n",
      "Epoch 235/300\n",
      "67/67 [==============================] - 1s 14ms/step - loss: 0.3017 - accuracy: 0.2058 - val_loss: 0.8454 - val_accuracy: 0.1597\n",
      "Epoch 236/300\n",
      "67/67 [==============================] - 1s 12ms/step - loss: 0.3010 - accuracy: 0.2086 - val_loss: 0.8682 - val_accuracy: 0.1261\n",
      "Epoch 237/300\n",
      "67/67 [==============================] - 1s 12ms/step - loss: 0.2989 - accuracy: 0.2011 - val_loss: 0.8608 - val_accuracy: 0.1261\n",
      "Epoch 238/300\n",
      "67/67 [==============================] - 1s 12ms/step - loss: 0.3019 - accuracy: 0.2115 - val_loss: 0.8466 - val_accuracy: 0.1429\n",
      "Epoch 239/300\n",
      "67/67 [==============================] - 1s 12ms/step - loss: 0.3014 - accuracy: 0.1955 - val_loss: 0.8495 - val_accuracy: 0.1008\n",
      "Epoch 240/300\n",
      "67/67 [==============================] - 1s 13ms/step - loss: 0.3018 - accuracy: 0.1870 - val_loss: 0.8638 - val_accuracy: 0.1345\n",
      "Epoch 241/300\n",
      "67/67 [==============================] - 1s 12ms/step - loss: 0.3013 - accuracy: 0.2021 - val_loss: 0.8831 - val_accuracy: 0.1513\n",
      "Epoch 242/300\n",
      "67/67 [==============================] - 1s 13ms/step - loss: 0.3008 - accuracy: 0.1992 - val_loss: 0.8577 - val_accuracy: 0.1092\n",
      "Epoch 243/300\n",
      "67/67 [==============================] - 1s 13ms/step - loss: 0.3001 - accuracy: 0.2077 - val_loss: 0.8449 - val_accuracy: 0.1261\n",
      "Epoch 244/300\n",
      "67/67 [==============================] - 1s 13ms/step - loss: 0.3012 - accuracy: 0.1936 - val_loss: 0.8498 - val_accuracy: 0.1513\n",
      "Epoch 245/300\n",
      "67/67 [==============================] - 1s 12ms/step - loss: 0.3003 - accuracy: 0.2030 - val_loss: 0.8700 - val_accuracy: 0.1261\n",
      "Epoch 246/300\n",
      "67/67 [==============================] - 1s 12ms/step - loss: 0.3002 - accuracy: 0.1898 - val_loss: 0.8704 - val_accuracy: 0.1261\n",
      "Epoch 247/300\n",
      "67/67 [==============================] - 1s 13ms/step - loss: 0.3005 - accuracy: 0.2011 - val_loss: 0.8616 - val_accuracy: 0.1597\n",
      "Epoch 248/300\n",
      "67/67 [==============================] - 1s 12ms/step - loss: 0.2992 - accuracy: 0.1927 - val_loss: 0.8592 - val_accuracy: 0.1261\n",
      "Epoch 249/300\n",
      "67/67 [==============================] - 1s 11ms/step - loss: 0.3001 - accuracy: 0.1992 - val_loss: 0.8692 - val_accuracy: 0.1681\n",
      "Epoch 250/300\n",
      "67/67 [==============================] - 1s 13ms/step - loss: 0.3008 - accuracy: 0.2077 - val_loss: 0.8854 - val_accuracy: 0.1345\n",
      "Epoch 251/300\n",
      "67/67 [==============================] - 1s 13ms/step - loss: 0.3006 - accuracy: 0.2002 - val_loss: 0.8708 - val_accuracy: 0.1176\n",
      "Epoch 252/300\n",
      "67/67 [==============================] - 1s 12ms/step - loss: 0.3007 - accuracy: 0.2096 - val_loss: 0.8610 - val_accuracy: 0.1345\n",
      "Epoch 253/300\n",
      "67/67 [==============================] - 1s 13ms/step - loss: 0.2997 - accuracy: 0.1983 - val_loss: 0.8627 - val_accuracy: 0.1513\n",
      "Epoch 254/300\n",
      "67/67 [==============================] - 1s 14ms/step - loss: 0.2992 - accuracy: 0.2011 - val_loss: 0.8818 - val_accuracy: 0.1429\n",
      "Epoch 255/300\n",
      "67/67 [==============================] - 1s 15ms/step - loss: 0.3009 - accuracy: 0.2049 - val_loss: 0.8731 - val_accuracy: 0.1176\n",
      "Epoch 256/300\n",
      "67/67 [==============================] - 1s 12ms/step - loss: 0.2984 - accuracy: 0.2049 - val_loss: 0.8679 - val_accuracy: 0.1008\n",
      "Epoch 257/300\n",
      "67/67 [==============================] - 1s 13ms/step - loss: 0.3000 - accuracy: 0.2030 - val_loss: 0.8952 - val_accuracy: 0.2017\n",
      "Epoch 258/300\n",
      "67/67 [==============================] - 1s 13ms/step - loss: 0.3004 - accuracy: 0.1861 - val_loss: 0.8714 - val_accuracy: 0.1513\n",
      "Epoch 259/300\n",
      "67/67 [==============================] - 1s 14ms/step - loss: 0.2992 - accuracy: 0.2002 - val_loss: 0.8481 - val_accuracy: 0.1429\n",
      "Epoch 260/300\n",
      "67/67 [==============================] - 1s 12ms/step - loss: 0.3000 - accuracy: 0.1927 - val_loss: 0.8787 - val_accuracy: 0.1261\n",
      "Epoch 261/300\n",
      "67/67 [==============================] - 1s 13ms/step - loss: 0.3001 - accuracy: 0.2030 - val_loss: 0.8536 - val_accuracy: 0.1176\n",
      "Epoch 262/300\n",
      "67/67 [==============================] - 1s 11ms/step - loss: 0.2995 - accuracy: 0.2058 - val_loss: 0.8739 - val_accuracy: 0.1345\n",
      "Epoch 263/300\n",
      "67/67 [==============================] - 1s 12ms/step - loss: 0.2984 - accuracy: 0.2124 - val_loss: 0.8696 - val_accuracy: 0.1345\n",
      "Epoch 264/300\n",
      "67/67 [==============================] - 1s 13ms/step - loss: 0.3004 - accuracy: 0.2021 - val_loss: 0.8724 - val_accuracy: 0.1345\n",
      "Epoch 265/300\n",
      "67/67 [==============================] - 1s 22ms/step - loss: 0.3000 - accuracy: 0.1992 - val_loss: 0.8487 - val_accuracy: 0.1429\n",
      "Epoch 266/300\n",
      "67/67 [==============================] - 1s 14ms/step - loss: 0.3001 - accuracy: 0.2077 - val_loss: 0.8750 - val_accuracy: 0.1008\n",
      "Epoch 267/300\n",
      "67/67 [==============================] - 1s 15ms/step - loss: 0.2982 - accuracy: 0.2021 - val_loss: 0.8604 - val_accuracy: 0.1345\n",
      "Epoch 268/300\n",
      "67/67 [==============================] - 1s 12ms/step - loss: 0.2991 - accuracy: 0.1983 - val_loss: 0.8629 - val_accuracy: 0.1765\n",
      "Epoch 269/300\n",
      "67/67 [==============================] - 1s 12ms/step - loss: 0.3015 - accuracy: 0.2011 - val_loss: 0.8692 - val_accuracy: 0.1513\n",
      "Epoch 270/300\n",
      "67/67 [==============================] - 1s 14ms/step - loss: 0.2995 - accuracy: 0.2086 - val_loss: 0.8720 - val_accuracy: 0.1092\n",
      "Epoch 271/300\n",
      "67/67 [==============================] - 1s 13ms/step - loss: 0.2998 - accuracy: 0.2011 - val_loss: 0.8839 - val_accuracy: 0.1345\n",
      "Epoch 272/300\n",
      "67/67 [==============================] - 2s 27ms/step - loss: 0.3001 - accuracy: 0.2077 - val_loss: 0.8596 - val_accuracy: 0.1597\n",
      "Epoch 273/300\n",
      "67/67 [==============================] - 1s 12ms/step - loss: 0.2982 - accuracy: 0.2068 - val_loss: 0.8866 - val_accuracy: 0.1429\n",
      "Epoch 274/300\n",
      "67/67 [==============================] - 1s 15ms/step - loss: 0.2990 - accuracy: 0.2030 - val_loss: 0.8725 - val_accuracy: 0.1513\n",
      "Epoch 275/300\n",
      "67/67 [==============================] - 1s 15ms/step - loss: 0.2980 - accuracy: 0.2124 - val_loss: 0.8851 - val_accuracy: 0.1261\n",
      "Epoch 276/300\n",
      "67/67 [==============================] - 1s 16ms/step - loss: 0.2995 - accuracy: 0.2086 - val_loss: 0.8651 - val_accuracy: 0.1429\n",
      "Epoch 277/300\n",
      "67/67 [==============================] - 1s 13ms/step - loss: 0.2989 - accuracy: 0.2011 - val_loss: 0.8662 - val_accuracy: 0.1345\n",
      "Epoch 278/300\n",
      "67/67 [==============================] - 1s 14ms/step - loss: 0.2988 - accuracy: 0.2199 - val_loss: 0.8688 - val_accuracy: 0.1345\n",
      "Epoch 279/300\n",
      "67/67 [==============================] - 1s 13ms/step - loss: 0.3000 - accuracy: 0.2039 - val_loss: 0.8501 - val_accuracy: 0.1849\n",
      "Epoch 280/300\n",
      "67/67 [==============================] - 1s 12ms/step - loss: 0.2998 - accuracy: 0.2086 - val_loss: 0.8927 - val_accuracy: 0.1008\n",
      "Epoch 281/300\n",
      "67/67 [==============================] - 1s 12ms/step - loss: 0.2990 - accuracy: 0.2011 - val_loss: 0.8668 - val_accuracy: 0.1261\n",
      "Epoch 282/300\n",
      "67/67 [==============================] - 1s 13ms/step - loss: 0.2984 - accuracy: 0.1908 - val_loss: 0.8810 - val_accuracy: 0.1429\n",
      "Epoch 283/300\n",
      "67/67 [==============================] - 1s 15ms/step - loss: 0.2986 - accuracy: 0.2068 - val_loss: 0.8910 - val_accuracy: 0.1008\n",
      "Epoch 284/300\n",
      "67/67 [==============================] - 1s 15ms/step - loss: 0.2988 - accuracy: 0.2058 - val_loss: 0.8943 - val_accuracy: 0.1176\n",
      "Epoch 285/300\n",
      "67/67 [==============================] - 1s 15ms/step - loss: 0.2980 - accuracy: 0.2077 - val_loss: 0.8651 - val_accuracy: 0.1092\n",
      "Epoch 286/300\n",
      "67/67 [==============================] - 1s 13ms/step - loss: 0.2991 - accuracy: 0.2002 - val_loss: 0.8764 - val_accuracy: 0.1429\n",
      "Epoch 287/300\n",
      "67/67 [==============================] - 1s 13ms/step - loss: 0.2980 - accuracy: 0.2133 - val_loss: 0.8743 - val_accuracy: 0.1008\n",
      "Epoch 288/300\n",
      "67/67 [==============================] - 1s 16ms/step - loss: 0.2988 - accuracy: 0.2021 - val_loss: 0.8713 - val_accuracy: 0.1261\n",
      "Epoch 289/300\n",
      "67/67 [==============================] - 1s 14ms/step - loss: 0.2985 - accuracy: 0.2115 - val_loss: 0.8876 - val_accuracy: 0.1176\n",
      "Epoch 290/300\n",
      "67/67 [==============================] - 1s 13ms/step - loss: 0.2977 - accuracy: 0.1870 - val_loss: 0.9000 - val_accuracy: 0.1176\n",
      "Epoch 291/300\n",
      "67/67 [==============================] - 1s 13ms/step - loss: 0.2971 - accuracy: 0.2077 - val_loss: 0.9060 - val_accuracy: 0.1513\n",
      "Epoch 292/300\n",
      "67/67 [==============================] - 1s 18ms/step - loss: 0.3003 - accuracy: 0.2002 - val_loss: 0.8748 - val_accuracy: 0.1092\n",
      "Epoch 293/300\n",
      "67/67 [==============================] - 1s 12ms/step - loss: 0.2973 - accuracy: 0.2086 - val_loss: 0.8757 - val_accuracy: 0.1176\n",
      "Epoch 294/300\n",
      "67/67 [==============================] - 1s 13ms/step - loss: 0.2993 - accuracy: 0.2068 - val_loss: 0.8968 - val_accuracy: 0.1345\n",
      "Epoch 295/300\n",
      "67/67 [==============================] - 1s 13ms/step - loss: 0.2985 - accuracy: 0.1983 - val_loss: 0.8727 - val_accuracy: 0.1092\n",
      "Epoch 296/300\n",
      "67/67 [==============================] - 1s 16ms/step - loss: 0.2972 - accuracy: 0.2039 - val_loss: 0.8870 - val_accuracy: 0.1261\n",
      "Epoch 297/300\n",
      "67/67 [==============================] - 1s 12ms/step - loss: 0.2972 - accuracy: 0.2115 - val_loss: 0.9076 - val_accuracy: 0.0924\n",
      "Epoch 298/300\n",
      "67/67 [==============================] - 1s 13ms/step - loss: 0.2987 - accuracy: 0.1945 - val_loss: 0.8904 - val_accuracy: 0.1176\n",
      "Epoch 299/300\n",
      "67/67 [==============================] - 1s 18ms/step - loss: 0.2972 - accuracy: 0.2180 - val_loss: 0.9247 - val_accuracy: 0.1597\n",
      "Epoch 300/300\n",
      "67/67 [==============================] - 1s 13ms/step - loss: 0.2986 - accuracy: 0.1945 - val_loss: 0.9106 - val_accuracy: 0.0924\n"
     ]
    }
   ],
   "source": [
    "# Criar e treinar a rede neural\n",
    "model = network.train_neural_network(training_data, epoches, batch_size)"
   ]
  },
  {
   "cell_type": "code",
   "execution_count": 46,
   "id": "dabd2ca69967e1ae",
   "metadata": {
    "collapsed": false,
    "ExecuteTime": {
     "end_time": "2024-06-01T20:37:09.360125300Z",
     "start_time": "2024-06-01T20:35:35.982676400Z"
    }
   },
   "outputs": [
    {
     "name": "stdout",
     "output_type": "stream",
     "text": [
      "Epoch 1/30\n",
      "7387/7387 [==============================] - 35s 5ms/step - loss: 0.5532 - accuracy: 0.1470 - val_loss: 0.5153 - val_accuracy: 0.0856\n",
      "Epoch 2/30\n",
      "7387/7387 [==============================] - 32s 4ms/step - loss: 0.5116 - accuracy: 0.1438 - val_loss: 0.5080 - val_accuracy: 0.0609\n",
      "Epoch 3/30\n",
      "7375/7387 [============================>.] - ETA: 0s - loss: 0.5039 - accuracy: 0.1205"
     ]
    },
    {
     "ename": "KeyboardInterrupt",
     "evalue": "",
     "output_type": "error",
     "traceback": [
      "\u001B[0;31m---------------------------------------------------------------------------\u001B[0m",
      "\u001B[0;31mKeyboardInterrupt\u001B[0m                         Traceback (most recent call last)",
      "Cell \u001B[0;32mIn[46], line 1\u001B[0m\n\u001B[0;32m----> 1\u001B[0m autoencoder \u001B[38;5;241m=\u001B[39m \u001B[43mAutoencoder\u001B[49m\u001B[38;5;241;43m.\u001B[39;49m\u001B[43mcreate_and_train_auto_encoder\u001B[49m\u001B[43m(\u001B[49m\u001B[43mtraining_data\u001B[49m\u001B[43m,\u001B[49m\u001B[43m \u001B[49m\u001B[43mepoches\u001B[49m\u001B[43m,\u001B[49m\u001B[43m \u001B[49m\u001B[43mbatch_size\u001B[49m\u001B[43m)\u001B[49m\n",
      "File \u001B[0;32m~/Unicamp/TCC/tcc/src/Autoencoder.py:26\u001B[0m, in \u001B[0;36mcreate_and_train_auto_encoder\u001B[0;34m(training_data, epoches, batch_size)\u001B[0m\n\u001B[1;32m     22\u001B[0m \u001B[38;5;28;01mdef\u001B[39;00m \u001B[38;5;21mcreate_and_train_auto_encoder\u001B[39m(training_data, epoches, batch_size):\n\u001B[1;32m     24\u001B[0m     autoencoder \u001B[38;5;241m=\u001B[39m create_auto_encoder()\n\u001B[0;32m---> 26\u001B[0m     \u001B[43mautoencoder\u001B[49m\u001B[38;5;241;43m.\u001B[39;49m\u001B[43mfit\u001B[49m\u001B[43m(\u001B[49m\n\u001B[1;32m     27\u001B[0m \u001B[43m        \u001B[49m\u001B[43mtraining_data\u001B[49m\u001B[43m[\u001B[49m\u001B[38;5;124;43m'\u001B[39;49m\u001B[38;5;124;43mnoisy\u001B[39;49m\u001B[38;5;124;43m'\u001B[39;49m\u001B[43m]\u001B[49m\u001B[43m,\u001B[49m\n\u001B[1;32m     28\u001B[0m \u001B[43m        \u001B[49m\u001B[43mtraining_data\u001B[49m\u001B[43m[\u001B[49m\u001B[38;5;124;43m'\u001B[39;49m\u001B[38;5;124;43moriginal\u001B[39;49m\u001B[38;5;124;43m'\u001B[39;49m\u001B[43m]\u001B[49m\u001B[43m,\u001B[49m\n\u001B[1;32m     29\u001B[0m \u001B[43m        \u001B[49m\u001B[43mepochs\u001B[49m\u001B[38;5;241;43m=\u001B[39;49m\u001B[43mepoches\u001B[49m\u001B[43m,\u001B[49m\n\u001B[1;32m     30\u001B[0m \u001B[43m        \u001B[49m\u001B[43mbatch_size\u001B[49m\u001B[38;5;241;43m=\u001B[39;49m\u001B[43mbatch_size\u001B[49m\u001B[43m,\u001B[49m\n\u001B[1;32m     31\u001B[0m \u001B[43m        \u001B[49m\u001B[43mvalidation_data\u001B[49m\u001B[38;5;241;43m=\u001B[39;49m\u001B[43m(\u001B[49m\u001B[43mtraining_data\u001B[49m\u001B[43m[\u001B[49m\u001B[38;5;124;43m'\u001B[39;49m\u001B[38;5;124;43mnoisy\u001B[39;49m\u001B[38;5;124;43m'\u001B[39;49m\u001B[43m]\u001B[49m\u001B[43m,\u001B[49m\u001B[43m \u001B[49m\u001B[43mtraining_data\u001B[49m\u001B[43m[\u001B[49m\u001B[38;5;124;43m'\u001B[39;49m\u001B[38;5;124;43moriginal\u001B[39;49m\u001B[38;5;124;43m'\u001B[39;49m\u001B[43m]\u001B[49m\u001B[43m)\u001B[49m\n\u001B[1;32m     32\u001B[0m \u001B[43m    \u001B[49m\u001B[43m)\u001B[49m\n\u001B[1;32m     33\u001B[0m     \u001B[38;5;28;01mreturn\u001B[39;00m autoencoder\n",
      "File \u001B[0;32m~/Unicamp/TCC/tcc/.venv/lib/python3.10/site-packages/keras/src/utils/traceback_utils.py:65\u001B[0m, in \u001B[0;36mfilter_traceback.<locals>.error_handler\u001B[0;34m(*args, **kwargs)\u001B[0m\n\u001B[1;32m     63\u001B[0m filtered_tb \u001B[38;5;241m=\u001B[39m \u001B[38;5;28;01mNone\u001B[39;00m\n\u001B[1;32m     64\u001B[0m \u001B[38;5;28;01mtry\u001B[39;00m:\n\u001B[0;32m---> 65\u001B[0m     \u001B[38;5;28;01mreturn\u001B[39;00m \u001B[43mfn\u001B[49m\u001B[43m(\u001B[49m\u001B[38;5;241;43m*\u001B[39;49m\u001B[43margs\u001B[49m\u001B[43m,\u001B[49m\u001B[43m \u001B[49m\u001B[38;5;241;43m*\u001B[39;49m\u001B[38;5;241;43m*\u001B[39;49m\u001B[43mkwargs\u001B[49m\u001B[43m)\u001B[49m\n\u001B[1;32m     66\u001B[0m \u001B[38;5;28;01mexcept\u001B[39;00m \u001B[38;5;167;01mException\u001B[39;00m \u001B[38;5;28;01mas\u001B[39;00m e:\n\u001B[1;32m     67\u001B[0m     filtered_tb \u001B[38;5;241m=\u001B[39m _process_traceback_frames(e\u001B[38;5;241m.\u001B[39m__traceback__)\n",
      "File \u001B[0;32m~/Unicamp/TCC/tcc/.venv/lib/python3.10/site-packages/keras/src/engine/training.py:1856\u001B[0m, in \u001B[0;36mModel.fit\u001B[0;34m(self, x, y, batch_size, epochs, verbose, callbacks, validation_split, validation_data, shuffle, class_weight, sample_weight, initial_epoch, steps_per_epoch, validation_steps, validation_batch_size, validation_freq, max_queue_size, workers, use_multiprocessing)\u001B[0m\n\u001B[1;32m   1840\u001B[0m \u001B[38;5;28;01mif\u001B[39;00m \u001B[38;5;28mgetattr\u001B[39m(\u001B[38;5;28mself\u001B[39m, \u001B[38;5;124m\"\u001B[39m\u001B[38;5;124m_eval_data_handler\u001B[39m\u001B[38;5;124m\"\u001B[39m, \u001B[38;5;28;01mNone\u001B[39;00m) \u001B[38;5;129;01mis\u001B[39;00m \u001B[38;5;28;01mNone\u001B[39;00m:\n\u001B[1;32m   1841\u001B[0m     \u001B[38;5;28mself\u001B[39m\u001B[38;5;241m.\u001B[39m_eval_data_handler \u001B[38;5;241m=\u001B[39m data_adapter\u001B[38;5;241m.\u001B[39mget_data_handler(\n\u001B[1;32m   1842\u001B[0m         x\u001B[38;5;241m=\u001B[39mval_x,\n\u001B[1;32m   1843\u001B[0m         y\u001B[38;5;241m=\u001B[39mval_y,\n\u001B[0;32m   (...)\u001B[0m\n\u001B[1;32m   1854\u001B[0m         pss_evaluation_shards\u001B[38;5;241m=\u001B[39m\u001B[38;5;28mself\u001B[39m\u001B[38;5;241m.\u001B[39m_pss_evaluation_shards,\n\u001B[1;32m   1855\u001B[0m     )\n\u001B[0;32m-> 1856\u001B[0m val_logs \u001B[38;5;241m=\u001B[39m \u001B[38;5;28;43mself\u001B[39;49m\u001B[38;5;241;43m.\u001B[39;49m\u001B[43mevaluate\u001B[49m\u001B[43m(\u001B[49m\n\u001B[1;32m   1857\u001B[0m \u001B[43m    \u001B[49m\u001B[43mx\u001B[49m\u001B[38;5;241;43m=\u001B[39;49m\u001B[43mval_x\u001B[49m\u001B[43m,\u001B[49m\n\u001B[1;32m   1858\u001B[0m \u001B[43m    \u001B[49m\u001B[43my\u001B[49m\u001B[38;5;241;43m=\u001B[39;49m\u001B[43mval_y\u001B[49m\u001B[43m,\u001B[49m\n\u001B[1;32m   1859\u001B[0m \u001B[43m    \u001B[49m\u001B[43msample_weight\u001B[49m\u001B[38;5;241;43m=\u001B[39;49m\u001B[43mval_sample_weight\u001B[49m\u001B[43m,\u001B[49m\n\u001B[1;32m   1860\u001B[0m \u001B[43m    \u001B[49m\u001B[43mbatch_size\u001B[49m\u001B[38;5;241;43m=\u001B[39;49m\u001B[43mvalidation_batch_size\u001B[49m\u001B[43m \u001B[49m\u001B[38;5;129;43;01mor\u001B[39;49;00m\u001B[43m \u001B[49m\u001B[43mbatch_size\u001B[49m\u001B[43m,\u001B[49m\n\u001B[1;32m   1861\u001B[0m \u001B[43m    \u001B[49m\u001B[43msteps\u001B[49m\u001B[38;5;241;43m=\u001B[39;49m\u001B[43mvalidation_steps\u001B[49m\u001B[43m,\u001B[49m\n\u001B[1;32m   1862\u001B[0m \u001B[43m    \u001B[49m\u001B[43mcallbacks\u001B[49m\u001B[38;5;241;43m=\u001B[39;49m\u001B[43mcallbacks\u001B[49m\u001B[43m,\u001B[49m\n\u001B[1;32m   1863\u001B[0m \u001B[43m    \u001B[49m\u001B[43mmax_queue_size\u001B[49m\u001B[38;5;241;43m=\u001B[39;49m\u001B[43mmax_queue_size\u001B[49m\u001B[43m,\u001B[49m\n\u001B[1;32m   1864\u001B[0m \u001B[43m    \u001B[49m\u001B[43mworkers\u001B[49m\u001B[38;5;241;43m=\u001B[39;49m\u001B[43mworkers\u001B[49m\u001B[43m,\u001B[49m\n\u001B[1;32m   1865\u001B[0m \u001B[43m    \u001B[49m\u001B[43muse_multiprocessing\u001B[49m\u001B[38;5;241;43m=\u001B[39;49m\u001B[43muse_multiprocessing\u001B[49m\u001B[43m,\u001B[49m\n\u001B[1;32m   1866\u001B[0m \u001B[43m    \u001B[49m\u001B[43mreturn_dict\u001B[49m\u001B[38;5;241;43m=\u001B[39;49m\u001B[38;5;28;43;01mTrue\u001B[39;49;00m\u001B[43m,\u001B[49m\n\u001B[1;32m   1867\u001B[0m \u001B[43m    \u001B[49m\u001B[43m_use_cached_eval_dataset\u001B[49m\u001B[38;5;241;43m=\u001B[39;49m\u001B[38;5;28;43;01mTrue\u001B[39;49;00m\u001B[43m,\u001B[49m\n\u001B[1;32m   1868\u001B[0m \u001B[43m\u001B[49m\u001B[43m)\u001B[49m\n\u001B[1;32m   1869\u001B[0m val_logs \u001B[38;5;241m=\u001B[39m {\n\u001B[1;32m   1870\u001B[0m     \u001B[38;5;124m\"\u001B[39m\u001B[38;5;124mval_\u001B[39m\u001B[38;5;124m\"\u001B[39m \u001B[38;5;241m+\u001B[39m name: val \u001B[38;5;28;01mfor\u001B[39;00m name, val \u001B[38;5;129;01min\u001B[39;00m val_logs\u001B[38;5;241m.\u001B[39mitems()\n\u001B[1;32m   1871\u001B[0m }\n\u001B[1;32m   1872\u001B[0m epoch_logs\u001B[38;5;241m.\u001B[39mupdate(val_logs)\n",
      "File \u001B[0;32m~/Unicamp/TCC/tcc/.venv/lib/python3.10/site-packages/keras/src/utils/traceback_utils.py:65\u001B[0m, in \u001B[0;36mfilter_traceback.<locals>.error_handler\u001B[0;34m(*args, **kwargs)\u001B[0m\n\u001B[1;32m     63\u001B[0m filtered_tb \u001B[38;5;241m=\u001B[39m \u001B[38;5;28;01mNone\u001B[39;00m\n\u001B[1;32m     64\u001B[0m \u001B[38;5;28;01mtry\u001B[39;00m:\n\u001B[0;32m---> 65\u001B[0m     \u001B[38;5;28;01mreturn\u001B[39;00m \u001B[43mfn\u001B[49m\u001B[43m(\u001B[49m\u001B[38;5;241;43m*\u001B[39;49m\u001B[43margs\u001B[49m\u001B[43m,\u001B[49m\u001B[43m \u001B[49m\u001B[38;5;241;43m*\u001B[39;49m\u001B[38;5;241;43m*\u001B[39;49m\u001B[43mkwargs\u001B[49m\u001B[43m)\u001B[49m\n\u001B[1;32m     66\u001B[0m \u001B[38;5;28;01mexcept\u001B[39;00m \u001B[38;5;167;01mException\u001B[39;00m \u001B[38;5;28;01mas\u001B[39;00m e:\n\u001B[1;32m     67\u001B[0m     filtered_tb \u001B[38;5;241m=\u001B[39m _process_traceback_frames(e\u001B[38;5;241m.\u001B[39m__traceback__)\n",
      "File \u001B[0;32m~/Unicamp/TCC/tcc/.venv/lib/python3.10/site-packages/keras/src/engine/training.py:2296\u001B[0m, in \u001B[0;36mModel.evaluate\u001B[0;34m(self, x, y, batch_size, verbose, sample_weight, steps, callbacks, max_queue_size, workers, use_multiprocessing, return_dict, **kwargs)\u001B[0m\n\u001B[1;32m   2292\u001B[0m             \u001B[38;5;28;01mwith\u001B[39;00m tf\u001B[38;5;241m.\u001B[39mprofiler\u001B[38;5;241m.\u001B[39mexperimental\u001B[38;5;241m.\u001B[39mTrace(\n\u001B[1;32m   2293\u001B[0m                 \u001B[38;5;124m\"\u001B[39m\u001B[38;5;124mtest\u001B[39m\u001B[38;5;124m\"\u001B[39m, step_num\u001B[38;5;241m=\u001B[39mstep, _r\u001B[38;5;241m=\u001B[39m\u001B[38;5;241m1\u001B[39m\n\u001B[1;32m   2294\u001B[0m             ):\n\u001B[1;32m   2295\u001B[0m                 callbacks\u001B[38;5;241m.\u001B[39mon_test_batch_begin(step)\n\u001B[0;32m-> 2296\u001B[0m                 logs \u001B[38;5;241m=\u001B[39m \u001B[43mtest_function_runner\u001B[49m\u001B[38;5;241;43m.\u001B[39;49m\u001B[43mrun_step\u001B[49m\u001B[43m(\u001B[49m\n\u001B[1;32m   2297\u001B[0m \u001B[43m                    \u001B[49m\u001B[43mdataset_or_iterator\u001B[49m\u001B[43m,\u001B[49m\n\u001B[1;32m   2298\u001B[0m \u001B[43m                    \u001B[49m\u001B[43mdata_handler\u001B[49m\u001B[43m,\u001B[49m\n\u001B[1;32m   2299\u001B[0m \u001B[43m                    \u001B[49m\u001B[43mstep\u001B[49m\u001B[43m,\u001B[49m\n\u001B[1;32m   2300\u001B[0m \u001B[43m                    \u001B[49m\u001B[38;5;28;43mself\u001B[39;49m\u001B[38;5;241;43m.\u001B[39;49m\u001B[43m_pss_evaluation_shards\u001B[49m\u001B[43m,\u001B[49m\n\u001B[1;32m   2301\u001B[0m \u001B[43m                \u001B[49m\u001B[43m)\u001B[49m\n\u001B[1;32m   2303\u001B[0m logs \u001B[38;5;241m=\u001B[39m tf_utils\u001B[38;5;241m.\u001B[39msync_to_numpy_or_python_type(logs)\n\u001B[1;32m   2304\u001B[0m \u001B[38;5;66;03m# Override with model metrics instead of last step logs\u001B[39;00m\n",
      "File \u001B[0;32m~/Unicamp/TCC/tcc/.venv/lib/python3.10/site-packages/keras/src/engine/training.py:4108\u001B[0m, in \u001B[0;36m_TestFunction.run_step\u001B[0;34m(self, dataset_or_iterator, data_handler, step, unused_shards)\u001B[0m\n\u001B[1;32m   4107\u001B[0m \u001B[38;5;28;01mdef\u001B[39;00m \u001B[38;5;21mrun_step\u001B[39m(\u001B[38;5;28mself\u001B[39m, dataset_or_iterator, data_handler, step, unused_shards):\n\u001B[0;32m-> 4108\u001B[0m     tmp_logs \u001B[38;5;241m=\u001B[39m \u001B[38;5;28;43mself\u001B[39;49m\u001B[38;5;241;43m.\u001B[39;49m\u001B[43m_function\u001B[49m\u001B[43m(\u001B[49m\u001B[43mdataset_or_iterator\u001B[49m\u001B[43m)\u001B[49m\n\u001B[1;32m   4109\u001B[0m     \u001B[38;5;28;01mif\u001B[39;00m data_handler\u001B[38;5;241m.\u001B[39mshould_sync:\n\u001B[1;32m   4110\u001B[0m         context\u001B[38;5;241m.\u001B[39masync_wait()\n",
      "File \u001B[0;32m~/Unicamp/TCC/tcc/.venv/lib/python3.10/site-packages/tensorflow/python/util/traceback_utils.py:150\u001B[0m, in \u001B[0;36mfilter_traceback.<locals>.error_handler\u001B[0;34m(*args, **kwargs)\u001B[0m\n\u001B[1;32m    148\u001B[0m filtered_tb \u001B[38;5;241m=\u001B[39m \u001B[38;5;28;01mNone\u001B[39;00m\n\u001B[1;32m    149\u001B[0m \u001B[38;5;28;01mtry\u001B[39;00m:\n\u001B[0;32m--> 150\u001B[0m   \u001B[38;5;28;01mreturn\u001B[39;00m \u001B[43mfn\u001B[49m\u001B[43m(\u001B[49m\u001B[38;5;241;43m*\u001B[39;49m\u001B[43margs\u001B[49m\u001B[43m,\u001B[49m\u001B[43m \u001B[49m\u001B[38;5;241;43m*\u001B[39;49m\u001B[38;5;241;43m*\u001B[39;49m\u001B[43mkwargs\u001B[49m\u001B[43m)\u001B[49m\n\u001B[1;32m    151\u001B[0m \u001B[38;5;28;01mexcept\u001B[39;00m \u001B[38;5;167;01mException\u001B[39;00m \u001B[38;5;28;01mas\u001B[39;00m e:\n\u001B[1;32m    152\u001B[0m   filtered_tb \u001B[38;5;241m=\u001B[39m _process_traceback_frames(e\u001B[38;5;241m.\u001B[39m__traceback__)\n",
      "File \u001B[0;32m~/Unicamp/TCC/tcc/.venv/lib/python3.10/site-packages/tensorflow/python/eager/polymorphic_function/polymorphic_function.py:832\u001B[0m, in \u001B[0;36mFunction.__call__\u001B[0;34m(self, *args, **kwds)\u001B[0m\n\u001B[1;32m    829\u001B[0m compiler \u001B[38;5;241m=\u001B[39m \u001B[38;5;124m\"\u001B[39m\u001B[38;5;124mxla\u001B[39m\u001B[38;5;124m\"\u001B[39m \u001B[38;5;28;01mif\u001B[39;00m \u001B[38;5;28mself\u001B[39m\u001B[38;5;241m.\u001B[39m_jit_compile \u001B[38;5;28;01melse\u001B[39;00m \u001B[38;5;124m\"\u001B[39m\u001B[38;5;124mnonXla\u001B[39m\u001B[38;5;124m\"\u001B[39m\n\u001B[1;32m    831\u001B[0m \u001B[38;5;28;01mwith\u001B[39;00m OptionalXlaContext(\u001B[38;5;28mself\u001B[39m\u001B[38;5;241m.\u001B[39m_jit_compile):\n\u001B[0;32m--> 832\u001B[0m   result \u001B[38;5;241m=\u001B[39m \u001B[38;5;28;43mself\u001B[39;49m\u001B[38;5;241;43m.\u001B[39;49m\u001B[43m_call\u001B[49m\u001B[43m(\u001B[49m\u001B[38;5;241;43m*\u001B[39;49m\u001B[43margs\u001B[49m\u001B[43m,\u001B[49m\u001B[43m \u001B[49m\u001B[38;5;241;43m*\u001B[39;49m\u001B[38;5;241;43m*\u001B[39;49m\u001B[43mkwds\u001B[49m\u001B[43m)\u001B[49m\n\u001B[1;32m    834\u001B[0m new_tracing_count \u001B[38;5;241m=\u001B[39m \u001B[38;5;28mself\u001B[39m\u001B[38;5;241m.\u001B[39mexperimental_get_tracing_count()\n\u001B[1;32m    835\u001B[0m without_tracing \u001B[38;5;241m=\u001B[39m (tracing_count \u001B[38;5;241m==\u001B[39m new_tracing_count)\n",
      "File \u001B[0;32m~/Unicamp/TCC/tcc/.venv/lib/python3.10/site-packages/tensorflow/python/eager/polymorphic_function/polymorphic_function.py:877\u001B[0m, in \u001B[0;36mFunction._call\u001B[0;34m(self, *args, **kwds)\u001B[0m\n\u001B[1;32m    874\u001B[0m \u001B[38;5;28mself\u001B[39m\u001B[38;5;241m.\u001B[39m_lock\u001B[38;5;241m.\u001B[39mrelease()\n\u001B[1;32m    875\u001B[0m \u001B[38;5;66;03m# In this case we have not created variables on the first call. So we can\u001B[39;00m\n\u001B[1;32m    876\u001B[0m \u001B[38;5;66;03m# run the first trace but we should fail if variables are created.\u001B[39;00m\n\u001B[0;32m--> 877\u001B[0m results \u001B[38;5;241m=\u001B[39m \u001B[43mtracing_compilation\u001B[49m\u001B[38;5;241;43m.\u001B[39;49m\u001B[43mcall_function\u001B[49m\u001B[43m(\u001B[49m\n\u001B[1;32m    878\u001B[0m \u001B[43m    \u001B[49m\u001B[43margs\u001B[49m\u001B[43m,\u001B[49m\u001B[43m \u001B[49m\u001B[43mkwds\u001B[49m\u001B[43m,\u001B[49m\u001B[43m \u001B[49m\u001B[38;5;28;43mself\u001B[39;49m\u001B[38;5;241;43m.\u001B[39;49m\u001B[43m_variable_creation_config\u001B[49m\n\u001B[1;32m    879\u001B[0m \u001B[43m\u001B[49m\u001B[43m)\u001B[49m\n\u001B[1;32m    880\u001B[0m \u001B[38;5;28;01mif\u001B[39;00m \u001B[38;5;28mself\u001B[39m\u001B[38;5;241m.\u001B[39m_created_variables:\n\u001B[1;32m    881\u001B[0m   \u001B[38;5;28;01mraise\u001B[39;00m \u001B[38;5;167;01mValueError\u001B[39;00m(\u001B[38;5;124m\"\u001B[39m\u001B[38;5;124mCreating variables on a non-first call to a function\u001B[39m\u001B[38;5;124m\"\u001B[39m\n\u001B[1;32m    882\u001B[0m                    \u001B[38;5;124m\"\u001B[39m\u001B[38;5;124m decorated with tf.function.\u001B[39m\u001B[38;5;124m\"\u001B[39m)\n",
      "File \u001B[0;32m~/Unicamp/TCC/tcc/.venv/lib/python3.10/site-packages/tensorflow/python/eager/polymorphic_function/tracing_compilation.py:139\u001B[0m, in \u001B[0;36mcall_function\u001B[0;34m(args, kwargs, tracing_options)\u001B[0m\n\u001B[1;32m    137\u001B[0m bound_args \u001B[38;5;241m=\u001B[39m function\u001B[38;5;241m.\u001B[39mfunction_type\u001B[38;5;241m.\u001B[39mbind(\u001B[38;5;241m*\u001B[39margs, \u001B[38;5;241m*\u001B[39m\u001B[38;5;241m*\u001B[39mkwargs)\n\u001B[1;32m    138\u001B[0m flat_inputs \u001B[38;5;241m=\u001B[39m function\u001B[38;5;241m.\u001B[39mfunction_type\u001B[38;5;241m.\u001B[39munpack_inputs(bound_args)\n\u001B[0;32m--> 139\u001B[0m \u001B[38;5;28;01mreturn\u001B[39;00m \u001B[43mfunction\u001B[49m\u001B[38;5;241;43m.\u001B[39;49m\u001B[43m_call_flat\u001B[49m\u001B[43m(\u001B[49m\u001B[43m  \u001B[49m\u001B[38;5;66;43;03m# pylint: disable=protected-access\u001B[39;49;00m\n\u001B[1;32m    140\u001B[0m \u001B[43m    \u001B[49m\u001B[43mflat_inputs\u001B[49m\u001B[43m,\u001B[49m\u001B[43m \u001B[49m\u001B[43mcaptured_inputs\u001B[49m\u001B[38;5;241;43m=\u001B[39;49m\u001B[43mfunction\u001B[49m\u001B[38;5;241;43m.\u001B[39;49m\u001B[43mcaptured_inputs\u001B[49m\n\u001B[1;32m    141\u001B[0m \u001B[43m\u001B[49m\u001B[43m)\u001B[49m\n",
      "File \u001B[0;32m~/Unicamp/TCC/tcc/.venv/lib/python3.10/site-packages/tensorflow/python/eager/polymorphic_function/concrete_function.py:1323\u001B[0m, in \u001B[0;36mConcreteFunction._call_flat\u001B[0;34m(self, tensor_inputs, captured_inputs)\u001B[0m\n\u001B[1;32m   1319\u001B[0m possible_gradient_type \u001B[38;5;241m=\u001B[39m gradients_util\u001B[38;5;241m.\u001B[39mPossibleTapeGradientTypes(args)\n\u001B[1;32m   1320\u001B[0m \u001B[38;5;28;01mif\u001B[39;00m (possible_gradient_type \u001B[38;5;241m==\u001B[39m gradients_util\u001B[38;5;241m.\u001B[39mPOSSIBLE_GRADIENT_TYPES_NONE\n\u001B[1;32m   1321\u001B[0m     \u001B[38;5;129;01mand\u001B[39;00m executing_eagerly):\n\u001B[1;32m   1322\u001B[0m   \u001B[38;5;66;03m# No tape is watching; skip to running the function.\u001B[39;00m\n\u001B[0;32m-> 1323\u001B[0m   \u001B[38;5;28;01mreturn\u001B[39;00m \u001B[38;5;28;43mself\u001B[39;49m\u001B[38;5;241;43m.\u001B[39;49m\u001B[43m_inference_function\u001B[49m\u001B[38;5;241;43m.\u001B[39;49m\u001B[43mcall_preflattened\u001B[49m\u001B[43m(\u001B[49m\u001B[43margs\u001B[49m\u001B[43m)\u001B[49m\n\u001B[1;32m   1324\u001B[0m forward_backward \u001B[38;5;241m=\u001B[39m \u001B[38;5;28mself\u001B[39m\u001B[38;5;241m.\u001B[39m_select_forward_and_backward_functions(\n\u001B[1;32m   1325\u001B[0m     args,\n\u001B[1;32m   1326\u001B[0m     possible_gradient_type,\n\u001B[1;32m   1327\u001B[0m     executing_eagerly)\n\u001B[1;32m   1328\u001B[0m forward_function, args_with_tangents \u001B[38;5;241m=\u001B[39m forward_backward\u001B[38;5;241m.\u001B[39mforward()\n",
      "File \u001B[0;32m~/Unicamp/TCC/tcc/.venv/lib/python3.10/site-packages/tensorflow/python/eager/polymorphic_function/atomic_function.py:216\u001B[0m, in \u001B[0;36mAtomicFunction.call_preflattened\u001B[0;34m(self, args)\u001B[0m\n\u001B[1;32m    214\u001B[0m \u001B[38;5;28;01mdef\u001B[39;00m \u001B[38;5;21mcall_preflattened\u001B[39m(\u001B[38;5;28mself\u001B[39m, args: Sequence[core\u001B[38;5;241m.\u001B[39mTensor]) \u001B[38;5;241m-\u001B[39m\u001B[38;5;241m>\u001B[39m Any:\n\u001B[1;32m    215\u001B[0m \u001B[38;5;250m  \u001B[39m\u001B[38;5;124;03m\"\"\"Calls with flattened tensor inputs and returns the structured output.\"\"\"\u001B[39;00m\n\u001B[0;32m--> 216\u001B[0m   flat_outputs \u001B[38;5;241m=\u001B[39m \u001B[38;5;28;43mself\u001B[39;49m\u001B[38;5;241;43m.\u001B[39;49m\u001B[43mcall_flat\u001B[49m\u001B[43m(\u001B[49m\u001B[38;5;241;43m*\u001B[39;49m\u001B[43margs\u001B[49m\u001B[43m)\u001B[49m\n\u001B[1;32m    217\u001B[0m   \u001B[38;5;28;01mreturn\u001B[39;00m \u001B[38;5;28mself\u001B[39m\u001B[38;5;241m.\u001B[39mfunction_type\u001B[38;5;241m.\u001B[39mpack_output(flat_outputs)\n",
      "File \u001B[0;32m~/Unicamp/TCC/tcc/.venv/lib/python3.10/site-packages/tensorflow/python/eager/polymorphic_function/atomic_function.py:251\u001B[0m, in \u001B[0;36mAtomicFunction.call_flat\u001B[0;34m(self, *args)\u001B[0m\n\u001B[1;32m    249\u001B[0m \u001B[38;5;28;01mwith\u001B[39;00m record\u001B[38;5;241m.\u001B[39mstop_recording():\n\u001B[1;32m    250\u001B[0m   \u001B[38;5;28;01mif\u001B[39;00m \u001B[38;5;28mself\u001B[39m\u001B[38;5;241m.\u001B[39m_bound_context\u001B[38;5;241m.\u001B[39mexecuting_eagerly():\n\u001B[0;32m--> 251\u001B[0m     outputs \u001B[38;5;241m=\u001B[39m \u001B[38;5;28;43mself\u001B[39;49m\u001B[38;5;241;43m.\u001B[39;49m\u001B[43m_bound_context\u001B[49m\u001B[38;5;241;43m.\u001B[39;49m\u001B[43mcall_function\u001B[49m\u001B[43m(\u001B[49m\n\u001B[1;32m    252\u001B[0m \u001B[43m        \u001B[49m\u001B[38;5;28;43mself\u001B[39;49m\u001B[38;5;241;43m.\u001B[39;49m\u001B[43mname\u001B[49m\u001B[43m,\u001B[49m\n\u001B[1;32m    253\u001B[0m \u001B[43m        \u001B[49m\u001B[38;5;28;43mlist\u001B[39;49m\u001B[43m(\u001B[49m\u001B[43margs\u001B[49m\u001B[43m)\u001B[49m\u001B[43m,\u001B[49m\n\u001B[1;32m    254\u001B[0m \u001B[43m        \u001B[49m\u001B[38;5;28;43mlen\u001B[39;49m\u001B[43m(\u001B[49m\u001B[38;5;28;43mself\u001B[39;49m\u001B[38;5;241;43m.\u001B[39;49m\u001B[43mfunction_type\u001B[49m\u001B[38;5;241;43m.\u001B[39;49m\u001B[43mflat_outputs\u001B[49m\u001B[43m)\u001B[49m\u001B[43m,\u001B[49m\n\u001B[1;32m    255\u001B[0m \u001B[43m    \u001B[49m\u001B[43m)\u001B[49m\n\u001B[1;32m    256\u001B[0m   \u001B[38;5;28;01melse\u001B[39;00m:\n\u001B[1;32m    257\u001B[0m     outputs \u001B[38;5;241m=\u001B[39m make_call_op_in_graph(\n\u001B[1;32m    258\u001B[0m         \u001B[38;5;28mself\u001B[39m,\n\u001B[1;32m    259\u001B[0m         \u001B[38;5;28mlist\u001B[39m(args),\n\u001B[1;32m    260\u001B[0m         \u001B[38;5;28mself\u001B[39m\u001B[38;5;241m.\u001B[39m_bound_context\u001B[38;5;241m.\u001B[39mfunction_call_options\u001B[38;5;241m.\u001B[39mas_attrs(),\n\u001B[1;32m    261\u001B[0m     )\n",
      "File \u001B[0;32m~/Unicamp/TCC/tcc/.venv/lib/python3.10/site-packages/tensorflow/python/eager/context.py:1486\u001B[0m, in \u001B[0;36mContext.call_function\u001B[0;34m(self, name, tensor_inputs, num_outputs)\u001B[0m\n\u001B[1;32m   1484\u001B[0m cancellation_context \u001B[38;5;241m=\u001B[39m cancellation\u001B[38;5;241m.\u001B[39mcontext()\n\u001B[1;32m   1485\u001B[0m \u001B[38;5;28;01mif\u001B[39;00m cancellation_context \u001B[38;5;129;01mis\u001B[39;00m \u001B[38;5;28;01mNone\u001B[39;00m:\n\u001B[0;32m-> 1486\u001B[0m   outputs \u001B[38;5;241m=\u001B[39m \u001B[43mexecute\u001B[49m\u001B[38;5;241;43m.\u001B[39;49m\u001B[43mexecute\u001B[49m\u001B[43m(\u001B[49m\n\u001B[1;32m   1487\u001B[0m \u001B[43m      \u001B[49m\u001B[43mname\u001B[49m\u001B[38;5;241;43m.\u001B[39;49m\u001B[43mdecode\u001B[49m\u001B[43m(\u001B[49m\u001B[38;5;124;43m\"\u001B[39;49m\u001B[38;5;124;43mutf-8\u001B[39;49m\u001B[38;5;124;43m\"\u001B[39;49m\u001B[43m)\u001B[49m\u001B[43m,\u001B[49m\n\u001B[1;32m   1488\u001B[0m \u001B[43m      \u001B[49m\u001B[43mnum_outputs\u001B[49m\u001B[38;5;241;43m=\u001B[39;49m\u001B[43mnum_outputs\u001B[49m\u001B[43m,\u001B[49m\n\u001B[1;32m   1489\u001B[0m \u001B[43m      \u001B[49m\u001B[43minputs\u001B[49m\u001B[38;5;241;43m=\u001B[39;49m\u001B[43mtensor_inputs\u001B[49m\u001B[43m,\u001B[49m\n\u001B[1;32m   1490\u001B[0m \u001B[43m      \u001B[49m\u001B[43mattrs\u001B[49m\u001B[38;5;241;43m=\u001B[39;49m\u001B[43mattrs\u001B[49m\u001B[43m,\u001B[49m\n\u001B[1;32m   1491\u001B[0m \u001B[43m      \u001B[49m\u001B[43mctx\u001B[49m\u001B[38;5;241;43m=\u001B[39;49m\u001B[38;5;28;43mself\u001B[39;49m\u001B[43m,\u001B[49m\n\u001B[1;32m   1492\u001B[0m \u001B[43m  \u001B[49m\u001B[43m)\u001B[49m\n\u001B[1;32m   1493\u001B[0m \u001B[38;5;28;01melse\u001B[39;00m:\n\u001B[1;32m   1494\u001B[0m   outputs \u001B[38;5;241m=\u001B[39m execute\u001B[38;5;241m.\u001B[39mexecute_with_cancellation(\n\u001B[1;32m   1495\u001B[0m       name\u001B[38;5;241m.\u001B[39mdecode(\u001B[38;5;124m\"\u001B[39m\u001B[38;5;124mutf-8\u001B[39m\u001B[38;5;124m\"\u001B[39m),\n\u001B[1;32m   1496\u001B[0m       num_outputs\u001B[38;5;241m=\u001B[39mnum_outputs,\n\u001B[0;32m   (...)\u001B[0m\n\u001B[1;32m   1500\u001B[0m       cancellation_manager\u001B[38;5;241m=\u001B[39mcancellation_context,\n\u001B[1;32m   1501\u001B[0m   )\n",
      "File \u001B[0;32m~/Unicamp/TCC/tcc/.venv/lib/python3.10/site-packages/tensorflow/python/eager/execute.py:53\u001B[0m, in \u001B[0;36mquick_execute\u001B[0;34m(op_name, num_outputs, inputs, attrs, ctx, name)\u001B[0m\n\u001B[1;32m     51\u001B[0m \u001B[38;5;28;01mtry\u001B[39;00m:\n\u001B[1;32m     52\u001B[0m   ctx\u001B[38;5;241m.\u001B[39mensure_initialized()\n\u001B[0;32m---> 53\u001B[0m   tensors \u001B[38;5;241m=\u001B[39m \u001B[43mpywrap_tfe\u001B[49m\u001B[38;5;241;43m.\u001B[39;49m\u001B[43mTFE_Py_Execute\u001B[49m\u001B[43m(\u001B[49m\u001B[43mctx\u001B[49m\u001B[38;5;241;43m.\u001B[39;49m\u001B[43m_handle\u001B[49m\u001B[43m,\u001B[49m\u001B[43m \u001B[49m\u001B[43mdevice_name\u001B[49m\u001B[43m,\u001B[49m\u001B[43m \u001B[49m\u001B[43mop_name\u001B[49m\u001B[43m,\u001B[49m\n\u001B[1;32m     54\u001B[0m \u001B[43m                                      \u001B[49m\u001B[43minputs\u001B[49m\u001B[43m,\u001B[49m\u001B[43m \u001B[49m\u001B[43mattrs\u001B[49m\u001B[43m,\u001B[49m\u001B[43m \u001B[49m\u001B[43mnum_outputs\u001B[49m\u001B[43m)\u001B[49m\n\u001B[1;32m     55\u001B[0m \u001B[38;5;28;01mexcept\u001B[39;00m core\u001B[38;5;241m.\u001B[39m_NotOkStatusException \u001B[38;5;28;01mas\u001B[39;00m e:\n\u001B[1;32m     56\u001B[0m   \u001B[38;5;28;01mif\u001B[39;00m name \u001B[38;5;129;01mis\u001B[39;00m \u001B[38;5;129;01mnot\u001B[39;00m \u001B[38;5;28;01mNone\u001B[39;00m:\n",
      "\u001B[0;31mKeyboardInterrupt\u001B[0m: "
     ]
    }
   ],
   "source": [
    "autoencoder = Autoencoder.create_and_train_auto_encoder(training_data, epoches, batch_size)"
   ]
  },
  {
   "cell_type": "code",
   "execution_count": 6,
   "id": "86f1344e5856c64",
   "metadata": {
    "collapsed": false,
    "ExecuteTime": {
     "end_time": "2024-06-01T19:22:56.399805800Z",
     "start_time": "2024-06-01T19:22:56.350866500Z"
    }
   },
   "outputs": [],
   "source": [
    "# Gerar dados de teste\n",
    "amostras_ruidosas = []\n",
    "amostras_originais = []\n",
    "ML_result = []\n",
    "tradicional_result = []\n",
    "autoencoder_result = []\n"
   ]
  },
  {
   "cell_type": "code",
   "execution_count": 7,
   "id": "7f720926d3e1ad4a",
   "metadata": {
    "collapsed": false,
    "ExecuteTime": {
     "end_time": "2024-06-01T19:22:56.495467600Z",
     "start_time": "2024-06-01T19:22:56.398628300Z"
    }
   },
   "outputs": [],
   "source": [
    "test_data = {\n",
    "    'original': [],\n",
    "    'info': []\n",
    "}\n",
    "test_sample_length = 10 ** 3\n",
    "test_information = network.get_training_data_set(test_sample_length)\n",
    "\n",
    "for eb_db in Eb_dB_values:\n",
    "    info = network.generate_data_for_training(test_information, eb_db, variancia)\n",
    "    test_data['info'].append(info)\n",
    "    test_data['original'] = info['original_data']"
   ]
  },
  {
   "cell_type": "code",
   "execution_count": 8,
   "id": "92478d60195b350d",
   "metadata": {
    "collapsed": false,
    "ExecuteTime": {
     "end_time": "2024-06-01T19:22:56.666887600Z",
     "start_time": "2024-06-01T19:22:56.496581500Z"
    }
   },
   "outputs": [],
   "source": [
    "i = 0\n",
    "autoencoder_result.append(network.decode_and_correct(test_data['info'][i]['split_noisy_original_data_15_11'], autoencoder))\n",
    "ML_result.append(network.decode_and_correct(test_data['info'][i]['split_noisy_original_data_15_11'], model))"
   ]
  },
  {
   "cell_type": "code",
   "execution_count": 9,
   "id": "72e3dc0bb0a81867",
   "metadata": {
    "collapsed": false,
    "ExecuteTime": {
     "end_time": "2024-06-01T19:22:56.736349400Z",
     "start_time": "2024-06-01T19:22:56.673762100Z"
    }
   },
   "outputs": [],
   "source": [
    "i = 1\n",
    "autoencoder_result.append(network.decode_and_correct(test_data['info'][i]['split_noisy_original_data_15_11'], autoencoder))\n",
    "ML_result.append(network.decode_and_correct(test_data['info'][i]['split_noisy_original_data_15_11'], model))"
   ]
  },
  {
   "cell_type": "code",
   "execution_count": 10,
   "id": "8304e6274557f9db",
   "metadata": {
    "collapsed": false,
    "ExecuteTime": {
     "end_time": "2024-06-01T19:22:56.821925200Z",
     "start_time": "2024-06-01T19:22:56.747021600Z"
    }
   },
   "outputs": [],
   "source": [
    "i = 2\n",
    "autoencoder_result.append(network.decode_and_correct(test_data['info'][i]['split_noisy_original_data_15_11'], autoencoder))\n",
    "ML_result.append(network.decode_and_correct(test_data['info'][i]['split_noisy_original_data_15_11'], model))"
   ]
  },
  {
   "cell_type": "code",
   "execution_count": 11,
   "id": "92f2ef9d94186818",
   "metadata": {
    "collapsed": false,
    "ExecuteTime": {
     "end_time": "2024-06-01T19:22:56.880354400Z",
     "start_time": "2024-06-01T19:22:56.816094800Z"
    }
   },
   "outputs": [],
   "source": [
    "i = 3\n",
    "autoencoder_result.append(network.decode_and_correct(test_data['info'][i]['split_noisy_original_data_15_11'], autoencoder))\n",
    "ML_result.append(network.decode_and_correct(test_data['info'][i]['split_noisy_original_data_15_11'], model))\n"
   ]
  },
  {
   "cell_type": "code",
   "execution_count": 12,
   "id": "10b7ea5cd5b31971",
   "metadata": {
    "collapsed": false,
    "ExecuteTime": {
     "end_time": "2024-06-01T19:22:56.962899500Z",
     "start_time": "2024-06-01T19:22:56.886099Z"
    }
   },
   "outputs": [],
   "source": [
    "i = 4\n",
    "autoencoder_result.append(network.decode_and_correct(test_data['info'][i]['split_noisy_original_data_15_11'], autoencoder))\n",
    "ML_result.append(network.decode_and_correct(test_data['info'][i]['split_noisy_original_data_15_11'], model))\n"
   ]
  },
  {
   "cell_type": "code",
   "execution_count": 13,
   "id": "b89dc1d26fc5c62",
   "metadata": {
    "collapsed": false,
    "ExecuteTime": {
     "end_time": "2024-06-01T19:22:57.028906300Z",
     "start_time": "2024-06-01T19:22:56.957179500Z"
    }
   },
   "outputs": [],
   "source": [
    "i = 5\n",
    "autoencoder_result.append(network.decode_and_correct(test_data['info'][i]['split_noisy_original_data_15_11'], autoencoder))\n",
    "ML_result.append(network.decode_and_correct(test_data['info'][i]['split_noisy_original_data_15_11'], model))"
   ]
  },
  {
   "cell_type": "code",
   "execution_count": 14,
   "id": "77b4e5024678da5f",
   "metadata": {
    "collapsed": false,
    "ExecuteTime": {
     "end_time": "2024-06-01T19:22:57.106022Z",
     "start_time": "2024-06-01T19:22:57.035364400Z"
    }
   },
   "outputs": [],
   "source": [
    "i = 6\n",
    "autoencoder_result.append(network.decode_and_correct(test_data['info'][i]['split_noisy_original_data_15_11'], autoencoder))\n",
    "ML_result.append(network.decode_and_correct(test_data['info'][i]['split_noisy_original_data_15_11'], model))\n"
   ]
  },
  {
   "cell_type": "code",
   "execution_count": 15,
   "id": "b27dc1c73c47c737",
   "metadata": {
    "collapsed": false,
    "ExecuteTime": {
     "end_time": "2024-06-01T19:22:57.178754400Z",
     "start_time": "2024-06-01T19:22:57.111804800Z"
    }
   },
   "outputs": [],
   "source": [
    "i = 7\n",
    "autoencoder_result.append(network.decode_and_correct(test_data['info'][i]['split_noisy_original_data_15_11'], autoencoder))\n",
    "ML_result.append(network.decode_and_correct(test_data['info'][i]['split_noisy_original_data_15_11'], model))\n"
   ]
  },
  {
   "cell_type": "code",
   "execution_count": 16,
   "id": "ecd06b38335dffff",
   "metadata": {
    "collapsed": false,
    "ExecuteTime": {
     "end_time": "2024-06-01T19:22:57.250164300Z",
     "start_time": "2024-06-01T19:22:57.186999300Z"
    }
   },
   "outputs": [],
   "source": [
    "i = 8\n",
    "autoencoder_result.append(network.decode_and_correct(test_data['info'][i]['split_noisy_original_data_15_11'], autoencoder))\n",
    "ML_result.append(network.decode_and_correct(test_data['info'][i]['split_noisy_original_data_15_11'], model))\n"
   ]
  },
  {
   "cell_type": "code",
   "execution_count": 17,
   "id": "52405c0bdc7eb8af",
   "metadata": {
    "collapsed": false,
    "ExecuteTime": {
     "end_time": "2024-06-01T19:22:57.319183800Z",
     "start_time": "2024-06-01T19:22:57.256359500Z"
    }
   },
   "outputs": [],
   "source": [
    "i = 9\n",
    "autoencoder_result.append(network.decode_and_correct(test_data['info'][i]['split_noisy_original_data_15_11'], autoencoder))\n",
    "ML_result.append(network.decode_and_correct(test_data['info'][i]['split_noisy_original_data_15_11'], model))\n"
   ]
  },
  {
   "cell_type": "code",
   "execution_count": 18,
   "id": "f7d42586607c275c",
   "metadata": {
    "collapsed": false,
    "ExecuteTime": {
     "end_time": "2024-06-01T19:22:57.397765500Z",
     "start_time": "2024-06-01T19:22:57.328774700Z"
    }
   },
   "outputs": [],
   "source": [
    "i = 10\n",
    "autoencoder_result.append(network.decode_and_correct(test_data['info'][i]['split_noisy_original_data_15_11'], autoencoder))\n",
    "ML_result.append(network.decode_and_correct(test_data['info'][i]['split_noisy_original_data_15_11'], model))\n"
   ]
  },
  {
   "cell_type": "code",
   "execution_count": 19,
   "id": "649e1eba901de9dd",
   "metadata": {
    "collapsed": false,
    "ExecuteTime": {
     "end_time": "2024-06-01T19:22:57.457823Z",
     "start_time": "2024-06-01T19:22:57.395172800Z"
    }
   },
   "outputs": [],
   "source": [
    "i = 11\n",
    "autoencoder_result.append(network.decode_and_correct(test_data['info'][i]['split_noisy_original_data_15_11'], autoencoder))\n",
    "ML_result.append(network.decode_and_correct(test_data['info'][i]['split_noisy_original_data_15_11'], model))\n"
   ]
  },
  {
   "cell_type": "code",
   "execution_count": 20,
   "id": "58eed42c1b38f69f",
   "metadata": {
    "collapsed": false,
    "ExecuteTime": {
     "end_time": "2024-06-01T19:22:57.528714300Z",
     "start_time": "2024-06-01T19:22:57.464826300Z"
    }
   },
   "outputs": [],
   "source": [
    "i = 12\n",
    "autoencoder_result.append(network.decode_and_correct(test_data['info'][i]['split_noisy_original_data_15_11'], autoencoder))\n",
    "ML_result.append(network.decode_and_correct(test_data['info'][i]['split_noisy_original_data_15_11'], model))\n"
   ]
  },
  {
   "cell_type": "code",
   "execution_count": 21,
   "id": "d4e42892a42effa8",
   "metadata": {
    "collapsed": false,
    "ExecuteTime": {
     "end_time": "2024-06-01T19:22:57.583571600Z",
     "start_time": "2024-06-01T19:22:57.534124100Z"
    }
   },
   "outputs": [],
   "source": [
    "#for i in test_data['info']:\n",
    "#    tradicional_result.append(HammingCode.decode_sample(i['split_encoded_data']))"
   ]
  },
  {
   "cell_type": "code",
   "execution_count": 22,
   "id": "a768bfbe55979643",
   "metadata": {
    "collapsed": false,
    "ExecuteTime": {
     "end_time": "2024-06-01T19:22:58.323761500Z",
     "start_time": "2024-06-01T19:22:57.583571600Z"
    }
   },
   "outputs": [
    {
     "name": "stdout",
     "output_type": "stream",
     "text": [
      "1001\n"
     ]
    },
    {
     "ename": "ValueError",
     "evalue": "operands could not be broadcast together with shapes (1001,) (1000,) ",
     "output_type": "error",
     "traceback": [
      "\u001B[0;31m---------------------------------------------------------------------------\u001B[0m",
      "\u001B[0;31mValueError\u001B[0m                                Traceback (most recent call last)",
      "Cell \u001B[0;32mIn[22], line 6\u001B[0m\n\u001B[1;32m      4\u001B[0m \u001B[38;5;28;01mfor\u001B[39;00m i \u001B[38;5;129;01min\u001B[39;00m \u001B[38;5;28mrange\u001B[39m(\u001B[38;5;241m0\u001B[39m, \u001B[38;5;28mlen\u001B[39m(autoencoder_result)):\n\u001B[1;32m      5\u001B[0m     \u001B[38;5;28mprint\u001B[39m(\u001B[38;5;28mlen\u001B[39m(ML_result[i]))\n\u001B[0;32m----> 6\u001B[0m     BER_ML\u001B[38;5;241m.\u001B[39mappend(np\u001B[38;5;241m.\u001B[39msum(\u001B[43mnp\u001B[49m\u001B[38;5;241;43m.\u001B[39;49m\u001B[43marray\u001B[49m\u001B[43m(\u001B[49m\u001B[43mML_result\u001B[49m\u001B[43m[\u001B[49m\u001B[43mi\u001B[49m\u001B[43m]\u001B[49m\u001B[43m)\u001B[49m\u001B[38;5;241;43m.\u001B[39;49m\u001B[43mastype\u001B[49m\u001B[43m(\u001B[49m\u001B[38;5;28;43mint\u001B[39;49m\u001B[43m)\u001B[49m\u001B[43m \u001B[49m\u001B[38;5;241;43m!=\u001B[39;49m\u001B[43m \u001B[49m\u001B[43mtest_data\u001B[49m\u001B[43m[\u001B[49m\u001B[38;5;124;43m'\u001B[39;49m\u001B[38;5;124;43moriginal\u001B[39;49m\u001B[38;5;124;43m'\u001B[39;49m\u001B[43m]\u001B[49m) \u001B[38;5;241m/\u001B[39m \u001B[38;5;28mlen\u001B[39m(test_data[\u001B[38;5;124m'\u001B[39m\u001B[38;5;124moriginal\u001B[39m\u001B[38;5;124m'\u001B[39m]))\n\u001B[1;32m      7\u001B[0m     \u001B[38;5;66;03m#BER_tradicional.append(np.sum(np.array(tradicional_result[i]).astype(int) != test_data['original']) / len(test_data['original']))\u001B[39;00m\n\u001B[1;32m      8\u001B[0m     BER_autoencoder\u001B[38;5;241m.\u001B[39mappend(np\u001B[38;5;241m.\u001B[39msum(np\u001B[38;5;241m.\u001B[39marray(autoencoder_result[i])\u001B[38;5;241m.\u001B[39mastype(\u001B[38;5;28mint\u001B[39m) \u001B[38;5;241m!=\u001B[39m test_data[\u001B[38;5;124m'\u001B[39m\u001B[38;5;124moriginal\u001B[39m\u001B[38;5;124m'\u001B[39m]) \u001B[38;5;241m/\u001B[39m \u001B[38;5;28mlen\u001B[39m(test_data[\u001B[38;5;124m'\u001B[39m\u001B[38;5;124moriginal\u001B[39m\u001B[38;5;124m'\u001B[39m]))\n",
      "\u001B[0;31mValueError\u001B[0m: operands could not be broadcast together with shapes (1001,) (1000,) "
     ]
    }
   ],
   "source": [
    "BER_tradicional = []\n",
    "BER_autoencoder = []\n",
    "BER_ML = []\n",
    "for i in range(0, len(autoencoder_result)):\n",
    "    print(len(ML_result[i]))\n",
    "    BER_ML.append(np.sum(np.array(ML_result[i]).astype(int) != test_data['original']) / len(test_data['original']))\n",
    "    #BER_tradicional.append(np.sum(np.array(tradicional_result[i]).astype(int) != test_data['original']) / len(test_data['original']))\n",
    "    BER_autoencoder.append(np.sum(np.array(autoencoder_result[i]).astype(int) != test_data['original']) / len(test_data['original']))\n",
    "    \n",
    "# Calcular a BER teórica\n",
    "Eb_coded = np.array([eb_db + 10*np.log10(code_rate) for eb_db in Eb_dB_values])\n",
    "Eb_values = 10**(Eb_coded/10)\n",
    "BER_teorica = 0.5 * erfc(np.sqrt(Eb_values))"
   ]
  },
  {
   "cell_type": "code",
   "execution_count": null,
   "id": "dd38a450efea265d",
   "metadata": {
    "collapsed": false,
    "ExecuteTime": {
     "end_time": "2024-06-01T19:22:58.347283500Z",
     "start_time": "2024-06-01T19:22:58.332666600Z"
    }
   },
   "outputs": [],
   "source": [
    "\n",
    "# Plotar as taxas de erro de bit simuladas e teóricas\n",
    "plt.figure(figsize=(10, 6))\n",
    "plt.semilogy(Eb_coded, BER_tradicional, linestyle = '--', label='Codificado')\n",
    "plt.semilogy(Eb_coded, BER_autoencoder, linestyle = '--', label='Autoencoder')\n",
    "plt.semilogy(Eb_coded, BER_ML, linestyle = '--', label='MLP')\n",
    "plt.semilogy(Eb_coded, BER_teorica, linestyle='--', label='Teórica')\n",
    "plt.xlabel('Eb/No (dB)')\n",
    "plt.ylabel('BER')\n",
    "plt.grid(True, which='both')\n",
    "plt.legend()\n",
    "plt.title('BER x Eb/No')\n",
    "plt.show()"
   ]
  },
  {
   "cell_type": "code",
   "outputs": [],
   "source": [],
   "metadata": {
    "collapsed": false,
    "ExecuteTime": {
     "start_time": "2024-06-01T19:22:58.340090Z"
    }
   },
   "id": "6c71e5745e08e1c",
   "execution_count": null
  },
  {
   "cell_type": "code",
   "outputs": [],
   "source": [],
   "metadata": {
    "collapsed": false,
    "ExecuteTime": {
     "start_time": "2024-06-01T19:22:58.340090Z"
    }
   },
   "id": "56fd06d38937a204"
  }
 ],
 "metadata": {
  "kernelspec": {
   "display_name": "Python 3 (ipykernel)",
   "language": "python",
   "name": "python3"
  },
  "language_info": {
   "codemirror_mode": {
    "name": "ipython",
    "version": 3
   },
   "file_extension": ".py",
   "mimetype": "text/x-python",
   "name": "python",
   "nbconvert_exporter": "python",
   "pygments_lexer": "ipython3",
   "version": "3.10.12"
  }
 },
 "nbformat": 4,
 "nbformat_minor": 5
}
