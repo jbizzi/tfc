{
 "cells": [
  {
   "cell_type": "code",
   "execution_count": 24,
   "id": "initial_id",
   "metadata": {
    "collapsed": true,
    "ExecuteTime": {
     "end_time": "2024-05-26T20:49:37.320642800Z",
     "start_time": "2024-05-26T20:49:37.059647Z"
    }
   },
   "outputs": [
    {
     "name": "stdout",
     "output_type": "stream",
     "text": [
      "The autoreload extension is already loaded. To reload it, use:\n",
      "  %reload_ext autoreload\n"
     ]
    }
   ],
   "source": [
    "%load_ext autoreload\n",
    "%autoreload 2\n",
    "import HammingCode\n",
    "import matplotlib.pyplot as plt\n",
    "import numpy as np\n",
    "from scipy.special import erfc\n",
    "import NeuralNetworkCorrection as network\n",
    "import Autoencoder\n",
    "import Utils"
   ]
  },
  {
   "cell_type": "code",
   "outputs": [],
   "source": [
    "# tamanho da amostra\n",
    "tamanho = 1e8\n",
    "variancia = 1\n",
    "code_rate = 4/7\n",
    "# amostra\n",
    "tamanho_amostra = 10**3\n",
    "Eb_dB_values = np.arange(-2, 11, 1)\n",
    "\n",
    "# ML data\n",
    "\n",
    "# Gerar dados de treinamento\n",
    "word_length = 4 # Tamanho padrão da entrada do hamming\n",
    "training_sample_length = 10 **3\n",
    "epoches = 200\n",
    "training_noisy_data = []\n",
    "training_original_data = []\n",
    "batch_size = 16\n",
    "\n"
   ],
   "metadata": {
    "collapsed": false,
    "ExecuteTime": {
     "end_time": "2024-05-26T20:49:37.447643500Z",
     "start_time": "2024-05-26T20:49:37.227642500Z"
    }
   },
   "id": "a5b56cf35e30f038",
   "execution_count": 25
  },
  {
   "cell_type": "code",
   "outputs": [],
   "source": [
    "training_data = {\n",
    "    'original': [],\n",
    "    'noisy': [],\n",
    "    'info': []\n",
    "}\n",
    "training_information = network.get_training_data_set(training_sample_length)\n",
    "\n",
    "for eb_db in Eb_dB_values:\n",
    "    info = network.generate_data_for_training(training_information, eb_db + 10*np.log10(code_rate), variancia)\n",
    "    training_data['info'].append(info)\n",
    "    training_data['noisy'].extend(info['split_encoded_data'])\n",
    "    training_data['original'].extend(info['split_original_data'])\n",
    "\n",
    "training_data['original'] = np.array(training_data['original'])\n",
    "training_data['noisy'] = np.array(training_data['noisy'])\n"
   ],
   "metadata": {
    "collapsed": false,
    "ExecuteTime": {
     "end_time": "2024-05-26T20:49:37.533643600Z",
     "start_time": "2024-05-26T20:49:37.333647Z"
    }
   },
   "id": "7b8afdcc790661ee",
   "execution_count": 26
  },
  {
   "cell_type": "code",
   "outputs": [],
   "source": [
    "# Criar e treinar a rede neural\n",
    "#model = network.train_neural_network(training_data, epoches, batch_size)"
   ],
   "metadata": {
    "collapsed": false,
    "ExecuteTime": {
     "end_time": "2024-05-26T20:49:37.668642100Z",
     "start_time": "2024-05-26T20:49:37.528643700Z"
    }
   },
   "id": "54fb41e7292daaf5",
   "execution_count": 27
  },
  {
   "cell_type": "code",
   "outputs": [],
   "source": [
    "#autoencoder = Autoencoder.create_and_train_auto_encoder(training_data, epoches, batch_size)\n"
   ],
   "metadata": {
    "collapsed": false,
    "ExecuteTime": {
     "end_time": "2024-05-26T20:49:37.767642900Z",
     "start_time": "2024-05-26T20:49:37.635653400Z"
    }
   },
   "id": "dabd2ca69967e1ae",
   "execution_count": 28
  },
  {
   "cell_type": "code",
   "outputs": [],
   "source": [
    "# Gerar dados de teste\n",
    "amostras_ruidosas = []\n",
    "amostras_originais = []\n",
    "ML_result = []\n",
    "tradicional_result = []\n",
    "autoencoder_result = []\n"
   ],
   "metadata": {
    "collapsed": false,
    "ExecuteTime": {
     "end_time": "2024-05-26T20:49:37.854642400Z",
     "start_time": "2024-05-26T20:49:37.761641900Z"
    }
   },
   "id": "86f1344e5856c64",
   "execution_count": 29
  },
  {
   "cell_type": "code",
   "outputs": [],
   "source": [
    "test_data = {\n",
    "    'original': [],\n",
    "    'info': []\n",
    "}\n",
    "test_sample_length = 10 ** 3\n",
    "test_information = network.get_training_data_set(test_sample_length)\n",
    "\n",
    "for eb_db in Eb_dB_values:\n",
    "    info = network.generate_data_for_training(test_information, eb_db + 10*np.log10(code_rate), variancia)\n",
    "    test_data['info'].append(info)\n",
    "    test_data['original'] = info['original_data']"
   ],
   "metadata": {
    "collapsed": false,
    "ExecuteTime": {
     "end_time": "2024-05-26T20:49:38.005641Z",
     "start_time": "2024-05-26T20:49:37.795816Z"
    }
   },
   "id": "7f720926d3e1ad4a",
   "execution_count": 30
  },
  {
   "cell_type": "code",
   "outputs": [],
   "source": [
    "i = 0\n",
    "#autoencoder_result.append(network.decode_and_correct(test_data['info'][i]['split_encoded_data'], autoencoder))\n",
    "#ML_result.append(network.decode_and_correct(test_data['info'][i]['split_encoded_data'], model))"
   ],
   "metadata": {
    "collapsed": false,
    "ExecuteTime": {
     "end_time": "2024-05-26T20:49:38.109649100Z",
     "start_time": "2024-05-26T20:49:37.970655200Z"
    }
   },
   "id": "92478d60195b350d",
   "execution_count": 31
  },
  {
   "cell_type": "code",
   "outputs": [],
   "source": [
    "i = 1\n",
    "#autoencoder_result.append(network.decode_and_correct(test_data['info'][i]['split_encoded_data'], autoencoder))\n",
    "#ML_result.append(network.decode_and_correct(test_data['info'][i]['split_encoded_data'], model))\n"
   ],
   "metadata": {
    "collapsed": false,
    "ExecuteTime": {
     "end_time": "2024-05-26T20:49:38.154643600Z",
     "start_time": "2024-05-26T20:49:38.038642200Z"
    }
   },
   "id": "72e3dc0bb0a81867",
   "execution_count": 32
  },
  {
   "cell_type": "code",
   "outputs": [],
   "source": [
    "i = 2\n",
    "#autoencoder_result.append(network.decode_and_correct(test_data['info'][i]['split_encoded_data'], autoencoder))\n",
    "#ML_result.append(network.decode_and_correct(test_data['info'][i]['split_encoded_data'], model))\n"
   ],
   "metadata": {
    "collapsed": false,
    "ExecuteTime": {
     "end_time": "2024-05-26T20:49:38.186642800Z",
     "start_time": "2024-05-26T20:49:38.111641300Z"
    }
   },
   "id": "8304e6274557f9db",
   "execution_count": 33
  },
  {
   "cell_type": "code",
   "outputs": [],
   "source": [
    "i = 3\n",
    "#autoencoder_result.append(network.decode_and_correct(test_data['info'][i]['split_encoded_data'], autoencoder))\n",
    "#ML_result.append(network.decode_and_correct(test_data['info'][i]['split_encoded_data'], model))\n"
   ],
   "metadata": {
    "collapsed": false,
    "ExecuteTime": {
     "end_time": "2024-05-26T20:49:38.257645600Z",
     "start_time": "2024-05-26T20:49:38.168640300Z"
    }
   },
   "id": "92f2ef9d94186818",
   "execution_count": 34
  },
  {
   "cell_type": "code",
   "outputs": [],
   "source": [
    "i = 4\n",
    "#autoencoder_result.append(network.decode_and_correct(test_data['info'][i]['split_encoded_data'], autoencoder))\n",
    "#ML_result.append(network.decode_and_correct(test_data['info'][i]['split_encoded_data'], model))\n"
   ],
   "metadata": {
    "collapsed": false,
    "ExecuteTime": {
     "end_time": "2024-05-26T20:49:38.304644600Z",
     "start_time": "2024-05-26T20:49:38.220640Z"
    }
   },
   "id": "10b7ea5cd5b31971",
   "execution_count": 35
  },
  {
   "cell_type": "code",
   "outputs": [],
   "source": [
    "i = 5\n",
    "#autoencoder_result.append(network.decode_and_correct(test_data['info'][i]['split_encoded_data'], autoencoder))\n",
    "#ML_result.append(network.decode_and_correct(test_data['info'][i]['split_encoded_data'], model))\n"
   ],
   "metadata": {
    "collapsed": false,
    "ExecuteTime": {
     "end_time": "2024-05-26T20:49:38.342641Z",
     "start_time": "2024-05-26T20:49:38.274649300Z"
    }
   },
   "id": "b89dc1d26fc5c62",
   "execution_count": 36
  },
  {
   "cell_type": "code",
   "outputs": [],
   "source": [
    "i = 6\n",
    "#autoencoder_result.append(network.decode_and_correct(test_data['info'][i]['split_encoded_data'], autoencoder))\n",
    "#ML_result.append(network.decode_and_correct(test_data['info'][i]['split_encoded_data'], model))\n"
   ],
   "metadata": {
    "collapsed": false,
    "ExecuteTime": {
     "end_time": "2024-05-26T20:49:38.419643400Z",
     "start_time": "2024-05-26T20:49:38.335642200Z"
    }
   },
   "id": "77b4e5024678da5f",
   "execution_count": 37
  },
  {
   "cell_type": "code",
   "outputs": [],
   "source": [
    "i = 7\n",
    "#autoencoder_result.append(network.decode_and_correct(test_data['info'][i]['split_encoded_data'], autoencoder))\n",
    "#ML_result.append(network.decode_and_correct(test_data['info'][i]['split_encoded_data'], model))\n"
   ],
   "metadata": {
    "collapsed": false,
    "ExecuteTime": {
     "end_time": "2024-05-26T20:49:38.519649Z",
     "start_time": "2024-05-26T20:49:38.400640300Z"
    }
   },
   "id": "b27dc1c73c47c737",
   "execution_count": 38
  },
  {
   "cell_type": "code",
   "outputs": [],
   "source": [
    "i = 8\n",
    "#autoencoder_result.append(network.decode_and_correct(test_data['info'][i]['split_encoded_data'], autoencoder))\n",
    "#ML_result.append(network.decode_and_correct(test_data['info'][i]['split_encoded_data'], model))\n"
   ],
   "metadata": {
    "collapsed": false,
    "ExecuteTime": {
     "end_time": "2024-05-26T20:49:38.557639800Z",
     "start_time": "2024-05-26T20:49:38.461642600Z"
    }
   },
   "id": "ecd06b38335dffff",
   "execution_count": 39
  },
  {
   "cell_type": "code",
   "outputs": [],
   "source": [
    "i = 9\n",
    "#autoencoder_result.append(network.decode_and_correct(test_data['info'][i]['split_encoded_data'], autoencoder))\n",
    "#ML_result.append(network.decode_and_correct(test_data['info'][i]['split_encoded_data'], model))\n"
   ],
   "metadata": {
    "collapsed": false,
    "ExecuteTime": {
     "end_time": "2024-05-26T20:49:38.561643500Z",
     "start_time": "2024-05-26T20:49:38.506647700Z"
    }
   },
   "id": "52405c0bdc7eb8af",
   "execution_count": 40
  },
  {
   "cell_type": "code",
   "outputs": [],
   "source": [
    "i = 10\n",
    "#autoencoder_result.append(network.decode_and_correct(test_data['info'][i]['split_encoded_data'], autoencoder))\n",
    "#ML_result.append(network.decode_and_correct(test_data['info'][i]['split_encoded_data'], model))\n"
   ],
   "metadata": {
    "collapsed": false,
    "ExecuteTime": {
     "end_time": "2024-05-26T20:49:38.665640500Z",
     "start_time": "2024-05-26T20:49:38.550640500Z"
    }
   },
   "id": "f7d42586607c275c",
   "execution_count": 41
  },
  {
   "cell_type": "code",
   "outputs": [],
   "source": [
    "i = 11\n",
    "#autoencoder_result.append(network.decode_and_correct(test_data['info'][i]['split_encoded_data'], autoencoder))\n",
    "#ML_result.append(network.decode_and_correct(test_data['info'][i]['split_encoded_data'], model))\n"
   ],
   "metadata": {
    "collapsed": false,
    "ExecuteTime": {
     "end_time": "2024-05-26T20:49:38.671650100Z",
     "start_time": "2024-05-26T20:49:38.599643100Z"
    }
   },
   "id": "649e1eba901de9dd",
   "execution_count": 42
  },
  {
   "cell_type": "code",
   "outputs": [],
   "source": [
    "i = 12\n",
    "#autoencoder_result.append(network.decode_and_correct(test_data['info'][i]['split_encoded_data'], autoencoder))\n",
    "#ML_result.append(network.decode_and_correct(test_data['info'][i]['split_encoded_data'], model))\n"
   ],
   "metadata": {
    "collapsed": false,
    "ExecuteTime": {
     "end_time": "2024-05-26T20:49:38.741645Z",
     "start_time": "2024-05-26T20:49:38.649646300Z"
    }
   },
   "id": "58eed42c1b38f69f",
   "execution_count": 43
  },
  {
   "cell_type": "code",
   "outputs": [],
   "source": [
    "for i in test_data['info']:\n",
    "    tradicional_result.append(HammingCode.decode_sample(i['split_encoded_data']))"
   ],
   "metadata": {
    "collapsed": false,
    "ExecuteTime": {
     "end_time": "2024-05-26T20:49:38.944643100Z",
     "start_time": "2024-05-26T20:49:38.702640100Z"
    }
   },
   "id": "d4e42892a42effa8",
   "execution_count": 44
  },
  {
   "cell_type": "code",
   "outputs": [],
   "source": [
    "BER_tradicional = []\n",
    "BER_autoencoder = []\n",
    "BER_ML = []\n",
    "for i in range(0, len(Eb_dB_values)):\n",
    " #   BER_ML.append(np.sum(np.array(ML_result[i]).astype(int) != test_data['original']) / len(test_data['original']))\n",
    "    BER_tradicional.append(np.sum(np.array(tradicional_result[i]).astype(int) != test_data['original']) / len(test_data['original']))\n",
    "    #BER_autoencoder.append(np.sum(np.array(autoencoder_result[i]).astype(int) != test_data['original']) / len(test_data['original']))\n",
    "\n",
    "def adjust_ber(snr):\n",
    "    adjusted_values = []\n",
    "    for value in snr:\n",
    "        correction = value * code_rate\n",
    "        adjusted_values.append(np.sqrt(correction))\n",
    "        \n",
    "    return adjusted_values\n",
    "\n",
    "#BER_ML = adjust_ber(BER_ML)\n",
    "#BER_tradicional = adjust_ber(BER_tradicional)\n",
    "#BER_autoencoder = adjust_ber(BER_autoencoder)\n",
    "\n",
    "# Calcular a BER teórica\n",
    "Eb_coded = np.array([eb_db + 10*np.log10(code_rate) for eb_db in Eb_dB_values])\n",
    "Eb_values = 10**(Eb_coded/10)\n",
    "BER_teorica = 0.5 * erfc(np.sqrt(Eb_values))"
   ],
   "metadata": {
    "collapsed": false,
    "ExecuteTime": {
     "end_time": "2024-05-26T20:50:10.764621900Z",
     "start_time": "2024-05-26T20:50:10.620577600Z"
    }
   },
   "id": "a768bfbe55979643",
   "execution_count": 48
  },
  {
   "cell_type": "code",
   "outputs": [
    {
     "data": {
      "text/plain": "<Figure size 1000x600 with 1 Axes>",
      "image/png": "[encoded data removed]"
     },
     "metadata": {},
     "output_type": "display_data"
    }
   ],
   "source": [
    "# Plotar as taxas de erro de bit simuladas e teóricas\n",
    "plt.figure(figsize=(10, 6))\n",
    "plt.semilogy(Eb_coded, BER_tradicional, linestyle = '--', label='BER Tradicional')\n",
    "#plt.semilogy(Eb_dB_values, BER_autoencoder, linestyle = '--', label='BER Autoencoder')\n",
    "#plt.semilogy(Eb_dB_values, BER_ML, linestyle = '--', label='BER MLP')\n",
    "plt.semilogy(Eb_coded, BER_teorica, linestyle='--', label='BER Teórica')\n",
    "plt.xlabel('Eb/No (dB)')\n",
    "plt.ylabel('BER')\n",
    "plt.grid(True, which='both')\n",
    "plt.legend()\n",
    "plt.title('BER x Eb/No')\n",
    "plt.show()"
   ],
   "metadata": {
    "collapsed": false,
    "ExecuteTime": {
     "end_time": "2024-05-26T20:50:37.827670200Z",
     "start_time": "2024-05-26T20:50:36.559174300Z"
    }
   },
   "id": "dd38a450efea265d",
   "execution_count": 50
  },
  {
   "cell_type": "code",
   "outputs": [],
   "source": [],
   "metadata": {
    "collapsed": false,
    "ExecuteTime": {
     "start_time": "2024-05-26T20:49:39.040639800Z"
    }
   },
   "id": "28db466032966bf",
   "execution_count": null
  },
  {
   "cell_type": "code",
   "outputs": [],
   "source": [],
   "metadata": {
    "collapsed": false,
    "ExecuteTime": {
     "end_time": "2024-05-26T20:49:39.061641400Z",
     "start_time": "2024-05-26T20:49:39.044642700Z"
    }
   },
   "id": "8d37e63a87e516e7",
   "execution_count": null
  }
 ],
 "metadata": {
  "kernelspec": {
   "display_name": "Python 3",
   "language": "python",
   "name": "python3"
  },
  "language_info": {
   "codemirror_mode": {
    "name": "ipython",
    "version": 2
   },
   "file_extension": ".py",
   "mimetype": "text/x-python",
   "name": "python",
   "nbconvert_exporter": "python",
   "pygments_lexer": "ipython2",
   "version": "2.7.6"
  }
 },
 "nbformat": 4,
 "nbformat_minor": 5
}
