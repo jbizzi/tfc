{
 "cells": [
  {
   "cell_type": "code",
   "execution_count": 1,
   "id": "initial_id",
   "metadata": {
    "collapsed": true,
    "jupyter": {
     "outputs_hidden": true
    },
    "ExecuteTime": {
     "end_time": "2024-06-10T19:45:02.455085100Z",
     "start_time": "2024-06-10T19:44:58.147412700Z"
    }
   },
   "outputs": [
    {
     "name": "stderr",
     "output_type": "stream",
     "text": [
      "2024-06-10 16:44:59.807197: E external/local_xla/xla/stream_executor/cuda/cuda_dnn.cc:9261] Unable to register cuDNN factory: Attempting to register factory for plugin cuDNN when one has already been registered\n",
      "2024-06-10 16:44:59.807278: E external/local_xla/xla/stream_executor/cuda/cuda_fft.cc:607] Unable to register cuFFT factory: Attempting to register factory for plugin cuFFT when one has already been registered\n",
      "2024-06-10 16:44:59.808806: E external/local_xla/xla/stream_executor/cuda/cuda_blas.cc:1515] Unable to register cuBLAS factory: Attempting to register factory for plugin cuBLAS when one has already been registered\n",
      "2024-06-10 16:44:59.819124: I tensorflow/core/platform/cpu_feature_guard.cc:182] This TensorFlow binary is optimized to use available CPU instructions in performance-critical operations.\n",
      "To enable the following instructions: AVX2 FMA, in other operations, rebuild TensorFlow with the appropriate compiler flags.\n",
      "2024-06-10 16:45:01.163540: W tensorflow/compiler/tf2tensorrt/utils/py_utils.cc:38] TF-TRT Warning: Could not find TensorRT\n"
     ]
    }
   ],
   "source": [
    "%load_ext autoreload\n",
    "%autoreload 2\n",
    "import HammingCode\n",
    "import matplotlib.pyplot as plt\n",
    "import numpy as np\n",
    "from scipy.special import erfc\n",
    "import NeuralNetworkCorrection as network\n",
    "import Autoencoder\n",
    "import tensorflow as tf\n"
   ]
  },
  {
   "cell_type": "code",
   "execution_count": 2,
   "id": "a5b56cf35e30f038",
   "metadata": {
    "collapsed": false,
    "ExecuteTime": {
     "end_time": "2024-06-10T19:45:02.521671700Z",
     "start_time": "2024-06-10T19:45:02.462624700Z"
    }
   },
   "outputs": [],
   "source": [
    "variancia = 1\n",
    "code_rate = 4/7\n",
    "# amostra\n",
    "Eb_dB_values = np.arange(-5, 12, 1)\n",
    "\n",
    "# Gerar dados de treinamento\n",
    "training_sample_length = 10 ** 5\n",
    "epoches = 15\n",
    "batch_size = 64"
   ]
  },
  {
   "cell_type": "code",
   "execution_count": 3,
   "id": "54fb41e7292daaf5",
   "metadata": {
    "collapsed": false,
    "ExecuteTime": {
     "end_time": "2024-06-10T19:45:02.573886500Z",
     "start_time": "2024-06-10T19:45:02.516252700Z"
    }
   },
   "outputs": [],
   "source": [
    "# Criar e treinar a rede neural\n",
    "#model = network.train_neural_network(training_data, epoches, batch_size)"
   ]
  },
  {
   "cell_type": "code",
   "execution_count": 4,
   "id": "dabd2ca69967e1ae",
   "metadata": {
    "collapsed": false,
    "ExecuteTime": {
     "end_time": "2024-06-10T19:45:02.639537200Z",
     "start_time": "2024-06-10T19:45:02.567884800Z"
    }
   },
   "outputs": [],
   "source": [
    "#autoencoder, encoder, decoder = Autoencoder.create_and_train_auto_encoder(training_data)"
   ]
  },
  {
   "cell_type": "code",
   "outputs": [],
   "source": [
    "#autoencoder = tf.keras.models.load_model('autoencoder')\n",
    "#model = tf.keras.models.load_model('mlp')"
   ],
   "metadata": {
    "collapsed": false,
    "ExecuteTime": {
     "end_time": "2024-06-10T19:45:02.695007400Z",
     "start_time": "2024-06-10T19:45:02.638668400Z"
    }
   },
   "id": "34de00483ae092e",
   "execution_count": 5
  },
  {
   "cell_type": "code",
   "execution_count": 6,
   "id": "86f1344e5856c64",
   "metadata": {
    "collapsed": false,
    "ExecuteTime": {
     "end_time": "2024-06-10T19:45:02.757758100Z",
     "start_time": "2024-06-10T19:45:02.689008500Z"
    }
   },
   "outputs": [],
   "source": [
    "# Gerar dados de teste\n",
    "amostras_ruidosas = []\n",
    "amostras_originais = []\n",
    "ML_result = []\n",
    "tradicional_result = []\n",
    "autoencoder_result = []\n"
   ]
  },
  {
   "cell_type": "code",
   "outputs": [],
   "source": [
    "#for eb_db in Eb_dB_values:\n",
    "#    tradicional_result = (HammingCode.decode_sample())\n"
   ],
   "metadata": {
    "collapsed": false,
    "ExecuteTime": {
     "end_time": "2024-06-10T19:45:02.822416700Z",
     "start_time": "2024-06-10T19:45:02.742223500Z"
    }
   },
   "id": "151a22e6bba5a4ba",
   "execution_count": 7
  },
  {
   "cell_type": "code",
   "execution_count": 8,
   "id": "7f720926d3e1ad4a",
   "metadata": {
    "collapsed": false,
    "ExecuteTime": {
     "end_time": "2024-06-10T19:45:21.386112900Z",
     "start_time": "2024-06-10T19:45:02.798824100Z"
    }
   },
   "outputs": [
    {
     "name": "stdout",
     "output_type": "stream",
     "text": [
      "-5\n",
      "-4\n",
      "-3\n",
      "-2\n",
      "-1\n",
      "0\n",
      "1\n",
      "2\n",
      "3\n",
      "4\n",
      "5\n",
      "6\n",
      "7\n",
      "8\n",
      "9\n",
      "10\n",
      "11\n"
     ]
    }
   ],
   "source": [
    "test_data = {\n",
    "    'original': [],\n",
    "    'info': []\n",
    "}\n",
    "test_sample_length = 10 ** 5\n",
    "test_information = network.get_training_data_set(test_sample_length)\n",
    "\n",
    "BER_tradicional = []\n",
    "BER_autoencoder = []\n",
    "BER_ML = []\n",
    "\n",
    "padded_array = []\n",
    "for eb_db in Eb_dB_values:\n",
    "    info = network.generate_data_for_training(test_information, eb_db, variancia)\n",
    "    test_data['original'] = info['original_data']\n",
    "    \n",
    "\n",
    "    #autoencoder_result = (network.decode_and_correct(info['split_noisy_original_data_15_11'], autoencoder))\n",
    "    ML_result = (network.decode_and_correct(info['split_noisy_original_data_15_11'], model))\n",
    "    #print(info['split_encoded_data'][0])\n",
    "    tradicional_result = (HammingCode.decode_sample(info['split_encoded_data']))\n",
    "    \n",
    "    padded_array = info['padded_array_original_data']\n",
    "    \n",
    "    #BER_ML.append(np.sum(np.array(ML_result).astype(int) != padded_array) / len(padded_array))\n",
    "    BER_tradicional.append(np.sum(np.array(tradicional_result).astype(int) != test_data['original']) / len(test_data['original']))\n",
    "    #BER_autoencoder.append(np.sum(np.array(autoencoder_result).astype(int) != padded_array) / len(padded_array))\n",
    "    print(eb_db)"
   ]
  },
  {
   "cell_type": "code",
   "execution_count": 9,
   "id": "a768bfbe55979643",
   "metadata": {
    "collapsed": false,
    "ExecuteTime": {
     "end_time": "2024-06-10T19:45:21.441055200Z",
     "start_time": "2024-06-10T19:45:21.379584500Z"
    }
   },
   "outputs": [],
   "source": [
    "# Calcular a BER teórica\n",
    "Eb_coded = np.array([eb_db + 10*np.log10(code_rate) for eb_db in Eb_dB_values])\n",
    "Eb_values = 10**(Eb_coded/10)\n",
    "BER_teorica_codificado = 0.5 * erfc(np.sqrt(Eb_values))\n",
    "\n",
    "Eb_values_BPSK = 10**(Eb_dB_values/10)\n",
    "BPSK = 0.5 * erfc(np.sqrt(Eb_values_BPSK))"
   ]
  },
  {
   "cell_type": "code",
   "execution_count": 11,
   "id": "dd38a450efea265d",
   "metadata": {
    "collapsed": false,
    "ExecuteTime": {
     "end_time": "2024-06-10T19:45:38.072847Z",
     "start_time": "2024-06-10T19:45:36.605943800Z"
    }
   },
   "outputs": [
    {
     "data": {
      "text/plain": "<Figure size 1000x600 with 1 Axes>",
      "image/png": "[encoded data removed]"
     },
     "metadata": {},
     "output_type": "display_data"
    }
   ],
   "source": [
    "# Plotar as taxas de erro de bit simuladas e teóricas\n",
    "plt.figure(figsize=(10, 6))\n",
    "plt.semilogy(Eb_dB_values, BER_tradicional, marker='o', linestyle='', label='Codificado')\n",
    "#plt.semilogy(Eb_dB_values, BER_autoencoder, marker='o',  linestyle='',label='Autoencoder')\n",
    "#plt.semilogy(Eb_dB_values, BER_ML, marker='o', linestyle='', label='MLP')\n",
    "plt.semilogy(Eb_dB_values, BPSK, marker='o', linestyle='', label='BPSK')\n",
    "#plt.semilogy(Eb_dB_values, BER_teorica_codificado, marker='o', linestyle='', label='Teórico codificado')\n",
    "\n",
    "plt.xlabel('Eb/No (dB)')\n",
    "plt.ylabel('BER')\n",
    "plt.grid(True, which='both')\n",
    "plt.legend()\n",
    "plt.title('BER x Eb/No')\n",
    "plt.show()"
   ]
  },
  {
   "cell_type": "code",
   "outputs": [],
   "source": [
    "\n"
   ],
   "metadata": {
    "collapsed": false,
    "ExecuteTime": {
     "end_time": "2024-06-10T19:45:22.214289300Z",
     "start_time": "2024-06-10T19:45:22.207758200Z"
    }
   },
   "id": "4bb791e602fc1c45",
   "execution_count": 10
  }
 ],
 "metadata": {
  "kernelspec": {
   "display_name": "Python 3 (ipykernel)",
   "language": "python",
   "name": "python3"
  },
  "language_info": {
   "codemirror_mode": {
    "name": "ipython",
    "version": 3
   },
   "file_extension": ".py",
   "mimetype": "text/x-python",
   "name": "python",
   "nbconvert_exporter": "python",
   "pygments_lexer": "ipython3",
   "version": "3.10.12"
  }
 },
 "nbformat": 4,
 "nbformat_minor": 5
}
