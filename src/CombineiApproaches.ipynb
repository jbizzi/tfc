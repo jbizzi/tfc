{
 "cells": [
  {
   "cell_type": "code",
   "execution_count": 1,
   "id": "initial_id",
   "metadata": {
    "collapsed": true,
    "jupyter": {
     "outputs_hidden": true
    },
    "ExecuteTime": {
     "end_time": "2024-06-07T17:37:01.704654700Z",
     "start_time": "2024-06-07T17:36:57.477203300Z"
    }
   },
   "outputs": [
    {
     "name": "stderr",
     "output_type": "stream",
     "text": [
      "2024-06-07 14:36:59.134661: E external/local_xla/xla/stream_executor/cuda/cuda_dnn.cc:9261] Unable to register cuDNN factory: Attempting to register factory for plugin cuDNN when one has already been registered\n",
      "2024-06-07 14:36:59.134755: E external/local_xla/xla/stream_executor/cuda/cuda_fft.cc:607] Unable to register cuFFT factory: Attempting to register factory for plugin cuFFT when one has already been registered\n",
      "2024-06-07 14:36:59.136426: E external/local_xla/xla/stream_executor/cuda/cuda_blas.cc:1515] Unable to register cuBLAS factory: Attempting to register factory for plugin cuBLAS when one has already been registered\n",
      "2024-06-07 14:36:59.147879: I tensorflow/core/platform/cpu_feature_guard.cc:182] This TensorFlow binary is optimized to use available CPU instructions in performance-critical operations.\n",
      "To enable the following instructions: AVX2 FMA, in other operations, rebuild TensorFlow with the appropriate compiler flags.\n",
      "2024-06-07 14:37:00.435111: W tensorflow/compiler/tf2tensorrt/utils/py_utils.cc:38] TF-TRT Warning: Could not find TensorRT\n"
     ]
    }
   ],
   "source": [
    "%load_ext autoreload\n",
    "%autoreload 2\n",
    "import HammingCode\n",
    "import matplotlib.pyplot as plt\n",
    "import numpy as np\n",
    "from scipy.special import erfc\n",
    "import NeuralNetworkCorrection as network\n",
    "import Autoencoder\n",
    "import tensorflow as tf"
   ]
  },
  {
   "cell_type": "code",
   "execution_count": 2,
   "id": "a5b56cf35e30f038",
   "metadata": {
    "collapsed": false,
    "ExecuteTime": {
     "end_time": "2024-06-07T17:37:01.761242200Z",
     "start_time": "2024-06-07T17:37:01.715655Z"
    }
   },
   "outputs": [],
   "source": [
    "variancia = 1\n",
    "code_rate = 4/7\n",
    "# amostra\n",
    "Eb_dB_values = np.arange(-5, 12, 1)\n",
    "\n",
    "# Gerar dados de treinamento\n",
    "training_sample_length = 10 ** 5\n",
    "epoches = 15\n",
    "batch_size = 64"
   ]
  },
  {
   "cell_type": "code",
   "execution_count": 3,
   "id": "7b8afdcc790661ee",
   "metadata": {
    "collapsed": false,
    "ExecuteTime": {
     "end_time": "2024-06-07T17:37:07.704021100Z",
     "start_time": "2024-06-07T17:37:01.761242200Z"
    }
   },
   "outputs": [],
   "source": [
    "training_data = {\n",
    "    'original': [],\n",
    "    'noisy': [],\n",
    "    'info': []\n",
    "}\n",
    "\n",
    "training_information = network.get_training_data_set(training_sample_length)\n",
    "\n",
    "for eb_db in Eb_dB_values:\n",
    "    info = network.generate_data_for_training(training_information, eb_db, variancia)\n",
    "    training_data['noisy'].extend(info['split_noisy_original_data_15_11'])\n",
    "    training_data['original'].extend(info['split_original_data_15_11'])\n",
    "\n",
    "training_data['noisy'] = np.array(training_data['noisy'])\n",
    "training_data['original'] = np.array(training_data['original'])"
   ]
  },
  {
   "cell_type": "code",
   "execution_count": 4,
   "id": "54fb41e7292daaf5",
   "metadata": {
    "collapsed": false,
    "ExecuteTime": {
     "end_time": "2024-06-07T17:40:29.509660Z",
     "start_time": "2024-06-07T17:37:07.711020100Z"
    }
   },
   "outputs": [
    {
     "name": "stdout",
     "output_type": "stream",
     "text": [
      "Epoch 1/15\n",
      "2174/2174 [==============================] - 15s 6ms/step - loss: 0.2868 - accuracy: 0.1850 - val_loss: 0.2812 - val_accuracy: 0.0673 - lr: 0.0010\n",
      "Epoch 2/15\n",
      "2174/2174 [==============================] - 13s 6ms/step - loss: 0.2809 - accuracy: 0.1797 - val_loss: 0.2781 - val_accuracy: 0.1344 - lr: 0.0010\n",
      "Epoch 3/15\n",
      "2174/2174 [==============================] - 13s 6ms/step - loss: 0.2800 - accuracy: 0.1874 - val_loss: 0.2805 - val_accuracy: 0.0985 - lr: 0.0010\n",
      "Epoch 4/15\n",
      "2174/2174 [==============================] - 14s 6ms/step - loss: 0.2793 - accuracy: 0.1876 - val_loss: 0.2785 - val_accuracy: 0.1788 - lr: 0.0010\n",
      "Epoch 5/15\n",
      "2174/2174 [==============================] - 13s 6ms/step - loss: 0.2786 - accuracy: 0.1865 - val_loss: 0.2786 - val_accuracy: 0.2665 - lr: 0.0010\n",
      "Epoch 6/15\n",
      "2174/2174 [==============================] - 13s 6ms/step - loss: 0.2781 - accuracy: 0.1885 - val_loss: 0.2782 - val_accuracy: 0.1901 - lr: 0.0010\n",
      "Epoch 7/15\n",
      "2174/2174 [==============================] - 13s 6ms/step - loss: 0.2775 - accuracy: 0.1915 - val_loss: 0.2777 - val_accuracy: 0.1867 - lr: 0.0010\n",
      "Epoch 8/15\n",
      "2174/2174 [==============================] - 14s 6ms/step - loss: 0.2769 - accuracy: 0.1938 - val_loss: 0.2771 - val_accuracy: 0.0634 - lr: 0.0010\n",
      "Epoch 9/15\n",
      "2174/2174 [==============================] - 13s 6ms/step - loss: 0.2763 - accuracy: 0.1954 - val_loss: 0.2781 - val_accuracy: 0.2773 - lr: 0.0010\n",
      "Epoch 10/15\n",
      "2174/2174 [==============================] - 13s 6ms/step - loss: 0.2760 - accuracy: 0.1954 - val_loss: 0.2774 - val_accuracy: 0.1906 - lr: 0.0010\n",
      "Epoch 11/15\n",
      "2174/2174 [==============================] - 13s 6ms/step - loss: 0.2756 - accuracy: 0.1955 - val_loss: 0.2781 - val_accuracy: 0.2173 - lr: 0.0010\n",
      "Epoch 12/15\n",
      "2174/2174 [==============================] - 13s 6ms/step - loss: 0.2752 - accuracy: 0.1945 - val_loss: 0.2764 - val_accuracy: 0.2832 - lr: 0.0010\n",
      "Epoch 13/15\n",
      "2174/2174 [==============================] - 13s 6ms/step - loss: 0.2749 - accuracy: 0.2027 - val_loss: 0.2767 - val_accuracy: 0.0977 - lr: 0.0010\n",
      "Epoch 14/15\n",
      "2174/2174 [==============================] - 13s 6ms/step - loss: 0.2745 - accuracy: 0.1931 - val_loss: 0.2753 - val_accuracy: 0.2561 - lr: 0.0010\n",
      "Epoch 15/15\n",
      "2174/2174 [==============================] - 13s 6ms/step - loss: 0.2742 - accuracy: 0.2022 - val_loss: 0.2767 - val_accuracy: 0.0761 - lr: 0.0010\n",
      "483/483 [==============================] - 1s 3ms/step - loss: 0.2767 - accuracy: 0.0761\n",
      "Loss: 0.2767324447631836\n",
      "Accuracy: 0.07609187811613083\n"
     ]
    }
   ],
   "source": [
    "# Criar e treinar a rede neural\n",
    "model = network.train_neural_network(training_data, epoches, batch_size)"
   ]
  },
  {
   "cell_type": "code",
   "execution_count": 5,
   "id": "dabd2ca69967e1ae",
   "metadata": {
    "collapsed": false,
    "ExecuteTime": {
     "end_time": "2024-06-07T17:40:29.554206700Z",
     "start_time": "2024-06-07T17:40:29.502848400Z"
    }
   },
   "outputs": [],
   "source": [
    "# = Autoencoder.create_and_train_auto_encoder(training_data, epoches, batch_size)"
   ]
  },
  {
   "cell_type": "code",
   "outputs": [
    {
     "name": "stdout",
     "output_type": "stream",
     "text": [
      "INFO:tensorflow:Assets written to: mlp/assets\n"
     ]
    },
    {
     "name": "stderr",
     "output_type": "stream",
     "text": [
      "INFO:tensorflow:Assets written to: mlp/assets\n"
     ]
    }
   ],
   "source": [
    "#autoencoder.save('autoencoder')\n",
    "model.save('mlp')\n",
    "\n"
   ],
   "metadata": {
    "collapsed": false,
    "ExecuteTime": {
     "end_time": "2024-06-07T17:40:30.597778700Z",
     "start_time": "2024-06-07T17:40:29.552647500Z"
    }
   },
   "id": "b628f2c76b55dc3a",
   "execution_count": 6
  },
  {
   "cell_type": "code",
   "outputs": [],
   "source": [
    "autoencoder = tf.keras.models.load_model('autoencoder')\n",
    "model = tf.keras.models.load_model('mlp')"
   ],
   "metadata": {
    "collapsed": false,
    "ExecuteTime": {
     "end_time": "2024-06-07T17:40:31.115108100Z",
     "start_time": "2024-06-07T17:40:30.602312200Z"
    }
   },
   "id": "34de00483ae092e",
   "execution_count": 7
  },
  {
   "cell_type": "code",
   "execution_count": 8,
   "id": "86f1344e5856c64",
   "metadata": {
    "collapsed": false,
    "ExecuteTime": {
     "end_time": "2024-06-07T17:40:31.168866700Z",
     "start_time": "2024-06-07T17:40:31.121227200Z"
    }
   },
   "outputs": [],
   "source": [
    "# Gerar dados de teste\n",
    "amostras_ruidosas = []\n",
    "amostras_originais = []\n",
    "ML_result = []\n",
    "tradicional_result = []\n",
    "autoencoder_result = []\n"
   ]
  },
  {
   "cell_type": "code",
   "execution_count": 9,
   "id": "7f720926d3e1ad4a",
   "metadata": {
    "collapsed": false,
    "ExecuteTime": {
     "end_time": "2024-06-07T17:40:55.109506700Z",
     "start_time": "2024-06-07T17:40:31.169863500Z"
    }
   },
   "outputs": [
    {
     "name": "stdout",
     "output_type": "stream",
     "text": [
      "-5\n",
      "-4\n",
      "-3\n",
      "-2\n",
      "-1\n",
      "0\n",
      "1\n",
      "2\n",
      "3\n",
      "4\n",
      "5\n",
      "6\n",
      "7\n",
      "8\n",
      "9\n",
      "10\n",
      "11\n"
     ]
    }
   ],
   "source": [
    "test_data = {\n",
    "    'original': [],\n",
    "    'info': []\n",
    "}\n",
    "test_sample_length = 10 ** 5\n",
    "test_information = network.get_training_data_set(test_sample_length)\n",
    "\n",
    "BER_tradicional = []\n",
    "BER_autoencoder = []\n",
    "BER_ML = []\n",
    "\n",
    "padded_array = []\n",
    "for eb_db in Eb_dB_values:\n",
    "    info = network.generate_data_for_training(test_information, eb_db, variancia)\n",
    "    test_data['original'] = info['original_data']\n",
    "    \n",
    "    #autoencoder_result = (network.decode_and_correct(info['split_noisy_original_data_15_11'], autoencoder))\n",
    "    ML_result = (network.decode_and_correct(info['split_noisy_original_data_15_11'], model))\n",
    "    tradicional_result = (HammingCode.decode_sample(info['split_encoded_data']))\n",
    "    padded_array = info['padded_array_original_data']\n",
    "    \n",
    "    BER_ML.append(np.sum(np.array(ML_result).astype(int) != padded_array) / len(padded_array))\n",
    "    BER_tradicional.append(np.sum(np.array(tradicional_result).astype(int) != test_data['original']) / len(test_data['original']))\n",
    "    #BER_autoencoder.append(np.sum(np.array(autoencoder_result).astype(int) != padded_array) / len(padded_array))\n",
    "    print(eb_db)"
   ]
  },
  {
   "cell_type": "code",
   "execution_count": 10,
   "id": "a768bfbe55979643",
   "metadata": {
    "collapsed": false,
    "ExecuteTime": {
     "end_time": "2024-06-07T17:40:55.161815400Z",
     "start_time": "2024-06-07T17:40:55.109506700Z"
    }
   },
   "outputs": [],
   "source": [
    "    \n",
    "\n",
    "# Calcular a BER teórica\n",
    "Eb_coded = np.array([eb_db + 10*np.log10(code_rate) for eb_db in Eb_dB_values])\n",
    "Eb_values = 10**(Eb_coded/10)\n",
    "BER_teorica_codificado = 0.5 * erfc(np.sqrt(Eb_values))\n",
    "\n",
    "Eb_values_BPSK = 10**(Eb_dB_values/10)\n",
    "BPSK = 0.5 * erfc(np.sqrt(Eb_values_BPSK))"
   ]
  },
  {
   "cell_type": "code",
   "execution_count": 11,
   "id": "dd38a450efea265d",
   "metadata": {
    "collapsed": false,
    "ExecuteTime": {
     "end_time": "2024-06-07T17:40:55.967998900Z",
     "start_time": "2024-06-07T17:40:55.161815400Z"
    }
   },
   "outputs": [
    {
     "data": {
      "text/plain": "<Figure size 1000x600 with 1 Axes>",
      "image/png": "[encoded data removed]"
     },
     "metadata": {},
     "output_type": "display_data"
    }
   ],
   "source": [
    "# Plotar as taxas de erro de bit simuladas e teóricas\n",
    "plt.figure(figsize=(10, 6))\n",
    "plt.semilogy(Eb_dB_values, BER_tradicional, marker='o', linestyle='', label='Codificado')\n",
    "#plt.semilogy(Eb_dB_values, BER_autoencoder, marker='o',  linestyle='',label='Autoencoder')\n",
    "plt.semilogy(Eb_dB_values, BER_ML, marker='o', linestyle='', label='MLP')\n",
    "#plt.semilogy(Eb_dB_values, BPSK, marker='o', linestyle='', label='BPSK')\n",
    "plt.semilogy(Eb_dB_values, BER_teorica_codificado, marker='o', linestyle='', label='Teórico codificado')\n",
    "\n",
    "plt.xlabel('Eb/No (dB)')\n",
    "plt.ylabel('BER')\n",
    "plt.grid(True, which='both')\n",
    "plt.legend()\n",
    "plt.title('BER x Eb/No')\n",
    "plt.show()"
   ]
  },
  {
   "cell_type": "code",
   "outputs": [],
   "source": [],
   "metadata": {
    "collapsed": false,
    "ExecuteTime": {
     "end_time": "2024-06-07T17:40:55.980054600Z",
     "start_time": "2024-06-07T17:40:55.975989800Z"
    }
   },
   "id": "4bb791e602fc1c45",
   "execution_count": 11
  }
 ],
 "metadata": {
  "kernelspec": {
   "display_name": "Python 3 (ipykernel)",
   "language": "python",
   "name": "python3"
  },
  "language_info": {
   "codemirror_mode": {
    "name": "ipython",
    "version": 3
   },
   "file_extension": ".py",
   "mimetype": "text/x-python",
   "name": "python",
   "nbconvert_exporter": "python",
   "pygments_lexer": "ipython3",
   "version": "3.10.12"
  }
 },
 "nbformat": 4,
 "nbformat_minor": 5
}
