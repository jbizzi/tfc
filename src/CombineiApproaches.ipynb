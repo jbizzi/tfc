{
 "cells": [
  {
   "cell_type": "code",
   "execution_count": 1,
   "id": "initial_id",
   "metadata": {
    "collapsed": true,
    "ExecuteTime": {
     "end_time": "2024-05-25T16:57:04.661837500Z",
     "start_time": "2024-05-25T16:56:58.661886300Z"
    }
   },
   "outputs": [
    {
     "name": "stderr",
     "output_type": "stream",
     "text": [
      "2024-05-25 13:57:00.393700: E external/local_xla/xla/stream_executor/cuda/cuda_dnn.cc:9261] Unable to register cuDNN factory: Attempting to register factory for plugin cuDNN when one has already been registered\n",
      "2024-05-25 13:57:00.393819: E external/local_xla/xla/stream_executor/cuda/cuda_fft.cc:607] Unable to register cuFFT factory: Attempting to register factory for plugin cuFFT when one has already been registered\n",
      "2024-05-25 13:57:00.396243: E external/local_xla/xla/stream_executor/cuda/cuda_blas.cc:1515] Unable to register cuBLAS factory: Attempting to register factory for plugin cuBLAS when one has already been registered\n",
      "2024-05-25 13:57:00.408856: I tensorflow/core/platform/cpu_feature_guard.cc:182] This TensorFlow binary is optimized to use available CPU instructions in performance-critical operations.\n",
      "To enable the following instructions: AVX2 FMA, in other operations, rebuild TensorFlow with the appropriate compiler flags.\n",
      "2024-05-25 13:57:02.874795: W tensorflow/compiler/tf2tensorrt/utils/py_utils.cc:38] TF-TRT Warning: Could not find TensorRT\n"
     ]
    }
   ],
   "source": [
    "%load_ext autoreload\n",
    "%autoreload 2\n",
    "import HammingCode\n",
    "import matplotlib.pyplot as plt\n",
    "import numpy as np\n",
    "from scipy.special import erfc\n",
    "import NeuralNetworkCorrection as network\n",
    "import Autoencoder\n",
    "import Utils"
   ]
  },
  {
   "cell_type": "code",
   "outputs": [
    {
     "data": {
      "text/plain": "\"'\\ntraining_data = {\\n    'original': [],\\n    'noisy': [],\\n    'info': []\\n}\\ntraining_information = network.get_training_data_set(training_sample_length, variancia)\\n\\nfor eb_db in Eb_dB_values:\\n    info = network.generate_data_for_training(training_information, eb_db)\\n    training_data['info'].append(info)\\n    training_data['noisy'].extend(info['split_encoded_data'])\\n    training_data['original'].extend(info['split_original_data'])\\n\\ntraining_data['original'] = np.array(training_data['original'])\\ntraining_data['noisy'] = np.array(training_data['noisy'])\\n\""
     },
     "execution_count": 2,
     "metadata": {},
     "output_type": "execute_result"
    }
   ],
   "source": [
    "# tamanho da amostra\n",
    "tamanho = 1e8\n",
    "variancia = 1\n",
    "\n",
    "# amostra\n",
    "tamanho_amostra = 10**3\n",
    "Eb_dB_values = np.arange(-2, 11, 1)\n",
    "\n",
    "# ML data\n",
    "\n",
    "# Gerar dados de treinamento\n",
    "word_length = 4 # Tamanho padrão da entrada do hamming\n",
    "training_sample_length = 10 **3\n",
    "epoches = 50\n",
    "training_noisy_data = []\n",
    "training_original_data = []\n",
    "batch_size = 32\n",
    "''''\n",
    "training_data = {\n",
    "    'original': [],\n",
    "    'noisy': [],\n",
    "    'info': []\n",
    "}\n",
    "training_information = network.get_training_data_set(training_sample_length, variancia)\n",
    "\n",
    "for eb_db in Eb_dB_values:\n",
    "    info = network.generate_data_for_training(training_information, eb_db)\n",
    "    training_data['info'].append(info)\n",
    "    training_data['noisy'].extend(info['split_encoded_data'])\n",
    "    training_data['original'].extend(info['split_original_data'])\n",
    "\n",
    "training_data['original'] = np.array(training_data['original'])\n",
    "training_data['noisy'] = np.array(training_data['noisy'])\n",
    "'''"
   ],
   "metadata": {
    "collapsed": false,
    "ExecuteTime": {
     "end_time": "2024-05-25T16:57:04.781829600Z",
     "start_time": "2024-05-25T16:57:04.660841Z"
    }
   },
   "id": "a5b56cf35e30f038",
   "execution_count": 2
  },
  {
   "cell_type": "code",
   "outputs": [],
   "source": [
    "# Criar e treinar a rede neural\n",
    "model = network.train_neural_network(training_data, epoches, batch_size)\n",
    "autoencoder = Autoencoder.create_and_train_auto_encoder(training_data, epoches, batch_size)"
   ],
   "metadata": {
    "collapsed": false
   },
   "id": "54fb41e7292daaf5",
   "execution_count": null
  },
  {
   "cell_type": "code",
   "outputs": [],
   "source": [
    "# Gerar dados de teste\n",
    "amostras_ruidosas = []\n",
    "amostras_originais = []\n",
    "ML_result = []\n",
    "tradicional_result = []\n",
    "autoencoder_result = []\n"
   ],
   "metadata": {
    "collapsed": false,
    "ExecuteTime": {
     "end_time": "2024-05-25T16:57:13.764580200Z",
     "start_time": "2024-05-25T16:57:13.709048300Z"
    }
   },
   "id": "86f1344e5856c64",
   "execution_count": 5
  },
  {
   "cell_type": "code",
   "outputs": [],
   "source": [
    "test_data = {\n",
    "    'original': [],\n",
    "    'info': []\n",
    "}\n",
    "test_sample_length = 10 ** 3\n",
    "test_information = network.get_training_data_set(test_sample_length)\n",
    "\n",
    "for eb_db in Eb_dB_values:\n",
    "    info = network.generate_data_for_training(test_information, eb_db, variancia)\n",
    "    test_data['info'].append(info)\n",
    "    test_data['original'] = info['original_data']\n"
   ],
   "metadata": {
    "collapsed": false,
    "ExecuteTime": {
     "end_time": "2024-05-25T17:01:51.924862400Z",
     "start_time": "2024-05-25T17:01:51.783992600Z"
    }
   },
   "id": "7f720926d3e1ad4a",
   "execution_count": 15
  },
  {
   "cell_type": "code",
   "outputs": [],
   "source": [
    "i = 0\n",
    "autoencoder_result.append(network.decode_and_correct(test_data['info'][i]['split_encoded_data'], autoencoder))\n",
    "ML_result.append(network.decode_and_correct(test_data['info'][i]['split_encoded_data'], model))\n",
    "tradicional_result.append(HammingCode.decode_sample(test_data['info'][i]['split_encoded_data']))"
   ],
   "metadata": {
    "collapsed": false
   },
   "id": "92478d60195b350d",
   "execution_count": null
  },
  {
   "cell_type": "code",
   "outputs": [],
   "source": [
    "i = 1\n",
    "autoencoder_result.append(network.decode_and_correct(test_data['info'][i]['split_encoded_data'], autoencoder))\n",
    "ML_result.append(network.decode_and_correct(test_data['info'][i]['split_encoded_data'], model))\n",
    "tradicional_result.append(HammingCode.decode_sample(test_data['info'][i]['split_encoded_data']))\n"
   ],
   "metadata": {
    "collapsed": false
   },
   "id": "72e3dc0bb0a81867",
   "execution_count": null
  },
  {
   "cell_type": "code",
   "outputs": [],
   "source": [
    "i = 2\n",
    "autoencoder_result.append(network.decode_and_correct(test_data['info'][i]['split_encoded_data'], autoencoder))\n",
    "ML_result.append(network.decode_and_correct(test_data['info'][i]['split_encoded_data'], model))\n",
    "tradicional_result.append(HammingCode.decode_sample(test_data['info'][i]['split_encoded_data']))\n"
   ],
   "metadata": {
    "collapsed": false
   },
   "id": "8304e6274557f9db",
   "execution_count": null
  },
  {
   "cell_type": "code",
   "outputs": [],
   "source": [
    "i = 3\n",
    "autoencoder_result.append(network.decode_and_correct(test_data['info'][i]['split_encoded_data'], autoencoder))\n",
    "ML_result.append(network.decode_and_correct(test_data['info'][i]['split_encoded_data'], model))\n",
    "tradicional_result.append(HammingCode.decode_sample(test_data['info'][i]['split_encoded_data']))\n"
   ],
   "metadata": {
    "collapsed": false
   },
   "id": "92f2ef9d94186818",
   "execution_count": null
  },
  {
   "cell_type": "code",
   "outputs": [],
   "source": [
    "i = 4\n",
    "autoencoder_result.append(network.decode_and_correct(test_data['info'][i]['split_encoded_data'], autoencoder))\n",
    "ML_result.append(network.decode_and_correct(test_data['info'][i]['split_encoded_data'], model))\n",
    "tradicional_result.append(HammingCode.decode_sample(test_data['info'][i]['split_encoded_data']))\n"
   ],
   "metadata": {
    "collapsed": false
   },
   "id": "10b7ea5cd5b31971",
   "execution_count": null
  },
  {
   "cell_type": "code",
   "outputs": [],
   "source": [
    "i = 5\n",
    "autoencoder_result.append(network.decode_and_correct(test_data['info'][i]['split_encoded_data'], autoencoder))\n",
    "ML_result.append(network.decode_and_correct(test_data['info'][i]['split_encoded_data'], model))\n",
    "tradicional_result.append(HammingCode.decode_sample(test_data['info'][i]['split_encoded_data']))\n"
   ],
   "metadata": {
    "collapsed": false
   },
   "id": "b89dc1d26fc5c62",
   "execution_count": null
  },
  {
   "cell_type": "code",
   "outputs": [],
   "source": [
    "i = 6\n",
    "autoencoder_result.append(network.decode_and_correct(test_data['info'][i]['split_encoded_data'], autoencoder))\n",
    "ML_result.append(network.decode_and_correct(test_data['info'][i]['split_encoded_data'], model))\n",
    "tradicional_result.append(HammingCode.decode_sample(test_data['info'][i]['split_encoded_data']))\n"
   ],
   "metadata": {
    "collapsed": false
   },
   "id": "77b4e5024678da5f",
   "execution_count": null
  },
  {
   "cell_type": "code",
   "outputs": [],
   "source": [
    "i = 7\n",
    "autoencoder_result.append(network.decode_and_correct(test_data['info'][i]['split_encoded_data'], autoencoder))\n",
    "ML_result.append(network.decode_and_correct(test_data['info'][i]['split_encoded_data'], model))\n",
    "tradicional_result.append(HammingCode.decode_sample(test_data['info'][i]['split_encoded_data']))\n"
   ],
   "metadata": {
    "collapsed": false
   },
   "id": "b27dc1c73c47c737",
   "execution_count": null
  },
  {
   "cell_type": "code",
   "outputs": [],
   "source": [
    "i = 8\n",
    "autoencoder_result.append(network.decode_and_correct(test_data['info'][i]['split_encoded_data'], autoencoder))\n",
    "ML_result.append(network.decode_and_correct(test_data['info'][i]['split_encoded_data'], model))\n",
    "tradicional_result.append(HammingCode.decode_sample(test_data['info'][i]['split_encoded_data']))\n"
   ],
   "metadata": {
    "collapsed": false
   },
   "id": "ecd06b38335dffff",
   "execution_count": null
  },
  {
   "cell_type": "code",
   "outputs": [],
   "source": [
    "i = 9\n",
    "autoencoder_result.append(network.decode_and_correct(test_data['info'][i]['split_encoded_data'], autoencoder))\n",
    "ML_result.append(network.decode_and_correct(test_data['info'][i]['split_encoded_data'], model))\n",
    "tradicional_result.append(HammingCode.decode_sample(test_data['info'][i]['split_encoded_data']))\n"
   ],
   "metadata": {
    "collapsed": false
   },
   "id": "52405c0bdc7eb8af",
   "execution_count": null
  },
  {
   "cell_type": "code",
   "outputs": [],
   "source": [
    "i = 10\n",
    "autoencoder_result.append(network.decode_and_correct(test_data['info'][i]['split_encoded_data'], autoencoder))\n",
    "ML_result.append(network.decode_and_correct(test_data['info'][i]['split_encoded_data'], model))\n",
    "tradicional_result.append(HammingCode.decode_sample(test_data['info'][i]['split_encoded_data']))\n"
   ],
   "metadata": {
    "collapsed": false
   },
   "id": "f7d42586607c275c",
   "execution_count": null
  },
  {
   "cell_type": "code",
   "outputs": [],
   "source": [
    "i = 11\n",
    "autoencoder_result.append(network.decode_and_correct(test_data['info'][i]['split_encoded_data'], autoencoder))\n",
    "ML_result.append(network.decode_and_correct(test_data['info'][i]['split_encoded_data'], model))\n",
    "tradicional_result.append(HammingCode.decode_sample(test_data['info'][i]['split_encoded_data']))\n"
   ],
   "metadata": {
    "collapsed": false
   },
   "id": "649e1eba901de9dd",
   "execution_count": null
  },
  {
   "cell_type": "code",
   "outputs": [],
   "source": [
    "i = 12\n",
    "autoencoder_result.append(network.decode_and_correct(test_data['info'][i]['split_encoded_data'], autoencoder))\n",
    "ML_result.append(network.decode_and_correct(test_data['info'][i]['split_encoded_data'], model))\n",
    "tradicional_result.append(HammingCode.decode_sample(test_data['info'][i]['split_encoded_data']))\n"
   ],
   "metadata": {
    "collapsed": false
   },
   "id": "58eed42c1b38f69f",
   "execution_count": null
  },
  {
   "cell_type": "code",
   "outputs": [],
   "source": [
    "for i in test_data['info']:\n",
    "    tradicional_result.append(HammingCode.decode_sample(i['split_encoded_data']))"
   ],
   "metadata": {
    "collapsed": false,
    "ExecuteTime": {
     "end_time": "2024-05-25T17:01:56.301456600Z",
     "start_time": "2024-05-25T17:01:56.137462500Z"
    }
   },
   "id": "d4e42892a42effa8",
   "execution_count": 16
  },
  {
   "cell_type": "code",
   "outputs": [
    {
     "name": "stdout",
     "output_type": "stream",
     "text": [
      "[0.472, 0.453, 0.494, 0.479, 0.455, 0.476, 0.49, 0.472, 0.484, 0.495, 0.468, 0.463, 0.482]\n"
     ]
    }
   ],
   "source": [
    "BER_tradicional = []\n",
    "BER_autoencoder = []\n",
    "BER_ML = []\n",
    "for i in range(0, len(Eb_dB_values)):\n",
    "    #BER_ML.append(np.sum(np.array(ML_result[i]).astype(int) != test_data['original']) / len(test_data['original']))\n",
    "    BER_tradicional.append(np.sum(np.array(tradicional_result[i]).astype(int) != test_data['original']) / len(test_data['original']))\n",
    "    #BER_autoencoder.append(np.sum(np.array(autoencoder_result[i]).astype(int) != test_data['original']) / len(test_data['original']))\n",
    "\n",
    "print(BER_tradicional)\n",
    "# Calcular a BER teórica\n",
    "Eb_values = 10**(Eb_dB_values / 10)\n",
    "BER_teorica = 0.5 * erfc(np.sqrt(Eb_values))"
   ],
   "metadata": {
    "collapsed": false,
    "ExecuteTime": {
     "end_time": "2024-05-25T17:01:58.034897600Z",
     "start_time": "2024-05-25T17:01:57.953905100Z"
    }
   },
   "id": "a768bfbe55979643",
   "execution_count": 17
  },
  {
   "cell_type": "code",
   "outputs": [
    {
     "data": {
      "text/plain": "<Figure size 1000x600 with 1 Axes>",
      "image/png": "[encoded data removed]"
     },
     "metadata": {},
     "output_type": "display_data"
    }
   ],
   "source": [
    "# Plotar as taxas de erro de bit simuladas e teóricas\n",
    "plt.figure(figsize=(10, 6))\n",
    "plt.semilogy(Eb_dB_values, BER_tradicional, linestyle = '--', label='BER Tradicional')\n",
    "#plt.semilogy(Eb_dB_values, BER_autoencoder, linestyle = '--', label='BER Autoencoder')\n",
    "#plt.semilogy(Eb_dB_values, BER_ML, linestyle = '--', label='BER ML')\n",
    "plt.semilogy(Eb_dB_values, BER_teorica, linestyle='--', label='BER Teórica')\n",
    "plt.xlabel('Eb/No (dB)')\n",
    "plt.ylabel('BER')\n",
    "plt.grid(True, which='both')\n",
    "plt.legend()\n",
    "plt.title('BER x Eb/No')\n",
    "plt.show()"
   ],
   "metadata": {
    "collapsed": false,
    "ExecuteTime": {
     "end_time": "2024-05-25T16:58:18.688299200Z",
     "start_time": "2024-05-25T16:58:16.919375400Z"
    }
   },
   "id": "dd38a450efea265d",
   "execution_count": 10
  },
  {
   "cell_type": "code",
   "outputs": [],
   "source": [],
   "metadata": {
    "collapsed": false
   },
   "id": "738a2582ca33e156"
  }
 ],
 "metadata": {
  "kernelspec": {
   "display_name": "Python 3",
   "language": "python",
   "name": "python3"
  },
  "language_info": {
   "codemirror_mode": {
    "name": "ipython",
    "version": 2
   },
   "file_extension": ".py",
   "mimetype": "text/x-python",
   "name": "python",
   "nbconvert_exporter": "python",
   "pygments_lexer": "ipython2",
   "version": "2.7.6"
  }
 },
 "nbformat": 4,
 "nbformat_minor": 5
}
