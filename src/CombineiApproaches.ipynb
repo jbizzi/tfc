{
 "cells": [
  {
   "cell_type": "code",
   "execution_count": 1,
   "id": "initial_id",
   "metadata": {
    "collapsed": true,
    "jupyter": {
     "outputs_hidden": true
    },
    "ExecuteTime": {
     "end_time": "2024-06-03T16:01:34.531633700Z",
     "start_time": "2024-06-03T16:01:28.784841Z"
    }
   },
   "outputs": [
    {
     "name": "stderr",
     "output_type": "stream",
     "text": [
      "2024-06-03 13:01:31.496775: E external/local_xla/xla/stream_executor/cuda/cuda_dnn.cc:9261] Unable to register cuDNN factory: Attempting to register factory for plugin cuDNN when one has already been registered\n",
      "2024-06-03 13:01:31.496869: E external/local_xla/xla/stream_executor/cuda/cuda_fft.cc:607] Unable to register cuFFT factory: Attempting to register factory for plugin cuFFT when one has already been registered\n",
      "2024-06-03 13:01:31.503615: E external/local_xla/xla/stream_executor/cuda/cuda_blas.cc:1515] Unable to register cuBLAS factory: Attempting to register factory for plugin cuBLAS when one has already been registered\n",
      "2024-06-03 13:01:31.531067: I tensorflow/core/platform/cpu_feature_guard.cc:182] This TensorFlow binary is optimized to use available CPU instructions in performance-critical operations.\n",
      "To enable the following instructions: AVX2 FMA, in other operations, rebuild TensorFlow with the appropriate compiler flags.\n",
      "2024-06-03 13:01:33.082728: W tensorflow/compiler/tf2tensorrt/utils/py_utils.cc:38] TF-TRT Warning: Could not find TensorRT\n"
     ]
    }
   ],
   "source": [
    "%load_ext autoreload\n",
    "%autoreload 2\n",
    "import HammingCode\n",
    "import matplotlib.pyplot as plt\n",
    "import numpy as np\n",
    "from scipy.special import erfc\n",
    "import NeuralNetworkCorrection as network\n",
    "import Autoencoder\n",
    "import math\n",
    "import Utils"
   ]
  },
  {
   "cell_type": "code",
   "execution_count": 2,
   "id": "a5b56cf35e30f038",
   "metadata": {
    "collapsed": false,
    "ExecuteTime": {
     "end_time": "2024-06-03T16:01:34.609587600Z",
     "start_time": "2024-06-03T16:01:34.539637700Z"
    }
   },
   "outputs": [],
   "source": [
    "variancia = 1\n",
    "code_rate = 4/7\n",
    "# amostra\n",
    "Eb_dB_values = np.arange(3, 16, 1)\n",
    "\n",
    "# Gerar dados de treinamento\n",
    "training_sample_length = 10 ** 3\n",
    "epoches = 100\n",
    "batch_size = 32"
   ]
  },
  {
   "cell_type": "code",
   "execution_count": 3,
   "id": "7b8afdcc790661ee",
   "metadata": {
    "collapsed": false,
    "ExecuteTime": {
     "end_time": "2024-06-03T16:01:34.714319Z",
     "start_time": "2024-06-03T16:01:34.599568200Z"
    }
   },
   "outputs": [],
   "source": [
    "training_data = {\n",
    "    'original': [],\n",
    "    'noisy': [],\n",
    "    'info': []\n",
    "}\n",
    "\n",
    "training_information = network.get_training_data_set(training_sample_length)\n",
    "\n",
    "for eb_db in Eb_dB_values:\n",
    "    info = network.generate_data_for_training(training_information, eb_db, variancia)\n",
    "    training_data['noisy'].extend(info['split_noisy_original_data_15_11'])\n",
    "    training_data['original'].extend(info['split_original_data_15_11'])\n",
    "\n",
    "training_data['noisy'] = np.array(training_data['noisy'])\n",
    "training_data['original'] = np.array(training_data['original'])"
   ]
  },
  {
   "cell_type": "code",
   "execution_count": 4,
   "id": "54fb41e7292daaf5",
   "metadata": {
    "collapsed": false,
    "ExecuteTime": {
     "end_time": "2024-06-03T16:01:42.396716500Z",
     "start_time": "2024-06-03T16:01:36.741679400Z"
    }
   },
   "outputs": [
    {
     "name": "stdout",
     "output_type": "stream",
     "text": [
      "[[0 1 1 ... 1 0 1]\n",
      " [1 1 1 ... 1 0 1]\n",
      " [1 1 1 ... 1 1 0]\n",
      " ...\n",
      " [0 0 1 ... 1 0 0]\n",
      " [1 0 0 ... 0 0 0]\n",
      " [1 1 1 ... 1 0 0]]\n",
      "Epoch 1/100\n",
      "34/34 [==============================] - 2s 15ms/step - loss: 0.4608 - accuracy: 0.1363 - val_loss: 0.1796 - val_accuracy: 0.1681 - lr: 0.0010\n",
      "Epoch 2/100\n",
      "34/34 [==============================] - 0s 8ms/step - loss: 0.0796 - accuracy: 0.1588 - val_loss: 0.0293 - val_accuracy: 0.2773 - lr: 0.0010\n",
      "Epoch 3/100\n",
      "34/34 [==============================] - 0s 8ms/step - loss: 0.0283 - accuracy: 0.1974 - val_loss: 0.0213 - val_accuracy: 0.2017 - lr: 0.0010\n",
      "Epoch 4/100\n",
      "34/34 [==============================] - 0s 7ms/step - loss: 0.0241 - accuracy: 0.2829 - val_loss: 0.0234 - val_accuracy: 0.0252 - lr: 0.0010\n",
      "Epoch 5/100\n",
      "34/34 [==============================] - 0s 7ms/step - loss: 0.0217 - accuracy: 0.1664 - val_loss: 0.0219 - val_accuracy: 0.3277 - lr: 0.0010\n",
      "Epoch 6/100\n",
      "34/34 [==============================] - 0s 7ms/step - loss: 0.0191 - accuracy: 0.2284 - val_loss: 0.0246 - val_accuracy: 0.1345 - lr: 0.0010\n",
      "Epoch 7/100\n",
      "34/34 [==============================] - 0s 7ms/step - loss: 0.0201 - accuracy: 0.2368 - val_loss: 0.0222 - val_accuracy: 0.2185 - lr: 0.0010\n",
      "Epoch 8/100\n",
      "34/34 [==============================] - 0s 7ms/step - loss: 0.0183 - accuracy: 0.2115 - val_loss: 0.0232 - val_accuracy: 0.1765 - lr: 0.0010\n",
      "Epoch 9/100\n",
      "34/34 [==============================] - 0s 7ms/step - loss: 0.0155 - accuracy: 0.2058 - val_loss: 0.0248 - val_accuracy: 0.3613 - lr: 0.0010\n",
      "Epoch 10/100\n",
      "34/34 [==============================] - 0s 7ms/step - loss: 0.0167 - accuracy: 0.2359 - val_loss: 0.0231 - val_accuracy: 0.2185 - lr: 0.0010\n",
      "Epoch 11/100\n",
      "34/34 [==============================] - 0s 7ms/step - loss: 0.0139 - accuracy: 0.2378 - val_loss: 0.0237 - val_accuracy: 0.1345 - lr: 0.0010\n",
      "Epoch 12/100\n",
      "34/34 [==============================] - 0s 7ms/step - loss: 0.0125 - accuracy: 0.2462 - val_loss: 0.0234 - val_accuracy: 0.1597 - lr: 0.0010\n",
      "Epoch 13/100\n",
      "34/34 [==============================] - 0s 10ms/step - loss: 0.0124 - accuracy: 0.2312 - val_loss: 0.0267 - val_accuracy: 0.1933 - lr: 0.0010\n",
      "4/4 [==============================] - 0s 4ms/step - loss: 0.0213 - accuracy: 0.2017\n",
      "Loss: 0.021340537816286087\n",
      "Accuracy: 0.20168067514896393\n"
     ]
    }
   ],
   "source": [
    "# Criar e treinar a rede neural\n",
    "model = network.train_neural_network(training_data, epoches, batch_size)"
   ]
  },
  {
   "cell_type": "code",
   "execution_count": 5,
   "id": "dabd2ca69967e1ae",
   "metadata": {
    "collapsed": false,
    "ExecuteTime": {
     "end_time": "2024-06-03T16:02:07.562375600Z",
     "start_time": "2024-06-03T16:01:45.441237600Z"
    }
   },
   "outputs": [
    {
     "name": "stdout",
     "output_type": "stream",
     "text": [
      "Epoch 1/100\n",
      "37/37 [==============================] - 2s 12ms/step - loss: 0.6813 - accuracy: 0.0727 - val_loss: 0.6664 - val_accuracy: 0.0668\n",
      "Epoch 2/100\n",
      "37/37 [==============================] - 0s 7ms/step - loss: 0.6548 - accuracy: 0.1090 - val_loss: 0.6420 - val_accuracy: 0.1217\n",
      "Epoch 3/100\n",
      "37/37 [==============================] - 0s 7ms/step - loss: 0.6297 - accuracy: 0.1352 - val_loss: 0.6159 - val_accuracy: 0.1200\n",
      "Epoch 4/100\n",
      "37/37 [==============================] - 0s 5ms/step - loss: 0.6030 - accuracy: 0.1268 - val_loss: 0.5891 - val_accuracy: 0.1302\n",
      "Epoch 5/100\n",
      "37/37 [==============================] - 0s 5ms/step - loss: 0.5763 - accuracy: 0.1319 - val_loss: 0.5618 - val_accuracy: 0.1420\n",
      "Epoch 6/100\n",
      "37/37 [==============================] - 0s 6ms/step - loss: 0.5476 - accuracy: 0.1640 - val_loss: 0.5312 - val_accuracy: 0.1623\n",
      "Epoch 7/100\n",
      "37/37 [==============================] - 0s 5ms/step - loss: 0.5149 - accuracy: 0.1555 - val_loss: 0.4971 - val_accuracy: 0.1513\n",
      "Epoch 8/100\n",
      "37/37 [==============================] - 0s 5ms/step - loss: 0.4809 - accuracy: 0.1488 - val_loss: 0.4633 - val_accuracy: 0.1403\n",
      "Epoch 9/100\n",
      "37/37 [==============================] - 0s 5ms/step - loss: 0.4479 - accuracy: 0.1352 - val_loss: 0.4310 - val_accuracy: 0.1302\n",
      "Epoch 10/100\n",
      "37/37 [==============================] - 0s 5ms/step - loss: 0.4163 - accuracy: 0.1352 - val_loss: 0.4004 - val_accuracy: 0.1496\n",
      "Epoch 11/100\n",
      "37/37 [==============================] - 0s 5ms/step - loss: 0.3869 - accuracy: 0.1445 - val_loss: 0.3722 - val_accuracy: 0.1395\n",
      "Epoch 12/100\n",
      "37/37 [==============================] - 0s 5ms/step - loss: 0.3599 - accuracy: 0.1327 - val_loss: 0.3462 - val_accuracy: 0.1310\n",
      "Epoch 13/100\n",
      "37/37 [==============================] - 0s 6ms/step - loss: 0.3351 - accuracy: 0.1310 - val_loss: 0.3228 - val_accuracy: 0.1420\n",
      "Epoch 14/100\n",
      "37/37 [==============================] - 0s 5ms/step - loss: 0.3124 - accuracy: 0.1420 - val_loss: 0.3011 - val_accuracy: 0.1522\n",
      "Epoch 15/100\n",
      "37/37 [==============================] - 0s 5ms/step - loss: 0.2913 - accuracy: 0.1445 - val_loss: 0.2806 - val_accuracy: 0.1412\n",
      "Epoch 16/100\n",
      "37/37 [==============================] - 0s 6ms/step - loss: 0.2711 - accuracy: 0.1496 - val_loss: 0.2602 - val_accuracy: 0.1513\n",
      "Epoch 17/100\n",
      "37/37 [==============================] - 0s 5ms/step - loss: 0.2503 - accuracy: 0.1429 - val_loss: 0.2392 - val_accuracy: 0.1412\n",
      "Epoch 18/100\n",
      "37/37 [==============================] - 0s 5ms/step - loss: 0.2302 - accuracy: 0.1505 - val_loss: 0.2204 - val_accuracy: 0.1530\n",
      "Epoch 19/100\n",
      "37/37 [==============================] - 0s 5ms/step - loss: 0.2126 - accuracy: 0.1420 - val_loss: 0.2041 - val_accuracy: 0.1420\n",
      "Epoch 20/100\n",
      "37/37 [==============================] - 0s 6ms/step - loss: 0.1971 - accuracy: 0.1522 - val_loss: 0.1893 - val_accuracy: 0.1657\n",
      "Epoch 21/100\n",
      "37/37 [==============================] - 0s 6ms/step - loss: 0.1830 - accuracy: 0.1665 - val_loss: 0.1759 - val_accuracy: 0.1674\n",
      "Epoch 22/100\n",
      "37/37 [==============================] - 0s 6ms/step - loss: 0.1701 - accuracy: 0.1682 - val_loss: 0.1636 - val_accuracy: 0.1682\n",
      "Epoch 23/100\n",
      "37/37 [==============================] - 0s 6ms/step - loss: 0.1584 - accuracy: 0.1665 - val_loss: 0.1526 - val_accuracy: 0.1564\n",
      "Epoch 24/100\n",
      "37/37 [==============================] - 0s 5ms/step - loss: 0.1477 - accuracy: 0.1564 - val_loss: 0.1422 - val_accuracy: 0.1564\n",
      "Epoch 25/100\n",
      "37/37 [==============================] - 0s 6ms/step - loss: 0.1379 - accuracy: 0.1564 - val_loss: 0.1329 - val_accuracy: 0.1564\n",
      "Epoch 26/100\n",
      "37/37 [==============================] - 0s 5ms/step - loss: 0.1288 - accuracy: 0.1547 - val_loss: 0.1243 - val_accuracy: 0.1454\n",
      "Epoch 27/100\n",
      "37/37 [==============================] - 0s 5ms/step - loss: 0.1206 - accuracy: 0.1479 - val_loss: 0.1164 - val_accuracy: 0.1564\n",
      "Epoch 28/100\n",
      "37/37 [==============================] - 0s 5ms/step - loss: 0.1130 - accuracy: 0.1564 - val_loss: 0.1091 - val_accuracy: 0.1564\n",
      "Epoch 29/100\n",
      "37/37 [==============================] - 0s 5ms/step - loss: 0.1061 - accuracy: 0.1598 - val_loss: 0.1025 - val_accuracy: 0.1775\n",
      "Epoch 30/100\n",
      "37/37 [==============================] - 0s 6ms/step - loss: 0.0997 - accuracy: 0.1750 - val_loss: 0.0964 - val_accuracy: 0.1868\n",
      "Epoch 31/100\n",
      "37/37 [==============================] - 0s 5ms/step - loss: 0.0938 - accuracy: 0.1860 - val_loss: 0.0908 - val_accuracy: 0.1877\n",
      "Epoch 32/100\n",
      "37/37 [==============================] - 0s 6ms/step - loss: 0.0884 - accuracy: 0.1817 - val_loss: 0.0856 - val_accuracy: 0.1877\n",
      "Epoch 33/100\n",
      "37/37 [==============================] - 0s 6ms/step - loss: 0.0834 - accuracy: 0.1927 - val_loss: 0.0809 - val_accuracy: 0.1868\n",
      "Epoch 34/100\n",
      "37/37 [==============================] - 0s 5ms/step - loss: 0.0789 - accuracy: 0.1868 - val_loss: 0.0765 - val_accuracy: 0.1868\n",
      "Epoch 35/100\n",
      "37/37 [==============================] - 0s 5ms/step - loss: 0.0747 - accuracy: 0.1885 - val_loss: 0.0726 - val_accuracy: 0.1868\n",
      "Epoch 36/100\n",
      "37/37 [==============================] - 0s 5ms/step - loss: 0.0709 - accuracy: 0.1902 - val_loss: 0.0689 - val_accuracy: 0.1868\n",
      "Epoch 37/100\n",
      "37/37 [==============================] - 0s 5ms/step - loss: 0.0674 - accuracy: 0.1885 - val_loss: 0.0655 - val_accuracy: 0.1868\n",
      "Epoch 38/100\n",
      "37/37 [==============================] - 0s 5ms/step - loss: 0.0641 - accuracy: 0.1902 - val_loss: 0.0624 - val_accuracy: 0.1868\n",
      "Epoch 39/100\n",
      "37/37 [==============================] - 0s 5ms/step - loss: 0.0611 - accuracy: 0.1927 - val_loss: 0.0595 - val_accuracy: 0.1978\n",
      "Epoch 40/100\n",
      "37/37 [==============================] - 0s 5ms/step - loss: 0.0583 - accuracy: 0.1978 - val_loss: 0.0568 - val_accuracy: 0.1978\n",
      "Epoch 41/100\n",
      "37/37 [==============================] - 0s 6ms/step - loss: 0.0558 - accuracy: 0.1978 - val_loss: 0.0544 - val_accuracy: 0.1978\n",
      "Epoch 42/100\n",
      "37/37 [==============================] - 0s 5ms/step - loss: 0.0534 - accuracy: 0.1978 - val_loss: 0.0521 - val_accuracy: 0.1978\n",
      "Epoch 43/100\n",
      "37/37 [==============================] - 0s 5ms/step - loss: 0.0513 - accuracy: 0.2020 - val_loss: 0.0500 - val_accuracy: 0.2096\n",
      "Epoch 44/100\n",
      "37/37 [==============================] - 0s 5ms/step - loss: 0.0492 - accuracy: 0.2054 - val_loss: 0.0481 - val_accuracy: 0.1986\n",
      "Epoch 45/100\n",
      "37/37 [==============================] - 0s 6ms/step - loss: 0.0474 - accuracy: 0.2071 - val_loss: 0.0463 - val_accuracy: 0.1986\n",
      "Epoch 46/100\n",
      "37/37 [==============================] - 0s 5ms/step - loss: 0.0456 - accuracy: 0.2105 - val_loss: 0.0447 - val_accuracy: 0.1986\n",
      "Epoch 47/100\n",
      "37/37 [==============================] - 0s 5ms/step - loss: 0.0440 - accuracy: 0.2206 - val_loss: 0.0431 - val_accuracy: 0.2096\n",
      "Epoch 48/100\n",
      "37/37 [==============================] - 0s 6ms/step - loss: 0.0426 - accuracy: 0.2020 - val_loss: 0.0417 - val_accuracy: 0.2088\n",
      "Epoch 49/100\n",
      "37/37 [==============================] - 0s 5ms/step - loss: 0.0412 - accuracy: 0.2156 - val_loss: 0.0404 - val_accuracy: 0.2291\n",
      "Epoch 50/100\n",
      "37/37 [==============================] - 0s 6ms/step - loss: 0.0399 - accuracy: 0.2206 - val_loss: 0.0392 - val_accuracy: 0.2198\n",
      "Epoch 51/100\n",
      "37/37 [==============================] - 0s 6ms/step - loss: 0.0387 - accuracy: 0.2249 - val_loss: 0.0380 - val_accuracy: 0.2088\n",
      "Epoch 52/100\n",
      "37/37 [==============================] - 0s 5ms/step - loss: 0.0376 - accuracy: 0.2181 - val_loss: 0.0370 - val_accuracy: 0.2189\n",
      "Epoch 53/100\n",
      "37/37 [==============================] - 0s 5ms/step - loss: 0.0367 - accuracy: 0.2122 - val_loss: 0.0360 - val_accuracy: 0.2198\n",
      "Epoch 54/100\n",
      "37/37 [==============================] - 0s 5ms/step - loss: 0.0357 - accuracy: 0.2198 - val_loss: 0.0351 - val_accuracy: 0.2299\n",
      "Epoch 55/100\n",
      "37/37 [==============================] - 0s 5ms/step - loss: 0.0348 - accuracy: 0.2223 - val_loss: 0.0342 - val_accuracy: 0.2198\n",
      "Epoch 56/100\n",
      "37/37 [==============================] - 0s 5ms/step - loss: 0.0340 - accuracy: 0.2274 - val_loss: 0.0334 - val_accuracy: 0.2198\n",
      "Epoch 57/100\n",
      "37/37 [==============================] - 0s 5ms/step - loss: 0.0332 - accuracy: 0.2198 - val_loss: 0.0327 - val_accuracy: 0.2189\n",
      "Epoch 58/100\n",
      "37/37 [==============================] - 0s 5ms/step - loss: 0.0325 - accuracy: 0.2215 - val_loss: 0.0320 - val_accuracy: 0.2198\n",
      "Epoch 59/100\n",
      "37/37 [==============================] - 0s 5ms/step - loss: 0.0318 - accuracy: 0.2198 - val_loss: 0.0314 - val_accuracy: 0.2198\n",
      "Epoch 60/100\n",
      "37/37 [==============================] - 0s 5ms/step - loss: 0.0312 - accuracy: 0.2274 - val_loss: 0.0308 - val_accuracy: 0.2308\n",
      "Epoch 61/100\n",
      "37/37 [==============================] - 0s 5ms/step - loss: 0.0307 - accuracy: 0.2342 - val_loss: 0.0302 - val_accuracy: 0.2409\n",
      "Epoch 62/100\n",
      "37/37 [==============================] - 0s 5ms/step - loss: 0.0301 - accuracy: 0.2350 - val_loss: 0.0297 - val_accuracy: 0.2308\n",
      "Epoch 63/100\n",
      "37/37 [==============================] - 0s 6ms/step - loss: 0.0296 - accuracy: 0.2468 - val_loss: 0.0292 - val_accuracy: 0.2308\n",
      "Epoch 64/100\n",
      "37/37 [==============================] - 0s 5ms/step - loss: 0.0291 - accuracy: 0.2316 - val_loss: 0.0287 - val_accuracy: 0.2409\n",
      "Epoch 65/100\n",
      "37/37 [==============================] - 0s 5ms/step - loss: 0.0286 - accuracy: 0.2409 - val_loss: 0.0282 - val_accuracy: 0.2308\n",
      "Epoch 66/100\n",
      "37/37 [==============================] - 0s 5ms/step - loss: 0.0282 - accuracy: 0.2409 - val_loss: 0.0278 - val_accuracy: 0.2519\n",
      "Epoch 67/100\n",
      "37/37 [==============================] - 0s 5ms/step - loss: 0.0278 - accuracy: 0.2375 - val_loss: 0.0274 - val_accuracy: 0.2519\n",
      "Epoch 68/100\n",
      "37/37 [==============================] - 0s 5ms/step - loss: 0.0274 - accuracy: 0.2544 - val_loss: 0.0271 - val_accuracy: 0.2308\n",
      "Epoch 69/100\n",
      "37/37 [==============================] - 0s 5ms/step - loss: 0.0270 - accuracy: 0.2451 - val_loss: 0.0267 - val_accuracy: 0.2308\n",
      "Epoch 70/100\n",
      "37/37 [==============================] - 0s 5ms/step - loss: 0.0267 - accuracy: 0.2367 - val_loss: 0.0264 - val_accuracy: 0.2198\n",
      "Epoch 71/100\n",
      "37/37 [==============================] - 0s 6ms/step - loss: 0.0264 - accuracy: 0.2240 - val_loss: 0.0260 - val_accuracy: 0.2198\n",
      "Epoch 72/100\n",
      "37/37 [==============================] - 0s 5ms/step - loss: 0.0260 - accuracy: 0.2232 - val_loss: 0.0257 - val_accuracy: 0.2198\n",
      "Epoch 73/100\n",
      "37/37 [==============================] - 0s 5ms/step - loss: 0.0258 - accuracy: 0.2342 - val_loss: 0.0255 - val_accuracy: 0.2299\n",
      "Epoch 74/100\n",
      "37/37 [==============================] - 0s 5ms/step - loss: 0.0255 - accuracy: 0.2392 - val_loss: 0.0252 - val_accuracy: 0.2418\n",
      "Epoch 75/100\n",
      "37/37 [==============================] - 0s 5ms/step - loss: 0.0253 - accuracy: 0.2299 - val_loss: 0.0249 - val_accuracy: 0.2308\n",
      "Epoch 76/100\n",
      "37/37 [==============================] - 0s 6ms/step - loss: 0.0250 - accuracy: 0.2536 - val_loss: 0.0247 - val_accuracy: 0.2527\n",
      "Epoch 77/100\n",
      "37/37 [==============================] - 0s 5ms/step - loss: 0.0247 - accuracy: 0.2265 - val_loss: 0.0244 - val_accuracy: 0.2418\n",
      "Epoch 78/100\n",
      "37/37 [==============================] - 0s 5ms/step - loss: 0.0246 - accuracy: 0.2595 - val_loss: 0.0242 - val_accuracy: 0.2519\n",
      "Epoch 79/100\n",
      "37/37 [==============================] - 0s 5ms/step - loss: 0.0243 - accuracy: 0.2680 - val_loss: 0.0240 - val_accuracy: 0.2637\n",
      "Epoch 80/100\n",
      "37/37 [==============================] - 0s 5ms/step - loss: 0.0241 - accuracy: 0.2553 - val_loss: 0.0238 - val_accuracy: 0.2418\n",
      "Epoch 81/100\n",
      "37/37 [==============================] - 0s 5ms/step - loss: 0.0239 - accuracy: 0.2325 - val_loss: 0.0236 - val_accuracy: 0.2299\n",
      "Epoch 82/100\n",
      "37/37 [==============================] - 0s 5ms/step - loss: 0.0236 - accuracy: 0.2451 - val_loss: 0.0234 - val_accuracy: 0.2519\n",
      "Epoch 83/100\n",
      "37/37 [==============================] - 0s 5ms/step - loss: 0.0235 - accuracy: 0.2629 - val_loss: 0.0232 - val_accuracy: 0.2747\n",
      "Epoch 84/100\n",
      "37/37 [==============================] - 0s 5ms/step - loss: 0.0233 - accuracy: 0.2511 - val_loss: 0.0231 - val_accuracy: 0.2519\n",
      "Epoch 85/100\n",
      "37/37 [==============================] - 0s 5ms/step - loss: 0.0232 - accuracy: 0.2392 - val_loss: 0.0229 - val_accuracy: 0.2527\n",
      "Epoch 86/100\n",
      "37/37 [==============================] - 0s 5ms/step - loss: 0.0230 - accuracy: 0.2705 - val_loss: 0.0227 - val_accuracy: 0.2527\n",
      "Epoch 87/100\n",
      "37/37 [==============================] - 0s 5ms/step - loss: 0.0229 - accuracy: 0.2367 - val_loss: 0.0226 - val_accuracy: 0.2308\n",
      "Epoch 88/100\n",
      "37/37 [==============================] - 0s 5ms/step - loss: 0.0227 - accuracy: 0.2587 - val_loss: 0.0224 - val_accuracy: 0.2637\n",
      "Epoch 89/100\n",
      "37/37 [==============================] - 0s 6ms/step - loss: 0.0226 - accuracy: 0.2756 - val_loss: 0.0223 - val_accuracy: 0.2739\n",
      "Epoch 90/100\n",
      "37/37 [==============================] - 0s 5ms/step - loss: 0.0224 - accuracy: 0.2637 - val_loss: 0.0221 - val_accuracy: 0.2629\n",
      "Epoch 91/100\n",
      "37/37 [==============================] - 0s 5ms/step - loss: 0.0223 - accuracy: 0.2773 - val_loss: 0.0220 - val_accuracy: 0.2519\n",
      "Epoch 92/100\n",
      "37/37 [==============================] - 0s 5ms/step - loss: 0.0222 - accuracy: 0.2587 - val_loss: 0.0219 - val_accuracy: 0.2967\n",
      "Epoch 93/100\n",
      "37/37 [==============================] - 0s 5ms/step - loss: 0.0220 - accuracy: 0.2688 - val_loss: 0.0218 - val_accuracy: 0.2637\n",
      "Epoch 94/100\n",
      "37/37 [==============================] - 0s 6ms/step - loss: 0.0219 - accuracy: 0.2840 - val_loss: 0.0216 - val_accuracy: 0.2866\n",
      "Epoch 95/100\n",
      "37/37 [==============================] - 0s 5ms/step - loss: 0.0218 - accuracy: 0.2959 - val_loss: 0.0215 - val_accuracy: 0.2747\n",
      "Epoch 96/100\n",
      "37/37 [==============================] - 0s 5ms/step - loss: 0.0217 - accuracy: 0.2485 - val_loss: 0.0214 - val_accuracy: 0.2637\n",
      "Epoch 97/100\n",
      "37/37 [==============================] - 0s 5ms/step - loss: 0.0216 - accuracy: 0.2959 - val_loss: 0.0213 - val_accuracy: 0.2756\n",
      "Epoch 98/100\n",
      "37/37 [==============================] - 0s 5ms/step - loss: 0.0215 - accuracy: 0.2840 - val_loss: 0.0212 - val_accuracy: 0.2975\n",
      "Epoch 99/100\n",
      "37/37 [==============================] - 0s 5ms/step - loss: 0.0213 - accuracy: 0.2866 - val_loss: 0.0211 - val_accuracy: 0.2866\n",
      "Epoch 100/100\n",
      "37/37 [==============================] - 0s 5ms/step - loss: 0.0213 - accuracy: 0.2849 - val_loss: 0.0210 - val_accuracy: 0.2756\n"
     ]
    }
   ],
   "source": [
    "autoencoder = Autoencoder.create_and_train_auto_encoder(training_data, epoches, batch_size)"
   ]
  },
  {
   "cell_type": "code",
   "execution_count": 6,
   "id": "86f1344e5856c64",
   "metadata": {
    "collapsed": false,
    "ExecuteTime": {
     "end_time": "2024-06-03T16:02:11.827157600Z",
     "start_time": "2024-06-03T16:02:11.766362Z"
    }
   },
   "outputs": [],
   "source": [
    "# Gerar dados de teste\n",
    "amostras_ruidosas = []\n",
    "amostras_originais = []\n",
    "ML_result = []\n",
    "tradicional_result = []\n",
    "autoencoder_result = []\n"
   ]
  },
  {
   "cell_type": "code",
   "execution_count": 7,
   "id": "7f720926d3e1ad4a",
   "metadata": {
    "collapsed": false,
    "ExecuteTime": {
     "end_time": "2024-06-03T16:02:12.741163100Z",
     "start_time": "2024-06-03T16:02:12.567161200Z"
    }
   },
   "outputs": [],
   "source": [
    "test_data = {\n",
    "    'original': [],\n",
    "    'info': []\n",
    "}\n",
    "test_sample_length = 10 ** 3\n",
    "test_information = network.get_training_data_set(test_sample_length)\n",
    "\n",
    "total_chunks = math.floor(test_sample_length / 11)\n",
    "total_length_chunks = total_chunks * 11\n",
    "smaller_array_len = test_sample_length - total_length_chunks\n",
    "\n",
    "adjustment_test = 11 - smaller_array_len\n",
    "\n",
    "for eb_db in Eb_dB_values:\n",
    "    info = network.generate_data_for_training(test_information, eb_db, variancia)\n",
    "    test_data['info'].append(info)\n",
    "    test_data['original'] = info['original_data']"
   ]
  },
  {
   "cell_type": "code",
   "execution_count": 8,
   "id": "92478d60195b350d",
   "metadata": {
    "collapsed": false,
    "ExecuteTime": {
     "end_time": "2024-06-03T16:02:13.642575300Z",
     "start_time": "2024-06-03T16:02:13.374402500Z"
    }
   },
   "outputs": [],
   "source": [
    "i = 0\n",
    "autoencoder_result.append(network.decode_and_correct(test_data['info'][i]['split_noisy_original_data_15_11'], autoencoder))\n",
    "ML_result.append(network.decode_and_correct(test_data['info'][i]['split_noisy_original_data_15_11'], model))"
   ]
  },
  {
   "cell_type": "code",
   "execution_count": 9,
   "id": "72e3dc0bb0a81867",
   "metadata": {
    "collapsed": false,
    "ExecuteTime": {
     "end_time": "2024-06-03T16:02:14.069838300Z",
     "start_time": "2024-06-03T16:02:13.929922100Z"
    }
   },
   "outputs": [],
   "source": [
    "i = 1\n",
    "autoencoder_result.append(network.decode_and_correct(test_data['info'][i]['split_noisy_original_data_15_11'], autoencoder))\n",
    "ML_result.append(network.decode_and_correct(test_data['info'][i]['split_noisy_original_data_15_11'], model))"
   ]
  },
  {
   "cell_type": "code",
   "execution_count": 10,
   "id": "8304e6274557f9db",
   "metadata": {
    "collapsed": false,
    "ExecuteTime": {
     "end_time": "2024-06-03T16:02:14.230505600Z",
     "start_time": "2024-06-03T16:02:14.081844400Z"
    }
   },
   "outputs": [],
   "source": [
    "i = 2\n",
    "autoencoder_result.append(network.decode_and_correct(test_data['info'][i]['split_noisy_original_data_15_11'], autoencoder))\n",
    "ML_result.append(network.decode_and_correct(test_data['info'][i]['split_noisy_original_data_15_11'], model))"
   ]
  },
  {
   "cell_type": "code",
   "execution_count": 11,
   "id": "92f2ef9d94186818",
   "metadata": {
    "collapsed": false,
    "ExecuteTime": {
     "end_time": "2024-06-03T16:02:14.428826300Z",
     "start_time": "2024-06-03T16:02:14.247520300Z"
    }
   },
   "outputs": [],
   "source": [
    "i = 3\n",
    "autoencoder_result.append(network.decode_and_correct(test_data['info'][i]['split_noisy_original_data_15_11'], autoencoder))\n",
    "ML_result.append(network.decode_and_correct(test_data['info'][i]['split_noisy_original_data_15_11'], model))\n"
   ]
  },
  {
   "cell_type": "code",
   "execution_count": 12,
   "id": "10b7ea5cd5b31971",
   "metadata": {
    "collapsed": false,
    "ExecuteTime": {
     "end_time": "2024-06-03T16:02:14.816447600Z",
     "start_time": "2024-06-03T16:02:14.557114300Z"
    }
   },
   "outputs": [],
   "source": [
    "i = 4\n",
    "autoencoder_result.append(network.decode_and_correct(test_data['info'][i]['split_noisy_original_data_15_11'], autoencoder))\n",
    "ML_result.append(network.decode_and_correct(test_data['info'][i]['split_noisy_original_data_15_11'], model))\n"
   ]
  },
  {
   "cell_type": "code",
   "execution_count": 13,
   "id": "b89dc1d26fc5c62",
   "metadata": {
    "collapsed": false,
    "ExecuteTime": {
     "end_time": "2024-06-03T16:02:15.003920300Z",
     "start_time": "2024-06-03T16:02:14.731494400Z"
    }
   },
   "outputs": [],
   "source": [
    "i = 5\n",
    "autoencoder_result.append(network.decode_and_correct(test_data['info'][i]['split_noisy_original_data_15_11'], autoencoder))\n",
    "ML_result.append(network.decode_and_correct(test_data['info'][i]['split_noisy_original_data_15_11'], model))"
   ]
  },
  {
   "cell_type": "code",
   "execution_count": 14,
   "id": "77b4e5024678da5f",
   "metadata": {
    "collapsed": false,
    "ExecuteTime": {
     "end_time": "2024-06-03T16:02:15.160079500Z",
     "start_time": "2024-06-03T16:02:14.985583800Z"
    }
   },
   "outputs": [],
   "source": [
    "i = 6\n",
    "autoencoder_result.append(network.decode_and_correct(test_data['info'][i]['split_noisy_original_data_15_11'], autoencoder))\n",
    "ML_result.append(network.decode_and_correct(test_data['info'][i]['split_noisy_original_data_15_11'], model))\n"
   ]
  },
  {
   "cell_type": "code",
   "execution_count": 15,
   "id": "b27dc1c73c47c737",
   "metadata": {
    "collapsed": false,
    "ExecuteTime": {
     "end_time": "2024-06-03T16:02:15.323254300Z",
     "start_time": "2024-06-03T16:02:15.124035900Z"
    }
   },
   "outputs": [],
   "source": [
    "i = 7\n",
    "autoencoder_result.append(network.decode_and_correct(test_data['info'][i]['split_noisy_original_data_15_11'], autoencoder))\n",
    "ML_result.append(network.decode_and_correct(test_data['info'][i]['split_noisy_original_data_15_11'], model))\n"
   ]
  },
  {
   "cell_type": "code",
   "execution_count": 16,
   "id": "ecd06b38335dffff",
   "metadata": {
    "collapsed": false,
    "ExecuteTime": {
     "end_time": "2024-06-03T16:02:15.523264600Z",
     "start_time": "2024-06-03T16:02:15.285214100Z"
    }
   },
   "outputs": [],
   "source": [
    "i = 8\n",
    "autoencoder_result.append(network.decode_and_correct(test_data['info'][i]['split_noisy_original_data_15_11'], autoencoder))\n",
    "ML_result.append(network.decode_and_correct(test_data['info'][i]['split_noisy_original_data_15_11'], model))\n"
   ]
  },
  {
   "cell_type": "code",
   "execution_count": 17,
   "id": "52405c0bdc7eb8af",
   "metadata": {
    "collapsed": false,
    "ExecuteTime": {
     "end_time": "2024-06-03T16:02:15.589341100Z",
     "start_time": "2024-06-03T16:02:15.479172500Z"
    }
   },
   "outputs": [],
   "source": [
    "i = 9\n",
    "autoencoder_result.append(network.decode_and_correct(test_data['info'][i]['split_noisy_original_data_15_11'], autoencoder))\n",
    "ML_result.append(network.decode_and_correct(test_data['info'][i]['split_noisy_original_data_15_11'], model))\n"
   ]
  },
  {
   "cell_type": "code",
   "execution_count": 18,
   "id": "f7d42586607c275c",
   "metadata": {
    "collapsed": false,
    "ExecuteTime": {
     "end_time": "2024-06-03T16:02:15.856203200Z",
     "start_time": "2024-06-03T16:02:15.586343300Z"
    }
   },
   "outputs": [],
   "source": [
    "i = 10\n",
    "autoencoder_result.append(network.decode_and_correct(test_data['info'][i]['split_noisy_original_data_15_11'], autoencoder))\n",
    "ML_result.append(network.decode_and_correct(test_data['info'][i]['split_noisy_original_data_15_11'], model))\n"
   ]
  },
  {
   "cell_type": "code",
   "execution_count": 19,
   "id": "649e1eba901de9dd",
   "metadata": {
    "collapsed": false,
    "ExecuteTime": {
     "end_time": "2024-06-03T16:02:15.885199100Z",
     "start_time": "2024-06-03T16:02:15.678784400Z"
    }
   },
   "outputs": [],
   "source": [
    "i = 11\n",
    "autoencoder_result.append(network.decode_and_correct(test_data['info'][i]['split_noisy_original_data_15_11'], autoencoder))\n",
    "ML_result.append(network.decode_and_correct(test_data['info'][i]['split_noisy_original_data_15_11'], model))\n"
   ]
  },
  {
   "cell_type": "code",
   "execution_count": 20,
   "id": "58eed42c1b38f69f",
   "metadata": {
    "collapsed": false,
    "ExecuteTime": {
     "end_time": "2024-06-03T16:02:15.910725500Z",
     "start_time": "2024-06-03T16:02:15.766866100Z"
    }
   },
   "outputs": [],
   "source": [
    "i = 12\n",
    "autoencoder_result.append(network.decode_and_correct(test_data['info'][i]['split_noisy_original_data_15_11'], autoencoder))\n",
    "ML_result.append(network.decode_and_correct(test_data['info'][i]['split_noisy_original_data_15_11'], model))\n"
   ]
  },
  {
   "cell_type": "code",
   "execution_count": 24,
   "id": "d4e42892a42effa8",
   "metadata": {
    "collapsed": false,
    "ExecuteTime": {
     "end_time": "2024-06-03T16:02:42.256291600Z",
     "start_time": "2024-06-03T16:02:42.030957700Z"
    }
   },
   "outputs": [],
   "source": [
    "for i in test_data['info']:\n",
    "   tradicional_result.append(HammingCode.decode_sample(i['split_encoded_data']))"
   ]
  },
  {
   "cell_type": "code",
   "execution_count": 25,
   "id": "a768bfbe55979643",
   "metadata": {
    "collapsed": false,
    "ExecuteTime": {
     "end_time": "2024-06-03T16:02:46.990133500Z",
     "start_time": "2024-06-03T16:02:46.881381100Z"
    }
   },
   "outputs": [
    {
     "ename": "ValueError",
     "evalue": "operands could not be broadcast together with shapes (1004,) (1000,) ",
     "output_type": "error",
     "traceback": [
      "\u001B[0;31m---------------------------------------------------------------------------\u001B[0m",
      "\u001B[0;31mValueError\u001B[0m                                Traceback (most recent call last)",
      "Cell \u001B[0;32mIn[25], line 7\u001B[0m\n\u001B[1;32m      5\u001B[0m \u001B[38;5;28;01mfor\u001B[39;00m i \u001B[38;5;129;01min\u001B[39;00m \u001B[38;5;28mrange\u001B[39m(\u001B[38;5;241m0\u001B[39m, \u001B[38;5;28mlen\u001B[39m(autoencoder_result)):\n\u001B[1;32m      6\u001B[0m     BER_ML\u001B[38;5;241m.\u001B[39mappend(np\u001B[38;5;241m.\u001B[39msum(np\u001B[38;5;241m.\u001B[39marray(ML_result[i])\u001B[38;5;241m.\u001B[39mastype(\u001B[38;5;28mint\u001B[39m) \u001B[38;5;241m!=\u001B[39m paddded_array) \u001B[38;5;241m/\u001B[39m \u001B[38;5;28mlen\u001B[39m(paddded_array))\n\u001B[0;32m----> 7\u001B[0m     BER_tradicional\u001B[38;5;241m.\u001B[39mappend(np\u001B[38;5;241m.\u001B[39msum(\u001B[43mnp\u001B[49m\u001B[38;5;241;43m.\u001B[39;49m\u001B[43marray\u001B[49m\u001B[43m(\u001B[49m\u001B[43mtradicional_result\u001B[49m\u001B[43m[\u001B[49m\u001B[43mi\u001B[49m\u001B[43m]\u001B[49m\u001B[43m)\u001B[49m\u001B[38;5;241;43m.\u001B[39;49m\u001B[43mastype\u001B[49m\u001B[43m(\u001B[49m\u001B[38;5;28;43mint\u001B[39;49m\u001B[43m)\u001B[49m\u001B[43m \u001B[49m\u001B[38;5;241;43m!=\u001B[39;49m\u001B[43m \u001B[49m\u001B[43mtest_data\u001B[49m\u001B[43m[\u001B[49m\u001B[38;5;124;43m'\u001B[39;49m\u001B[38;5;124;43moriginal\u001B[39;49m\u001B[38;5;124;43m'\u001B[39;49m\u001B[43m]\u001B[49m) \u001B[38;5;241m/\u001B[39m \u001B[38;5;28mlen\u001B[39m(test_data[\u001B[38;5;124m'\u001B[39m\u001B[38;5;124moriginal\u001B[39m\u001B[38;5;124m'\u001B[39m]))\n\u001B[1;32m      8\u001B[0m     BER_autoencoder\u001B[38;5;241m.\u001B[39mappend(np\u001B[38;5;241m.\u001B[39msum(np\u001B[38;5;241m.\u001B[39marray(autoencoder_result[i])\u001B[38;5;241m.\u001B[39mastype(\u001B[38;5;28mint\u001B[39m) \u001B[38;5;241m!=\u001B[39m paddded_array) \u001B[38;5;241m/\u001B[39m \u001B[38;5;28mlen\u001B[39m(paddded_array))\n\u001B[1;32m     10\u001B[0m \u001B[38;5;66;03m# Calcular a BER teórica\u001B[39;00m\n",
      "\u001B[0;31mValueError\u001B[0m: operands could not be broadcast together with shapes (1004,) (1000,) "
     ]
    }
   ],
   "source": [
    "BER_tradicional = []\n",
    "BER_autoencoder = []\n",
    "BER_ML = []\n",
    "paddded_array = test_data['info'][0]['padded_array_original_data']\n",
    "for i in range(0, len(autoencoder_result)):\n",
    "    BER_ML.append(np.sum(np.array(ML_result[i]).astype(int) != paddded_array) / len(paddded_array))\n",
    "    BER_tradicional.append(np.sum(np.array(tradicional_result[i]).astype(int) != test_data['original']) / len(test_data['original']))\n",
    "    BER_autoencoder.append(np.sum(np.array(autoencoder_result[i]).astype(int) != paddded_array) / len(paddded_array))\n",
    "\n",
    "# Calcular a BER teórica\n",
    "Eb_coded = np.array([eb_db + 10*np.log10(code_rate) for eb_db in Eb_dB_values])\n",
    "Eb_values = 10**(Eb_coded/10)\n",
    "BER_teorica = 0.5 * erfc(np.sqrt(Eb_values))"
   ]
  },
  {
   "cell_type": "code",
   "execution_count": 23,
   "id": "dd38a450efea265d",
   "metadata": {
    "collapsed": false,
    "ExecuteTime": {
     "end_time": "2024-06-03T16:02:19.018194400Z",
     "start_time": "2024-06-03T16:02:16.939016700Z"
    }
   },
   "outputs": [
    {
     "data": {
      "text/plain": "<Figure size 1000x600 with 1 Axes>",
      "image/png": "[encoded data removed]"
     },
     "metadata": {},
     "output_type": "display_data"
    }
   ],
   "source": [
    "# Plotar as taxas de erro de bit simuladas e teóricas\n",
    "plt.figure(figsize=(10, 6))\n",
    "#plt.semilogy(Eb_coded, BER_tradicional, linestyle = '--', label='Codificado')\n",
    "plt.semilogy(Eb_coded, BER_autoencoder, linestyle = '--', label='Autoencoder')\n",
    "plt.semilogy(Eb_coded, BER_ML, linestyle = '--', label='MLP')\n",
    "plt.semilogy(Eb_coded, BER_teorica, linestyle='--', label='Teórica')\n",
    "plt.xlabel('Eb/No (dB)')\n",
    "plt.ylabel('BER')\n",
    "plt.grid(True, which='both')\n",
    "plt.legend()\n",
    "plt.title('BER x Eb/No')\n",
    "plt.show()"
   ]
  },
  {
   "cell_type": "code",
   "outputs": [],
   "source": [],
   "metadata": {
    "collapsed": false
   },
   "id": "6c71e5745e08e1c",
   "execution_count": null
  },
  {
   "cell_type": "code",
   "outputs": [],
   "source": [],
   "metadata": {
    "collapsed": false
   },
   "id": "56fd06d38937a204",
   "execution_count": null
  },
  {
   "cell_type": "code",
   "outputs": [],
   "source": [],
   "metadata": {
    "collapsed": false
   },
   "id": "ec9421734247ae94",
   "execution_count": null
  },
  {
   "cell_type": "code",
   "outputs": [],
   "source": [],
   "metadata": {
    "collapsed": false
   },
   "id": "8f86160f1e216a4b",
   "execution_count": null
  },
  {
   "cell_type": "code",
   "outputs": [],
   "source": [],
   "metadata": {
    "collapsed": false
   },
   "id": "25a0aef9b69baea8",
   "execution_count": null
  }
 ],
 "metadata": {
  "kernelspec": {
   "display_name": "Python 3 (ipykernel)",
   "language": "python",
   "name": "python3"
  },
  "language_info": {
   "codemirror_mode": {
    "name": "ipython",
    "version": 3
   },
   "file_extension": ".py",
   "mimetype": "text/x-python",
   "name": "python",
   "nbconvert_exporter": "python",
   "pygments_lexer": "ipython3",
   "version": "3.10.12"
  }
 },
 "nbformat": 4,
 "nbformat_minor": 5
}
