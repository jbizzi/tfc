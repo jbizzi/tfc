{
 "cells": [
  {
   "cell_type": "code",
   "execution_count": 1,
   "id": "initial_id",
   "metadata": {
    "collapsed": true,
    "jupyter": {
     "outputs_hidden": true
    },
    "ExecuteTime": {
     "end_time": "2024-06-03T12:05:16.477531300Z",
     "start_time": "2024-06-03T12:05:04.094823800Z"
    }
   },
   "outputs": [
    {
     "name": "stderr",
     "output_type": "stream",
     "text": [
      "2024-06-03 09:05:09.709440: E external/local_xla/xla/stream_executor/cuda/cuda_dnn.cc:9261] Unable to register cuDNN factory: Attempting to register factory for plugin cuDNN when one has already been registered\n",
      "2024-06-03 09:05:09.709572: E external/local_xla/xla/stream_executor/cuda/cuda_fft.cc:607] Unable to register cuFFT factory: Attempting to register factory for plugin cuFFT when one has already been registered\n",
      "2024-06-03 09:05:09.816822: E external/local_xla/xla/stream_executor/cuda/cuda_blas.cc:1515] Unable to register cuBLAS factory: Attempting to register factory for plugin cuBLAS when one has already been registered\n",
      "2024-06-03 09:05:10.047054: I tensorflow/core/platform/cpu_feature_guard.cc:182] This TensorFlow binary is optimized to use available CPU instructions in performance-critical operations.\n",
      "To enable the following instructions: AVX2 FMA, in other operations, rebuild TensorFlow with the appropriate compiler flags.\n",
      "2024-06-03 09:05:12.327549: W tensorflow/compiler/tf2tensorrt/utils/py_utils.cc:38] TF-TRT Warning: Could not find TensorRT\n"
     ]
    }
   ],
   "source": [
    "%load_ext autoreload\n",
    "%autoreload 2\n",
    "import HammingCode\n",
    "import matplotlib.pyplot as plt\n",
    "import numpy as np\n",
    "from scipy.special import erfc\n",
    "import NeuralNetworkCorrection as network\n",
    "import Autoencoder\n",
    "import math\n",
    "import Utils"
   ]
  },
  {
   "cell_type": "code",
   "execution_count": 2,
   "id": "a5b56cf35e30f038",
   "metadata": {
    "collapsed": false,
    "ExecuteTime": {
     "end_time": "2024-06-03T12:05:16.591830500Z",
     "start_time": "2024-06-03T12:05:16.467478800Z"
    }
   },
   "outputs": [],
   "source": [
    "variancia = 1\n",
    "code_rate = 4/7\n",
    "# amostra\n",
    "Eb_dB_values = np.arange(3, 16, 1)\n",
    "\n",
    "\n",
    "\n",
    "# Gerar dados de treinamento\n",
    "training_sample_length = 10 ** 5\n",
    "epoches = 100\n",
    "batch_size = 32"
   ]
  },
  {
   "cell_type": "code",
   "execution_count": 3,
   "id": "7b8afdcc790661ee",
   "metadata": {
    "collapsed": false,
    "ExecuteTime": {
     "end_time": "2024-06-03T12:05:21.796433900Z",
     "start_time": "2024-06-03T12:05:16.587300900Z"
    }
   },
   "outputs": [],
   "source": [
    "training_data = {\n",
    "    'original': [],\n",
    "    'noisy': [],\n",
    "    'info': []\n",
    "}\n",
    "\n",
    "training_information = network.get_training_data_set(training_sample_length)\n",
    "\n",
    "for eb_db in Eb_dB_values:\n",
    "    info = network.generate_data_for_training(training_information, eb_db, variancia)\n",
    "    training_data['noisy'].extend(info['split_noisy_original_data_15_11'])\n",
    "    training_data['original'].extend(info['split_original_data_15_11'])\n",
    "\n",
    "training_data['noisy'] = np.array(training_data['noisy'])\n",
    "training_data['original'] = np.array(training_data['original'])"
   ]
  },
  {
   "cell_type": "code",
   "execution_count": 6,
   "id": "54fb41e7292daaf5",
   "metadata": {
    "collapsed": false,
    "ExecuteTime": {
     "end_time": "2024-06-03T12:06:21.169025700Z",
     "start_time": "2024-06-03T12:06:17.562899300Z"
    }
   },
   "outputs": [
    {
     "name": "stdout",
     "output_type": "stream",
     "text": [
      "[[1 0 0 ... 1 1 1]\n",
      " [0 0 0 ... 0 0 1]\n",
      " [0 0 0 ... 0 1 1]\n",
      " ...\n",
      " [0 1 1 ... 1 1 1]\n",
      " [0 1 1 ... 0 1 0]\n",
      " [0 1 1 ... 1 1 0]]\n",
      "Epoch 1/100\n",
      " 154/3324 [>.............................] - ETA: 21s - loss: 0.5523 - accuracy: 0.1303"
     ]
    },
    {
     "ename": "KeyboardInterrupt",
     "evalue": "",
     "output_type": "error",
     "traceback": [
      "\u001B[0;31m---------------------------------------------------------------------------\u001B[0m",
      "\u001B[0;31mKeyboardInterrupt\u001B[0m                         Traceback (most recent call last)",
      "Cell \u001B[0;32mIn[6], line 2\u001B[0m\n\u001B[1;32m      1\u001B[0m \u001B[38;5;66;03m# Criar e treinar a rede neural\u001B[39;00m\n\u001B[0;32m----> 2\u001B[0m model \u001B[38;5;241m=\u001B[39m \u001B[43mnetwork\u001B[49m\u001B[38;5;241;43m.\u001B[39;49m\u001B[43mtrain_neural_network\u001B[49m\u001B[43m(\u001B[49m\u001B[43mtraining_data\u001B[49m\u001B[43m,\u001B[49m\u001B[43m \u001B[49m\u001B[43mepoches\u001B[49m\u001B[43m,\u001B[49m\u001B[43m \u001B[49m\u001B[43mbatch_size\u001B[49m\u001B[43m)\u001B[49m\n",
      "File \u001B[0;32m~/Unicamp/TCC/tcc/src/NeuralNetworkCorrection.py:90\u001B[0m, in \u001B[0;36mtrain_neural_network\u001B[0;34m(training_data, epoches, batch_size)\u001B[0m\n\u001B[1;32m     81\u001B[0m \u001B[38;5;28mprint\u001B[39m(training_data[\u001B[38;5;124m'\u001B[39m\u001B[38;5;124moriginal\u001B[39m\u001B[38;5;124m'\u001B[39m])\n\u001B[1;32m     83\u001B[0m X_train, X_test, y_train, y_test \u001B[38;5;241m=\u001B[39m train_test_split(\n\u001B[1;32m     84\u001B[0m     training_data[\u001B[38;5;124m'\u001B[39m\u001B[38;5;124mnoisy\u001B[39m\u001B[38;5;124m'\u001B[39m],\n\u001B[1;32m     85\u001B[0m     training_data[\u001B[38;5;124m'\u001B[39m\u001B[38;5;124moriginal\u001B[39m\u001B[38;5;124m'\u001B[39m],\n\u001B[1;32m     86\u001B[0m     test_size\u001B[38;5;241m=\u001B[39m\u001B[38;5;241m0.1\u001B[39m,\n\u001B[1;32m     87\u001B[0m     random_state\u001B[38;5;241m=\u001B[39m\u001B[38;5;241m42\u001B[39m\n\u001B[1;32m     88\u001B[0m )\n\u001B[0;32m---> 90\u001B[0m \u001B[43mmodel\u001B[49m\u001B[38;5;241;43m.\u001B[39;49m\u001B[43mfit\u001B[49m\u001B[43m(\u001B[49m\n\u001B[1;32m     91\u001B[0m \u001B[43m    \u001B[49m\u001B[43mX_train\u001B[49m\u001B[43m,\u001B[49m\n\u001B[1;32m     92\u001B[0m \u001B[43m    \u001B[49m\u001B[43my_train\u001B[49m\u001B[43m,\u001B[49m\n\u001B[1;32m     93\u001B[0m \u001B[43m    \u001B[49m\u001B[43mepochs\u001B[49m\u001B[38;5;241;43m=\u001B[39;49m\u001B[43mepoches\u001B[49m\u001B[43m,\u001B[49m\n\u001B[1;32m     94\u001B[0m \u001B[43m    \u001B[49m\u001B[43mbatch_size\u001B[49m\u001B[38;5;241;43m=\u001B[39;49m\u001B[43mbatch_size\u001B[49m\u001B[43m,\u001B[49m\n\u001B[1;32m     95\u001B[0m \u001B[43m    \u001B[49m\u001B[43mvalidation_data\u001B[49m\u001B[38;5;241;43m=\u001B[39;49m\u001B[43m(\u001B[49m\u001B[43mX_test\u001B[49m\u001B[43m,\u001B[49m\u001B[43m \u001B[49m\u001B[43my_test\u001B[49m\u001B[43m)\u001B[49m\n\u001B[1;32m     96\u001B[0m \u001B[43m\u001B[49m\u001B[43m)\u001B[49m\n\u001B[1;32m     98\u001B[0m \u001B[38;5;28;01mreturn\u001B[39;00m model\n",
      "File \u001B[0;32m~/Unicamp/TCC/tcc/.venv/lib/python3.10/site-packages/keras/src/utils/traceback_utils.py:65\u001B[0m, in \u001B[0;36mfilter_traceback.<locals>.error_handler\u001B[0;34m(*args, **kwargs)\u001B[0m\n\u001B[1;32m     63\u001B[0m filtered_tb \u001B[38;5;241m=\u001B[39m \u001B[38;5;28;01mNone\u001B[39;00m\n\u001B[1;32m     64\u001B[0m \u001B[38;5;28;01mtry\u001B[39;00m:\n\u001B[0;32m---> 65\u001B[0m     \u001B[38;5;28;01mreturn\u001B[39;00m \u001B[43mfn\u001B[49m\u001B[43m(\u001B[49m\u001B[38;5;241;43m*\u001B[39;49m\u001B[43margs\u001B[49m\u001B[43m,\u001B[49m\u001B[43m \u001B[49m\u001B[38;5;241;43m*\u001B[39;49m\u001B[38;5;241;43m*\u001B[39;49m\u001B[43mkwargs\u001B[49m\u001B[43m)\u001B[49m\n\u001B[1;32m     66\u001B[0m \u001B[38;5;28;01mexcept\u001B[39;00m \u001B[38;5;167;01mException\u001B[39;00m \u001B[38;5;28;01mas\u001B[39;00m e:\n\u001B[1;32m     67\u001B[0m     filtered_tb \u001B[38;5;241m=\u001B[39m _process_traceback_frames(e\u001B[38;5;241m.\u001B[39m__traceback__)\n",
      "File \u001B[0;32m~/Unicamp/TCC/tcc/.venv/lib/python3.10/site-packages/keras/src/engine/training.py:1807\u001B[0m, in \u001B[0;36mModel.fit\u001B[0;34m(self, x, y, batch_size, epochs, verbose, callbacks, validation_split, validation_data, shuffle, class_weight, sample_weight, initial_epoch, steps_per_epoch, validation_steps, validation_batch_size, validation_freq, max_queue_size, workers, use_multiprocessing)\u001B[0m\n\u001B[1;32m   1799\u001B[0m \u001B[38;5;28;01mwith\u001B[39;00m tf\u001B[38;5;241m.\u001B[39mprofiler\u001B[38;5;241m.\u001B[39mexperimental\u001B[38;5;241m.\u001B[39mTrace(\n\u001B[1;32m   1800\u001B[0m     \u001B[38;5;124m\"\u001B[39m\u001B[38;5;124mtrain\u001B[39m\u001B[38;5;124m\"\u001B[39m,\n\u001B[1;32m   1801\u001B[0m     epoch_num\u001B[38;5;241m=\u001B[39mepoch,\n\u001B[0;32m   (...)\u001B[0m\n\u001B[1;32m   1804\u001B[0m     _r\u001B[38;5;241m=\u001B[39m\u001B[38;5;241m1\u001B[39m,\n\u001B[1;32m   1805\u001B[0m ):\n\u001B[1;32m   1806\u001B[0m     callbacks\u001B[38;5;241m.\u001B[39mon_train_batch_begin(step)\n\u001B[0;32m-> 1807\u001B[0m     tmp_logs \u001B[38;5;241m=\u001B[39m \u001B[38;5;28;43mself\u001B[39;49m\u001B[38;5;241;43m.\u001B[39;49m\u001B[43mtrain_function\u001B[49m\u001B[43m(\u001B[49m\u001B[43miterator\u001B[49m\u001B[43m)\u001B[49m\n\u001B[1;32m   1808\u001B[0m     \u001B[38;5;28;01mif\u001B[39;00m data_handler\u001B[38;5;241m.\u001B[39mshould_sync:\n\u001B[1;32m   1809\u001B[0m         context\u001B[38;5;241m.\u001B[39masync_wait()\n",
      "File \u001B[0;32m~/Unicamp/TCC/tcc/.venv/lib/python3.10/site-packages/tensorflow/python/util/traceback_utils.py:150\u001B[0m, in \u001B[0;36mfilter_traceback.<locals>.error_handler\u001B[0;34m(*args, **kwargs)\u001B[0m\n\u001B[1;32m    148\u001B[0m filtered_tb \u001B[38;5;241m=\u001B[39m \u001B[38;5;28;01mNone\u001B[39;00m\n\u001B[1;32m    149\u001B[0m \u001B[38;5;28;01mtry\u001B[39;00m:\n\u001B[0;32m--> 150\u001B[0m   \u001B[38;5;28;01mreturn\u001B[39;00m \u001B[43mfn\u001B[49m\u001B[43m(\u001B[49m\u001B[38;5;241;43m*\u001B[39;49m\u001B[43margs\u001B[49m\u001B[43m,\u001B[49m\u001B[43m \u001B[49m\u001B[38;5;241;43m*\u001B[39;49m\u001B[38;5;241;43m*\u001B[39;49m\u001B[43mkwargs\u001B[49m\u001B[43m)\u001B[49m\n\u001B[1;32m    151\u001B[0m \u001B[38;5;28;01mexcept\u001B[39;00m \u001B[38;5;167;01mException\u001B[39;00m \u001B[38;5;28;01mas\u001B[39;00m e:\n\u001B[1;32m    152\u001B[0m   filtered_tb \u001B[38;5;241m=\u001B[39m _process_traceback_frames(e\u001B[38;5;241m.\u001B[39m__traceback__)\n",
      "File \u001B[0;32m~/Unicamp/TCC/tcc/.venv/lib/python3.10/site-packages/tensorflow/python/eager/polymorphic_function/polymorphic_function.py:832\u001B[0m, in \u001B[0;36mFunction.__call__\u001B[0;34m(self, *args, **kwds)\u001B[0m\n\u001B[1;32m    829\u001B[0m compiler \u001B[38;5;241m=\u001B[39m \u001B[38;5;124m\"\u001B[39m\u001B[38;5;124mxla\u001B[39m\u001B[38;5;124m\"\u001B[39m \u001B[38;5;28;01mif\u001B[39;00m \u001B[38;5;28mself\u001B[39m\u001B[38;5;241m.\u001B[39m_jit_compile \u001B[38;5;28;01melse\u001B[39;00m \u001B[38;5;124m\"\u001B[39m\u001B[38;5;124mnonXla\u001B[39m\u001B[38;5;124m\"\u001B[39m\n\u001B[1;32m    831\u001B[0m \u001B[38;5;28;01mwith\u001B[39;00m OptionalXlaContext(\u001B[38;5;28mself\u001B[39m\u001B[38;5;241m.\u001B[39m_jit_compile):\n\u001B[0;32m--> 832\u001B[0m   result \u001B[38;5;241m=\u001B[39m \u001B[38;5;28;43mself\u001B[39;49m\u001B[38;5;241;43m.\u001B[39;49m\u001B[43m_call\u001B[49m\u001B[43m(\u001B[49m\u001B[38;5;241;43m*\u001B[39;49m\u001B[43margs\u001B[49m\u001B[43m,\u001B[49m\u001B[43m \u001B[49m\u001B[38;5;241;43m*\u001B[39;49m\u001B[38;5;241;43m*\u001B[39;49m\u001B[43mkwds\u001B[49m\u001B[43m)\u001B[49m\n\u001B[1;32m    834\u001B[0m new_tracing_count \u001B[38;5;241m=\u001B[39m \u001B[38;5;28mself\u001B[39m\u001B[38;5;241m.\u001B[39mexperimental_get_tracing_count()\n\u001B[1;32m    835\u001B[0m without_tracing \u001B[38;5;241m=\u001B[39m (tracing_count \u001B[38;5;241m==\u001B[39m new_tracing_count)\n",
      "File \u001B[0;32m~/Unicamp/TCC/tcc/.venv/lib/python3.10/site-packages/tensorflow/python/eager/polymorphic_function/polymorphic_function.py:868\u001B[0m, in \u001B[0;36mFunction._call\u001B[0;34m(self, *args, **kwds)\u001B[0m\n\u001B[1;32m    865\u001B[0m   \u001B[38;5;28mself\u001B[39m\u001B[38;5;241m.\u001B[39m_lock\u001B[38;5;241m.\u001B[39mrelease()\n\u001B[1;32m    866\u001B[0m   \u001B[38;5;66;03m# In this case we have created variables on the first call, so we run the\u001B[39;00m\n\u001B[1;32m    867\u001B[0m   \u001B[38;5;66;03m# defunned version which is guaranteed to never create variables.\u001B[39;00m\n\u001B[0;32m--> 868\u001B[0m   \u001B[38;5;28;01mreturn\u001B[39;00m \u001B[43mtracing_compilation\u001B[49m\u001B[38;5;241;43m.\u001B[39;49m\u001B[43mcall_function\u001B[49m\u001B[43m(\u001B[49m\n\u001B[1;32m    869\u001B[0m \u001B[43m      \u001B[49m\u001B[43margs\u001B[49m\u001B[43m,\u001B[49m\u001B[43m \u001B[49m\u001B[43mkwds\u001B[49m\u001B[43m,\u001B[49m\u001B[43m \u001B[49m\u001B[38;5;28;43mself\u001B[39;49m\u001B[38;5;241;43m.\u001B[39;49m\u001B[43m_no_variable_creation_config\u001B[49m\n\u001B[1;32m    870\u001B[0m \u001B[43m  \u001B[49m\u001B[43m)\u001B[49m\n\u001B[1;32m    871\u001B[0m \u001B[38;5;28;01melif\u001B[39;00m \u001B[38;5;28mself\u001B[39m\u001B[38;5;241m.\u001B[39m_variable_creation_config \u001B[38;5;129;01mis\u001B[39;00m \u001B[38;5;129;01mnot\u001B[39;00m \u001B[38;5;28;01mNone\u001B[39;00m:\n\u001B[1;32m    872\u001B[0m   \u001B[38;5;66;03m# Release the lock early so that multiple threads can perform the call\u001B[39;00m\n\u001B[1;32m    873\u001B[0m   \u001B[38;5;66;03m# in parallel.\u001B[39;00m\n\u001B[1;32m    874\u001B[0m   \u001B[38;5;28mself\u001B[39m\u001B[38;5;241m.\u001B[39m_lock\u001B[38;5;241m.\u001B[39mrelease()\n",
      "File \u001B[0;32m~/Unicamp/TCC/tcc/.venv/lib/python3.10/site-packages/tensorflow/python/eager/polymorphic_function/tracing_compilation.py:140\u001B[0m, in \u001B[0;36mcall_function\u001B[0;34m(args, kwargs, tracing_options)\u001B[0m\n\u001B[1;32m    137\u001B[0m bound_args \u001B[38;5;241m=\u001B[39m function\u001B[38;5;241m.\u001B[39mfunction_type\u001B[38;5;241m.\u001B[39mbind(\u001B[38;5;241m*\u001B[39margs, \u001B[38;5;241m*\u001B[39m\u001B[38;5;241m*\u001B[39mkwargs)\n\u001B[1;32m    138\u001B[0m flat_inputs \u001B[38;5;241m=\u001B[39m function\u001B[38;5;241m.\u001B[39mfunction_type\u001B[38;5;241m.\u001B[39munpack_inputs(bound_args)\n\u001B[1;32m    139\u001B[0m \u001B[38;5;28;01mreturn\u001B[39;00m function\u001B[38;5;241m.\u001B[39m_call_flat(  \u001B[38;5;66;03m# pylint: disable=protected-access\u001B[39;00m\n\u001B[0;32m--> 140\u001B[0m     flat_inputs, captured_inputs\u001B[38;5;241m=\u001B[39m\u001B[43mfunction\u001B[49m\u001B[38;5;241;43m.\u001B[39;49m\u001B[43mcaptured_inputs\u001B[49m\n\u001B[1;32m    141\u001B[0m )\n",
      "File \u001B[0;32m~/Unicamp/TCC/tcc/.venv/lib/python3.10/site-packages/tensorflow/python/eager/polymorphic_function/concrete_function.py:1508\u001B[0m, in \u001B[0;36mConcreteFunction.captured_inputs\u001B[0;34m(self)\u001B[0m\n\u001B[1;32m   1502\u001B[0m \u001B[38;5;129m@property\u001B[39m\n\u001B[1;32m   1503\u001B[0m \u001B[38;5;28;01mdef\u001B[39;00m \u001B[38;5;21mcaptured_inputs\u001B[39m(\u001B[38;5;28mself\u001B[39m):\n\u001B[1;32m   1504\u001B[0m \u001B[38;5;250m  \u001B[39m\u001B[38;5;124;03m\"\"\"Returns external Tensors captured by this function.\u001B[39;00m\n\u001B[1;32m   1505\u001B[0m \n\u001B[1;32m   1506\u001B[0m \u001B[38;5;124;03m  self.__call__(*args) passes `args + self.captured_inputs` to the function.\u001B[39;00m\n\u001B[1;32m   1507\u001B[0m \u001B[38;5;124;03m  \"\"\"\u001B[39;00m\n\u001B[0;32m-> 1508\u001B[0m   \u001B[38;5;28;01mreturn\u001B[39;00m \u001B[43mnest\u001B[49m\u001B[38;5;241;43m.\u001B[39;49m\u001B[43mflatten\u001B[49m\u001B[43m(\u001B[49m\n\u001B[1;32m   1509\u001B[0m \u001B[43m      \u001B[49m\u001B[43m[\u001B[49m\u001B[43mx\u001B[49m\u001B[43m(\u001B[49m\u001B[43m)\u001B[49m\u001B[43m \u001B[49m\u001B[38;5;28;43;01mif\u001B[39;49;00m\u001B[43m \u001B[49m\u001B[38;5;28;43mcallable\u001B[39;49m\u001B[43m(\u001B[49m\u001B[43mx\u001B[49m\u001B[43m)\u001B[49m\u001B[43m \u001B[49m\u001B[38;5;28;43;01melse\u001B[39;49;00m\u001B[43m \u001B[49m\u001B[43mx\u001B[49m\u001B[43m \u001B[49m\u001B[38;5;28;43;01mfor\u001B[39;49;00m\u001B[43m \u001B[49m\u001B[43mx\u001B[49m\u001B[43m \u001B[49m\u001B[38;5;129;43;01min\u001B[39;49;00m\u001B[43m \u001B[49m\u001B[38;5;28;43mself\u001B[39;49m\u001B[38;5;241;43m.\u001B[39;49m\u001B[43m_captured_inputs\u001B[49m\u001B[43m]\u001B[49m\u001B[43m,\u001B[49m\n\u001B[1;32m   1510\u001B[0m \u001B[43m      \u001B[49m\u001B[43mexpand_composites\u001B[49m\u001B[38;5;241;43m=\u001B[39;49m\u001B[38;5;28;43;01mTrue\u001B[39;49;00m\u001B[43m)\u001B[49m\n",
      "File \u001B[0;32m~/Unicamp/TCC/tcc/.venv/lib/python3.10/site-packages/tensorflow/python/util/nest.py:296\u001B[0m, in \u001B[0;36mflatten\u001B[0;34m(structure, expand_composites)\u001B[0m\n\u001B[1;32m    201\u001B[0m \u001B[38;5;129m@tf_export\u001B[39m(\u001B[38;5;124m\"\u001B[39m\u001B[38;5;124mnest.flatten\u001B[39m\u001B[38;5;124m\"\u001B[39m)\n\u001B[1;32m    202\u001B[0m \u001B[38;5;28;01mdef\u001B[39;00m \u001B[38;5;21mflatten\u001B[39m(structure, expand_composites\u001B[38;5;241m=\u001B[39m\u001B[38;5;28;01mFalse\u001B[39;00m):\n\u001B[1;32m    203\u001B[0m \u001B[38;5;250m  \u001B[39m\u001B[38;5;124;03m\"\"\"Returns a flat list from a given structure.\u001B[39;00m\n\u001B[1;32m    204\u001B[0m \n\u001B[1;32m    205\u001B[0m \u001B[38;5;124;03m  Refer to [tf.nest](https://www.tensorflow.org/api_docs/python/tf/nest)\u001B[39;00m\n\u001B[0;32m   (...)\u001B[0m\n\u001B[1;32m    294\u001B[0m \u001B[38;5;124;03m    TypeError: The nest is or contains a dict with non-sortable keys.\u001B[39;00m\n\u001B[1;32m    295\u001B[0m \u001B[38;5;124;03m  \"\"\"\u001B[39;00m\n\u001B[0;32m--> 296\u001B[0m   \u001B[38;5;28;01mreturn\u001B[39;00m \u001B[43mnest_util\u001B[49m\u001B[38;5;241;43m.\u001B[39;49m\u001B[43mflatten\u001B[49m\u001B[43m(\u001B[49m\n\u001B[1;32m    297\u001B[0m \u001B[43m      \u001B[49m\u001B[43mnest_util\u001B[49m\u001B[38;5;241;43m.\u001B[39;49m\u001B[43mModality\u001B[49m\u001B[38;5;241;43m.\u001B[39;49m\u001B[43mCORE\u001B[49m\u001B[43m,\u001B[49m\u001B[43m \u001B[49m\u001B[43mstructure\u001B[49m\u001B[43m,\u001B[49m\u001B[43m \u001B[49m\u001B[43mexpand_composites\u001B[49m\n\u001B[1;32m    298\u001B[0m \u001B[43m  \u001B[49m\u001B[43m)\u001B[49m\n",
      "File \u001B[0;32m~/Unicamp/TCC/tcc/.venv/lib/python3.10/site-packages/tensorflow/python/util/nest_util.py:713\u001B[0m, in \u001B[0;36mflatten\u001B[0;34m(modality, structure, expand_composites)\u001B[0m\n\u001B[1;32m    617\u001B[0m \u001B[38;5;250m\u001B[39m\u001B[38;5;124;03m\"\"\"Flattens a nested structure.\u001B[39;00m\n\u001B[1;32m    618\u001B[0m \n\u001B[1;32m    619\u001B[0m \u001B[38;5;124;03m- For Modality.CORE: refer to\u001B[39;00m\n\u001B[0;32m   (...)\u001B[0m\n\u001B[1;32m    710\u001B[0m \u001B[38;5;124;03m  TypeError: The nest is or contains a dict with non-sortable keys.\u001B[39;00m\n\u001B[1;32m    711\u001B[0m \u001B[38;5;124;03m\"\"\"\u001B[39;00m\n\u001B[1;32m    712\u001B[0m \u001B[38;5;28;01mif\u001B[39;00m modality \u001B[38;5;241m==\u001B[39m Modality\u001B[38;5;241m.\u001B[39mCORE:\n\u001B[0;32m--> 713\u001B[0m   \u001B[38;5;28;01mreturn\u001B[39;00m \u001B[43m_tf_core_flatten\u001B[49m\u001B[43m(\u001B[49m\u001B[43mstructure\u001B[49m\u001B[43m,\u001B[49m\u001B[43m \u001B[49m\u001B[43mexpand_composites\u001B[49m\u001B[43m)\u001B[49m\n\u001B[1;32m    714\u001B[0m \u001B[38;5;28;01melif\u001B[39;00m modality \u001B[38;5;241m==\u001B[39m Modality\u001B[38;5;241m.\u001B[39mDATA:\n\u001B[1;32m    715\u001B[0m   \u001B[38;5;28;01mreturn\u001B[39;00m _tf_data_flatten(structure)\n",
      "\u001B[0;31mKeyboardInterrupt\u001B[0m: "
     ]
    }
   ],
   "source": [
    "# Criar e treinar a rede neural\n",
    "model = network.train_neural_network(training_data, epoches, batch_size)"
   ]
  },
  {
   "cell_type": "code",
   "execution_count": 5,
   "id": "dabd2ca69967e1ae",
   "metadata": {
    "collapsed": false,
    "ExecuteTime": {
     "end_time": "2024-06-02T15:59:49.586856600Z",
     "start_time": "2024-06-02T15:35:34.718873900Z"
    }
   },
   "outputs": [
    {
     "name": "stdout",
     "output_type": "stream",
     "text": [
      "Epoch 1/100\n",
      "3694/3694 [==============================] - 16s 4ms/step - loss: 0.5440 - accuracy: 0.1540 - val_loss: 0.4980 - val_accuracy: 0.1159\n",
      "Epoch 2/100\n",
      "3694/3694 [==============================] - 15s 4ms/step - loss: 0.4938 - accuracy: 0.1524 - val_loss: 0.4921 - val_accuracy: 0.1004\n",
      "Epoch 3/100\n",
      "3694/3694 [==============================] - 15s 4ms/step - loss: 0.4905 - accuracy: 0.1475 - val_loss: 0.4896 - val_accuracy: 0.0896\n",
      "Epoch 4/100\n",
      "3694/3694 [==============================] - 15s 4ms/step - loss: 0.4896 - accuracy: 0.1317 - val_loss: 0.4893 - val_accuracy: 0.3806\n",
      "Epoch 5/100\n",
      "3694/3694 [==============================] - 15s 4ms/step - loss: 0.4892 - accuracy: 0.1314 - val_loss: 0.4889 - val_accuracy: 0.0865\n",
      "Epoch 6/100\n",
      "3694/3694 [==============================] - 15s 4ms/step - loss: 0.4890 - accuracy: 0.1403 - val_loss: 0.4886 - val_accuracy: 0.3513\n",
      "Epoch 7/100\n",
      "3694/3694 [==============================] - 15s 4ms/step - loss: 0.4889 - accuracy: 0.1438 - val_loss: 0.4898 - val_accuracy: 0.0305\n",
      "Epoch 8/100\n",
      "3694/3694 [==============================] - 15s 4ms/step - loss: 0.4889 - accuracy: 0.1448 - val_loss: 0.4887 - val_accuracy: 0.1014\n",
      "Epoch 9/100\n",
      "3694/3694 [==============================] - 15s 4ms/step - loss: 0.4889 - accuracy: 0.1462 - val_loss: 0.4895 - val_accuracy: 0.0200\n",
      "Epoch 10/100\n",
      "3694/3694 [==============================] - 15s 4ms/step - loss: 0.4888 - accuracy: 0.1415 - val_loss: 0.4890 - val_accuracy: 0.0390\n",
      "Epoch 11/100\n",
      "3694/3694 [==============================] - 15s 4ms/step - loss: 0.4888 - accuracy: 0.1557 - val_loss: 0.4890 - val_accuracy: 0.1220\n",
      "Epoch 12/100\n",
      "3694/3694 [==============================] - 15s 4ms/step - loss: 0.4888 - accuracy: 0.1412 - val_loss: 0.4882 - val_accuracy: 0.3476\n",
      "Epoch 13/100\n",
      "3694/3694 [==============================] - 15s 4ms/step - loss: 0.4888 - accuracy: 0.1456 - val_loss: 0.4890 - val_accuracy: 0.1339\n",
      "Epoch 14/100\n",
      "3694/3694 [==============================] - 15s 4ms/step - loss: 0.4889 - accuracy: 0.1437 - val_loss: 0.4888 - val_accuracy: 0.0979\n",
      "Epoch 15/100\n",
      "3694/3694 [==============================] - 15s 4ms/step - loss: 0.4888 - accuracy: 0.1406 - val_loss: 0.4898 - val_accuracy: 0.3736\n",
      "Epoch 16/100\n",
      "3694/3694 [==============================] - 15s 4ms/step - loss: 0.4888 - accuracy: 0.1421 - val_loss: 0.4891 - val_accuracy: 0.2819\n",
      "Epoch 17/100\n",
      "3694/3694 [==============================] - 15s 4ms/step - loss: 0.4888 - accuracy: 0.1471 - val_loss: 0.4888 - val_accuracy: 0.4690\n",
      "Epoch 18/100\n",
      "3694/3694 [==============================] - 15s 4ms/step - loss: 0.4888 - accuracy: 0.1449 - val_loss: 0.4896 - val_accuracy: 0.0733\n",
      "Epoch 19/100\n",
      "3694/3694 [==============================] - 15s 4ms/step - loss: 0.4888 - accuracy: 0.1406 - val_loss: 0.4894 - val_accuracy: 0.0580\n",
      "Epoch 20/100\n",
      "3694/3694 [==============================] - 15s 4ms/step - loss: 0.4888 - accuracy: 0.1395 - val_loss: 0.4896 - val_accuracy: 0.0785\n",
      "Epoch 21/100\n",
      "3694/3694 [==============================] - 15s 4ms/step - loss: 0.4888 - accuracy: 0.1353 - val_loss: 0.4889 - val_accuracy: 0.1501\n",
      "Epoch 22/100\n",
      "3694/3694 [==============================] - 15s 4ms/step - loss: 0.4888 - accuracy: 0.1362 - val_loss: 0.4891 - val_accuracy: 0.3680\n",
      "Epoch 23/100\n",
      "3694/3694 [==============================] - 15s 4ms/step - loss: 0.4888 - accuracy: 0.1397 - val_loss: 0.4885 - val_accuracy: 0.0764\n",
      "Epoch 24/100\n",
      "3694/3694 [==============================] - 15s 4ms/step - loss: 0.4887 - accuracy: 0.1405 - val_loss: 0.4883 - val_accuracy: 0.3441\n",
      "Epoch 25/100\n",
      "3694/3694 [==============================] - 15s 4ms/step - loss: 0.4888 - accuracy: 0.1408 - val_loss: 0.4885 - val_accuracy: 0.4638\n",
      "Epoch 26/100\n",
      "3694/3694 [==============================] - 15s 4ms/step - loss: 0.4887 - accuracy: 0.1549 - val_loss: 0.4890 - val_accuracy: 0.0159\n",
      "Epoch 27/100\n",
      "3694/3694 [==============================] - 15s 4ms/step - loss: 0.4887 - accuracy: 0.1501 - val_loss: 0.4889 - val_accuracy: 0.1664\n",
      "Epoch 28/100\n",
      "3694/3694 [==============================] - 15s 4ms/step - loss: 0.4888 - accuracy: 0.1398 - val_loss: 0.4889 - val_accuracy: 0.1015\n",
      "Epoch 29/100\n",
      "3694/3694 [==============================] - 15s 4ms/step - loss: 0.4888 - accuracy: 0.1427 - val_loss: 0.4889 - val_accuracy: 0.3375\n",
      "Epoch 30/100\n",
      "3694/3694 [==============================] - 15s 4ms/step - loss: 0.4888 - accuracy: 0.1442 - val_loss: 0.4880 - val_accuracy: 0.0910\n",
      "Epoch 31/100\n",
      "3694/3694 [==============================] - 15s 4ms/step - loss: 0.4887 - accuracy: 0.1295 - val_loss: 0.4881 - val_accuracy: 0.0324\n",
      "Epoch 32/100\n",
      "3694/3694 [==============================] - 15s 4ms/step - loss: 0.4887 - accuracy: 0.1436 - val_loss: 0.4882 - val_accuracy: 0.4787\n",
      "Epoch 33/100\n",
      "3694/3694 [==============================] - 15s 4ms/step - loss: 0.4888 - accuracy: 0.1391 - val_loss: 0.4891 - val_accuracy: 0.5052\n",
      "Epoch 34/100\n",
      "3694/3694 [==============================] - 14s 4ms/step - loss: 0.4888 - accuracy: 0.1461 - val_loss: 0.4888 - val_accuracy: 0.3174\n",
      "Epoch 35/100\n",
      "3694/3694 [==============================] - 15s 4ms/step - loss: 0.4887 - accuracy: 0.1389 - val_loss: 0.4889 - val_accuracy: 0.3158\n",
      "Epoch 36/100\n",
      "3694/3694 [==============================] - 14s 4ms/step - loss: 0.4887 - accuracy: 0.1469 - val_loss: 0.4885 - val_accuracy: 0.0666\n",
      "Epoch 37/100\n",
      "3694/3694 [==============================] - 15s 4ms/step - loss: 0.4887 - accuracy: 0.1425 - val_loss: 0.4884 - val_accuracy: 0.0856\n",
      "Epoch 38/100\n",
      "3694/3694 [==============================] - 14s 4ms/step - loss: 0.4888 - accuracy: 0.1428 - val_loss: 0.4883 - val_accuracy: 0.0311\n",
      "Epoch 39/100\n",
      "3694/3694 [==============================] - 15s 4ms/step - loss: 0.4888 - accuracy: 0.1421 - val_loss: 0.4886 - val_accuracy: 0.0363\n",
      "Epoch 40/100\n",
      "3694/3694 [==============================] - 14s 4ms/step - loss: 0.4887 - accuracy: 0.1392 - val_loss: 0.4892 - val_accuracy: 0.0311\n",
      "Epoch 41/100\n",
      "3694/3694 [==============================] - 15s 4ms/step - loss: 0.4888 - accuracy: 0.1479 - val_loss: 0.4882 - val_accuracy: 0.0606\n",
      "Epoch 42/100\n",
      "3694/3694 [==============================] - 15s 4ms/step - loss: 0.4887 - accuracy: 0.1435 - val_loss: 0.4880 - val_accuracy: 0.0708\n",
      "Epoch 43/100\n",
      "3694/3694 [==============================] - 15s 4ms/step - loss: 0.4888 - accuracy: 0.1505 - val_loss: 0.4891 - val_accuracy: 0.2781\n",
      "Epoch 44/100\n",
      "3694/3694 [==============================] - 15s 4ms/step - loss: 0.4887 - accuracy: 0.1353 - val_loss: 0.4885 - val_accuracy: 0.0721\n",
      "Epoch 45/100\n",
      "3694/3694 [==============================] - 15s 4ms/step - loss: 0.4887 - accuracy: 0.1544 - val_loss: 0.4891 - val_accuracy: 0.4820\n",
      "Epoch 46/100\n",
      "3694/3694 [==============================] - 15s 4ms/step - loss: 0.4887 - accuracy: 0.1408 - val_loss: 0.4882 - val_accuracy: 0.0453\n",
      "Epoch 47/100\n",
      "3694/3694 [==============================] - 14s 4ms/step - loss: 0.4888 - accuracy: 0.1413 - val_loss: 0.4890 - val_accuracy: 0.2780\n",
      "Epoch 48/100\n",
      "3694/3694 [==============================] - 15s 4ms/step - loss: 0.4887 - accuracy: 0.1394 - val_loss: 0.4887 - val_accuracy: 0.2041\n",
      "Epoch 49/100\n",
      "3694/3694 [==============================] - 15s 4ms/step - loss: 0.4887 - accuracy: 0.1504 - val_loss: 0.4884 - val_accuracy: 0.0334\n",
      "Epoch 50/100\n",
      "3694/3694 [==============================] - 15s 4ms/step - loss: 0.4887 - accuracy: 0.1526 - val_loss: 0.4887 - val_accuracy: 0.1276\n",
      "Epoch 51/100\n",
      "3694/3694 [==============================] - 15s 4ms/step - loss: 0.4888 - accuracy: 0.1446 - val_loss: 0.4880 - val_accuracy: 0.2093\n",
      "Epoch 52/100\n",
      "3694/3694 [==============================] - 15s 4ms/step - loss: 0.4887 - accuracy: 0.1394 - val_loss: 0.4885 - val_accuracy: 0.1436\n",
      "Epoch 53/100\n",
      "3694/3694 [==============================] - 15s 4ms/step - loss: 0.4887 - accuracy: 0.1414 - val_loss: 0.4888 - val_accuracy: 0.2667\n",
      "Epoch 54/100\n",
      "3694/3694 [==============================] - 15s 4ms/step - loss: 0.4887 - accuracy: 0.1506 - val_loss: 0.4895 - val_accuracy: 0.0643\n",
      "Epoch 55/100\n",
      "3694/3694 [==============================] - 15s 4ms/step - loss: 0.4887 - accuracy: 0.1558 - val_loss: 0.4884 - val_accuracy: 0.0226\n",
      "Epoch 56/100\n",
      "3694/3694 [==============================] - 15s 4ms/step - loss: 0.4887 - accuracy: 0.1462 - val_loss: 0.4886 - val_accuracy: 0.0649\n",
      "Epoch 57/100\n",
      "3694/3694 [==============================] - 14s 4ms/step - loss: 0.4887 - accuracy: 0.1528 - val_loss: 0.4885 - val_accuracy: 0.0387\n",
      "Epoch 58/100\n",
      "3694/3694 [==============================] - 15s 4ms/step - loss: 0.4887 - accuracy: 0.1409 - val_loss: 0.4893 - val_accuracy: 0.1312\n",
      "Epoch 59/100\n",
      "3694/3694 [==============================] - 14s 4ms/step - loss: 0.4887 - accuracy: 0.1406 - val_loss: 0.4887 - val_accuracy: 0.0655\n",
      "Epoch 60/100\n",
      "3694/3694 [==============================] - 14s 4ms/step - loss: 0.4887 - accuracy: 0.1505 - val_loss: 0.4889 - val_accuracy: 0.0524\n",
      "Epoch 61/100\n",
      "3694/3694 [==============================] - 15s 4ms/step - loss: 0.4887 - accuracy: 0.1474 - val_loss: 0.4886 - val_accuracy: 0.0571\n",
      "Epoch 62/100\n",
      "3694/3694 [==============================] - 14s 4ms/step - loss: 0.4887 - accuracy: 0.1397 - val_loss: 0.4883 - val_accuracy: 0.1303\n",
      "Epoch 63/100\n",
      "3694/3694 [==============================] - 14s 4ms/step - loss: 0.4887 - accuracy: 0.1543 - val_loss: 0.4894 - val_accuracy: 0.0214\n",
      "Epoch 64/100\n",
      "3694/3694 [==============================] - 14s 4ms/step - loss: 0.4887 - accuracy: 0.1537 - val_loss: 0.4884 - val_accuracy: 0.0838\n",
      "Epoch 65/100\n",
      "3694/3694 [==============================] - 14s 4ms/step - loss: 0.4887 - accuracy: 0.1515 - val_loss: 0.4881 - val_accuracy: 0.2177\n",
      "Epoch 66/100\n",
      "3694/3694 [==============================] - 15s 4ms/step - loss: 0.4887 - accuracy: 0.1345 - val_loss: 0.4887 - val_accuracy: 0.0705\n",
      "Epoch 67/100\n",
      "3694/3694 [==============================] - 14s 4ms/step - loss: 0.4887 - accuracy: 0.1464 - val_loss: 0.4882 - val_accuracy: 0.1313\n",
      "Epoch 68/100\n",
      "3694/3694 [==============================] - 14s 4ms/step - loss: 0.4887 - accuracy: 0.1392 - val_loss: 0.4887 - val_accuracy: 0.1569\n",
      "Epoch 69/100\n",
      "3694/3694 [==============================] - 14s 4ms/step - loss: 0.4886 - accuracy: 0.1500 - val_loss: 0.4883 - val_accuracy: 0.1941\n",
      "Epoch 70/100\n",
      "3694/3694 [==============================] - 15s 4ms/step - loss: 0.4887 - accuracy: 0.1520 - val_loss: 0.4890 - val_accuracy: 0.1455\n",
      "Epoch 71/100\n",
      "3694/3694 [==============================] - 14s 4ms/step - loss: 0.4887 - accuracy: 0.1526 - val_loss: 0.4880 - val_accuracy: 0.1283\n",
      "Epoch 72/100\n",
      "3694/3694 [==============================] - 14s 4ms/step - loss: 0.4887 - accuracy: 0.1414 - val_loss: 0.4883 - val_accuracy: 0.0366\n",
      "Epoch 73/100\n",
      "3694/3694 [==============================] - 14s 4ms/step - loss: 0.4887 - accuracy: 0.1482 - val_loss: 0.4883 - val_accuracy: 0.0442\n",
      "Epoch 74/100\n",
      "3694/3694 [==============================] - 14s 4ms/step - loss: 0.4887 - accuracy: 0.1426 - val_loss: 0.4883 - val_accuracy: 0.3997\n",
      "Epoch 75/100\n",
      "3694/3694 [==============================] - 14s 4ms/step - loss: 0.4887 - accuracy: 0.1494 - val_loss: 0.4884 - val_accuracy: 0.2856\n",
      "Epoch 76/100\n",
      "3694/3694 [==============================] - 14s 4ms/step - loss: 0.4887 - accuracy: 0.1433 - val_loss: 0.4884 - val_accuracy: 0.1023\n",
      "Epoch 77/100\n",
      "3694/3694 [==============================] - 14s 4ms/step - loss: 0.4887 - accuracy: 0.1464 - val_loss: 0.4882 - val_accuracy: 0.1017\n",
      "Epoch 78/100\n",
      "3694/3694 [==============================] - 15s 4ms/step - loss: 0.4887 - accuracy: 0.1411 - val_loss: 0.4900 - val_accuracy: 0.1605\n",
      "Epoch 79/100\n",
      "3694/3694 [==============================] - 14s 4ms/step - loss: 0.4887 - accuracy: 0.1429 - val_loss: 0.4883 - val_accuracy: 0.1742\n",
      "Epoch 80/100\n",
      "3694/3694 [==============================] - 14s 4ms/step - loss: 0.4887 - accuracy: 0.1394 - val_loss: 0.4888 - val_accuracy: 0.0706\n",
      "Epoch 81/100\n",
      "3694/3694 [==============================] - 14s 4ms/step - loss: 0.4887 - accuracy: 0.1584 - val_loss: 0.4889 - val_accuracy: 0.0467\n",
      "Epoch 82/100\n",
      "3694/3694 [==============================] - 15s 4ms/step - loss: 0.4887 - accuracy: 0.1415 - val_loss: 0.4883 - val_accuracy: 0.1168\n",
      "Epoch 83/100\n",
      "3694/3694 [==============================] - 14s 4ms/step - loss: 0.4887 - accuracy: 0.1374 - val_loss: 0.4882 - val_accuracy: 0.0670\n",
      "Epoch 84/100\n",
      "3694/3694 [==============================] - 14s 4ms/step - loss: 0.4887 - accuracy: 0.1450 - val_loss: 0.4880 - val_accuracy: 0.1348\n",
      "Epoch 85/100\n",
      "3694/3694 [==============================] - 14s 4ms/step - loss: 0.4886 - accuracy: 0.1481 - val_loss: 0.4889 - val_accuracy: 0.3848\n",
      "Epoch 86/100\n",
      "3694/3694 [==============================] - 14s 4ms/step - loss: 0.4887 - accuracy: 0.1471 - val_loss: 0.4886 - val_accuracy: 0.1729\n",
      "Epoch 87/100\n",
      "3694/3694 [==============================] - 14s 4ms/step - loss: 0.4886 - accuracy: 0.1452 - val_loss: 0.4890 - val_accuracy: 0.1872\n",
      "Epoch 88/100\n",
      "3694/3694 [==============================] - 14s 4ms/step - loss: 0.4887 - accuracy: 0.1599 - val_loss: 0.4883 - val_accuracy: 0.0192\n",
      "Epoch 89/100\n",
      "3694/3694 [==============================] - 14s 4ms/step - loss: 0.4886 - accuracy: 0.1428 - val_loss: 0.4884 - val_accuracy: 0.0327\n",
      "Epoch 90/100\n",
      "3694/3694 [==============================] - 15s 4ms/step - loss: 0.4887 - accuracy: 0.1498 - val_loss: 0.4883 - val_accuracy: 0.2695\n",
      "Epoch 91/100\n",
      "3694/3694 [==============================] - 14s 4ms/step - loss: 0.4886 - accuracy: 0.1387 - val_loss: 0.4879 - val_accuracy: 0.1691\n",
      "Epoch 92/100\n",
      "3694/3694 [==============================] - 14s 4ms/step - loss: 0.4887 - accuracy: 0.1445 - val_loss: 0.4891 - val_accuracy: 0.1632\n",
      "Epoch 93/100\n",
      "3694/3694 [==============================] - 14s 4ms/step - loss: 0.4886 - accuracy: 0.1390 - val_loss: 0.4882 - val_accuracy: 0.2065\n",
      "Epoch 94/100\n",
      "3694/3694 [==============================] - 14s 4ms/step - loss: 0.4887 - accuracy: 0.1456 - val_loss: 0.4884 - val_accuracy: 0.0649\n",
      "Epoch 95/100\n",
      "3694/3694 [==============================] - 14s 4ms/step - loss: 0.4887 - accuracy: 0.1412 - val_loss: 0.4890 - val_accuracy: 0.0483\n",
      "Epoch 96/100\n",
      "3694/3694 [==============================] - 14s 4ms/step - loss: 0.4886 - accuracy: 0.1474 - val_loss: 0.4885 - val_accuracy: 0.0561\n",
      "Epoch 97/100\n",
      "3694/3694 [==============================] - 14s 4ms/step - loss: 0.4887 - accuracy: 0.1404 - val_loss: 0.4884 - val_accuracy: 0.1583\n",
      "Epoch 98/100\n",
      "3694/3694 [==============================] - 15s 4ms/step - loss: 0.4887 - accuracy: 0.1459 - val_loss: 0.4880 - val_accuracy: 0.0925\n",
      "Epoch 99/100\n",
      "3694/3694 [==============================] - 14s 4ms/step - loss: 0.4886 - accuracy: 0.1456 - val_loss: 0.4882 - val_accuracy: 0.0676\n",
      "Epoch 100/100\n",
      "3694/3694 [==============================] - 14s 4ms/step - loss: 0.4886 - accuracy: 0.1488 - val_loss: 0.4881 - val_accuracy: 0.0988\n"
     ]
    }
   ],
   "source": [
    "autoencoder = Autoencoder.create_and_train_auto_encoder(training_data, epoches, batch_size)"
   ]
  },
  {
   "cell_type": "code",
   "execution_count": 6,
   "id": "86f1344e5856c64",
   "metadata": {
    "collapsed": false,
    "ExecuteTime": {
     "end_time": "2024-06-02T15:59:49.662337800Z",
     "start_time": "2024-06-02T15:59:49.586856600Z"
    }
   },
   "outputs": [],
   "source": [
    "# Gerar dados de teste\n",
    "amostras_ruidosas = []\n",
    "amostras_originais = []\n",
    "ML_result = []\n",
    "tradicional_result = []\n",
    "autoencoder_result = []\n"
   ]
  },
  {
   "cell_type": "code",
   "execution_count": 7,
   "id": "7f720926d3e1ad4a",
   "metadata": {
    "collapsed": false,
    "ExecuteTime": {
     "end_time": "2024-06-02T15:59:49.783501500Z",
     "start_time": "2024-06-02T15:59:49.662337800Z"
    }
   },
   "outputs": [],
   "source": [
    "test_data = {\n",
    "    'original': [],\n",
    "    'info': []\n",
    "}\n",
    "test_sample_length = 10 ** 3\n",
    "test_information = network.get_training_data_set(test_sample_length)\n",
    "\n",
    "total_chunks = math.floor(test_sample_length / 11)\n",
    "total_length_chunks = total_chunks * 11\n",
    "smaller_array_len = test_sample_length - total_length_chunks\n",
    "\n",
    "adjustment_test = 11 - smaller_array_len\n",
    "\n",
    "for eb_db in Eb_dB_values:\n",
    "    info = network.generate_data_for_training(test_information, eb_db, variancia)\n",
    "    test_data['info'].append(info)\n",
    "    test_data['original'] = info['original_data']"
   ]
  },
  {
   "cell_type": "code",
   "execution_count": 8,
   "id": "92478d60195b350d",
   "metadata": {
    "collapsed": false,
    "ExecuteTime": {
     "end_time": "2024-06-02T15:59:49.962553400Z",
     "start_time": "2024-06-02T15:59:49.782501300Z"
    }
   },
   "outputs": [],
   "source": [
    "i = 0\n",
    "autoencoder_result.append(network.decode_and_correct(test_data['info'][i]['split_noisy_original_data_15_11'], autoencoder))\n",
    "ML_result.append(network.decode_and_correct(test_data['info'][i]['split_noisy_original_data_15_11'], model))"
   ]
  },
  {
   "cell_type": "code",
   "execution_count": 9,
   "id": "72e3dc0bb0a81867",
   "metadata": {
    "collapsed": false,
    "ExecuteTime": {
     "end_time": "2024-06-02T15:59:50.037394800Z",
     "start_time": "2024-06-02T15:59:49.967331Z"
    }
   },
   "outputs": [],
   "source": [
    "i = 1\n",
    "autoencoder_result.append(network.decode_and_correct(test_data['info'][i]['split_noisy_original_data_15_11'], autoencoder))\n",
    "ML_result.append(network.decode_and_correct(test_data['info'][i]['split_noisy_original_data_15_11'], model))"
   ]
  },
  {
   "cell_type": "code",
   "execution_count": 10,
   "id": "8304e6274557f9db",
   "metadata": {
    "collapsed": false,
    "ExecuteTime": {
     "end_time": "2024-06-02T15:59:50.102222800Z",
     "start_time": "2024-06-02T15:59:50.037394800Z"
    }
   },
   "outputs": [],
   "source": [
    "i = 2\n",
    "autoencoder_result.append(network.decode_and_correct(test_data['info'][i]['split_noisy_original_data_15_11'], autoencoder))\n",
    "ML_result.append(network.decode_and_correct(test_data['info'][i]['split_noisy_original_data_15_11'], model))"
   ]
  },
  {
   "cell_type": "code",
   "execution_count": 11,
   "id": "92f2ef9d94186818",
   "metadata": {
    "collapsed": false,
    "ExecuteTime": {
     "end_time": "2024-06-02T15:59:50.166865600Z",
     "start_time": "2024-06-02T15:59:50.108227Z"
    }
   },
   "outputs": [],
   "source": [
    "i = 3\n",
    "autoencoder_result.append(network.decode_and_correct(test_data['info'][i]['split_noisy_original_data_15_11'], autoencoder))\n",
    "ML_result.append(network.decode_and_correct(test_data['info'][i]['split_noisy_original_data_15_11'], model))\n"
   ]
  },
  {
   "cell_type": "code",
   "execution_count": 12,
   "id": "10b7ea5cd5b31971",
   "metadata": {
    "collapsed": false,
    "ExecuteTime": {
     "end_time": "2024-06-02T15:59:50.234559200Z",
     "start_time": "2024-06-02T15:59:50.173862500Z"
    }
   },
   "outputs": [],
   "source": [
    "i = 4\n",
    "autoencoder_result.append(network.decode_and_correct(test_data['info'][i]['split_noisy_original_data_15_11'], autoencoder))\n",
    "ML_result.append(network.decode_and_correct(test_data['info'][i]['split_noisy_original_data_15_11'], model))\n"
   ]
  },
  {
   "cell_type": "code",
   "execution_count": 13,
   "id": "b89dc1d26fc5c62",
   "metadata": {
    "collapsed": false,
    "ExecuteTime": {
     "end_time": "2024-06-02T15:59:50.300180700Z",
     "start_time": "2024-06-02T15:59:50.240675200Z"
    }
   },
   "outputs": [],
   "source": [
    "i = 5\n",
    "autoencoder_result.append(network.decode_and_correct(test_data['info'][i]['split_noisy_original_data_15_11'], autoencoder))\n",
    "ML_result.append(network.decode_and_correct(test_data['info'][i]['split_noisy_original_data_15_11'], model))"
   ]
  },
  {
   "cell_type": "code",
   "execution_count": 14,
   "id": "77b4e5024678da5f",
   "metadata": {
    "collapsed": false,
    "ExecuteTime": {
     "end_time": "2024-06-02T15:59:50.369759800Z",
     "start_time": "2024-06-02T15:59:50.309183400Z"
    }
   },
   "outputs": [],
   "source": [
    "i = 6\n",
    "autoencoder_result.append(network.decode_and_correct(test_data['info'][i]['split_noisy_original_data_15_11'], autoencoder))\n",
    "ML_result.append(network.decode_and_correct(test_data['info'][i]['split_noisy_original_data_15_11'], model))\n"
   ]
  },
  {
   "cell_type": "code",
   "execution_count": 15,
   "id": "b27dc1c73c47c737",
   "metadata": {
    "collapsed": false,
    "ExecuteTime": {
     "end_time": "2024-06-02T15:59:50.436135100Z",
     "start_time": "2024-06-02T15:59:50.376797800Z"
    }
   },
   "outputs": [],
   "source": [
    "i = 7\n",
    "autoencoder_result.append(network.decode_and_correct(test_data['info'][i]['split_noisy_original_data_15_11'], autoencoder))\n",
    "ML_result.append(network.decode_and_correct(test_data['info'][i]['split_noisy_original_data_15_11'], model))\n"
   ]
  },
  {
   "cell_type": "code",
   "execution_count": 16,
   "id": "ecd06b38335dffff",
   "metadata": {
    "collapsed": false,
    "ExecuteTime": {
     "end_time": "2024-06-02T15:59:50.504689600Z",
     "start_time": "2024-06-02T15:59:50.442099400Z"
    }
   },
   "outputs": [],
   "source": [
    "i = 8\n",
    "autoencoder_result.append(network.decode_and_correct(test_data['info'][i]['split_noisy_original_data_15_11'], autoencoder))\n",
    "ML_result.append(network.decode_and_correct(test_data['info'][i]['split_noisy_original_data_15_11'], model))\n"
   ]
  },
  {
   "cell_type": "code",
   "execution_count": 17,
   "id": "52405c0bdc7eb8af",
   "metadata": {
    "collapsed": false,
    "ExecuteTime": {
     "end_time": "2024-06-02T15:59:50.570550900Z",
     "start_time": "2024-06-02T15:59:50.509685900Z"
    }
   },
   "outputs": [],
   "source": [
    "i = 9\n",
    "autoencoder_result.append(network.decode_and_correct(test_data['info'][i]['split_noisy_original_data_15_11'], autoencoder))\n",
    "ML_result.append(network.decode_and_correct(test_data['info'][i]['split_noisy_original_data_15_11'], model))\n"
   ]
  },
  {
   "cell_type": "code",
   "execution_count": 18,
   "id": "f7d42586607c275c",
   "metadata": {
    "collapsed": false,
    "ExecuteTime": {
     "end_time": "2024-06-02T15:59:50.640464600Z",
     "start_time": "2024-06-02T15:59:50.575199600Z"
    }
   },
   "outputs": [],
   "source": [
    "i = 10\n",
    "autoencoder_result.append(network.decode_and_correct(test_data['info'][i]['split_noisy_original_data_15_11'], autoencoder))\n",
    "ML_result.append(network.decode_and_correct(test_data['info'][i]['split_noisy_original_data_15_11'], model))\n"
   ]
  },
  {
   "cell_type": "code",
   "execution_count": 19,
   "id": "649e1eba901de9dd",
   "metadata": {
    "collapsed": false,
    "ExecuteTime": {
     "end_time": "2024-06-02T15:59:50.704180400Z",
     "start_time": "2024-06-02T15:59:50.644469Z"
    }
   },
   "outputs": [],
   "source": [
    "i = 11\n",
    "autoencoder_result.append(network.decode_and_correct(test_data['info'][i]['split_noisy_original_data_15_11'], autoencoder))\n",
    "ML_result.append(network.decode_and_correct(test_data['info'][i]['split_noisy_original_data_15_11'], model))\n"
   ]
  },
  {
   "cell_type": "code",
   "execution_count": 20,
   "id": "58eed42c1b38f69f",
   "metadata": {
    "collapsed": false,
    "ExecuteTime": {
     "end_time": "2024-06-02T15:59:50.771052500Z",
     "start_time": "2024-06-02T15:59:50.710166500Z"
    }
   },
   "outputs": [],
   "source": [
    "i = 12\n",
    "autoencoder_result.append(network.decode_and_correct(test_data['info'][i]['split_noisy_original_data_15_11'], autoencoder))\n",
    "ML_result.append(network.decode_and_correct(test_data['info'][i]['split_noisy_original_data_15_11'], model))\n"
   ]
  },
  {
   "cell_type": "code",
   "execution_count": 21,
   "id": "d4e42892a42effa8",
   "metadata": {
    "collapsed": false,
    "ExecuteTime": {
     "end_time": "2024-06-02T15:59:50.826647900Z",
     "start_time": "2024-06-02T15:59:50.778436700Z"
    }
   },
   "outputs": [],
   "source": [
    "#for i in test_data['info']:\n",
    "#    tradicional_result.append(HammingCode.decode_sample(i['split_encoded_data']))"
   ]
  },
  {
   "cell_type": "code",
   "execution_count": 22,
   "id": "a768bfbe55979643",
   "metadata": {
    "collapsed": false,
    "ExecuteTime": {
     "end_time": "2024-06-02T15:59:50.878912400Z",
     "start_time": "2024-06-02T15:59:50.832649100Z"
    }
   },
   "outputs": [],
   "source": [
    "BER_tradicional = []\n",
    "BER_autoencoder = []\n",
    "BER_ML = []\n",
    "paddded_array = test_data['info'][0]['padded_array']\n",
    "for i in range(0, len(autoencoder_result)):\n",
    "    BER_ML.append(np.sum(np.array(ML_result[i]).astype(int) != paddded_array) / len(paddded_array))\n",
    "    #BER_tradicional.append(np.sum(np.array(tradicional_result[i]).astype(int) != test_data['original']) / len(test_data['original']))\n",
    "    BER_autoencoder.append(np.sum(np.array(autoencoder_result[i]).astype(int) != paddded_array) / len(paddded_array))\n",
    "\n",
    "# Calcular a BER teórica\n",
    "Eb_coded = np.array([eb_db + 10*np.log10(code_rate) for eb_db in Eb_dB_values])\n",
    "Eb_values = 10**(Eb_coded/10)\n",
    "BER_teorica = 0.5 * erfc(np.sqrt(Eb_values))"
   ]
  },
  {
   "cell_type": "code",
   "execution_count": 23,
   "id": "dd38a450efea265d",
   "metadata": {
    "collapsed": false,
    "ExecuteTime": {
     "end_time": "2024-06-02T15:59:52.177160800Z",
     "start_time": "2024-06-02T15:59:50.874911300Z"
    }
   },
   "outputs": [
    {
     "data": {
      "text/plain": "<Figure size 1000x600 with 1 Axes>",
      "image/png": "[encoded data removed]"
     },
     "metadata": {},
     "output_type": "display_data"
    }
   ],
   "source": [
    "# Plotar as taxas de erro de bit simuladas e teóricas\n",
    "plt.figure(figsize=(10, 6))\n",
    "#plt.semilogy(Eb_coded, BER_tradicional, linestyle = '--', label='Codificado')\n",
    "plt.semilogy(Eb_coded, BER_autoencoder, linestyle = '--', label='Autoencoder')\n",
    "plt.semilogy(Eb_coded, BER_ML, linestyle = '--', label='MLP')\n",
    "plt.semilogy(Eb_coded, BER_teorica, linestyle='--', label='Teórica')\n",
    "plt.xlabel('Eb/No (dB)')\n",
    "plt.ylabel('BER')\n",
    "plt.grid(True, which='both')\n",
    "plt.legend()\n",
    "plt.title('BER x Eb/No')\n",
    "plt.show()"
   ]
  },
  {
   "cell_type": "code",
   "outputs": [],
   "source": [],
   "metadata": {
    "collapsed": false,
    "ExecuteTime": {
     "end_time": "2024-06-02T15:59:52.177725800Z",
     "start_time": "2024-06-02T15:59:52.167124500Z"
    }
   },
   "id": "6c71e5745e08e1c",
   "execution_count": 23
  },
  {
   "cell_type": "code",
   "outputs": [],
   "source": [],
   "metadata": {
    "collapsed": false,
    "ExecuteTime": {
     "end_time": "2024-06-02T15:59:52.191733800Z",
     "start_time": "2024-06-02T15:59:52.172684100Z"
    }
   },
   "id": "56fd06d38937a204",
   "execution_count": 23
  }
 ],
 "metadata": {
  "kernelspec": {
   "display_name": "Python 3 (ipykernel)",
   "language": "python",
   "name": "python3"
  },
  "language_info": {
   "codemirror_mode": {
    "name": "ipython",
    "version": 3
   },
   "file_extension": ".py",
   "mimetype": "text/x-python",
   "name": "python",
   "nbconvert_exporter": "python",
   "pygments_lexer": "ipython3",
   "version": "3.10.12"
  }
 },
 "nbformat": 4,
 "nbformat_minor": 5
}
