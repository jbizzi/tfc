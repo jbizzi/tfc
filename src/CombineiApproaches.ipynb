{
 "cells": [
  {
   "cell_type": "code",
   "execution_count": 1,
   "id": "initial_id",
   "metadata": {
    "collapsed": true,
    "jupyter": {
     "outputs_hidden": true
    },
    "ExecuteTime": {
     "end_time": "2024-06-05T10:59:41.062115900Z",
     "start_time": "2024-06-05T10:59:30.990864400Z"
    }
   },
   "outputs": [
    {
     "name": "stderr",
     "output_type": "stream",
     "text": [
      "2024-06-05 07:59:35.360844: E external/local_xla/xla/stream_executor/cuda/cuda_dnn.cc:9261] Unable to register cuDNN factory: Attempting to register factory for plugin cuDNN when one has already been registered\n",
      "2024-06-05 07:59:35.360949: E external/local_xla/xla/stream_executor/cuda/cuda_fft.cc:607] Unable to register cuFFT factory: Attempting to register factory for plugin cuFFT when one has already been registered\n",
      "2024-06-05 07:59:35.473287: E external/local_xla/xla/stream_executor/cuda/cuda_blas.cc:1515] Unable to register cuBLAS factory: Attempting to register factory for plugin cuBLAS when one has already been registered\n",
      "2024-06-05 07:59:35.706106: I tensorflow/core/platform/cpu_feature_guard.cc:182] This TensorFlow binary is optimized to use available CPU instructions in performance-critical operations.\n",
      "To enable the following instructions: AVX2 FMA, in other operations, rebuild TensorFlow with the appropriate compiler flags.\n",
      "2024-06-05 07:59:37.955890: W tensorflow/compiler/tf2tensorrt/utils/py_utils.cc:38] TF-TRT Warning: Could not find TensorRT\n"
     ]
    }
   ],
   "source": [
    "%load_ext autoreload\n",
    "%autoreload 2\n",
    "import HammingCode\n",
    "import matplotlib.pyplot as plt\n",
    "import numpy as np\n",
    "from scipy.special import erfc\n",
    "import NeuralNetworkCorrection as network\n",
    "import Autoencoder\n",
    "import math\n",
    "import Utils"
   ]
  },
  {
   "cell_type": "code",
   "execution_count": 2,
   "id": "a5b56cf35e30f038",
   "metadata": {
    "collapsed": false,
    "ExecuteTime": {
     "end_time": "2024-06-05T10:59:41.118528600Z",
     "start_time": "2024-06-05T10:59:41.069664900Z"
    }
   },
   "outputs": [],
   "source": [
    "variancia = 1\n",
    "code_rate = 4/7\n",
    "# amostra\n",
    "Eb_dB_values = np.arange(3, 16, 1)\n",
    "\n",
    "# Gerar dados de treinamento\n",
    "training_sample_length = 10 ** 6\n",
    "epoches = 100\n",
    "batch_size = 64"
   ]
  },
  {
   "cell_type": "code",
   "execution_count": 3,
   "id": "7b8afdcc790661ee",
   "metadata": {
    "collapsed": false,
    "ExecuteTime": {
     "end_time": "2024-06-05T11:00:27.318989Z",
     "start_time": "2024-06-05T10:59:41.118528600Z"
    }
   },
   "outputs": [],
   "source": [
    "training_data = {\n",
    "    'original': [],\n",
    "    'noisy': [],\n",
    "    'info': []\n",
    "}\n",
    "\n",
    "training_information = network.get_training_data_set(training_sample_length)\n",
    "\n",
    "for eb_db in Eb_dB_values:\n",
    "    info = network.generate_data_for_training(training_information, eb_db, variancia)\n",
    "    training_data['noisy'].extend(info['split_noisy_original_data_15_11'])\n",
    "    training_data['original'].extend(info['split_original_data_15_11'])\n",
    "\n",
    "training_data['noisy'] = np.array(training_data['noisy'])\n",
    "training_data['original'] = np.array(training_data['original'])"
   ]
  },
  {
   "cell_type": "code",
   "execution_count": 4,
   "id": "54fb41e7292daaf5",
   "metadata": {
    "collapsed": false,
    "ExecuteTime": {
     "end_time": "2024-06-05T12:44:18.175912500Z",
     "start_time": "2024-06-05T11:00:27.325628100Z"
    }
   },
   "outputs": [
    {
     "name": "stdout",
     "output_type": "stream",
     "text": [
      "Epoch 1/100\n",
      "16620/16620 [==============================] - 97s 6ms/step - loss: 0.0262 - accuracy: 0.2063 - val_loss: 0.0246 - val_accuracy: 0.2298 - lr: 0.0010\n",
      "Epoch 2/100\n",
      "16620/16620 [==============================] - 96s 6ms/step - loss: 0.0243 - accuracy: 0.2072 - val_loss: 0.0243 - val_accuracy: 0.1980 - lr: 0.0010\n",
      "Epoch 3/100\n",
      "16620/16620 [==============================] - 95s 6ms/step - loss: 0.0239 - accuracy: 0.1960 - val_loss: 0.0236 - val_accuracy: 0.2104 - lr: 0.0010\n",
      "Epoch 4/100\n",
      "16620/16620 [==============================] - 96s 6ms/step - loss: 0.0236 - accuracy: 0.1994 - val_loss: 0.0236 - val_accuracy: 0.3140 - lr: 0.0010\n",
      "Epoch 5/100\n",
      "16620/16620 [==============================] - 99s 6ms/step - loss: 0.0235 - accuracy: 0.1882 - val_loss: 0.0236 - val_accuracy: 0.2436 - lr: 0.0010\n",
      "Epoch 6/100\n",
      "16620/16620 [==============================] - 95s 6ms/step - loss: 0.0234 - accuracy: 0.1921 - val_loss: 0.0233 - val_accuracy: 0.0792 - lr: 0.0010\n",
      "Epoch 7/100\n",
      "16620/16620 [==============================] - 95s 6ms/step - loss: 0.0233 - accuracy: 0.1939 - val_loss: 0.0233 - val_accuracy: 0.2991 - lr: 0.0010\n",
      "Epoch 8/100\n",
      "16620/16620 [==============================] - 94s 6ms/step - loss: 0.0233 - accuracy: 0.1998 - val_loss: 0.0232 - val_accuracy: 0.0994 - lr: 0.0010\n",
      "Epoch 9/100\n",
      "16620/16620 [==============================] - 94s 6ms/step - loss: 0.0232 - accuracy: 0.1907 - val_loss: 0.0232 - val_accuracy: 0.2199 - lr: 0.0010\n",
      "Epoch 10/100\n",
      "16620/16620 [==============================] - 93s 6ms/step - loss: 0.0232 - accuracy: 0.1956 - val_loss: 0.0232 - val_accuracy: 0.2110 - lr: 0.0010\n",
      "Epoch 11/100\n",
      "16620/16620 [==============================] - 94s 6ms/step - loss: 0.0232 - accuracy: 0.1860 - val_loss: 0.0232 - val_accuracy: 0.2013 - lr: 0.0010\n",
      "Epoch 12/100\n",
      "16620/16620 [==============================] - 93s 6ms/step - loss: 0.0232 - accuracy: 0.2071 - val_loss: 0.0232 - val_accuracy: 0.1245 - lr: 0.0010\n",
      "Epoch 13/100\n",
      "16620/16620 [==============================] - 92s 6ms/step - loss: 0.0232 - accuracy: 0.1804 - val_loss: 0.0232 - val_accuracy: 0.1691 - lr: 0.0010\n",
      "Epoch 14/100\n",
      "16620/16620 [==============================] - 92s 6ms/step - loss: 0.0232 - accuracy: 0.1890 - val_loss: 0.0231 - val_accuracy: 0.2876 - lr: 0.0010\n",
      "Epoch 15/100\n",
      "16620/16620 [==============================] - 92s 6ms/step - loss: 0.0232 - accuracy: 0.1852 - val_loss: 0.0232 - val_accuracy: 0.1710 - lr: 0.0010\n",
      "Epoch 16/100\n",
      "16620/16620 [==============================] - 92s 6ms/step - loss: 0.0231 - accuracy: 0.1902 - val_loss: 0.0232 - val_accuracy: 0.1620 - lr: 0.0010\n",
      "Epoch 17/100\n",
      "16620/16620 [==============================] - 93s 6ms/step - loss: 0.0232 - accuracy: 0.1934 - val_loss: 0.0231 - val_accuracy: 0.1629 - lr: 0.0010\n",
      "Epoch 18/100\n",
      "16620/16620 [==============================] - 91s 5ms/step - loss: 0.0231 - accuracy: 0.1957 - val_loss: 0.0231 - val_accuracy: 0.1401 - lr: 0.0010\n",
      "Epoch 19/100\n",
      "16620/16620 [==============================] - 91s 5ms/step - loss: 0.0231 - accuracy: 0.1847 - val_loss: 0.0231 - val_accuracy: 0.1732 - lr: 0.0010\n",
      "Epoch 20/100\n",
      "16620/16620 [==============================] - 92s 6ms/step - loss: 0.0231 - accuracy: 0.1927 - val_loss: 0.0231 - val_accuracy: 0.2166 - lr: 0.0010\n",
      "Epoch 21/100\n",
      "16620/16620 [==============================] - 92s 6ms/step - loss: 0.0231 - accuracy: 0.1749 - val_loss: 0.0231 - val_accuracy: 0.1904 - lr: 0.0010\n",
      "Epoch 22/100\n",
      "16620/16620 [==============================] - 91s 6ms/step - loss: 0.0231 - accuracy: 0.1936 - val_loss: 0.0231 - val_accuracy: 0.0939 - lr: 0.0010\n",
      "Epoch 23/100\n",
      "16620/16620 [==============================] - 91s 5ms/step - loss: 0.0231 - accuracy: 0.1894 - val_loss: 0.0231 - val_accuracy: 0.2593 - lr: 0.0010\n",
      "Epoch 24/100\n",
      "16620/16620 [==============================] - 91s 5ms/step - loss: 0.0231 - accuracy: 0.1878 - val_loss: 0.0232 - val_accuracy: 0.0780 - lr: 0.0010\n",
      "Epoch 25/100\n",
      "16620/16620 [==============================] - 91s 5ms/step - loss: 0.0231 - accuracy: 0.1933 - val_loss: 0.0231 - val_accuracy: 0.2320 - lr: 0.0010\n",
      "Epoch 26/100\n",
      "16620/16620 [==============================] - 91s 5ms/step - loss: 0.0231 - accuracy: 0.1850 - val_loss: 0.0231 - val_accuracy: 0.2004 - lr: 0.0010\n",
      "Epoch 27/100\n",
      "16620/16620 [==============================] - 91s 5ms/step - loss: 0.0231 - accuracy: 0.1777 - val_loss: 0.0232 - val_accuracy: 0.3338 - lr: 0.0010\n",
      "Epoch 28/100\n",
      "16620/16620 [==============================] - 91s 5ms/step - loss: 0.0231 - accuracy: 0.1733 - val_loss: 0.0231 - val_accuracy: 0.2539 - lr: 0.0010\n",
      "Epoch 29/100\n",
      "16620/16620 [==============================] - 91s 5ms/step - loss: 0.0231 - accuracy: 0.1915 - val_loss: 0.0231 - val_accuracy: 0.1014 - lr: 0.0010\n",
      "Epoch 30/100\n",
      "16620/16620 [==============================] - 91s 5ms/step - loss: 0.0231 - accuracy: 0.1837 - val_loss: 0.0231 - val_accuracy: 0.2385 - lr: 0.0010\n",
      "Epoch 31/100\n",
      "16620/16620 [==============================] - 91s 5ms/step - loss: 0.0231 - accuracy: 0.1929 - val_loss: 0.0231 - val_accuracy: 0.2233 - lr: 0.0010\n",
      "Epoch 32/100\n",
      "16620/16620 [==============================] - 91s 5ms/step - loss: 0.0231 - accuracy: 0.1868 - val_loss: 0.0231 - val_accuracy: 0.1812 - lr: 0.0010\n",
      "Epoch 33/100\n",
      "16620/16620 [==============================] - 91s 5ms/step - loss: 0.0231 - accuracy: 0.1915 - val_loss: 0.0231 - val_accuracy: 0.0712 - lr: 0.0010\n",
      "Epoch 34/100\n",
      "16620/16620 [==============================] - 90s 5ms/step - loss: 0.0231 - accuracy: 0.1859 - val_loss: 0.0231 - val_accuracy: 0.0328 - lr: 0.0010\n",
      "Epoch 35/100\n",
      "16620/16620 [==============================] - 90s 5ms/step - loss: 0.0231 - accuracy: 0.1863 - val_loss: 0.0231 - val_accuracy: 0.1146 - lr: 0.0010\n",
      "Epoch 36/100\n",
      "16620/16620 [==============================] - 90s 5ms/step - loss: 0.0231 - accuracy: 0.1829 - val_loss: 0.0232 - val_accuracy: 0.0860 - lr: 0.0010\n",
      "Epoch 37/100\n",
      "16620/16620 [==============================] - 90s 5ms/step - loss: 0.0231 - accuracy: 0.2009 - val_loss: 0.0232 - val_accuracy: 0.4105 - lr: 0.0010\n",
      "Epoch 38/100\n",
      "16620/16620 [==============================] - 90s 5ms/step - loss: 0.0231 - accuracy: 0.1993 - val_loss: 0.0231 - val_accuracy: 0.0975 - lr: 0.0010\n",
      "Epoch 39/100\n",
      "16620/16620 [==============================] - 91s 5ms/step - loss: 0.0231 - accuracy: 0.1824 - val_loss: 0.0231 - val_accuracy: 0.1384 - lr: 0.0010\n",
      "Epoch 40/100\n",
      "16620/16620 [==============================] - 90s 5ms/step - loss: 0.0231 - accuracy: 0.1804 - val_loss: 0.0232 - val_accuracy: 0.2265 - lr: 0.0010\n",
      "Epoch 41/100\n",
      "16620/16620 [==============================] - 91s 6ms/step - loss: 0.0231 - accuracy: 0.1964 - val_loss: 0.0231 - val_accuracy: 0.1086 - lr: 0.0010\n",
      "Epoch 42/100\n",
      "16620/16620 [==============================] - 90s 5ms/step - loss: 0.0231 - accuracy: 0.1786 - val_loss: 0.0231 - val_accuracy: 0.1092 - lr: 0.0010\n",
      "Epoch 43/100\n",
      "16620/16620 [==============================] - 90s 5ms/step - loss: 0.0231 - accuracy: 0.1910 - val_loss: 0.0231 - val_accuracy: 0.1149 - lr: 0.0010\n",
      "Epoch 44/100\n",
      "16620/16620 [==============================] - 90s 5ms/step - loss: 0.0231 - accuracy: 0.1925 - val_loss: 0.0231 - val_accuracy: 0.1749 - lr: 0.0010\n",
      "Epoch 45/100\n",
      "16620/16620 [==============================] - 90s 5ms/step - loss: 0.0231 - accuracy: 0.1910 - val_loss: 0.0231 - val_accuracy: 0.1308 - lr: 0.0010\n",
      "Epoch 46/100\n",
      "16620/16620 [==============================] - 90s 5ms/step - loss: 0.0231 - accuracy: 0.1900 - val_loss: 0.0231 - val_accuracy: 0.1163 - lr: 0.0010\n",
      "Epoch 47/100\n",
      "16620/16620 [==============================] - 90s 5ms/step - loss: 0.0231 - accuracy: 0.1861 - val_loss: 0.0231 - val_accuracy: 0.1389 - lr: 0.0010\n",
      "Epoch 48/100\n",
      "16620/16620 [==============================] - 90s 5ms/step - loss: 0.0231 - accuracy: 0.2008 - val_loss: 0.0230 - val_accuracy: 0.2782 - lr: 0.0010\n",
      "Epoch 49/100\n",
      "16620/16620 [==============================] - 94s 6ms/step - loss: 0.0231 - accuracy: 0.1865 - val_loss: 0.0231 - val_accuracy: 0.2480 - lr: 0.0010\n",
      "Epoch 50/100\n",
      "16620/16620 [==============================] - 90s 5ms/step - loss: 0.0231 - accuracy: 0.1942 - val_loss: 0.0231 - val_accuracy: 0.2476 - lr: 0.0010\n",
      "Epoch 51/100\n",
      "16620/16620 [==============================] - 90s 5ms/step - loss: 0.0231 - accuracy: 0.2079 - val_loss: 0.0231 - val_accuracy: 0.1055 - lr: 0.0010\n",
      "Epoch 52/100\n",
      "16620/16620 [==============================] - 90s 5ms/step - loss: 0.0231 - accuracy: 0.1869 - val_loss: 0.0231 - val_accuracy: 0.1511 - lr: 0.0010\n",
      "Epoch 53/100\n",
      "16620/16620 [==============================] - 90s 5ms/step - loss: 0.0231 - accuracy: 0.2026 - val_loss: 0.0231 - val_accuracy: 0.2209 - lr: 0.0010\n",
      "Epoch 54/100\n",
      "16620/16620 [==============================] - 90s 5ms/step - loss: 0.0231 - accuracy: 0.1935 - val_loss: 0.0231 - val_accuracy: 0.0874 - lr: 0.0010\n",
      "Epoch 55/100\n",
      "16620/16620 [==============================] - 90s 5ms/step - loss: 0.0231 - accuracy: 0.1894 - val_loss: 0.0231 - val_accuracy: 0.0693 - lr: 0.0010\n",
      "Epoch 56/100\n",
      "16620/16620 [==============================] - 90s 5ms/step - loss: 0.0231 - accuracy: 0.1987 - val_loss: 0.0231 - val_accuracy: 0.1511 - lr: 0.0010\n",
      "Epoch 57/100\n",
      "16620/16620 [==============================] - 90s 5ms/step - loss: 0.0231 - accuracy: 0.1950 - val_loss: 0.0231 - val_accuracy: 0.0736 - lr: 0.0010\n",
      "Epoch 58/100\n",
      "16620/16620 [==============================] - 90s 5ms/step - loss: 0.0231 - accuracy: 0.1887 - val_loss: 0.0230 - val_accuracy: 0.0482 - lr: 0.0010\n",
      "Epoch 59/100\n",
      "16620/16620 [==============================] - 90s 5ms/step - loss: 0.0231 - accuracy: 0.1879 - val_loss: 0.0231 - val_accuracy: 0.1433 - lr: 0.0010\n",
      "Epoch 60/100\n",
      "16620/16620 [==============================] - 90s 5ms/step - loss: 0.0231 - accuracy: 0.1945 - val_loss: 0.0231 - val_accuracy: 0.4337 - lr: 0.0010\n",
      "Epoch 61/100\n",
      "16620/16620 [==============================] - 90s 5ms/step - loss: 0.0231 - accuracy: 0.1902 - val_loss: 0.0231 - val_accuracy: 0.4058 - lr: 0.0010\n",
      "Epoch 62/100\n",
      "16620/16620 [==============================] - 90s 5ms/step - loss: 0.0231 - accuracy: 0.1982 - val_loss: 0.0231 - val_accuracy: 0.2192 - lr: 0.0010\n",
      "Epoch 63/100\n",
      "16620/16620 [==============================] - 90s 5ms/step - loss: 0.0231 - accuracy: 0.2005 - val_loss: 0.0231 - val_accuracy: 0.0765 - lr: 0.0010\n",
      "Epoch 64/100\n",
      "16620/16620 [==============================] - 90s 5ms/step - loss: 0.0231 - accuracy: 0.1903 - val_loss: 0.0231 - val_accuracy: 0.1958 - lr: 0.0010\n",
      "Epoch 65/100\n",
      "16620/16620 [==============================] - 90s 5ms/step - loss: 0.0231 - accuracy: 0.2045 - val_loss: 0.0231 - val_accuracy: 0.0920 - lr: 0.0010\n",
      "Epoch 66/100\n",
      "16620/16620 [==============================] - 90s 5ms/step - loss: 0.0231 - accuracy: 0.1933 - val_loss: 0.0230 - val_accuracy: 0.1030 - lr: 0.0010\n",
      "Epoch 67/100\n",
      "16620/16620 [==============================] - 90s 5ms/step - loss: 0.0231 - accuracy: 0.1939 - val_loss: 0.0231 - val_accuracy: 0.2476 - lr: 0.0010\n",
      "Epoch 68/100\n",
      "16620/16620 [==============================] - 90s 5ms/step - loss: 0.0231 - accuracy: 0.1978 - val_loss: 0.0230 - val_accuracy: 0.2113 - lr: 0.0010\n",
      "3694/3694 [==============================] - 9s 2ms/step - loss: 0.0230 - accuracy: 0.0482\n",
      "Loss: 0.02301744371652603\n",
      "Accuracy: 0.048230286687612534\n"
     ]
    }
   ],
   "source": [
    "# Criar e treinar a rede neural\n",
    "model = network.train_neural_network(training_data, epoches, batch_size)"
   ]
  },
  {
   "cell_type": "code",
   "execution_count": 5,
   "id": "dabd2ca69967e1ae",
   "metadata": {
    "collapsed": false,
    "ExecuteTime": {
     "end_time": "2024-06-05T13:12:16.263406600Z",
     "start_time": "2024-06-05T12:44:18.114840700Z"
    }
   },
   "outputs": [
    {
     "name": "stdout",
     "output_type": "stream",
     "text": [
      "Epoch 1/100\n",
      "18467/18467 [==============================] - 78s 4ms/step - loss: 0.0426 - accuracy: 0.1962 - val_loss: 0.0231 - val_accuracy: 0.2342 - lr: 0.0010\n",
      "Epoch 2/100\n",
      "18467/18467 [==============================] - 78s 4ms/step - loss: 0.0232 - accuracy: 0.2204 - val_loss: 0.0232 - val_accuracy: 0.0710 - lr: 0.0010\n",
      "Epoch 3/100\n",
      "18467/18467 [==============================] - 77s 4ms/step - loss: 0.0232 - accuracy: 0.2160 - val_loss: 0.0231 - val_accuracy: 0.1920 - lr: 0.0010\n",
      "Epoch 4/100\n",
      "18467/18467 [==============================] - 77s 4ms/step - loss: 0.0232 - accuracy: 0.2134 - val_loss: 0.0231 - val_accuracy: 0.6251 - lr: 0.0010\n",
      "Epoch 5/100\n",
      "18467/18467 [==============================] - 77s 4ms/step - loss: 0.0232 - accuracy: 0.2151 - val_loss: 0.0231 - val_accuracy: 0.1195 - lr: 0.0010\n",
      "Epoch 6/100\n",
      "18467/18467 [==============================] - 76s 4ms/step - loss: 0.0232 - accuracy: 0.2033 - val_loss: 0.0231 - val_accuracy: 0.1252 - lr: 0.0010\n",
      "Epoch 7/100\n",
      "18467/18467 [==============================] - 77s 4ms/step - loss: 0.0232 - accuracy: 0.2127 - val_loss: 0.0231 - val_accuracy: 0.0912 - lr: 0.0010\n",
      "Epoch 8/100\n",
      "18467/18467 [==============================] - 77s 4ms/step - loss: 0.0232 - accuracy: 0.2104 - val_loss: 0.0231 - val_accuracy: 0.1788 - lr: 0.0010\n",
      "Epoch 9/100\n",
      "18467/18467 [==============================] - 76s 4ms/step - loss: 0.0232 - accuracy: 0.2119 - val_loss: 0.0232 - val_accuracy: 0.4702 - lr: 0.0010\n",
      "Epoch 10/100\n",
      "18467/18467 [==============================] - 76s 4ms/step - loss: 0.0232 - accuracy: 0.2158 - val_loss: 0.0231 - val_accuracy: 0.0584 - lr: 0.0010\n",
      "Epoch 11/100\n",
      "18467/18467 [==============================] - 76s 4ms/step - loss: 0.0231 - accuracy: 0.2096 - val_loss: 0.0233 - val_accuracy: 0.2076 - lr: 0.0010\n",
      "Epoch 12/100\n",
      "18467/18467 [==============================] - 76s 4ms/step - loss: 0.0232 - accuracy: 0.2115 - val_loss: 0.0230 - val_accuracy: 0.0550 - lr: 0.0010\n",
      "Epoch 13/100\n",
      "18467/18467 [==============================] - 77s 4ms/step - loss: 0.0232 - accuracy: 0.2145 - val_loss: 0.0232 - val_accuracy: 0.0996 - lr: 0.0010\n",
      "Epoch 14/100\n",
      "18467/18467 [==============================] - 77s 4ms/step - loss: 0.0232 - accuracy: 0.2116 - val_loss: 0.0232 - val_accuracy: 0.1055 - lr: 0.0010\n",
      "Epoch 15/100\n",
      "18467/18467 [==============================] - 76s 4ms/step - loss: 0.0232 - accuracy: 0.2170 - val_loss: 0.0231 - val_accuracy: 0.1193 - lr: 0.0010\n",
      "Epoch 16/100\n",
      "18467/18467 [==============================] - 76s 4ms/step - loss: 0.0231 - accuracy: 0.2102 - val_loss: 0.0231 - val_accuracy: 0.0889 - lr: 0.0010\n",
      "Epoch 17/100\n",
      "18467/18467 [==============================] - 76s 4ms/step - loss: 0.0232 - accuracy: 0.2133 - val_loss: 0.0231 - val_accuracy: 0.0771 - lr: 0.0010\n",
      "Epoch 18/100\n",
      "18467/18467 [==============================] - 75s 4ms/step - loss: 0.0232 - accuracy: 0.2145 - val_loss: 0.0231 - val_accuracy: 0.0822 - lr: 0.0010\n",
      "Epoch 19/100\n",
      "18467/18467 [==============================] - 75s 4ms/step - loss: 0.0231 - accuracy: 0.2150 - val_loss: 0.0231 - val_accuracy: 0.3454 - lr: 0.0010\n",
      "Epoch 20/100\n",
      "18467/18467 [==============================] - 75s 4ms/step - loss: 0.0231 - accuracy: 0.2111 - val_loss: 0.0232 - val_accuracy: 0.2275 - lr: 0.0010\n",
      "Epoch 21/100\n",
      "18467/18467 [==============================] - 75s 4ms/step - loss: 0.0231 - accuracy: 0.2109 - val_loss: 0.0231 - val_accuracy: 0.0766 - lr: 0.0010\n",
      "Epoch 22/100\n",
      "18467/18467 [==============================] - 75s 4ms/step - loss: 0.0231 - accuracy: 0.2089 - val_loss: 0.0231 - val_accuracy: 0.6217 - lr: 0.0010\n"
     ]
    }
   ],
   "source": [
    "autoencoder = Autoencoder.create_and_train_auto_encoder(training_data, epoches, batch_size)"
   ]
  },
  {
   "cell_type": "code",
   "execution_count": 6,
   "id": "86f1344e5856c64",
   "metadata": {
    "collapsed": false,
    "ExecuteTime": {
     "end_time": "2024-06-05T13:12:16.320949100Z",
     "start_time": "2024-06-05T13:12:16.258407800Z"
    }
   },
   "outputs": [],
   "source": [
    "# Gerar dados de teste\n",
    "amostras_ruidosas = []\n",
    "amostras_originais = []\n",
    "ML_result = []\n",
    "tradicional_result = []\n",
    "autoencoder_result = []\n"
   ]
  },
  {
   "cell_type": "code",
   "execution_count": 7,
   "id": "7f720926d3e1ad4a",
   "metadata": {
    "collapsed": false,
    "ExecuteTime": {
     "end_time": "2024-06-05T13:18:37.697300300Z",
     "start_time": "2024-06-05T13:12:16.306428100Z"
    }
   },
   "outputs": [
    {
     "name": "stdout",
     "output_type": "stream",
     "text": [
      "3\n",
      "4\n",
      "5\n",
      "6\n",
      "7\n",
      "8\n",
      "9\n",
      "10\n",
      "11\n",
      "12\n",
      "13\n",
      "14\n",
      "15\n"
     ]
    }
   ],
   "source": [
    "test_data = {\n",
    "    'original': [],\n",
    "    'info': []\n",
    "}\n",
    "test_sample_length = 10 ** 6\n",
    "test_information = network.get_training_data_set(test_sample_length)\n",
    "\n",
    "total_chunks = math.floor(test_sample_length / 11)\n",
    "total_length_chunks = total_chunks * 11\n",
    "smaller_array_len = test_sample_length - total_length_chunks\n",
    "\n",
    "adjustment_test = 11 - smaller_array_len\n",
    "padded_array = []\n",
    "for eb_db in Eb_dB_values:\n",
    "    info = network.generate_data_for_training(test_information, eb_db, variancia)\n",
    "    test_data['original'] = info['original_data']\n",
    "    \n",
    "    autoencoder_result.append(network.decode_and_correct(info['split_noisy_original_data_15_11'], autoencoder))\n",
    "    ML_result.append(network.decode_and_correct(info['split_noisy_original_data_15_11'], model))\n",
    "    tradicional_result.append(HammingCode.decode_sample(info['split_encoded_data']))\n",
    "    padded_array = info['padded_array_original_data']\n",
    "    print(eb_db)"
   ]
  },
  {
   "cell_type": "code",
   "execution_count": 8,
   "id": "a768bfbe55979643",
   "metadata": {
    "collapsed": false,
    "ExecuteTime": {
     "end_time": "2024-06-05T13:18:38.647950600Z",
     "start_time": "2024-06-05T13:18:37.695306100Z"
    }
   },
   "outputs": [],
   "source": [
    "BER_tradicional = []\n",
    "BER_autoencoder = []\n",
    "BER_ML = []\n",
    "\n",
    "for i in range(0, len(autoencoder_result)):\n",
    "    BER_ML.append(np.sum(np.array(ML_result[i]).astype(int) != padded_array) / len(padded_array))\n",
    "    BER_tradicional.append(np.sum(np.array(tradicional_result[i]).astype(int) != test_data['original']) / len(test_data['original']))\n",
    "    BER_autoencoder.append(np.sum(np.array(autoencoder_result[i]).astype(int) != padded_array) / len(padded_array))\n",
    "\n",
    "# Calcular a BER teórica\n",
    "Eb_coded = np.array([eb_db + 10*np.log10(code_rate) for eb_db in Eb_dB_values])\n",
    "Eb_values = 10**(Eb_coded/10)\n",
    "BER_teorica = 0.5 * erfc(np.sqrt(Eb_values))"
   ]
  },
  {
   "cell_type": "code",
   "execution_count": 9,
   "id": "dd38a450efea265d",
   "metadata": {
    "collapsed": false,
    "ExecuteTime": {
     "end_time": "2024-06-05T13:18:40.039500700Z",
     "start_time": "2024-06-05T13:18:38.658935900Z"
    }
   },
   "outputs": [
    {
     "data": {
      "text/plain": "<Figure size 1000x600 with 1 Axes>",
      "image/png": "[encoded data removed]"
     },
     "metadata": {},
     "output_type": "display_data"
    }
   ],
   "source": [
    "# Plotar as taxas de erro de bit simuladas e teóricas\n",
    "plt.figure(figsize=(10, 6))\n",
    "plt.semilogy(Eb_coded, BER_tradicional, linestyle = '--', label='Codificado')\n",
    "plt.semilogy(Eb_coded, BER_autoencoder, linestyle = '--', label='Autoencoder')\n",
    "plt.semilogy(Eb_coded, BER_ML, linestyle = '--', label='MLP')\n",
    "plt.semilogy(Eb_coded, BER_teorica, linestyle='--', label='Teórica')\n",
    "plt.xlabel('Eb/No (dB)')\n",
    "plt.ylabel('BER')\n",
    "plt.grid(True, which='both')\n",
    "plt.legend()\n",
    "plt.title('BER x Eb/No')\n",
    "plt.show()"
   ]
  },
  {
   "cell_type": "code",
   "outputs": [],
   "source": [],
   "metadata": {
    "collapsed": false,
    "ExecuteTime": {
     "end_time": "2024-06-05T13:18:40.183679900Z",
     "start_time": "2024-06-05T13:18:40.041506500Z"
    }
   },
   "id": "52e47c816eedf16e",
   "execution_count": 9
  },
  {
   "cell_type": "code",
   "outputs": [],
   "source": [],
   "metadata": {
    "collapsed": false,
    "ExecuteTime": {
     "end_time": "2024-06-05T13:18:40.294679900Z",
     "start_time": "2024-06-05T13:18:40.045035100Z"
    }
   },
   "id": "a554aed681287992",
   "execution_count": 9
  }
 ],
 "metadata": {
  "kernelspec": {
   "display_name": "Python 3 (ipykernel)",
   "language": "python",
   "name": "python3"
  },
  "language_info": {
   "codemirror_mode": {
    "name": "ipython",
    "version": 3
   },
   "file_extension": ".py",
   "mimetype": "text/x-python",
   "name": "python",
   "nbconvert_exporter": "python",
   "pygments_lexer": "ipython3",
   "version": "3.10.12"
  }
 },
 "nbformat": 4,
 "nbformat_minor": 5
}
