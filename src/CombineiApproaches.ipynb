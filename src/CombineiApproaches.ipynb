{
 "cells": [
  {
   "cell_type": "code",
   "execution_count": 24,
   "id": "initial_id",
   "metadata": {
    "collapsed": true,
    "jupyter": {
     "outputs_hidden": true
    },
    "ExecuteTime": {
     "end_time": "2024-05-30T23:28:29.780424Z",
     "start_time": "2024-05-30T23:28:29.525538Z"
    }
   },
   "outputs": [
    {
     "name": "stdout",
     "output_type": "stream",
     "text": [
      "The autoreload extension is already loaded. To reload it, use:\n",
      "  %reload_ext autoreload\n"
     ]
    }
   ],
   "source": [
    "%load_ext autoreload\n",
    "%autoreload 2\n",
    "import HammingCode\n",
    "import matplotlib.pyplot as plt\n",
    "import numpy as np\n",
    "from scipy.special import erfc\n",
    "import NeuralNetworkCorrection as network\n",
    "import Autoencoder\n",
    "import Utils"
   ]
  },
  {
   "cell_type": "code",
   "execution_count": 25,
   "id": "a5b56cf35e30f038",
   "metadata": {
    "collapsed": false,
    "ExecuteTime": {
     "end_time": "2024-05-30T23:28:29.805467900Z",
     "start_time": "2024-05-30T23:28:29.672715600Z"
    }
   },
   "outputs": [],
   "source": [
    "# tamanho da amostra\n",
    "tamanho = 1e8\n",
    "variancia = 1\n",
    "code_rate = 4/7\n",
    "# amostra\n",
    "tamanho_amostra = 10**3\n",
    "Eb_dB_values = np.arange(3, 16, 1)\n",
    "\n",
    "# ML data\n",
    "\n",
    "# Gerar dados de treinamento\n",
    "word_length = 4 # Tamanho padrão da entrada do hamming\n",
    "training_sample_length = 10 **3\n",
    "epoches = 30\n",
    "training_noisy_data = []\n",
    "training_original_data = []\n",
    "batch_size = 16"
   ]
  },
  {
   "cell_type": "code",
   "execution_count": 26,
   "id": "7b8afdcc790661ee",
   "metadata": {
    "collapsed": false,
    "ExecuteTime": {
     "end_time": "2024-05-30T23:28:29.954200500Z",
     "start_time": "2024-05-30T23:28:29.794465300Z"
    }
   },
   "outputs": [],
   "source": [
    "training_data = {\n",
    "    'original': [],\n",
    "    'noisy': [],\n",
    "    'info': []\n",
    "}\n",
    "\n",
    "training_information = network.get_training_data_set(training_sample_length)\n",
    "\n",
    "for eb_db in Eb_dB_values:\n",
    "    info = network.generate_data_for_training(training_information, eb_db + 10*np.log10(code_rate), variancia)\n",
    "    training_data['info'].append(info)\n",
    "    training_data['noisy'].extend(info['split_encoded_data'])\n",
    "    training_data['original'].extend(info['split_original_data'])\n",
    "\n",
    "training_data['original'] = np.array(training_data['original'])\n",
    "training_data['noisy'] = np.array(training_data['noisy'])\n"
   ]
  },
  {
   "cell_type": "code",
   "execution_count": 27,
   "id": "54fb41e7292daaf5",
   "metadata": {
    "collapsed": false,
    "ExecuteTime": {
     "end_time": "2024-05-30T23:29:14.804131500Z",
     "start_time": "2024-05-30T23:28:29.912044900Z"
    }
   },
   "outputs": [
    {
     "name": "stdout",
     "output_type": "stream",
     "text": [
      "Epoch 1/30\n",
      "204/204 [==============================] - 3s 9ms/step - loss: 0.1477 - accuracy: 0.5375 - val_loss: 0.0686 - val_accuracy: 0.7397\n",
      "Epoch 2/30\n",
      "204/204 [==============================] - 1s 7ms/step - loss: 0.0667 - accuracy: 0.5945 - val_loss: 0.0603 - val_accuracy: 0.7145\n",
      "Epoch 3/30\n",
      "204/204 [==============================] - 1s 7ms/step - loss: 0.0590 - accuracy: 0.5735 - val_loss: 0.0507 - val_accuracy: 0.5012\n",
      "Epoch 4/30\n",
      "204/204 [==============================] - 1s 7ms/step - loss: 0.0524 - accuracy: 0.5809 - val_loss: 0.0493 - val_accuracy: 0.4705\n",
      "Epoch 5/30\n",
      "204/204 [==============================] - 1s 7ms/step - loss: 0.0460 - accuracy: 0.5434 - val_loss: 0.0403 - val_accuracy: 0.3754\n",
      "Epoch 6/30\n",
      "204/204 [==============================] - 1s 7ms/step - loss: 0.0387 - accuracy: 0.5262 - val_loss: 0.0325 - val_accuracy: 0.5898\n",
      "Epoch 7/30\n",
      "204/204 [==============================] - 1s 7ms/step - loss: 0.0340 - accuracy: 0.4852 - val_loss: 0.0257 - val_accuracy: 0.5997\n",
      "Epoch 8/30\n",
      "204/204 [==============================] - 1s 7ms/step - loss: 0.0285 - accuracy: 0.5068 - val_loss: 0.0231 - val_accuracy: 0.4523\n",
      "Epoch 9/30\n",
      "204/204 [==============================] - 1s 7ms/step - loss: 0.0269 - accuracy: 0.5372 - val_loss: 0.0225 - val_accuracy: 0.3982\n",
      "Epoch 10/30\n",
      "204/204 [==============================] - 1s 7ms/step - loss: 0.0253 - accuracy: 0.5262 - val_loss: 0.0240 - val_accuracy: 0.5671\n",
      "Epoch 11/30\n",
      "204/204 [==============================] - 1s 7ms/step - loss: 0.0232 - accuracy: 0.5200 - val_loss: 0.0204 - val_accuracy: 0.5963\n",
      "Epoch 12/30\n",
      "204/204 [==============================] - 1s 7ms/step - loss: 0.0219 - accuracy: 0.4982 - val_loss: 0.0212 - val_accuracy: 0.3945\n",
      "Epoch 13/30\n",
      "204/204 [==============================] - 1s 7ms/step - loss: 0.0219 - accuracy: 0.5160 - val_loss: 0.0186 - val_accuracy: 0.8246\n",
      "Epoch 14/30\n",
      "204/204 [==============================] - 1s 7ms/step - loss: 0.0236 - accuracy: 0.4468 - val_loss: 0.0167 - val_accuracy: 0.5957\n",
      "Epoch 15/30\n",
      "204/204 [==============================] - 1s 7ms/step - loss: 0.0200 - accuracy: 0.5357 - val_loss: 0.0180 - val_accuracy: 0.5083\n",
      "Epoch 16/30\n",
      "204/204 [==============================] - 1s 7ms/step - loss: 0.0215 - accuracy: 0.5111 - val_loss: 0.0164 - val_accuracy: 0.6622\n",
      "Epoch 17/30\n",
      "204/204 [==============================] - 1s 7ms/step - loss: 0.0196 - accuracy: 0.5437 - val_loss: 0.0168 - val_accuracy: 0.4917\n",
      "Epoch 18/30\n",
      "204/204 [==============================] - 1s 7ms/step - loss: 0.0192 - accuracy: 0.5049 - val_loss: 0.0151 - val_accuracy: 0.5412\n",
      "Epoch 19/30\n",
      "204/204 [==============================] - 1s 7ms/step - loss: 0.0194 - accuracy: 0.4477 - val_loss: 0.0154 - val_accuracy: 0.4698\n",
      "Epoch 20/30\n",
      "204/204 [==============================] - 1s 7ms/step - loss: 0.0182 - accuracy: 0.4588 - val_loss: 0.0158 - val_accuracy: 0.4505\n",
      "Epoch 21/30\n",
      "204/204 [==============================] - 1s 7ms/step - loss: 0.0187 - accuracy: 0.4905 - val_loss: 0.0144 - val_accuracy: 0.4348\n",
      "Epoch 22/30\n",
      "204/204 [==============================] - 1s 7ms/step - loss: 0.0208 - accuracy: 0.4686 - val_loss: 0.0154 - val_accuracy: 0.3240\n",
      "Epoch 23/30\n",
      "204/204 [==============================] - 1s 7ms/step - loss: 0.0185 - accuracy: 0.4498 - val_loss: 0.0159 - val_accuracy: 0.4726\n",
      "Epoch 24/30\n",
      "204/204 [==============================] - 2s 7ms/step - loss: 0.0182 - accuracy: 0.4289 - val_loss: 0.0173 - val_accuracy: 0.5837\n",
      "Epoch 25/30\n",
      "204/204 [==============================] - 2s 8ms/step - loss: 0.0188 - accuracy: 0.4711 - val_loss: 0.0150 - val_accuracy: 0.4908\n",
      "Epoch 26/30\n",
      "204/204 [==============================] - 1s 7ms/step - loss: 0.0181 - accuracy: 0.4465 - val_loss: 0.0150 - val_accuracy: 0.3628\n",
      "Epoch 27/30\n",
      "204/204 [==============================] - 1s 7ms/step - loss: 0.0183 - accuracy: 0.4166 - val_loss: 0.0137 - val_accuracy: 0.4117\n",
      "Epoch 28/30\n",
      "204/204 [==============================] - 1s 7ms/step - loss: 0.0178 - accuracy: 0.4582 - val_loss: 0.0159 - val_accuracy: 0.4145\n",
      "Epoch 29/30\n",
      "204/204 [==============================] - 1s 7ms/step - loss: 0.0187 - accuracy: 0.4769 - val_loss: 0.0144 - val_accuracy: 0.4117\n",
      "Epoch 30/30\n",
      "204/204 [==============================] - 1s 7ms/step - loss: 0.0173 - accuracy: 0.4840 - val_loss: 0.0154 - val_accuracy: 0.4683\n"
     ]
    }
   ],
   "source": [
    "# Criar e treinar a rede neural\n",
    "model = network.train_neural_network(training_data, epoches, batch_size)"
   ]
  },
  {
   "cell_type": "code",
   "execution_count": 28,
   "id": "dabd2ca69967e1ae",
   "metadata": {
    "collapsed": false,
    "ExecuteTime": {
     "end_time": "2024-05-30T23:29:46.839829300Z",
     "start_time": "2024-05-30T23:29:14.799137300Z"
    }
   },
   "outputs": [
    {
     "name": "stdout",
     "output_type": "stream",
     "text": [
      "Epoch 1/30\n",
      "204/204 [==============================] - 2s 5ms/step - loss: 0.6879 - accuracy: 0.3895 - val_loss: 0.6547 - val_accuracy: 0.5305\n",
      "Epoch 2/30\n",
      "204/204 [==============================] - 1s 5ms/step - loss: 0.6176 - accuracy: 0.6698 - val_loss: 0.5785 - val_accuracy: 0.7225\n",
      "Epoch 3/30\n",
      "204/204 [==============================] - 1s 5ms/step - loss: 0.5382 - accuracy: 0.7855 - val_loss: 0.4955 - val_accuracy: 0.8985\n",
      "Epoch 4/30\n",
      "204/204 [==============================] - 1s 5ms/step - loss: 0.4507 - accuracy: 0.8698 - val_loss: 0.3979 - val_accuracy: 0.8985\n",
      "Epoch 5/30\n",
      "204/204 [==============================] - 1s 5ms/step - loss: 0.3474 - accuracy: 0.7871 - val_loss: 0.3035 - val_accuracy: 0.7622\n",
      "Epoch 6/30\n",
      "204/204 [==============================] - 1s 7ms/step - loss: 0.2713 - accuracy: 0.6594 - val_loss: 0.2426 - val_accuracy: 0.7108\n",
      "Epoch 7/30\n",
      "204/204 [==============================] - 1s 6ms/step - loss: 0.2218 - accuracy: 0.7000 - val_loss: 0.2025 - val_accuracy: 0.6615\n",
      "Epoch 8/30\n",
      "204/204 [==============================] - 1s 6ms/step - loss: 0.1875 - accuracy: 0.6486 - val_loss: 0.1731 - val_accuracy: 0.6628\n",
      "Epoch 9/30\n",
      "204/204 [==============================] - 1s 5ms/step - loss: 0.1611 - accuracy: 0.6169 - val_loss: 0.1493 - val_accuracy: 0.5942\n",
      "Epoch 10/30\n",
      "204/204 [==============================] - 1s 5ms/step - loss: 0.1392 - accuracy: 0.5917 - val_loss: 0.1294 - val_accuracy: 0.5960\n",
      "Epoch 11/30\n",
      "204/204 [==============================] - 1s 5ms/step - loss: 0.1213 - accuracy: 0.5862 - val_loss: 0.1134 - val_accuracy: 0.5591\n",
      "Epoch 12/30\n",
      "204/204 [==============================] - 1s 5ms/step - loss: 0.1071 - accuracy: 0.5702 - val_loss: 0.1011 - val_accuracy: 0.5972\n",
      "Epoch 13/30\n",
      "204/204 [==============================] - 1s 5ms/step - loss: 0.0966 - accuracy: 0.5760 - val_loss: 0.0921 - val_accuracy: 0.5572\n",
      "Epoch 14/30\n",
      "204/204 [==============================] - 1s 5ms/step - loss: 0.0889 - accuracy: 0.5403 - val_loss: 0.0856 - val_accuracy: 0.5569\n",
      "Epoch 15/30\n",
      "204/204 [==============================] - 2s 7ms/step - loss: 0.0835 - accuracy: 0.5720 - val_loss: 0.0810 - val_accuracy: 0.4883\n",
      "Epoch 16/30\n",
      "204/204 [==============================] - 1s 5ms/step - loss: 0.0796 - accuracy: 0.4988 - val_loss: 0.0777 - val_accuracy: 0.5489\n",
      "Epoch 17/30\n",
      "204/204 [==============================] - 1s 4ms/step - loss: 0.0766 - accuracy: 0.4978 - val_loss: 0.0753 - val_accuracy: 0.5492\n",
      "Epoch 18/30\n",
      "204/204 [==============================] - 1s 5ms/step - loss: 0.0747 - accuracy: 0.5338 - val_loss: 0.0735 - val_accuracy: 0.4895\n",
      "Epoch 19/30\n",
      "204/204 [==============================] - 1s 5ms/step - loss: 0.0731 - accuracy: 0.4892 - val_loss: 0.0721 - val_accuracy: 0.4902\n",
      "Epoch 20/30\n",
      "204/204 [==============================] - 1s 5ms/step - loss: 0.0718 - accuracy: 0.5129 - val_loss: 0.0711 - val_accuracy: 0.6311\n",
      "Epoch 21/30\n",
      "204/204 [==============================] - 1s 4ms/step - loss: 0.0710 - accuracy: 0.5742 - val_loss: 0.0703 - val_accuracy: 0.5714\n",
      "Epoch 22/30\n",
      "204/204 [==============================] - 1s 5ms/step - loss: 0.0702 - accuracy: 0.5668 - val_loss: 0.0696 - val_accuracy: 0.5400\n",
      "Epoch 23/30\n",
      "204/204 [==============================] - 1s 5ms/step - loss: 0.0696 - accuracy: 0.5606 - val_loss: 0.0691 - val_accuracy: 0.5406\n",
      "Epoch 24/30\n",
      "204/204 [==============================] - 1s 4ms/step - loss: 0.0692 - accuracy: 0.5766 - val_loss: 0.0686 - val_accuracy: 0.5726\n",
      "Epoch 25/30\n",
      "204/204 [==============================] - 1s 5ms/step - loss: 0.0688 - accuracy: 0.5812 - val_loss: 0.0682 - val_accuracy: 0.5698\n",
      "Epoch 26/30\n",
      "204/204 [==============================] - 1s 5ms/step - loss: 0.0684 - accuracy: 0.5572 - val_loss: 0.0679 - val_accuracy: 0.5363\n",
      "Epoch 27/30\n",
      "204/204 [==============================] - 1s 6ms/step - loss: 0.0681 - accuracy: 0.5625 - val_loss: 0.0675 - val_accuracy: 0.5385\n",
      "Epoch 28/30\n",
      "204/204 [==============================] - 1s 5ms/step - loss: 0.0677 - accuracy: 0.5646 - val_loss: 0.0672 - val_accuracy: 0.5391\n",
      "Epoch 29/30\n",
      "204/204 [==============================] - 1s 4ms/step - loss: 0.0675 - accuracy: 0.5526 - val_loss: 0.0670 - val_accuracy: 0.5705\n",
      "Epoch 30/30\n",
      "204/204 [==============================] - 1s 4ms/step - loss: 0.0672 - accuracy: 0.5671 - val_loss: 0.0668 - val_accuracy: 0.6043\n"
     ]
    }
   ],
   "source": [
    "autoencoder = Autoencoder.create_and_train_auto_encoder(training_data, epoches, batch_size)"
   ]
  },
  {
   "cell_type": "code",
   "execution_count": 29,
   "id": "86f1344e5856c64",
   "metadata": {
    "collapsed": false,
    "ExecuteTime": {
     "end_time": "2024-05-30T23:29:47.072724Z",
     "start_time": "2024-05-30T23:29:46.836813600Z"
    }
   },
   "outputs": [],
   "source": [
    "# Gerar dados de teste\n",
    "amostras_ruidosas = []\n",
    "amostras_originais = []\n",
    "ML_result = []\n",
    "tradicional_result = []\n",
    "autoencoder_result = []\n"
   ]
  },
  {
   "cell_type": "code",
   "execution_count": null,
   "id": "7f720926d3e1ad4a",
   "metadata": {
    "collapsed": false,
    "is_executing": true,
    "ExecuteTime": {
     "start_time": "2024-05-30T23:29:47.082240400Z"
    }
   },
   "outputs": [],
   "source": [
    "test_data = {\n",
    "    'original': [],\n",
    "    'info': []\n",
    "}\n",
    "test_sample_length = 10 ** 8\n",
    "test_information = network.get_training_data_set(test_sample_length)\n",
    "\n",
    "for eb_db in Eb_dB_values:\n",
    "    info = network.generate_data_for_training(test_information, eb_db + 10*np.log10(code_rate), variancia)\n",
    "    test_data['info'].append(info)\n",
    "    test_data['original'] = info['original_data']"
   ]
  },
  {
   "cell_type": "code",
   "execution_count": null,
   "id": "92478d60195b350d",
   "metadata": {
    "collapsed": false,
    "is_executing": true
   },
   "outputs": [],
   "source": [
    "i = 0\n",
    "autoencoder_result.append(network.decode_and_correct(test_data['info'][i]['split_encoded_data'], autoencoder))\n",
    "ML_result.append(network.decode_and_correct(test_data['info'][i]['split_encoded_data'], model))"
   ]
  },
  {
   "cell_type": "code",
   "execution_count": null,
   "id": "72e3dc0bb0a81867",
   "metadata": {
    "collapsed": false,
    "is_executing": true
   },
   "outputs": [],
   "source": [
    "i = 1\n",
    "autoencoder_result.append(network.decode_and_correct(test_data['info'][i]['split_encoded_data'], autoencoder))\n",
    "ML_result.append(network.decode_and_correct(test_data['info'][i]['split_encoded_data'], model))"
   ]
  },
  {
   "cell_type": "code",
   "execution_count": null,
   "id": "8304e6274557f9db",
   "metadata": {
    "collapsed": false,
    "is_executing": true
   },
   "outputs": [],
   "source": [
    "i = 2\n",
    "autoencoder_result.append(network.decode_and_correct(test_data['info'][i]['split_encoded_data'], autoencoder))\n",
    "ML_result.append(network.decode_and_correct(test_data['info'][i]['split_encoded_data'], model))"
   ]
  },
  {
   "cell_type": "code",
   "execution_count": null,
   "id": "92f2ef9d94186818",
   "metadata": {
    "collapsed": false,
    "is_executing": true
   },
   "outputs": [],
   "source": [
    "i = 3\n",
    "autoencoder_result.append(network.decode_and_correct(test_data['info'][i]['split_encoded_data'], autoencoder))\n",
    "ML_result.append(network.decode_and_correct(test_data['info'][i]['split_encoded_data'], model))\n"
   ]
  },
  {
   "cell_type": "code",
   "execution_count": null,
   "id": "10b7ea5cd5b31971",
   "metadata": {
    "collapsed": false,
    "is_executing": true
   },
   "outputs": [],
   "source": [
    "i = 4\n",
    "autoencoder_result.append(network.decode_and_correct(test_data['info'][i]['split_encoded_data'], autoencoder))\n",
    "ML_result.append(network.decode_and_correct(test_data['info'][i]['split_encoded_data'], model))\n"
   ]
  },
  {
   "cell_type": "code",
   "execution_count": null,
   "id": "b89dc1d26fc5c62",
   "metadata": {
    "collapsed": false,
    "is_executing": true
   },
   "outputs": [],
   "source": [
    "i = 5\n",
    "autoencoder_result.append(network.decode_and_correct(test_data['info'][i]['split_encoded_data'], autoencoder))\n",
    "ML_result.append(network.decode_and_correct(test_data['info'][i]['split_encoded_data'], model))"
   ]
  },
  {
   "cell_type": "code",
   "execution_count": null,
   "id": "77b4e5024678da5f",
   "metadata": {
    "collapsed": false,
    "is_executing": true
   },
   "outputs": [],
   "source": [
    "i = 6\n",
    "autoencoder_result.append(network.decode_and_correct(test_data['info'][i]['split_encoded_data'], autoencoder))\n",
    "ML_result.append(network.decode_and_correct(test_data['info'][i]['split_encoded_data'], model))\n"
   ]
  },
  {
   "cell_type": "code",
   "execution_count": null,
   "id": "b27dc1c73c47c737",
   "metadata": {
    "collapsed": false,
    "is_executing": true
   },
   "outputs": [],
   "source": [
    "i = 7\n",
    "autoencoder_result.append(network.decode_and_correct(test_data['info'][i]['split_encoded_data'], autoencoder))\n",
    "ML_result.append(network.decode_and_correct(test_data['info'][i]['split_encoded_data'], model))\n"
   ]
  },
  {
   "cell_type": "code",
   "execution_count": null,
   "id": "ecd06b38335dffff",
   "metadata": {
    "collapsed": false,
    "is_executing": true
   },
   "outputs": [],
   "source": [
    "i = 8\n",
    "autoencoder_result.append(network.decode_and_correct(test_data['info'][i]['split_encoded_data'], autoencoder))\n",
    "ML_result.append(network.decode_and_correct(test_data['info'][i]['split_encoded_data'], model))\n"
   ]
  },
  {
   "cell_type": "code",
   "execution_count": null,
   "id": "52405c0bdc7eb8af",
   "metadata": {
    "collapsed": false,
    "is_executing": true
   },
   "outputs": [],
   "source": [
    "i = 9\n",
    "autoencoder_result.append(network.decode_and_correct(test_data['info'][i]['split_encoded_data'], autoencoder))\n",
    "ML_result.append(network.decode_and_correct(test_data['info'][i]['split_encoded_data'], model))\n"
   ]
  },
  {
   "cell_type": "code",
   "execution_count": null,
   "id": "f7d42586607c275c",
   "metadata": {
    "collapsed": false,
    "is_executing": true
   },
   "outputs": [],
   "source": [
    "i = 10\n",
    "autoencoder_result.append(network.decode_and_correct(test_data['info'][i]['split_encoded_data'], autoencoder))\n",
    "ML_result.append(network.decode_and_correct(test_data['info'][i]['split_encoded_data'], model))\n"
   ]
  },
  {
   "cell_type": "code",
   "execution_count": null,
   "id": "649e1eba901de9dd",
   "metadata": {
    "collapsed": false,
    "is_executing": true
   },
   "outputs": [],
   "source": [
    "i = 11\n",
    "autoencoder_result.append(network.decode_and_correct(test_data['info'][i]['split_encoded_data'], autoencoder))\n",
    "ML_result.append(network.decode_and_correct(test_data['info'][i]['split_encoded_data'], model))\n"
   ]
  },
  {
   "cell_type": "code",
   "execution_count": null,
   "id": "58eed42c1b38f69f",
   "metadata": {
    "collapsed": false,
    "is_executing": true
   },
   "outputs": [],
   "source": [
    "i = 12\n",
    "autoencoder_result.append(network.decode_and_correct(test_data['info'][i]['split_encoded_data'], autoencoder))\n",
    "ML_result.append(network.decode_and_correct(test_data['info'][i]['split_encoded_data'], model))\n"
   ]
  },
  {
   "cell_type": "code",
   "execution_count": null,
   "id": "d4e42892a42effa8",
   "metadata": {
    "collapsed": false,
    "is_executing": true
   },
   "outputs": [],
   "source": [
    "for i in test_data['info']:\n",
    "    tradicional_result.append(HammingCode.decode_sample(i['split_encoded_data']))"
   ]
  },
  {
   "cell_type": "code",
   "execution_count": null,
   "id": "a768bfbe55979643",
   "metadata": {
    "collapsed": false,
    "is_executing": true
   },
   "outputs": [],
   "source": [
    "BER_tradicional = []\n",
    "BER_autoencoder = []\n",
    "BER_ML = []\n",
    "\n",
    "for i in range(0, len(autoencoder_result)):\n",
    "    BER_ML.append(np.sum(np.array(ML_result[i]).astype(int) != test_data['original']) / len(test_data['original']))\n",
    "    BER_tradicional.append(np.sum(np.array(tradicional_result[i]).astype(int) != test_data['original']) / len(test_data['original']))\n",
    "    BER_autoencoder.append(np.sum(np.array(autoencoder_result[i]).astype(int) != test_data['original']) / len(test_data['original']))\n",
    "\n",
    "# Calcular a BER teórica\n",
    "Eb_coded = np.array([eb_db + 10*np.log10(code_rate) for eb_db in Eb_dB_values])\n",
    "Eb_values = 10**(Eb_coded/10)\n",
    "BER_teorica = 0.5 * erfc(np.sqrt(Eb_values))"
   ]
  },
  {
   "cell_type": "code",
   "execution_count": null,
   "id": "dd38a450efea265d",
   "metadata": {
    "collapsed": false,
    "is_executing": true
   },
   "outputs": [],
   "source": [
    "\n",
    "# Plotar as taxas de erro de bit simuladas e teóricas\n",
    "plt.figure(figsize=(10, 6))\n",
    "plt.semilogy(Eb_coded, BER_tradicional, linestyle = '--', label='Codificado')\n",
    "plt.semilogy(Eb_coded, BER_autoencoder, linestyle = '--', label='Autoencoder')\n",
    "plt.semilogy(Eb_coded, BER_ML, linestyle = '--', label='MLP')\n",
    "plt.semilogy(Eb_coded, BER_teorica, linestyle='--', label='Teórica')\n",
    "plt.xlabel('Eb/No (dB)')\n",
    "plt.ylabel('BER')\n",
    "plt.grid(True, which='both')\n",
    "plt.legend()\n",
    "plt.title('BER x Eb/No')\n",
    "plt.show()"
   ]
  }
 ],
 "metadata": {
  "kernelspec": {
   "display_name": "Python 3 (ipykernel)",
   "language": "python",
   "name": "python3"
  },
  "language_info": {
   "codemirror_mode": {
    "name": "ipython",
    "version": 3
   },
   "file_extension": ".py",
   "mimetype": "text/x-python",
   "name": "python",
   "nbconvert_exporter": "python",
   "pygments_lexer": "ipython3",
   "version": "3.10.12"
  }
 },
 "nbformat": 4,
 "nbformat_minor": 5
}
