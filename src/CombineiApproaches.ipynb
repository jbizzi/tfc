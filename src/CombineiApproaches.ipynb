{
 "cells": [
  {
   "cell_type": "code",
   "execution_count": null,
   "id": "initial_id",
   "metadata": {
    "collapsed": true,
    "jupyter": {
     "outputs_hidden": true
    }
   },
   "outputs": [],
   "source": [
    "%load_ext autoreload\n",
    "%run ./Datasets.ipynb\n",
    "%autoreload 2\n",
    "import HammingCode\n",
    "import matplotlib.pyplot as plt\n",
    "import numpy as np\n",
    "from scipy.special import erfc\n",
    "import NeuralNetworkCorrection as network\n",
    "import Autoencoder\n",
    "import tensorflow as tf\n",
    "\n",
    "%run ./autoencoder_enhanced.ipynb"
   ]
  },
  {
   "cell_type": "code",
   "execution_count": null,
   "id": "a5b56cf35e30f038",
   "metadata": {
    "collapsed": false
   },
   "outputs": [],
   "source": [
    "variancia = 1\n",
    "code_rate = 4/7\n",
    "# amostra\n",
    "Eb_dB_values = np.arange(-5, 12, 1)\n",
    "\n",
    "# Gerar dados de treinamento\n",
    "training_sample_length = 10 ** 5\n",
    "epoches = 15\n",
    "batch_size = 64"
   ]
  },
  {
   "cell_type": "code",
   "execution_count": null,
   "id": "54fb41e7292daaf5",
   "metadata": {
    "collapsed": false
   },
   "outputs": [],
   "source": [
    "# Criar e treinar a rede neural\n",
    "#model = network.train_neural_network(training_data, epoches, batch_size)"
   ]
  },
  {
   "cell_type": "code",
   "execution_count": null,
   "id": "dabd2ca69967e1ae",
   "metadata": {
    "collapsed": false
   },
   "outputs": [],
   "source": [
    "#autoencoder, encoder, decoder = Autoencoder.create_and_train_auto_encoder(training_data)"
   ]
  },
  {
   "cell_type": "code",
   "outputs": [],
   "source": [
    "#autoencoder = tf.keras.models.load_model('autoencoder')\n",
    "#model = tf.keras.models.load_model('mlp')"
   ],
   "metadata": {
    "collapsed": false
   },
   "id": "34de00483ae092e",
   "execution_count": null
  },
  {
   "cell_type": "code",
   "execution_count": null,
   "id": "86f1344e5856c64",
   "metadata": {
    "collapsed": false
   },
   "outputs": [],
   "source": [
    "# Gerar dados de teste\n",
    "amostras_ruidosas = []\n",
    "amostras_originais = []\n",
    "ML_result = []\n",
    "tradicional_result = []\n",
    "autoencoder_result = []\n"
   ]
  },
  {
   "cell_type": "code",
   "outputs": [
    {
     "name": "stdout",
     "output_type": "stream",
     "text": [
      "<zip object at 0x7f590c3b4a40>\n"
     ]
    },
    {
     "ename": "TypeError",
     "evalue": "decode_sample() missing 1 required positional argument: 'data'",
     "output_type": "error",
     "traceback": [
      "\u001B[0;31m---------------------------------------------------------------------------\u001B[0m",
      "\u001B[0;31mTypeError\u001B[0m                                 Traceback (most recent call last)",
      "Cell \u001B[0;32mIn[10], line 3\u001B[0m\n\u001B[1;32m      1\u001B[0m \u001B[38;5;28;01mfor\u001B[39;00m eb_db \u001B[38;5;129;01min\u001B[39;00m Eb_dB_values:\n\u001B[1;32m      2\u001B[0m     \u001B[38;5;28mprint\u001B[39m(\u001B[38;5;28mzip\u001B[39m(\u001B[38;5;241m*\u001B[39mtesting_data\u001B[38;5;241m.\u001B[39mtolist()))\n\u001B[0;32m----> 3\u001B[0m     tradicional_result \u001B[38;5;241m=\u001B[39m (\u001B[43mHammingCode\u001B[49m\u001B[38;5;241;43m.\u001B[39;49m\u001B[43mdecode_sample\u001B[49m\u001B[43m(\u001B[49m\u001B[43m)\u001B[49m)\n",
      "\u001B[0;31mTypeError\u001B[0m: decode_sample() missing 1 required positional argument: 'data'"
     ]
    }
   ],
   "source": [
    "\n",
    "for eb_db in Eb_dB_values:\n",
    "    #tradicional_result = (HammingCode.decode_sample())\n"
   ],
   "metadata": {
    "collapsed": false,
    "ExecuteTime": {
     "end_time": "2024-06-07T20:32:28.154251700Z",
     "start_time": "2024-06-07T20:32:26.488188500Z"
    }
   },
   "id": "151a22e6bba5a4ba",
   "execution_count": 10
  },
  {
   "cell_type": "code",
   "execution_count": null,
   "id": "7f720926d3e1ad4a",
   "metadata": {
    "collapsed": false
   },
   "outputs": [],
   "source": [
    "test_data = {\n",
    "    'original': [],\n",
    "    'info': []\n",
    "}\n",
    "test_sample_length = 10 ** 5\n",
    "test_information = network.get_training_data_set(test_sample_length)\n",
    "\n",
    "BER_tradicional = []\n",
    "BER_autoencoder = []\n",
    "BER_ML = []\n",
    "\n",
    "padded_array = []\n",
    "for eb_db in Eb_dB_values:\n",
    "    info = network.generate_data_for_training(test_information, eb_db, variancia)\n",
    "    test_data['original'] = info['original_data']\n",
    "    \n",
    "    #autoencoder_result = (network.decode_and_correct(info['split_noisy_original_data_15_11'], autoencoder))\n",
    "    ML_result = (network.decode_and_correct(info['split_noisy_original_data_15_11'], model))\n",
    "    tradicional_result = (HammingCode.decode_sample(info['split_encoded_data']))\n",
    "    padded_array = info['padded_array_original_data']\n",
    "    \n",
    "    BER_ML.append(np.sum(np.array(ML_result).astype(int) != padded_array) / len(padded_array))\n",
    "    BER_tradicional.append(np.sum(np.array(tradicional_result).astype(int) != test_data['original']) / len(test_data['original']))\n",
    "    #BER_autoencoder.append(np.sum(np.array(autoencoder_result).astype(int) != padded_array) / len(padded_array))\n",
    "    print(eb_db)"
   ]
  },
  {
   "cell_type": "code",
   "execution_count": null,
   "id": "a768bfbe55979643",
   "metadata": {
    "collapsed": false
   },
   "outputs": [],
   "source": [
    "    \n",
    "\n",
    "# Calcular a BER teórica\n",
    "Eb_coded = np.array([eb_db + 10*np.log10(code_rate) for eb_db in Eb_dB_values])\n",
    "Eb_values = 10**(Eb_coded/10)\n",
    "BER_teorica_codificado = 0.5 * erfc(np.sqrt(Eb_values))\n",
    "\n",
    "Eb_values_BPSK = 10**(Eb_dB_values/10)\n",
    "BPSK = 0.5 * erfc(np.sqrt(Eb_values_BPSK))"
   ]
  },
  {
   "cell_type": "code",
   "execution_count": null,
   "id": "dd38a450efea265d",
   "metadata": {
    "collapsed": false
   },
   "outputs": [],
   "source": [
    "# Plotar as taxas de erro de bit simuladas e teóricas\n",
    "plt.figure(figsize=(10, 6))\n",
    "plt.semilogy(Eb_dB_values, BER_tradicional, marker='o', linestyle='', label='Codificado')\n",
    "#plt.semilogy(Eb_dB_values, BER_autoencoder, marker='o',  linestyle='',label='Autoencoder')\n",
    "plt.semilogy(Eb_dB_values, BER_ML, marker='o', linestyle='', label='MLP')\n",
    "#plt.semilogy(Eb_dB_values, BPSK, marker='o', linestyle='', label='BPSK')\n",
    "plt.semilogy(Eb_dB_values, BER_teorica_codificado, marker='o', linestyle='', label='Teórico codificado')\n",
    "\n",
    "plt.xlabel('Eb/No (dB)')\n",
    "plt.ylabel('BER')\n",
    "plt.grid(True, which='both')\n",
    "plt.legend()\n",
    "plt.title('BER x Eb/No')\n",
    "plt.show()"
   ]
  },
  {
   "cell_type": "code",
   "outputs": [],
   "source": [],
   "metadata": {
    "collapsed": false,
    "is_executing": true
   },
   "id": "4bb791e602fc1c45",
   "execution_count": null
  }
 ],
 "metadata": {
  "kernelspec": {
   "display_name": "Python 3 (ipykernel)",
   "language": "python",
   "name": "python3"
  },
  "language_info": {
   "codemirror_mode": {
    "name": "ipython",
    "version": 3
   },
   "file_extension": ".py",
   "mimetype": "text/x-python",
   "name": "python",
   "nbconvert_exporter": "python",
   "pygments_lexer": "ipython3",
   "version": "3.10.12"
  }
 },
 "nbformat": 4,
 "nbformat_minor": 5
}
