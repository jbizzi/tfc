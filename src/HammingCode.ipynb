{
 "cells": [
  {
   "cell_type": "code",
   "outputs": [],
   "source": [
    "# Imports and definitions\n",
    "import random\n",
    "import numpy as np\n",
    "import Utils\n",
    "\n",
    "# Generator matrix G\n",
    "G = np.array([\n",
    "    [1, 1, 1, 0, 0, 0, 0],\n",
    "    [1, 0, 0, 1, 1, 0, 0],\n",
    "    [0, 1, 0, 1, 0, 1, 0],\n",
    "    [1, 1, 0, 1, 0, 0, 1]\n",
    "])\n",
    "\n",
    "# Parity check matrix H\n",
    "H = np.array([\n",
    "    [1, 0, 1, 0, 1, 0, 1],\n",
    "    [0, 1, 1, 0, 0, 1, 1],\n",
    "    [0, 0, 0, 1, 1, 1, 1]\n",
    "])"
   ],
   "metadata": {
    "collapsed": false
   },
   "id": "6558402ce723c0c3"
  },
  {
   "cell_type": "markdown",
   "source": [
    "Define messages of 4 bits each, counting from 0 to 15"
   ],
   "metadata": {
    "collapsed": false
   },
   "id": "a18dee2bfcb26004"
  },
  {
   "cell_type": "code",
   "outputs": [],
   "source": [
    "messages = [\n",
    "    [0, 0, 0, 0], [0, 0, 0, 1], [0, 0, 1, 0], [0, 0, 1, 1],\n",
    "    [0, 1, 0, 0], [0, 1, 0, 1], [0, 1, 1, 0], [0, 1, 1, 1],\n",
    "    [1, 0, 0, 0], [1, 0, 0, 1], [1, 0, 1, 0], [1, 0, 1, 1],\n",
    "    [1, 1, 0, 0], [1, 1, 0, 1], [1, 1, 1, 0], [1, 1, 1, 1]\n",
    "]\n",
    "\n",
    "data_bits = [2, 4, 5, 6]"
   ],
   "metadata": {
    "collapsed": false
   },
   "id": "a5db0a4c50e10773"
  },
  {
   "cell_type": "markdown",
   "source": [
    "Define methods to add noise to message, encode and decode "
   ],
   "metadata": {
    "collapsed": false
   },
   "id": "e4f61a781c35179b"
  },
  {
   "cell_type": "code",
   "outputs": [],
   "source": [
    "def add_noise(data, index):\n",
    "    data = list(data)\n",
    "    data[index] = str(int(data[index]) ^ 1)  # Flipping the bit\n",
    "    return data\n",
    "\n",
    "# First four bits are data, fifth, sixth and seventh are parity checks\n",
    "def encode(data):\n",
    "    return Utils.toBooleanList(np.dot(np.array([int(bit) for bit in data]), G) % 2)\n",
    "\n",
    "# Decode function\n",
    "def decode(received_code):\n",
    "    received_code = np.array([int(bit) for bit in received_code])\n",
    "    syndrome = np.dot(received_code, H.T) % 2\n",
    "    # Check if syndrome is non-zero\n",
    "    if np.any(syndrome):\n",
    "        # Determine the position of the erroneous bit\n",
    "        error_position = np.sum(syndrome * [1, 2, 4]) - 1\n",
    "\n",
    "        # Correct the bit at the determined position\n",
    "        received_code[error_position] = 1 - received_code[error_position]\n",
    "\n",
    "    return received_code[[2, 4, 5, 6]]"
   ],
   "metadata": {
    "collapsed": false
   },
   "id": "49e54c18e8b31389"
  },
  {
   "cell_type": "code",
   "outputs": [],
   "source": [
    "dados = "
   ],
   "metadata": {
    "collapsed": false
   },
   "id": "c840aacb140134fb"
  }
 ],
 "metadata": {
  "kernelspec": {
   "display_name": "Python 3",
   "language": "python",
   "name": "python3"
  },
  "language_info": {
   "codemirror_mode": {
    "name": "ipython",
    "version": 2
   },
   "file_extension": ".py",
   "mimetype": "text/x-python",
   "name": "python",
   "nbconvert_exporter": "python",
   "pygments_lexer": "ipython2",
   "version": "2.7.6"
  }
 },
 "nbformat": 4,
 "nbformat_minor": 5
}
