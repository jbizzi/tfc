{
 "cells": [
  {
   "cell_type": "code",
   "execution_count": null,
   "id": "initial_id",
   "metadata": {
    "collapsed": true
   },
   "outputs": [],
   "source": [
    "%load_ext autoreload\n",
    "%autoreload 2\n",
    "\n",
    "import numpy as np\n",
    "\n",
    "SIZE = 4\n",
    "def generate_data(length):\n",
    "    label = np.random.randint(SIZE, size=length)\n",
    "    data = []\n",
    "    for i in label:\n",
    "        zeros = np.zeros(SIZE)\n",
    "        zeros[i] = 1\n",
    "        data.append(zeros)\n",
    "        \n",
    "    data = np.array(data)\n",
    "    return label, data"
   ]
  },
  {
   "cell_type": "code",
   "outputs": [],
   "source": [
    "training_label, training_data = generate_data(10**4)\n",
    "validation_label, validation_data = generate_data(10**3)\n",
    "\n",
    "test_length = 10 ** 5\n",
    "testing_label, testing_data = generate_data(test_length)"
   ],
   "metadata": {
    "collapsed": false
   },
   "id": "d2eadf769f8c0335"
  }
 ],
 "metadata": {
  "kernelspec": {
   "display_name": "Python 3",
   "language": "python",
   "name": "python3"
  },
  "language_info": {
   "codemirror_mode": {
    "name": "ipython",
    "version": 2
   },
   "file_extension": ".py",
   "mimetype": "text/x-python",
   "name": "python",
   "nbconvert_exporter": "python",
   "pygments_lexer": "ipython2",
   "version": "2.7.6"
  }
 },
 "nbformat": 4,
 "nbformat_minor": 5
}
