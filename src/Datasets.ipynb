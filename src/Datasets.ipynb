{
 "cells": [
  {
   "cell_type": "code",
   "execution_count": 2,
   "id": "initial_id",
   "metadata": {
    "collapsed": true,
    "ExecuteTime": {
     "end_time": "2024-06-09T14:53:39.933492600Z",
     "start_time": "2024-06-09T14:53:39.621399300Z"
    }
   },
   "outputs": [],
   "source": [
    "%load_ext autoreload\n",
    "%autoreload 2\n",
    "\n",
    "import numpy as np\n",
    "\n",
    "SIZE = 4\n",
    "def generate_data(length):\n",
    "    label = np.random.randint(SIZE, size=length)\n",
    "    data = []\n",
    "    for i in label:\n",
    "        zeros = np.zeros(SIZE)\n",
    "        zeros[i] = 1\n",
    "        data.append(zeros)\n",
    "        \n",
    "    data = np.array(data)\n",
    "    return label, data"
   ]
  },
  {
   "cell_type": "code",
   "outputs": [
    {
     "name": "stdout",
     "output_type": "stream",
     "text": [
      "[[0. 1. 0. 0.]\n",
      " [0. 0. 0. 1.]\n",
      " [1. 0. 0. 0.]\n",
      " ...\n",
      " [1. 0. 0. 0.]\n",
      " [1. 0. 0. 0.]\n",
      " [0. 0. 1. 0.]]\n"
     ]
    }
   ],
   "source": [
    "training_length = 10**4\n",
    "validation_length = 10**3\n",
    "training_label, training_data = generate_data(training_length)\n",
    "validation_label, validation_data = generate_data(validation_length)\n",
    "\n",
    "test_length = 10 ** 5\n",
    "testing_label, testing_data = generate_data(test_length)"
   ],
   "metadata": {
    "collapsed": false,
    "ExecuteTime": {
     "end_time": "2024-06-09T14:54:30.391963500Z",
     "start_time": "2024-06-09T14:54:30.067279600Z"
    }
   },
   "id": "d2eadf769f8c0335",
   "execution_count": 6
  }
 ],
 "metadata": {
  "kernelspec": {
   "display_name": "Python 3",
   "language": "python",
   "name": "python3"
  },
  "language_info": {
   "codemirror_mode": {
    "name": "ipython",
    "version": 2
   },
   "file_extension": ".py",
   "mimetype": "text/x-python",
   "name": "python",
   "nbconvert_exporter": "python",
   "pygments_lexer": "ipython2",
   "version": "2.7.6"
  }
 },
 "nbformat": 4,
 "nbformat_minor": 5
}
