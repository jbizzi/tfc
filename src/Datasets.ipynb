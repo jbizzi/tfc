{
 "cells": [
  {
   "cell_type": "code",
   "execution_count": 2,
   "id": "initial_id",
   "metadata": {
    "collapsed": true,
    "ExecuteTime": {
     "end_time": "2024-06-10T22:04:31.289561Z",
     "start_time": "2024-06-10T22:04:30.982232300Z"
    }
   },
   "outputs": [],
   "source": [
    "%load_ext autoreload\n",
    "%autoreload 2\n",
    "\n",
    "import numpy as np\n",
    "import math\n",
    "\n",
    "SIZE = 4\n",
    "SIZE_11 = 11\n",
    "def generate_data(length, size):\n",
    "    label = np.random.randint(size, size=length)\n",
    "    data = []\n",
    "    for i in label:\n",
    "        zeros = np.zeros(size)\n",
    "        zeros[i] = 1\n",
    "        data.append(zeros)\n",
    "        \n",
    "    data = np.array(data)\n",
    "    return label, data"
   ]
  },
  {
   "cell_type": "code",
   "outputs": [],
   "source": [
    "training_length = 10**4\n",
    "validation_length = 10**3\n",
    "training_label, training_data = generate_data(training_length, 4)\n",
    "training_label_11, training_data_11 = generate_data(training_length, 11)\n",
    "\n",
    "validation_label, validation_data = generate_data(validation_length, 4)\n",
    "validation_label_11, validation_data_11 = generate_data(validation_length, 11)\n",
    "\n",
    "test_length = 10 ** 6\n",
    "testing_label, testing_data = generate_data(test_length, 4)\n",
    "testing_label_11, testing_data_11 = generate_data(test_length, 11)"
   ],
   "metadata": {
    "collapsed": false,
    "ExecuteTime": {
     "end_time": "2024-06-10T22:11:33.616034500Z",
     "start_time": "2024-06-10T22:11:33.520471200Z"
    }
   },
   "id": "d2eadf769f8c0335",
   "execution_count": 5
  },
  {
   "cell_type": "code",
   "outputs": [],
   "source": [],
   "metadata": {
    "collapsed": false
   },
   "id": "85407777d1f6c80"
  }
 ],
 "metadata": {
  "kernelspec": {
   "display_name": "Python 3",
   "language": "python",
   "name": "python3"
  },
  "language_info": {
   "codemirror_mode": {
    "name": "ipython",
    "version": 2
   },
   "file_extension": ".py",
   "mimetype": "text/x-python",
   "name": "python",
   "nbconvert_exporter": "python",
   "pygments_lexer": "ipython2",
   "version": "2.7.6"
  }
 },
 "nbformat": 4,
 "nbformat_minor": 5
}
