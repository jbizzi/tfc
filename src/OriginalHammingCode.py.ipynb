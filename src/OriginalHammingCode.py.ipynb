{
 "cells": [
  {
   "cell_type": "code",
   "execution_count": 1,
   "id": "initial_id",
   "metadata": {
    "collapsed": true,
    "ExecuteTime": {
     "end_time": "2024-05-13T16:15:59.422984900Z",
     "start_time": "2024-05-13T16:15:59.238850300Z"
    }
   },
   "outputs": [],
   "source": [
    "# Imports and static defs\n",
    "import numpy as np\n",
    "\n",
    "# Generator matrix G\n",
    "G = np.array([[1, 0, 0, 0],\n",
    "              [0, 1, 0, 0],\n",
    "              [0, 0, 1, 0],\n",
    "              [0, 0, 0, 1],\n",
    "              [1, 1, 0, 1],\n",
    "              [1, 0, 1, 1],\n",
    "              [0, 1, 1, 1]])\n",
    "\n",
    "# Parity-check matrix H\n",
    "H = np.array([[0, 0, 0, 1, 1, 1, 1],\n",
    "              [0, 1, 1, 0, 0, 1, 1],\n",
    "              [1, 0, 1, 0, 1, 0, 1]])\n"
   ]
  },
  {
   "cell_type": "code",
   "outputs": [],
   "source": [
    "# Methods definition\n",
    "# Encode function\n",
    "def encode(message):\n",
    "    # Ensure message length is 4\n",
    "    assert len(message) == 4, \"Message length must be 4 bits\"\n",
    "    message_array = np.array([int(bit) for bit in message])\n",
    "    # Reshape message array to a column vector\n",
    "    message_array = np.reshape(message_array, (4, 1))\n",
    "    codeword = np.dot(G, message_array) % 2\n",
    "    return ''.join(map(str, np.reshape(codeword, (7,))))\n",
    "\n",
    "\n",
    "# Decode function\n",
    "def decode(received):\n",
    "    print(received)\n",
    "    received_array = np.array([int(bit) for bit in received])\n",
    "    received_array = np.reshape(received_array, (7, 1))\n",
    "    syndrome = np.dot(H, received_array) % 2\n",
    "    error_position = np.sum(syndrome * [1, 2, 4])\n",
    "    if error_position != 0:\n",
    "        # Flip the bit at the error position\n",
    "        received_array[error_position - 1] = 1 - received_array[error_position - 1]\n",
    "    # Extract original message\n",
    "    original_message = received_array[[2, 4, 5, 6]]  # Corrected indices to be 0-based\n",
    "    return ''.join(map(str, np.reshape(original_message, (4,))))\n"
   ],
   "metadata": {
    "collapsed": false,
    "ExecuteTime": {
     "end_time": "2024-05-13T16:16:30.104641500Z",
     "start_time": "2024-05-13T16:16:30.005643500Z"
    }
   },
   "id": "1c002a9112ff608d",
   "execution_count": 2
  },
  {
   "cell_type": "code",
   "outputs": [
    {
     "name": "stdout",
     "output_type": "stream",
     "text": [
      "Original message: 1011\n",
      "Encoded message: 1011010\n",
      "Received message with error: 1010010\n",
      "1010010\n",
      "Decoded message: 1011\n"
     ]
    }
   ],
   "source": [
    "# Usage example\n",
    "message = \"1011\"\n",
    "print(\"Original message:\", message)\n",
    "encoded_message = encode(message)\n",
    "print(\"Encoded message:\", encoded_message)\n",
    "# Simulate a transmission error\n",
    "received_message = encoded_message\n",
    "# Flip one bit\n",
    "received_message = received_message[:3] + str(1 - int(received_message[3])) + received_message[4:]\n",
    "print(\"Received message with error:\", received_message)\n",
    "decoded_message = decode(received_message)\n",
    "print(\"Decoded message:\", decoded_message)"
   ],
   "metadata": {
    "collapsed": false,
    "ExecuteTime": {
     "end_time": "2024-05-13T16:16:47.329404200Z",
     "start_time": "2024-05-13T16:16:47.161407100Z"
    }
   },
   "id": "36c57ca306fb18c1",
   "execution_count": 3
  },
  {
   "cell_type": "code",
   "outputs": [],
   "source": [],
   "metadata": {
    "collapsed": false
   },
   "id": "f06ba73bdea34f5e"
  }
 ],
 "metadata": {
  "kernelspec": {
   "display_name": "Python 3",
   "language": "python",
   "name": "python3"
  },
  "language_info": {
   "codemirror_mode": {
    "name": "ipython",
    "version": 2
   },
   "file_extension": ".py",
   "mimetype": "text/x-python",
   "name": "python",
   "nbconvert_exporter": "python",
   "pygments_lexer": "ipython2",
   "version": "2.7.6"
  }
 },
 "nbformat": 4,
 "nbformat_minor": 5
}
