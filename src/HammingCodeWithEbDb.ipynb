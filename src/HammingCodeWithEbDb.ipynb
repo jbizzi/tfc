{
 "cells": [
  {
   "cell_type": "code",
   "execution_count": 197,
   "id": "initial_id",
   "metadata": {
    "collapsed": true,
    "ExecuteTime": {
     "end_time": "2024-05-20T12:48:10.176316400Z",
     "start_time": "2024-05-20T12:48:10.059264600Z"
    }
   },
   "outputs": [],
   "source": [
    "import numpy as np\n",
    "import matplotlib.pyplot as plt\n",
    "import math\n",
    "from scipy.special import erfc\n",
    "import HammingCode\n",
    "import Utils\n",
    "\n",
    "from scipy.special import erfc\n",
    "\n",
    "# tamanho da amostra\n",
    "tamanho = 1e5\n",
    "variancia = 1\n",
    "\n",
    "# amostra\n",
    "amostra_avaliada = np.random.choice([0, 1], size=int(tamanho))\n",
    "\n",
    "Eb_dB_values = np.arange(-2, 11, 1)"
   ]
  },
  {
   "cell_type": "code",
   "outputs": [],
   "source": [
    "def decode_sample(data):\n",
    "    decoded_data = []\n",
    "    for i in range(0, len(data) - 6, 7):\n",
    "        decoded_data.extend(HammingCode.decode(data[i:i + 7]).T)\n",
    "    return decoded_data\n",
    "\n",
    "def encode_sample(data):\n",
    "    encoded_data = []\n",
    "    for i in range(0, len(data) - 3, 4):\n",
    "        encoded_data.extend(HammingCode.encode(data[i:i + 4]))\n",
    "    return encoded_data"
   ],
   "metadata": {
    "collapsed": false,
    "ExecuteTime": {
     "end_time": "2024-05-20T12:48:10.202298600Z",
     "start_time": "2024-05-20T12:48:10.186264100Z"
    }
   },
   "id": "a1d0be2fa8639b2",
   "execution_count": 198
  },
  {
   "cell_type": "code",
   "outputs": [],
   "source": [
    "def calcular_BER_simulada(amostra, noise_rate):\n",
    "\n",
    "    amostra_codificada = encode_sample(amostra)\n",
    "    \n",
    "    mascara = np.zeros(len(amostra_codificada), dtype=int)\n",
    "    \n",
    "    indices_one = np.random.choice(len(amostra_codificada), int(noise_rate * len(amostra_codificada)), replace=False)\n",
    "    \n",
    "    #print(\"Noise rate\" )\n",
    "    #print(noise_rate)\n",
    "    #print(\" indices\")\n",
    "    #print(len(indices_one))#\n",
    "   \n",
    "    mascara[indices_one] = 1\n",
    "   \n",
    "\n",
    "    for i in range(len(amostra_codificada)):\n",
    "        if amostra_codificada[i] == 0.0:\n",
    "            amostra_codificada[i] = 0\n",
    "        else:\n",
    "            amostra_codificada[i] = 1\n",
    "\n",
    "    # mascara = np.random.rand(len(amostra_codificada)) < noise_rate\n",
    "    potencia_amostra = np.mean(np.array(amostra_codificada)**2)\n",
    "    \n",
    "  #  if potencia_amostra == 0:\n",
    "   #     return None, None\n",
    "    #potencia_amostra = potencia_amostra if potencia_amostra > 0 else 1\n",
    "    \n",
    "    potencia_ruido = np.mean(np.array(mascara)**2) \n",
    "    \n",
    "    if potencia_ruido == 0:\n",
    "        return None, None\n",
    "    potencia_ruido = potencia_ruido if potencia_ruido > 0 else 1\n",
    "    \n",
    "    amostra_corrompida = np.bitwise_xor(amostra_codificada, mascara)\n",
    "        \n",
    "    # Decodificar y como sendo sign(x + N)\n",
    "    amostra_decodificada = decode_sample(amostra_corrompida)\n",
    "    \n",
    "    # Calcular a taxa de erro de bit\n",
    "    #print(amostra)\n",
    "    \n",
    "   # print(amostra_decodificada)\n",
    "  #  \n",
    "    ber = np.sum(amostra_decodificada != amostra) / len(amostra)\n",
    "    #print( np.sum(amostra_decodificada != amostra) )\n",
    "    return ber, 10*np.log10(potencia_amostra/potencia_ruido)"
   ],
   "metadata": {
    "collapsed": false,
    "ExecuteTime": {
     "end_time": "2024-05-20T12:48:10.245258500Z",
     "start_time": "2024-05-20T12:48:10.217267700Z"
    }
   },
   "id": "aa91b1420d14d27f",
   "execution_count": 199
  },
  {
   "cell_type": "code",
   "outputs": [],
   "source": [
    "BER_simulada = []\n",
    "SNRs = []\n",
    "noise_rates = np.linspace(0.0001, 0.1, 10000)\n",
    "#noise_rates = np.array([0.01])\n",
    "for noise in noise_rates:\n",
    "    \n",
    "        \n",
    "    ber, snr = calcular_BER_simulada(amostra_avaliada, noise)\n",
    "    #if (noise == 0.01):\n",
    "    ##    print(ber)\n",
    "     #   print(snr)\n",
    "    SNRs.append(snr)\n",
    "    BER_simulada.append(ber)\n",
    "\n",
    "BER_simulada = np.array(BER_simulada)\n",
    "\n",
    "# Calcular a BER teórica\n",
    "Eb_values = 10**(Eb_dB_values / 10)\n",
    "BER_teorica = 0.5 * erfc(np.sqrt(Eb_values))"
   ],
   "metadata": {
    "collapsed": false,
    "is_executing": true,
    "ExecuteTime": {
     "start_time": "2024-05-20T13:10:04.674464200Z"
    }
   },
   "id": "ec134d5cbf6acf0e",
   "execution_count": null
  },
  {
   "cell_type": "code",
   "outputs": [],
   "source": [
    "''# Plotar as taxas de erro de bit simuladas e teóricas\n",
    "plt.figure(figsize=(10, 6))\n",
    "plt.semilogy(SNRs, BER_simulada,  label='BER Simulada')\n",
    "#plt.semilogy(Eb_dB_values, BER_teorica, label='BER Teórica')\n",
    "plt.xlabel('SNR (dB)')\n",
    "plt.ylabel('BER')\n",
    "plt.grid(True, which='both')\n",
    "plt.legend()\n",
    "plt.title('BER Simulada vs BER Teórica')\n",
    "plt.show()"
   ],
   "metadata": {
    "collapsed": false,
    "is_executing": true
   },
   "id": "adcf00168e4cb036",
   "execution_count": null
  },
  {
   "cell_type": "code",
   "outputs": [],
   "source": [],
   "metadata": {
    "collapsed": false,
    "ExecuteTime": {
     "end_time": "2024-05-20T13:06:56.276209600Z",
     "start_time": "2024-05-20T13:06:56.119475200Z"
    }
   },
   "id": "2cf5d5c16aacdc59",
   "execution_count": 201
  }
 ],
 "metadata": {
  "kernelspec": {
   "display_name": "Python 3",
   "language": "python",
   "name": "python3"
  },
  "language_info": {
   "codemirror_mode": {
    "name": "ipython",
    "version": 2
   },
   "file_extension": ".py",
   "mimetype": "text/x-python",
   "name": "python",
   "nbconvert_exporter": "python",
   "pygments_lexer": "ipython2",
   "version": "2.7.6"
  }
 },
 "nbformat": 4,
 "nbformat_minor": 5
}
